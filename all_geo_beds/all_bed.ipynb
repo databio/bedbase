{
 "cells": [
  {
   "cell_type": "markdown",
   "id": "6313cbcd",
   "metadata": {},
   "source": [
    "# All GEO BEDs\n",
    "\n",
    "The goal of this project is to download all BED files currently hosted in GEO, so that we can eventually analyze and integrate them into a useful database and to demonstrate the power of region set enrichment analysis.\n"
   ]
  },
  {
   "cell_type": "markdown",
   "id": "84be99f6",
   "metadata": {},
   "source": [
    "### *Use Python karnel!"
   ]
  },
  {
   "cell_type": "markdown",
   "id": "92183244",
   "metadata": {},
   "source": [
    "## Install geofetch"
   ]
  },
  {
   "cell_type": "code",
   "execution_count": 2,
   "id": "69a265c5",
   "metadata": {},
   "outputs": [
    {
     "name": "stdout",
     "output_type": "stream",
     "text": [
      "Requirement already satisfied: geofetch in /home/bnt4me/Virginia/venv/jup_notebook/lib/python3.8/site-packages (0.11.0)\n",
      "Requirement already satisfied: ubiquerg>=0.6.0 in /home/bnt4me/Virginia/venv/jup_notebook/lib/python3.8/site-packages (from geofetch) (0.6.2)\n",
      "Requirement already satisfied: pandas>=1.3.5 in /home/bnt4me/Virginia/venv/jup_notebook/lib/python3.8/site-packages (from geofetch) (1.5.0)\n",
      "Requirement already satisfied: rich>=12.5.1 in /home/bnt4me/Virginia/venv/jup_notebook/lib/python3.8/site-packages (from geofetch) (12.5.1)\n",
      "Requirement already satisfied: coloredlogs>=15.0.1 in /home/bnt4me/Virginia/venv/jup_notebook/lib/python3.8/site-packages (from geofetch) (15.0.1)\n",
      "Requirement already satisfied: colorama>=0.3.9 in /home/bnt4me/Virginia/venv/jup_notebook/lib/python3.8/site-packages (from geofetch) (0.4.5)\n",
      "Requirement already satisfied: peppy>=0.35.0 in /home/bnt4me/Virginia/venv/jup_notebook/lib/python3.8/site-packages (from geofetch) (0.35.2)\n",
      "Requirement already satisfied: xmltodict>=0.13.0 in /home/bnt4me/Virginia/venv/jup_notebook/lib/python3.8/site-packages (from geofetch) (0.13.0)\n",
      "Requirement already satisfied: attmap>=0.1.8 in /home/bnt4me/Virginia/venv/jup_notebook/lib/python3.8/site-packages (from geofetch) (0.13.2)\n",
      "Requirement already satisfied: logmuse>=0.0.2 in /home/bnt4me/Virginia/venv/jup_notebook/lib/python3.8/site-packages (from geofetch) (0.2.7)\n",
      "Requirement already satisfied: requests>=2.28.1 in /home/bnt4me/Virginia/venv/jup_notebook/lib/python3.8/site-packages (from geofetch) (2.28.1)\n",
      "Requirement already satisfied: humanfriendly>=9.1 in /home/bnt4me/Virginia/venv/jup_notebook/lib/python3.8/site-packages (from coloredlogs>=15.0.1->geofetch) (10.0)\n",
      "Requirement already satisfied: pytz>=2020.1 in /home/bnt4me/Virginia/venv/jup_notebook/lib/python3.8/site-packages (from pandas>=1.3.5->geofetch) (2022.2.1)\n",
      "Requirement already satisfied: numpy>=1.20.3 in /home/bnt4me/Virginia/venv/jup_notebook/lib/python3.8/site-packages (from pandas>=1.3.5->geofetch) (1.23.4)\n",
      "Requirement already satisfied: python-dateutil>=2.8.1 in /home/bnt4me/Virginia/venv/jup_notebook/lib/python3.8/site-packages (from pandas>=1.3.5->geofetch) (2.8.2)\n",
      "Requirement already satisfied: pyyaml in /home/bnt4me/Virginia/venv/jup_notebook/lib/python3.8/site-packages (from peppy>=0.35.0->geofetch) (6.0)\n",
      "Requirement already satisfied: idna<4,>=2.5 in /home/bnt4me/Virginia/venv/jup_notebook/lib/python3.8/site-packages (from requests>=2.28.1->geofetch) (3.3)\n",
      "Requirement already satisfied: certifi>=2017.4.17 in /home/bnt4me/Virginia/venv/jup_notebook/lib/python3.8/site-packages (from requests>=2.28.1->geofetch) (2022.6.15)\n",
      "Requirement already satisfied: charset-normalizer<3,>=2 in /home/bnt4me/Virginia/venv/jup_notebook/lib/python3.8/site-packages (from requests>=2.28.1->geofetch) (2.1.0)\n",
      "Requirement already satisfied: urllib3<1.27,>=1.21.1 in /home/bnt4me/Virginia/venv/jup_notebook/lib/python3.8/site-packages (from requests>=2.28.1->geofetch) (1.26.11)\n",
      "Requirement already satisfied: commonmark<0.10.0,>=0.9.0 in /home/bnt4me/Virginia/venv/jup_notebook/lib/python3.8/site-packages (from rich>=12.5.1->geofetch) (0.9.1)\n",
      "Requirement already satisfied: pygments<3.0.0,>=2.6.0 in /home/bnt4me/Virginia/venv/jup_notebook/lib/python3.8/site-packages (from rich>=12.5.1->geofetch) (2.13.0)\n",
      "Requirement already satisfied: typing-extensions<5.0,>=4.0.0 in /home/bnt4me/Virginia/venv/jup_notebook/lib/python3.8/site-packages (from rich>=12.5.1->geofetch) (4.3.0)\n",
      "Requirement already satisfied: six>=1.5 in /home/bnt4me/Virginia/venv/jup_notebook/lib/python3.8/site-packages (from python-dateutil>=2.8.1->pandas>=1.3.5->geofetch) (1.16.0)\n",
      "\n",
      "\u001b[1m[\u001b[0m\u001b[34;49mnotice\u001b[0m\u001b[1;39;49m]\u001b[0m\u001b[39;49m A new release of pip available: \u001b[0m\u001b[31;49m22.2.2\u001b[0m\u001b[39;49m -> \u001b[0m\u001b[32;49m22.3\u001b[0m\n",
      "\u001b[1m[\u001b[0m\u001b[34;49mnotice\u001b[0m\u001b[1;39;49m]\u001b[0m\u001b[39;49m To update, run: \u001b[0m\u001b[32;49mpip install --upgrade pip\u001b[0m\n"
     ]
    }
   ],
   "source": [
    "# Install a pip package in the current Jupyter kernel\n",
    "import sys\n",
    "!{sys.executable} -m pip install geofetch"
   ]
  },
  {
   "cell_type": "markdown",
   "id": "0b4ae945",
   "metadata": {},
   "source": [
    "### Use Finder in Python to find projects with bed files of all time and save GSEs to the file"
   ]
  },
  {
   "cell_type": "code",
   "execution_count": 3,
   "id": "45bab7e7",
   "metadata": {},
   "outputs": [],
   "source": [
    "from geofetch import Finder"
   ]
  },
  {
   "cell_type": "code",
   "execution_count": 8,
   "id": "2e26b5f7",
   "metadata": {},
   "outputs": [],
   "source": [
    "f_gse = Finder(filters='(bed) AND Homo sapiens[Organism]')"
   ]
  },
  {
   "cell_type": "code",
   "execution_count": 10,
   "id": "06f5e0a6",
   "metadata": {
    "scrolled": true
   },
   "outputs": [
    {
     "name": "stderr",
     "output_type": "stream",
     "text": [
      "[INFO] [15:38:51] Found elements: 10644\n",
      "[INFO] [15:38:51] Additional information: {'Translation': [{'From': 'bed', 'To': '\"beds\"[MeSH Terms] OR bed[All Fields]'}, {'From': 'Homo sapiens[Organism]', 'To': '\"Homo sapiens\"[Organism]'}]}\n"
     ]
    }
   ],
   "source": [
    "gse_acc = f_gse.get_gse_all()"
   ]
  },
  {
   "cell_type": "code",
   "execution_count": 11,
   "id": "b4d1f010",
   "metadata": {},
   "outputs": [
    {
     "name": "stderr",
     "output_type": "stream",
     "text": [
      "[INFO] [15:41:20] File has been saved!\n"
     ]
    }
   ],
   "source": [
    "f_gse.generate_file(\"./bed_gse_acc.txt\")"
   ]
  },
  {
   "cell_type": "markdown",
   "id": "a7d7a2ba",
   "metadata": {},
   "source": [
    "### Use Finder in Python to find projects with bed files that were uploaded or updated last month and save GSEs to the file"
   ]
  },
  {
   "cell_type": "code",
   "execution_count": 8,
   "id": "14c8c943",
   "metadata": {},
   "outputs": [],
   "source": [
    "f_gse = Finder(filters='(bed) AND Homo sapiens[Organism]')"
   ]
  },
  {
   "cell_type": "code",
   "execution_count": 15,
   "id": "f3d52bb1",
   "metadata": {
    "scrolled": true
   },
   "outputs": [
    {
     "name": "stderr",
     "output_type": "stream",
     "text": [
      "[INFO] [15:44:20] Found elements: 187\n",
      "[INFO] [15:44:20] Additional information: {'Translation': [{'From': 'bed', 'To': '\"beds\"[MeSH Terms] OR bed[All Fields]'}, {'From': 'Homo sapiens[Organism]', 'To': '\"Homo sapiens\"[Organism]'}]}\n"
     ]
    }
   ],
   "source": [
    "gse_acc = f_gse.get_gse_by_day_count(30)"
   ]
  },
  {
   "cell_type": "code",
   "execution_count": 11,
   "id": "a5441a49",
   "metadata": {
    "scrolled": true
   },
   "outputs": [
    {
     "name": "stderr",
     "output_type": "stream",
     "text": [
      "[INFO] [15:41:20] File has been saved!\n"
     ]
    }
   ],
   "source": [
    "f_gse.generate_file(\"./bed_gse_acc_last_month.txt\")"
   ]
  },
  {
   "cell_type": "markdown",
   "id": "cbfacaaa",
   "metadata": {},
   "source": [
    "### Use Finder in Python to find projects with bed files that were uploaded or updated last week and save GSEs to the file"
   ]
  },
  {
   "cell_type": "code",
   "execution_count": 8,
   "id": "018f414a",
   "metadata": {},
   "outputs": [],
   "source": [
    "f_gse = Finder(filters='(bed) AND Homo sapiens[Organism]')"
   ]
  },
  {
   "cell_type": "code",
   "execution_count": 12,
   "id": "7e423d39",
   "metadata": {
    "scrolled": true
   },
   "outputs": [
    {
     "name": "stderr",
     "output_type": "stream",
     "text": [
      "[INFO] [15:43:03] Found elements: 8\n",
      "[INFO] [15:43:03] Additional information: {'Translation': [{'From': 'bed', 'To': '\"beds\"[MeSH Terms] OR bed[All Fields]'}, {'From': 'Homo sapiens[Organism]', 'To': '\"Homo sapiens\"[Organism]'}]}\n"
     ]
    }
   ],
   "source": [
    "gse_acc = f_gse.get_gse_last_week()"
   ]
  },
  {
   "cell_type": "code",
   "execution_count": 13,
   "id": "32ee3356",
   "metadata": {},
   "outputs": [
    {
     "name": "stderr",
     "output_type": "stream",
     "text": [
      "[INFO] [15:43:18] File has been saved!\n"
     ]
    }
   ],
   "source": [
    "f_gse.generate_file(\"./bed_gse_acc_last_week.txt\")"
   ]
  },
  {
   "cell_type": "markdown",
   "id": "f0038bd2",
   "metadata": {},
   "source": [
    "let's check what gse's do we have:"
   ]
  },
  {
   "cell_type": "code",
   "execution_count": 14,
   "id": "fb4a7d75",
   "metadata": {},
   "outputs": [
    {
     "data": {
      "text/plain": [
       "['GSE159962',\n",
       " 'GSE215991',\n",
       " 'GSE139403',\n",
       " 'GSE212482',\n",
       " 'GSE204965',\n",
       " 'GSE204964',\n",
       " 'GSE204963',\n",
       " 'GSE150736']"
      ]
     },
     "execution_count": 14,
     "metadata": {},
     "output_type": "execute_result"
    }
   ],
   "source": [
    "gse_acc"
   ]
  }
 ],
 "metadata": {
  "kernelspec": {
   "display_name": "Python 3 (ipykernel)",
   "language": "python",
   "name": "python3"
  },
  "language_info": {
   "codemirror_mode": {
    "name": "ipython",
    "version": 3
   },
   "file_extension": ".py",
   "mimetype": "text/x-python",
   "name": "python",
   "nbconvert_exporter": "python",
   "pygments_lexer": "ipython3",
   "version": "3.8.10"
  }
 },
 "nbformat": 4,
 "nbformat_minor": 5
}
