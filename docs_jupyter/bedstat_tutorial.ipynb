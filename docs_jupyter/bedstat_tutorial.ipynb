{
 "cells": [
  {
   "cell_type": "markdown",
   "id": "c35a64ab",
   "metadata": {},
   "source": [
    "# bedboss stat"
   ]
  },
  {
   "cell_type": "markdown",
   "id": "2b642ffb",
   "metadata": {},
   "source": [
    "This tutorial is intended to introduce you to bedstat, pipeline that produces statistics and plots based on bed and bigbed files"
   ]
  },
  {
   "cell_type": "markdown",
   "id": "a5f49a8c",
   "metadata": {},
   "source": [
    "### 1. Install all dependencies and initialize database for it"
   ]
  },
  {
   "cell_type": "markdown",
   "id": "7392c92e",
   "metadata": {},
   "source": [
    "- Install dependecies: [How to install R dependencies](./how_to_install_r_dep/)\n",
    "- Initialize database: [How to initialize database](./how_to_create_database/)\n",
    "- Create config file: [How to create config file](./how_to_bedbase_config/)"
   ]
  },
  {
   "cell_type": "markdown",
   "id": "668c260f",
   "metadata": {},
   "source": [
    "### 2. Create working repository"
   ]
  },
  {
   "cell_type": "code",
   "execution_count": 7,
   "id": "95ff14bf",
   "metadata": {},
   "outputs": [],
   "source": [
    "mkdir stat_tutorial ; cd stat_tutorial "
   ]
  },
  {
   "cell_type": "markdown",
   "id": "edbecd02",
   "metadata": {},
   "source": [
    "Create config file by downloading it and configuring it"
   ]
  },
  {
   "cell_type": "code",
   "execution_count": 21,
   "id": "1daff328",
   "metadata": {},
   "outputs": [
    {
     "name": "stdout",
     "output_type": "stream",
     "text": [
      "path:\n",
      "  pipeline_output_path: $BEDBOSS_OUTPUT_PATH  # do not change it\n",
      "  bedstat_dir: bedstat_output\n",
      "  remote_url_base: null\n",
      "  bedbuncher_dir: bedbucher_output\n",
      "database:\n",
      "  host: localhost\n",
      "  port: 5432\n",
      "  password: docker\n",
      "  user: postgres\n",
      "  name: pep-db\n",
      "  dialect: postgresql\n",
      "  driver: psycopg2\n",
      "server:\n",
      "  host: 0.0.0.0\n",
      "  port: 8000\n",
      "remotes:\n",
      "  http:\n",
      "    prefix: https://data.bedbase.org/\n",
      "    description: HTTP compatible path\n",
      "  s3:\n",
      "    prefix: s3://data.bedbase.org/\n",
      "    description: S3 compatible path\n"
     ]
    }
   ],
   "source": [
    "cat bedbase_config_test.yaml"
   ]
  },
  {
   "cell_type": "markdown",
   "id": "0ee154a8",
   "metadata": {},
   "source": [
    "### 3. Download bed and bigbed files"
   ]
  },
  {
   "cell_type": "markdown",
   "id": "6010e161",
   "metadata": {},
   "source": [
    "Bed file"
   ]
  },
  {
   "cell_type": "code",
   "execution_count": 14,
   "id": "53346258",
   "metadata": {},
   "outputs": [
    {
     "name": "stdout",
     "output_type": "stream",
     "text": [
      "--2023-02-28 15:32:57--  https://github.com/bedbase/bedboss/raw/dev/test/data/bed/hg19/correct/sample1.bed.gz\n",
      "Resolving github.com (github.com)... 140.82.113.3\n",
      "Connecting to github.com (github.com)|140.82.113.3|:443... connected.\n",
      "HTTP request sent, awaiting response... 302 Found\n",
      "Location: https://raw.githubusercontent.com/bedbase/bedboss/dev/test/data/bed/hg19/correct/sample1.bed.gz [following]\n",
      "--2023-02-28 15:32:57--  https://raw.githubusercontent.com/bedbase/bedboss/dev/test/data/bed/hg19/correct/sample1.bed.gz\n",
      "Resolving raw.githubusercontent.com (raw.githubusercontent.com)... 185.199.108.133, 185.199.111.133, 185.199.109.133, ...\n",
      "Connecting to raw.githubusercontent.com (raw.githubusercontent.com)|185.199.108.133|:443... connected.\n",
      "HTTP request sent, awaiting response... 200 OK\n",
      "Length: 7087126 (6.8M) [application/octet-stream]\n",
      "Saving to: ‘sample1.bed.gz’\n",
      "\n",
      "sample1.bed.gz      100%[===================>]   6.76M  --.-KB/s    in 0.07s   \n",
      "\n",
      "2023-02-28 15:32:58 (95.8 MB/s) - ‘sample1.bed.gz’ saved [7087126/7087126]\n",
      "\n"
     ]
    }
   ],
   "source": [
    "wget -O sample1.bed.gz https://github.com/bedbase/bedboss/raw/dev/test/data/bed/hg19/correct/sample1.bed.gz\n"
   ]
  },
  {
   "cell_type": "markdown",
   "id": "6e933bd6",
   "metadata": {},
   "source": [
    "BigBed file"
   ]
  },
  {
   "cell_type": "code",
   "execution_count": 15,
   "id": "8df43a61",
   "metadata": {},
   "outputs": [
    {
     "name": "stdout",
     "output_type": "stream",
     "text": [
      "--2023-02-28 15:33:00--  https://github.com/bedbase/bedboss/raw/dev/test/data/bigbed/hg19/correct/sample1.bigBed\n",
      "Resolving github.com (github.com)... 140.82.113.3\n",
      "Connecting to github.com (github.com)|140.82.113.3|:443... connected.\n",
      "HTTP request sent, awaiting response... 302 Found\n",
      "Location: https://raw.githubusercontent.com/bedbase/bedboss/dev/test/data/bigbed/hg19/correct/sample1.bigBed [following]\n",
      "--2023-02-28 15:33:00--  https://raw.githubusercontent.com/bedbase/bedboss/dev/test/data/bigbed/hg19/correct/sample1.bigBed\n",
      "Resolving raw.githubusercontent.com (raw.githubusercontent.com)... 185.199.110.133, 185.199.111.133, 185.199.109.133, ...\n",
      "Connecting to raw.githubusercontent.com (raw.githubusercontent.com)|185.199.110.133|:443... connected.\n",
      "HTTP request sent, awaiting response... 200 OK\n",
      "Length: 13092350 (12M) [application/octet-stream]\n",
      "Saving to: ‘sample1.bigBed’\n",
      "\n",
      "sample1.bigBed      100%[===================>]  12.49M  --.-KB/s    in 0.1s    \n",
      "\n",
      "2023-02-28 15:33:00 (101 MB/s) - ‘sample1.bigBed’ saved [13092350/13092350]\n",
      "\n"
     ]
    }
   ],
   "source": [
    "wget -O sample1.bigBed https://github.com/bedbase/bedboss/raw/dev/test/data/bigbed/hg19/correct/sample1.bigBed\n"
   ]
  },
  {
   "cell_type": "code",
   "execution_count": 22,
   "id": "540122c5",
   "metadata": {},
   "outputs": [
    {
     "name": "stdout",
     "output_type": "stream",
     "text": [
      "bedbase_config_test.yaml  \u001B[0m\u001B[01;31msample1.bed.gz\u001B[0m  sample1.bigBed\n"
     ]
    }
   ],
   "source": [
    "ls"
   ]
  },
  {
   "cell_type": "markdown",
   "id": "7e8e007a",
   "metadata": {},
   "source": [
    "### 4. Run statistics:"
   ]
  },
  {
   "cell_type": "markdown",
   "id": "9a69ec14",
   "metadata": {},
   "source": [
    "Additionally we need some metadata about files. 1) genome assembly, config file and know output folder."
   ]
  },
  {
   "cell_type": "code",
   "execution_count": 23,
   "id": "628234aa",
   "metadata": {},
   "outputs": [
    {
     "name": "stdout",
     "output_type": "stream",
     "text": [
      "usage: bedboss stat [-h] --bedfile BEDFILE --outfolder OUTFOLDER\n",
      "                    [--open-signal-matrix OPEN_SIGNAL_MATRIX] [--ensdb ENSDB]\n",
      "                    [--bigbed BIGBED] --bedbase-config BEDBASE_CONFIG\n",
      "                    [-y SAMPLE_YAML] --genome GENOME_ASSEMBLY [--no-db-commit]\n",
      "                    [--just-db-commit]\n",
      "\n",
      "options:\n",
      "  -h, --help            show this help message and exit\n",
      "  --bedfile BEDFILE     a full path to bed file to process [Required]\n",
      "  --outfolder OUTFOLDER\n",
      "                        Pipeline output folder [Required]\n",
      "  --open-signal-matrix OPEN_SIGNAL_MATRIX\n",
      "                        a full path to the openSignalMatrix required for the\n",
      "                        tissue specificity plots\n",
      "  --ensdb ENSDB         a full path to the ensdb gtf file required for genomes\n",
      "                        not in GDdata\n",
      "  --bigbed BIGBED       a full path to the bigbed files\n",
      "  --bedbase-config BEDBASE_CONFIG\n",
      "                        a path to the bedbase configuration file [Required]\n",
      "  -y SAMPLE_YAML, --sample-yaml SAMPLE_YAML\n",
      "                        a yaml config file with sample attributes to pass on\n",
      "                        more metadata into the database\n",
      "  --genome GENOME_ASSEMBLY\n",
      "                        genome assembly of the sample [Required]\n",
      "  --no-db-commit        whether the JSON commit to the database should be\n",
      "                        skipped\n",
      "  --just-db-commit      whether just to commit the JSON to the database\n"
     ]
    }
   ],
   "source": [
    "bedboss stat --help"
   ]
  },
  {
   "cell_type": "code",
   "execution_count": 39,
   "id": "468f5508",
   "metadata": {},
   "outputs": [
    {
     "name": "stdout",
     "output_type": "stream",
     "text": [
      "Warning: You're running an interactive python session. This works, but pypiper cannot tee the output, so results are only logged to screen.\n",
      "### Pipeline run code and environment:\n",
      "\n",
      "*              Command:  `/home/bnt4me/virginia/venv/jupyter/bin/bedboss stat --bedfile ./sample1.bed.gz --bigbed ./sample1.bigBed --outfolder ./test_output --genome hg19 --bedbase-config ./bedbase_config_test.yaml`\n",
      "*         Compute host:  bnt4me-Precision-5560\n",
      "*          Working dir:  /home/bnt4me/virginia/repos/bedbase_all/bedboss/docs_jupyter/stat_tutorial\n",
      "*            Outfolder:  ./test_output/\n",
      "*  Pipeline started at:   (02-28 15:46:52) elapsed: 0.0 _TIME_\n",
      "\n",
      "### Version log:\n",
      "\n",
      "*       Python version:  3.10.6\n",
      "*          Pypiper dir:  `/home/bnt4me/virginia/venv/jupyter/lib/python3.10/site-packages/pypiper`\n",
      "*      Pypiper version:  0.12.3\n",
      "*         Pipeline dir:  `/home/bnt4me/virginia/venv/jupyter/bin`\n",
      "*     Pipeline version:  0.1.0-dev1\n",
      "\n",
      "### Arguments passed to pipeline:\n",
      "\n",
      "\n",
      "----------------------------------------\n",
      "\n",
      "Target to produce: `/home/bnt4me/virginia/repos/bedbase_all/bedboss/docs_jupyter/stat_tutorial/test_output/output/bedstat_output/c557c915a9901ce377ef724806ff7a2c/sample1.json`  \n",
      "\n",
      "> `Rscript /home/bnt4me/virginia/venv/jupyter/lib/python3.10/site-packages/bedboss/bedstat/tools/regionstat.R --bedfilePath=./sample1.bed.gz --fileId=sample1 --openSignalMatrix=None --outputFolder=/home/bnt4me/virginia/repos/bedbase_all/bedboss/docs_jupyter/stat_tutorial/test_output/output/bedstat_output/c557c915a9901ce377ef724806ff7a2c --genome=hg19 --ensdb=None --digest=c557c915a9901ce377ef724806ff7a2c` (530529)\n",
      "<pre>\n",
      "Loading required package: IRanges\n",
      "Loading required package: BiocGenerics\n",
      "\n",
      "Attaching package: ‘BiocGenerics’\n",
      "\n",
      "The following objects are masked from ‘package:stats’:\n",
      "\n",
      "    IQR, mad, sd, var, xtabs\n",
      "\n",
      "The following objects are masked from ‘package:base’:\n",
      "\n",
      "    anyDuplicated, append, as.data.frame, basename, cbind, colnames,\n",
      "    dirname, do.call, duplicated, eval, evalq, Filter, Find, get, grep,\n",
      "    grepl, intersect, is.unsorted, lapply, Map, mapply, match, mget,\n",
      "    order, paste, pmax, pmax.int, pmin, pmin.int, Position, rank,\n",
      "    rbind, Reduce, rownames, sapply, setdiff, sort, table, tapply,\n",
      "    union, unique, unsplit, which.max, which.min\n",
      "\n",
      "Loading required package: S4Vectors\n",
      "Loading required package: stats4\n",
      "\n",
      "Attaching package: ‘S4Vectors’\n",
      "\n",
      "The following objects are masked from ‘package:base’:\n",
      "\n",
      "    expand.grid, I, unname\n",
      "\n",
      "Loading required package: GenomicRanges\n",
      "Loading required package: GenomeInfoDb\n",
      "\u001B[?25hsnapshotDate(): 2021-10-19\n",
      "\u001B[?25h\u001B[?25hLoading required package: GenomicFeatures\n",
      "Loading required package: AnnotationDbi\n",
      "Loading required package: Biobase\n",
      "Welcome to Bioconductor\n",
      "\n",
      "    Vignettes contain introductory material; view with\n",
      "    'browseVignettes()'. To cite Bioconductor, see\n",
      "    'citation(\"Biobase\")', and for packages 'citation(\"pkgname\")'.\n",
      "\n",
      "Loading required package: AnnotationFilter\n",
      "\n",
      "Attaching package: 'ensembldb'\n",
      "\n",
      "The following object is masked from 'package:stats':\n",
      "\n",
      "    filter\n",
      "\n",
      "\u001B[?25h\u001B[?25h\u001B[?25hLoading required package: R.oo\n",
      "Loading required package: R.methodsS3\n",
      "R.methodsS3 v1.8.2 (2022-06-13 22:00:14 UTC) successfully loaded. See ?R.methodsS3 for help.\n",
      "R.oo v1.25.0 (2022-06-12 02:20:02 UTC) successfully loaded. See ?R.oo for help.\n",
      "\n",
      "Attaching package: 'R.oo'\n",
      "\n",
      "The following object is masked from 'package:R.methodsS3':\n",
      "\n",
      "    throw\n",
      "\n",
      "The following object is masked from 'package:GenomicRanges':\n",
      "\n",
      "    trim\n",
      "\n",
      "The following object is masked from 'package:IRanges':\n",
      "\n",
      "    trim\n",
      "\n",
      "The following objects are masked from 'package:methods':\n",
      "\n",
      "    getClasses, getMethods\n",
      "\n",
      "The following objects are masked from 'package:base':\n",
      "\n",
      "    attach, detach, load, save\n",
      "\n",
      "R.utils v2.12.2 (2022-11-11 22:00:03 UTC) successfully loaded. See ?R.utils for help.\n",
      "\n",
      "Attaching package: 'R.utils'\n",
      "\n",
      "The following object is masked from 'package:utils':\n",
      "\n",
      "    timestamp\n",
      "\n",
      "The following objects are masked from 'package:base':\n",
      "\n",
      "    cat, commandArgs, getOption, isOpen, nullfile, parse, warnings\n",
      "\n",
      "\u001B[?25h\u001B[?25h\u001B[?25h\u001B[?25h\u001B[?25h\u001B[?25h\u001B[?25h\u001B[?25h\u001B[?25h\u001B[?25h\u001B[?25h\u001B[?25h\u001B[?25h\u001B[?25h\u001B[?25h\u001B[?25h\u001B[?25h\u001B[?25h\u001B[?25h\u001B[?25h\u001B[?25h\u001B[?25h\u001B[?25h[1] \"Plotting: /home/bnt4me/virginia/repos/bedbase_all/bedboss/docs_jupyter/stat_tutorial/test_output/output/bedstat_output/c557c915a9901ce377ef724806ff7a2c/sample1_tssdist\"\n",
      "\u001B[1m\u001B[22mScale for \u001B[32mx\u001B[39m is already present.\n",
      "Adding another scale for \u001B[32mx\u001B[39m, which will replace the existing scale.\n",
      "[1] \"Writing plot json: output/bedstat_output/c557c915a9901ce377ef724806ff7a2c/sample1_tssdist\"\n",
      "Successfully calculated and plot TSS distance.\n",
      "[1] \"Plotting: /home/bnt4me/virginia/repos/bedbase_all/bedboss/docs_jupyter/stat_tutorial/test_output/output/bedstat_output/c557c915a9901ce377ef724806ff7a2c/sample1_chrombins\"\n",
      "[1] \"Writing plot json: output/bedstat_output/c557c915a9901ce377ef724806ff7a2c/sample1_chrombins\"\n",
      "Successfully calculated and plot chromosomes region distribution.\n",
      "Calculating overlaps...\n",
      "[1] \"Plotting: /home/bnt4me/virginia/repos/bedbase_all/bedboss/docs_jupyter/stat_tutorial/test_output/output/bedstat_output/c557c915a9901ce377ef724806ff7a2c/sample1_paritions\"\n",
      "[1] \"Writing plot json: output/bedstat_output/c557c915a9901ce377ef724806ff7a2c/sample1_paritions\"\n",
      "Successfully calculated and plot regions distribution over genomic partitions.\n",
      "[1] \"Plotting: /home/bnt4me/virginia/repos/bedbase_all/bedboss/docs_jupyter/stat_tutorial/test_output/output/bedstat_output/c557c915a9901ce377ef724806ff7a2c/sample1_expected_partitions\"\n",
      "[1] \"Writing plot json: output/bedstat_output/c557c915a9901ce377ef724806ff7a2c/sample1_expected_partitions\"\n",
      "Successfully calculated and plot expected distribution over genomic partitions.\n",
      "[1] \"Plotting: /home/bnt4me/virginia/repos/bedbase_all/bedboss/docs_jupyter/stat_tutorial/test_output/output/bedstat_output/c557c915a9901ce377ef724806ff7a2c/sample1_cumulative_partitions\"\n",
      "[1] \"Writing plot json: output/bedstat_output/c557c915a9901ce377ef724806ff7a2c/sample1_cumulative_partitions\"\n",
      "Successfully calculated and plot cumulative distribution over genomic partitions.\n",
      "[1] \"Plotting: /home/bnt4me/virginia/repos/bedbase_all/bedboss/docs_jupyter/stat_tutorial/test_output/output/bedstat_output/c557c915a9901ce377ef724806ff7a2c/sample1_widths_histogram\"\n",
      "[1] \"Writing plot json: output/bedstat_output/c557c915a9901ce377ef724806ff7a2c/sample1_widths_histogram\"\n",
      "Successfully calculated and plot quantile-trimmed histogram of widths.\n",
      "[1] \"Plotting: /home/bnt4me/virginia/repos/bedbase_all/bedboss/docs_jupyter/stat_tutorial/test_output/output/bedstat_output/c557c915a9901ce377ef724806ff7a2c/sample1_neighbor_distances\"\n",
      "[1] \"Writing plot json: output/bedstat_output/c557c915a9901ce377ef724806ff7a2c/sample1_neighbor_distances\"\n",
      "Successfully calculated and plot distance between neighbor regions.\n",
      "open signal matrix not provided. Skipping tissue specificity plot ... \n",
      "\u001B[?25h\u001B[?25h</pre>\n",
      "Command completed. Elapsed time: 0:00:20. Running peak memory: 1.358GB.  \n",
      "  PID: 530529;\tCommand: Rscript;\tReturn code: 0;\tMemory used: 1.358GB\n",
      "\n",
      "These results exist for 'c557c915a9901ce377ef724806ff7a2c': bedfile, genome\n",
      "\n",
      "### Pipeline completed. Epilogue\n",
      "*        Elapsed time (this run):  0:00:20\n",
      "*  Total elapsed time (all runs):  0:00:20\n",
      "*         Peak memory (this run):  1.3577 GB\n",
      "*        Pipeline completed time: 2023-02-28 15:47:12\n"
     ]
    }
   ],
   "source": [
    "bedboss stat \\\n",
    "--bedfile ./sample1.bed.gz \\\n",
    "--bigbed ./sample1.bigBed \\\n",
    "--outfolder ./test_output \\\n",
    "--genome hg19 \\\n",
    "--bedbase-config ./bedbase_config_test.yaml \n"
   ]
  },
  {
   "cell_type": "markdown",
   "id": "c745d9b1",
   "metadata": {},
   "source": [
    "After plots and statistics were produced, we can look at them"
   ]
  },
  {
   "cell_type": "code",
   "execution_count": 43,
   "id": "208bfa9b",
   "metadata": {},
   "outputs": [
    {
     "name": "stdout",
     "output_type": "stream",
     "text": [
      "sample1_chrombins.pdf              \u001B[0m\u001B[01;35msample1_neighbor_distances.png\u001B[0m\n",
      "\u001B[01;35msample1_chrombins.png\u001B[0m              sample1_paritions.pdf\n",
      "sample1_cumulative_partitions.pdf  \u001B[01;35msample1_paritions.png\u001B[0m\n",
      "\u001B[01;35msample1_cumulative_partitions.png\u001B[0m  sample1_plots.json\n",
      "sample1_expected_partitions.pdf    sample1_tssdist.pdf\n",
      "\u001B[01;35msample1_expected_partitions.png\u001B[0m    \u001B[01;35msample1_tssdist.png\u001B[0m\n",
      "sample1.json                       sample1_widths_histogram.pdf\n",
      "sample1_neighbor_distances.pdf     \u001B[01;35msample1_widths_histogram.png\u001B[0m\n"
     ]
    }
   ],
   "source": [
    "ls test_output/output/bedstat_output/c557c915a9901ce377ef724806ff7a2c"
   ]
  },
  {
   "cell_type": "code",
   "execution_count": 44,
   "id": "fe670243",
   "metadata": {},
   "outputs": [
    {
     "name": "stdout",
     "output_type": "stream",
     "text": [
      "{\n",
      "  \"name\": [\"sample1\"],\n",
      "  \"regions_no\": [300000],\n",
      "  \"mean_region_width\": [663.9],\n",
      "  \"md5sum\": [\"c557c915a9901ce377ef724806ff7a2c\"],\n",
      "  \"median_TSS_dist\": [48580],\n",
      "  \"exon_frequency\": [14871],\n",
      "  \"exon_percentage\": [0.0496],\n",
      "  \"fiveUTR_frequency\": [8981],\n",
      "  \"fiveUTR_percentage\": [0.0299],\n",
      "  \"intergenic_frequency\": [141763],\n",
      "  \"intergenic_percentage\": [0.4725],\n",
      "  \"intron_frequency\": [106638],\n",
      "  \"intron_percentage\": [0.3555],\n",
      "  \"promoterCore_frequency\": [10150],\n",
      "  \"promoterCore_percentage\": [0.0338],\n",
      "  \"promoterProx_frequency\": [6851],\n",
      "  \"promoterProx_percentage\": [0.0228],\n",
      "  \"threeUTR_frequency\": [10746],\n",
      "  \"threeUTR_percentage\": [0.0358]\n",
      "}\n"
     ]
    }
   ],
   "source": [
    "cat test_output/output/bedstat_output/c557c915a9901ce377ef724806ff7a2c/sample1.json"
   ]
  }
 ],
 "metadata": {
  "kernelspec": {
   "display_name": "Bash",
   "language": "bash",
   "name": "bash"
  },
  "language_info": {
   "codemirror_mode": "shell",
   "file_extension": ".sh",
   "mimetype": "text/x-sh",
   "name": "bash"
  }
 },
 "nbformat": 4,
 "nbformat_minor": 5
}
