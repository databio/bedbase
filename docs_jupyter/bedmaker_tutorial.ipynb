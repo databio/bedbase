{
 "cells": [
  {
   "cell_type": "markdown",
   "id": "a7e9d7a1",
   "metadata": {},
   "source": [
    "# bedmaker tutorial"
   ]
  },
  {
   "cell_type": "markdown",
   "id": "2890b6ba",
   "metadata": {},
   "source": [
    "To create bed and bigbed files we will need to use bedmaker: `bedboss make`"
   ]
  },
  {
   "cell_type": "code",
   "execution_count": 1,
   "id": "5fc290aa",
   "metadata": {},
   "outputs": [
    {
     "name": "stdout",
     "output_type": "stream",
     "text": [
      "version: 0.1.0-dev1\n",
      "usage: bedboss [-h] [--version] {all,make,qc,stat} ...\n",
      "\n",
      "Warehouse of pipelines for BED-like files: bedmaker, bedstat, and bedqc.\n",
      "\n",
      "positional arguments:\n",
      "  {all,make,qc,stat}\n",
      "    all               Run all bedboss pipelines and insert data into bedbase\n",
      "    make              A pipeline to convert bed, bigbed, bigwig or bedgraph\n",
      "                      files into bed and bigbed formats\n",
      "    qc                Run quality control on bed file (bedqc)\n",
      "    stat              A pipeline to read a file in BED format and produce\n",
      "                      metadata in JSON format.\n",
      "\n",
      "options:\n",
      "  -h, --help          show this help message and exit\n",
      "  --version           show program's version number and exit\n"
     ]
    }
   ],
   "source": [
    "bedboss --help"
   ]
  },
  {
   "cell_type": "code",
   "execution_count": 13,
   "id": "caf5dfec",
   "metadata": {},
   "outputs": [
    {
     "name": "stdout",
     "output_type": "stream",
     "text": [
      "usage: bedboss make [-h] -f INPUT_FILE [-n NARROWPEAK] -t INPUT_TYPE -g GENOME\n",
      "                    -r RFG_CONFIG -o OUTPUT_BED --output-bigbed OUTPUT_BIGBED\n",
      "                    -s SAMPLE_NAME [--chrom-sizes CHROM_SIZES]\n",
      "                    [--standard-chrom]\n",
      "\n",
      "options:\n",
      "  -h, --help            show this help message and exit\n",
      "  -f INPUT_FILE, --input-file INPUT_FILE\n",
      "                        path to the input file\n",
      "  -n NARROWPEAK, --narrowpeak NARROWPEAK\n",
      "                        whether the regions are narrow (transcription factor\n",
      "                        implies narrow, histone mark implies broad peaks)\n",
      "  -t INPUT_TYPE, --input-type INPUT_TYPE\n",
      "                        a bigwig or a bedgraph file that will be converted\n",
      "                        into BED format\n",
      "  -g GENOME, --genome GENOME\n",
      "                        reference genome\n",
      "  -r RFG_CONFIG, --rfg-config RFG_CONFIG\n",
      "                        file path to the genome config file\n",
      "  -o OUTPUT_BED, --output-bed OUTPUT_BED\n",
      "                        path to the output BED files\n",
      "  --output-bigbed OUTPUT_BIGBED\n",
      "                        path to the folder of output bigBed files\n",
      "  -s SAMPLE_NAME, --sample-name SAMPLE_NAME\n",
      "                        name of the sample used to systematically build the\n",
      "                        output name\n",
      "  --chrom-sizes CHROM_SIZES\n",
      "                        a full path to the chrom.sizes required for the\n",
      "                        bedtobigbed conversion\n",
      "  --standard-chrom      Standardize chromosome names. Default: False\n"
     ]
    }
   ],
   "source": [
    "bedboss make --help"
   ]
  },
  {
   "cell_type": "code",
   "execution_count": 8,
   "id": "f397de3d",
   "metadata": {},
   "outputs": [
    {
     "name": "stdout",
     "output_type": "stream",
     "text": [
      "Output directory does not exist. Creating: ./bed\n",
      "BigBed directory does not exist. Creating: ./bigbed\n",
      "bedmaker logs directory doesn't exist. Creating one...\n",
      "### Pipeline run code and environment:\n",
      "\n",
      "*              Command:  `/home/bnt4me/virginia/venv/jupyter/bin/bedboss make --sample-name test_bed --input-file ../test/data/bed/hg19/correct/hg19_example1.bed --input-type bed --genome hg19 --output-bed ./bed --output-bigbed ./bigbed`\n",
      "*         Compute host:  bnt4me-Precision-5560\n",
      "*          Working dir:  /home/bnt4me/virginia/repos/bedbase_all/bedboss/docs_jupyter\n",
      "*            Outfolder:  ./bed/bedmaker_logs/test_bed/\n",
      "*  Pipeline started at:   (02-08 15:39:09) elapsed: 0.0 _TIME_\n",
      "\n",
      "### Version log:\n",
      "\n",
      "*       Python version:  3.10.6\n",
      "*          Pypiper dir:  `/home/bnt4me/virginia/venv/jupyter/lib/python3.10/site-packages/pypiper`\n",
      "*      Pypiper version:  0.12.3\n",
      "*         Pipeline dir:  `/home/bnt4me/virginia/venv/jupyter/bin`\n",
      "*     Pipeline version:  None\n",
      "\n",
      "### Arguments passed to pipeline:\n",
      "\n",
      "\n",
      "----------------------------------------\n",
      "\n",
      "Got input type: bed\n",
      "Converting ../test/data/bed/hg19/correct/hg19_example1.bed to BED format.\n",
      "Target to produce: `./bed/hg19_example1.bed.gz`  \n",
      "\n",
      "> `cp ../test/data/bed/hg19/correct/hg19_example1.bed ./bed/hg19_example1.bed` (2477650)\n",
      "<pre>\n",
      "</pre>\n",
      "Command completed. Elapsed time: 0:00:00. Running peak memory: 0GB.  \n",
      "  PID: 2477650;\tCommand: cp;\tReturn code: 0;\tMemory used: 0.0GB\n",
      "\n",
      "\n",
      "> `gzip ./bed/hg19_example1.bed ` (2477652)\n",
      "<pre>\n",
      "</pre>\n",
      "Command completed. Elapsed time: 0:00:00. Running peak memory: 0GB.  \n",
      "  PID: 2477652;\tCommand: gzip;\tReturn code: 0;\tMemory used: 0.0GB\n",
      "\n",
      "Running bedqc...\n",
      "Target to produce: `./bed/bedmaker_logs/test_bed/xl67fcgi`  \n",
      "\n",
      "> `zcat ./bed/hg19_example1.bed.gz > ./bed/bedmaker_logs/test_bed/xl67fcgi` (2477654)\n",
      "<pre>\n",
      "</pre>\n",
      "Command completed. Elapsed time: 0:00:00. Running peak memory: 0GB.  \n",
      "  PID: 2477654;\tCommand: zcat;\tReturn code: 0;\tMemory used: 0.0GB\n",
      "\n",
      "Targetless command, running...  \n",
      "\n",
      "> `bash /home/bnt4me/virginia/venv/jupyter/lib/python3.10/site-packages/bedboss/bedqc/est_line.sh ./bed/bedmaker_logs/test_bed/xl67fcgi ` (2477656)\n",
      "<pre>\n",
      "1000</pre>\n",
      "Command completed. Elapsed time: 0:00:00. Running peak memory: 0GB.  \n",
      "  PID: 2477656;\tCommand: bash;\tReturn code: 0;\tMemory used: 0.0GB\n",
      "\n",
      "Starting cleanup: 1 files; 0 conditional files for cleanup\n",
      "\n",
      "Cleaning up flagged intermediate files. . .\n",
      "\n",
      "### Pipeline completed. Epilogue\n",
      "*        Elapsed time (this run):  0:00:00\n",
      "*  Total elapsed time (all runs):  0:00:00\n",
      "*         Peak memory (this run):  0 GB\n",
      "*        Pipeline completed time: 2023-02-08 15:39:09\n",
      "Generating bigBed files for: ../test/data/bed/hg19/correct/hg19_example1.bed\n",
      "Determining path to chrom.sizes asset via Refgenie.\n",
      "Creating refgenie genome config file...\n",
      "Reading refgenie genome configuration file from file: /home/bnt4me/virginia/repos/bedbase_all/bedboss/docs_jupyter/genome_config.yaml\n",
      "/home/bnt4me/virginia/repos/bedbase_all/bedboss/docs_jupyter/alias/hg19/fasta/default/hg19.chrom.sizes\n",
      "Determined path to chrom.sizes asset: /home/bnt4me/virginia/repos/bedbase_all/bedboss/docs_jupyter/alias/hg19/fasta/default/hg19.chrom.sizes\n",
      "Target to produce: `./bigbed/jckj3p1d`  \n",
      "\n",
      "> `zcat ./bed/hg19_example1.bed.gz  | sort -k1,1 -k2,2n > ./bigbed/jckj3p1d` (2477666,2477667)\n",
      "<pre>\n",
      "</pre>\n",
      "Command completed. Elapsed time: 0:00:00. Running peak memory: 0GB.  \n",
      "  PID: 2477666;\tCommand: zcat;\tReturn code: 0;\tMemory used: 0.0GB  \n",
      "  PID: 2477667;\tCommand: sort;\tReturn code: 0;\tMemory used: 0.0GB\n",
      "\n",
      "Running: bedToBigBed -type=bed6+3 ./bigbed/jckj3p1d /home/bnt4me/virginia/repos/bedbase_all/bedboss/docs_jupyter/alias/hg19/fasta/default/hg19.chrom.sizes ./bigbed/hg19_example1.bigBed\n",
      "Target to produce: `./bigbed/hg19_example1.bigBed`  \n",
      "\n",
      "> `bedToBigBed -type=bed6+3 ./bigbed/jckj3p1d /home/bnt4me/virginia/repos/bedbase_all/bedboss/docs_jupyter/alias/hg19/fasta/default/hg19.chrom.sizes ./bigbed/hg19_example1.bigBed` (2477669)\n",
      "<pre>\n",
      "pass1 - making usageList (1 chroms): 1 millis\n",
      "pass2 - checking and writing primary data (175 records, 9 fields): 0 millis\n",
      "</pre>\n",
      "Command completed. Elapsed time: 0:00:00. Running peak memory: 0GB.  \n",
      "  PID: 2477669;\tCommand: bedToBigBed;\tReturn code: 0;\tMemory used: 0.0GB\n",
      "\n",
      "Starting cleanup: 2 files; 0 conditional files for cleanup\n",
      "\n",
      "Cleaning up flagged intermediate files. . .\n",
      "\n",
      "### Pipeline completed. Epilogue\n",
      "*        Elapsed time (this run):  0:00:00\n",
      "*  Total elapsed time (all runs):  0:00:00\n",
      "*         Peak memory (this run):  0 GB\n",
      "*        Pipeline completed time: 2023-02-08 15:39:09\n"
     ]
    }
   ],
   "source": [
    " bedboss make --sample-name test_bed \\\n",
    " --input-file ../test/data/bed/hg19/correct/hg19_example1.bed \\\n",
    " --input-type bed \\\n",
    " --genome hg19 \\\n",
    " --output-bed ./bed \\\n",
    " --output-bigbed ./bigbed \n"
   ]
  },
  {
   "cell_type": "markdown",
   "id": "6b175141",
   "metadata": {},
   "source": [
    "### Let's check if bed file was created  (or copied)"
   ]
  },
  {
   "cell_type": "code",
   "execution_count": 11,
   "id": "70ee37f5",
   "metadata": {},
   "outputs": [
    {
     "name": "stdout",
     "output_type": "stream",
     "text": [
      "\u001B[0m\u001B[01;34mbedmaker_logs\u001B[0m  \u001B[01;31mhg19_example1.bed.gz\u001B[0m\n"
     ]
    }
   ],
   "source": [
    "ls bed"
   ]
  },
  {
   "cell_type": "markdown",
   "id": "49f19d08",
   "metadata": {},
   "source": [
    "### Let's check if bigbed file  was created"
   ]
  },
  {
   "cell_type": "code",
   "execution_count": 12,
   "id": "cfd3c9f7",
   "metadata": {},
   "outputs": [
    {
     "name": "stdout",
     "output_type": "stream",
     "text": [
      "hg19_example1.bigBed\n"
     ]
    }
   ],
   "source": [
    "ls bigbed"
   ]
  },
  {
   "cell_type": "markdown",
   "id": "5c4837b0",
   "metadata": {},
   "source": [
    "### everything was finished successfuly and files are ready for further analysis!"
   ]
  }
 ],
 "metadata": {
  "kernelspec": {
   "display_name": "Bash",
   "language": "bash",
   "name": "bash"
  },
  "language_info": {
   "codemirror_mode": "shell",
   "file_extension": ".sh",
   "mimetype": "text/x-sh",
   "name": "bash"
  }
 },
 "nbformat": 4,
 "nbformat_minor": 5
}
