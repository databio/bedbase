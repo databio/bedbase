{
 "cells": [
  {
   "cell_type": "markdown",
   "metadata": {},
   "source": [
    "# BEDBASE workflow tutorial\n",
    "\n",
    "This demo demonstrates how to process, analyze, visualize, and serve BED files. The process has 5 steps: First, the [bedmaker](https://github.com/databio/bedmaker) pipeline converts different region data files (bed, bedGraph, bigBed, bigWig, and wig) into BED format and generates bigBed format for each file for visualization in Genome Browser.  An optional step, the [bedqc](https://github.com/databio/bedqc) pipline, flags the BED files that you might not want to include in the downstream analysis.  Second, individual BED files are analyzed using the [bedstat](https://github.com/databio/bedstat) pipeline. Third, BED files are grouped and then analyzed as groups using the [bedbuncher](https://github.com/databio/bedbuncher) pipeline. Fourth, [bedembed](https://github.com/databio/bedembed) uses the StarSpace method to embed the bed files and the meta data, and the distances between the file labels and trained search terms will be calculated with cosine distance. Finally, the BED files, along with statistics, plots, and grouping information, is served via a web interface and RESTful API using the [bedhost](https://github.com/databio/bedhost) package.\n",
    "\n",
    "**Glossary of terms:**\n",
    "\n",
    "- *bedfile*: a tab-delimited file with one genomic region per line. Each genomic region is decribed by 3 required columns: chrom, start and end.\n",
    "- *bedset*: a collection of BED files grouped by with a shared biological, experimental, or logical criterion.\n"
   ]
  },
  {
   "cell_type": "markdown",
   "metadata": {
    "toc": true
   },
   "source": [
    "<h1>Table of Contents<span class=\"tocSkip\"></span></h1>\n",
    "<div class=\"toc\"><ul class=\"toc-item\"><li><span><a href=\"#1.-Preparation\" data-toc-modified-id=\"1.-Preparation-1\"><span class=\"toc-item-num\">1&nbsp;&nbsp;</span>1. Preparation</a></span></li><li><span><a href=\"#2.-BEDMAKER:-convert-non-bed-files-into-bed-files-and-generate-bigBed-files-for-genome-browser-tracks\" data-toc-modified-id=\"2.-BEDMAKER:-convert-non-bed-files-into-bed-files-and-generate-bigBed-files-for-genome-browser-tracks-2\"><span class=\"toc-item-num\">2&nbsp;&nbsp;</span>2. BEDMAKER: convert non-bed files into bed files and generate bigBed files for genome browser tracks</a></span><ul class=\"toc-item\"><li><span><a href=\"#Get-a-PEP-describing-the-files-to-process\" data-toc-modified-id=\"Get-a-PEP-describing-the-files-to-process-2.1\"><span class=\"toc-item-num\">2.1&nbsp;&nbsp;</span>Get a PEP describing the files to process</a></span></li><li><span><a href=\"#Run-bedmaker-on-the-demo-PEP\" data-toc-modified-id=\"Run-bedmaker-on-the-demo-PEP-2.2\"><span class=\"toc-item-num\">2.2&nbsp;&nbsp;</span>Run bedmaker on the demo PEP</a></span></li></ul></li><li><span><a href=\"#OPTIONAL-BEDQC:-flag-bed-files-for-futher-evaluation-to-determine-whether-they-should-be-included-in-the-downstream-analysis\" data-toc-modified-id=\"OPTIONAL-BEDQC:-flag-bed-files-for-futher-evaluation-to-determine-whether-they-should-be-included-in-the-downstream-analysis\"><span class=\"toc-item-num\">&nbsp;&nbsp;</span>OPTIONAL BEDQC: flag bed files for futher evaluation to determine whether they should be included in the downstream analysis</a></span><ul class=\"toc-item\"><li><span><a href=\"#Get-a-PEP-describing-the-files-to-process\" data-toc-modified-id=\"Get-a-PEP-describing-the-files-to-process\"><span class=\"toc-item-num\">&nbsp;&nbsp;</span>Get a PEP describing the files to process</a></span></li><li><span><a href=\"#Run-bedqc-on-the-demo-PEP\" data-toc-modified-id=\"Run-bedqc-on-the-demo-PEP\"><span class=\"toc-item-num\">&nbsp;&nbsp;</span>Run bedqc on the demo PEP</a></span></li></ul></li><li><span><a href=\"#3.-BEDSTAT:-Generate-statistics-and-plots-of-BED-files\" data-toc-modified-id=\"3.-BEDSTAT:-Generate-statistics-and-plots-of-BED-files-3\"><span class=\"toc-item-num\">3&nbsp;&nbsp;</span>3. BEDSTAT: Generate statistics and plots of BED files</a></span><ul class=\"toc-item\"><li><span><a href=\"#Get-a-PEP-describing-the-bedfiles-to-process\" data-toc-modified-id=\"Get-a-PEP-describing-the-bedfiles-to-process-3.1\"><span class=\"toc-item-num\">3.1&nbsp;&nbsp;</span>Get a PEP describing the bedfiles to process</a></span></li><li><span><a href=\"#Install-bedstat-dependencies\" data-toc-modified-id=\"Install-bedstat-dependencies-3.2\"><span class=\"toc-item-num\">3.2&nbsp;&nbsp;</span>Install bedstat dependencies</a></span></li><li><span><a href=\"#Inititiate-a-local-PostgreSQL-instance\" data-toc-modified-id=\"Inititiate-a-local-PostgreSQL-instance-3.3\"><span class=\"toc-item-num\">3.3&nbsp;&nbsp;</span>Inititiate a local PostgreSQL instance</a></span></li><li><span><a href=\"#Run-bedstat--on-the-demo-PEP\" data-toc-modified-id=\"Run-bedstat--on-the-demo-PEP-3.4\"><span class=\"toc-item-num\">3.4&nbsp;&nbsp;</span>Run bedstat  on the demo PEP</a></span></li></ul></li><li><span><a href=\"#4.-BEDBUNCHER:-Create-bedsets-and-their-respective-statistics\" data-toc-modified-id=\"4.-BEDBUNCHER:-Create-bedsets-and-their-respective-statistics-4\"><span class=\"toc-item-num\">4&nbsp;&nbsp;</span>4. BEDBUNCHER: Create bedsets and their respective statistics</a></span><ul class=\"toc-item\"><li><span><a href=\"#Create-a-new-PEP-describing-the-bedset-name-and-specific-JSON-query\" data-toc-modified-id=\"Create-a-new-PEP-describing-the-bedset-name-and-specific-JSON-query-4.1\"><span class=\"toc-item-num\">4.1&nbsp;&nbsp;</span>Create a new PEP describing the bedset name and specific JSON query</a></span></li><li><span><a href=\"#Create-outputs-directory-and-install-bedbuncher-CML-dependencies\" data-toc-modified-id=\"Create-outputs-directory-and-install-bedbuncher-CML-dependencies-4.2\"><span class=\"toc-item-num\">4.2&nbsp;&nbsp;</span>Create outputs directory and install bedbuncher CML dependencies</a></span></li><li><span><a href=\"#Run-bedbuncher-using-Looper\" data-toc-modified-id=\"Run-bedbuncher-using-Looper-4.3\"><span class=\"toc-item-num\">4.3&nbsp;&nbsp;</span>Run bedbuncher using Looper</a></span></li></ul></li><li><span><a href=\"#5.-BEDHOST:--Serve-BED-files-and-API-to-explore-pipeline-outputs\" data-toc-modified-id=\"5.-BEDHOST:--Serve-BED-files-and-API-to-explore-pipeline-outputs-5\"><span class=\"toc-item-num\">5&nbsp;&nbsp;</span>5. BEDHOST:  Serve BED files and API to explore pipeline outputs</a></span></li></ul></div>"
   ]
  },
  {
   "cell_type": "markdown",
   "metadata": {},
   "source": [
    "## 1. Preparation \n",
    "\n",
    "First, we will create a tutorial directory where we'll store the bedbase pipelines and files to be processed. We'll also need to create an environment variable that points to the tutorial directory (we'll need this variable later). "
   ]
  },
  {
   "cell_type": "code",
   "execution_count": 3,
   "metadata": {},
   "outputs": [
    {
     "name": "stdout",
     "output_type": "stream",
     "text": [
      "bash: cd: bedbase_tutorial: No such file or directory\n"
     ]
    }
   ],
   "source": [
    "# mkdir bedbase_tutorial\n",
    "cd bedbase_tutorial\n",
    "export BEDBASE_DATA_PATH_HOST=`pwd`\n",
    "export CODE=`pwd`"
   ]
  },
  {
   "cell_type": "markdown",
   "metadata": {},
   "source": [
    "Download some example BED files:"
   ]
  },
  {
   "cell_type": "code",
   "execution_count": 7,
   "metadata": {},
   "outputs": [
    {
     "name": "stdout",
     "output_type": "stream",
     "text": [
      "--2023-08-11 08:10:02--  http://big.databio.org/example_data/bedbase_tutorial/bed_files.tar.gz\n",
      "Resolving big.databio.org (big.databio.org)... 128.143.223.179\n",
      "Connecting to big.databio.org (big.databio.org)|128.143.223.179|:80... connected.\n",
      "HTTP request sent, awaiting response... 200 OK\n",
      "Length: 44549692 (42M) [application/octet-stream]\n",
      "Saving to: ‘bed_files.tar.gz’\n",
      "\n",
      "bed_files.tar.gz    100%[===================>]  42.49M   303KB/s    in 95s     \n",
      "\n",
      "2023-08-11 08:11:37 (458 KB/s) - ‘bed_files.tar.gz’ saved [44549692/44549692]\n",
      "\n"
     ]
    }
   ],
   "source": [
    "wget http://big.databio.org/example_data/bedbase_tutorial/bed_files.tar.gz     "
   ]
  },
  {
   "cell_type": "markdown",
   "metadata": {},
   "source": [
    "The downloaded files are compressed so we'll need to untar them:"
   ]
  },
  {
   "cell_type": "code",
   "execution_count": 8,
   "metadata": {},
   "outputs": [
    {
     "name": "stdout",
     "output_type": "stream",
     "text": [
      "bed_files/\n",
      "bed_files/GSE105587_ENCFF018NNF_conservative_idr_thresholded_peaks_GRCh38.bed.gz\n",
      "bed_files/GSM2423312_ENCFF155HVK_peaks_GRCh38.bed.gz\n",
      "bed_files/GSE105977_ENCFF617QGK_optimal_idr_thresholded_peaks_GRCh38.bed.gz\n",
      "bed_files/GSE91663_ENCFF316ASR_peaks_GRCh38.bed.gz\n",
      "bed_files/GSM2423313_ENCFF722AOG_peaks_GRCh38.bed.gz\n",
      "bed_files/GSM2827349_ENCFF196DNQ_peaks_GRCh38.bed.gz\n",
      "bed_files/GSE91663_ENCFF553KIK_optimal_idr_thresholded_peaks_GRCh38.bed.gz\n",
      "bed_files/GSE91663_ENCFF319TPR_conservative_idr_thresholded_peaks_GRCh38.bed.gz\n",
      "bed_files/GSE105977_ENCFF937CGY_peaks_GRCh38.bed.gz\n",
      "bed_files/GSM2827350_ENCFF928JXU_peaks_GRCh38.bed.gz\n",
      "bed_files/GSE105977_ENCFF793SZW_conservative_idr_thresholded_peaks_GRCh38.bed.gz\n"
     ]
    }
   ],
   "source": [
    "tar -zxvf bed_files.tar.gz && mv bed_files files"
   ]
  },
  {
   "cell_type": "code",
   "execution_count": 9,
   "metadata": {},
   "outputs": [],
   "source": [
    "rm bed_files.tar.gz"
   ]
  },
  {
   "cell_type": "markdown",
   "metadata": {},
   "source": [
    "Additionally, we'll download a matrix we need to provide if we wish to plot the tissue specificity of our set of genomic ranges:"
   ]
  },
  {
   "cell_type": "markdown",
   "metadata": {},
   "source": [
    "Lastly, we'll download the core pipelines and tools needed to complete this tutorial: `bedmaker`, `bedqc`, `bedstat`, `bedbuncher` , `bedhost`, and `bedhost-ui`"
   ]
  },
  {
   "cell_type": "code",
   "execution_count": 5,
   "metadata": {},
   "outputs": [
    {
     "name": "stdout",
     "output_type": "stream",
     "text": [
      "Collecting looper==1.5.1\n",
      "  Downloading looper-1.5.1-py3-none-any.whl (121 kB)\n",
      "\u001b[2K     \u001b[38;5;107m━━━━━━━━━━━━━━━━━━━━━━━━━━━━━━━━━━━━━\u001b[0m \u001b[32m121.8/121.8 KB\u001b[0m \u001b[31m734.8 kB/s\u001b[0m eta \u001b[36m0:00:00\u001b[0m kB/s\u001b[0m eta \u001b[36m0:00:01\u001b[0m\n",
      "\u001b[?25hCollecting pipestat>=0.5.1\n",
      "  Downloading pipestat-0.5.1-py3-none-any.whl (61 kB)\n",
      "\u001b[2K     \u001b[38;5;107m━━━━━━━━━━━━━━━━━━━━━━━━━━━━━━━━━━━━━━━\u001b[0m \u001b[32m61.2/61.2 KB\u001b[0m \u001b[31m724.9 kB/s\u001b[0m eta \u001b[36m0:00:00\u001b[0m kB/s\u001b[0m eta \u001b[36m0:00:01\u001b[0m\n",
      "\u001b[?25hRequirement already satisfied: pandas>=2.0.2 in /home/bnt4me/virginia/venv/jupyter/lib/python3.10/site-packages (from looper==1.5.1) (2.0.3)\n",
      "Requirement already satisfied: logmuse>=0.2.0 in /home/bnt4me/virginia/venv/jupyter/lib/python3.10/site-packages (from looper==1.5.1) (0.2.7)\n",
      "Requirement already satisfied: ubiquerg>=0.5.2 in /home/bnt4me/virginia/venv/jupyter/lib/python3.10/site-packages (from looper==1.5.1) (0.6.2)\n",
      "Requirement already satisfied: pyyaml>=3.12 in /home/bnt4me/virginia/venv/jupyter/lib/python3.10/site-packages (from looper==1.5.1) (6.0)\n",
      "Requirement already satisfied: eido>=0.2.0 in /home/bnt4me/virginia/venv/jupyter/lib/python3.10/site-packages (from looper==1.5.1) (0.2.1)\n",
      "Requirement already satisfied: peppy>=0.35.4 in /home/bnt4me/virginia/venv/jupyter/lib/python3.10/site-packages (from looper==1.5.1) (0.35.7)\n",
      "Requirement already satisfied: yacman>=0.9 in /home/bnt4me/virginia/venv/jupyter/lib/python3.10/site-packages (from looper==1.5.1) (0.9.1)\n",
      "Requirement already satisfied: colorama>=0.3.9 in /home/bnt4me/virginia/venv/jupyter/lib/python3.10/site-packages (from looper==1.5.1) (0.4.6)\n",
      "Requirement already satisfied: divvy>=0.5.0 in /home/bnt4me/virginia/venv/jupyter/lib/python3.10/site-packages (from looper==1.5.1) (0.6.0)\n",
      "Requirement already satisfied: rich>=9.10.0 in /home/bnt4me/virginia/venv/jupyter/lib/python3.10/site-packages (from looper==1.5.1) (13.3.1)\n",
      "Requirement already satisfied: jinja2 in /home/bnt4me/virginia/venv/jupyter/lib/python3.10/site-packages (from looper==1.5.1) (3.1.2)\n",
      "Requirement already satisfied: pephubclient in /home/bnt4me/virginia/venv/jupyter/lib/python3.10/site-packages (from looper==1.5.1) (0.1.0)\n",
      "Requirement already satisfied: attmap>=0.12.9 in /home/bnt4me/virginia/venv/jupyter/lib/python3.10/site-packages (from divvy>=0.5.0->looper==1.5.1) (0.13.2)\n",
      "Requirement already satisfied: jsonschema>=3.0.1 in /home/bnt4me/virginia/venv/jupyter/lib/python3.10/site-packages (from eido>=0.2.0->looper==1.5.1) (4.17.3)\n",
      "Requirement already satisfied: pytz>=2020.1 in /home/bnt4me/virginia/venv/jupyter/lib/python3.10/site-packages (from pandas>=2.0.2->looper==1.5.1) (2022.7.1)\n",
      "Requirement already satisfied: numpy>=1.21.0 in /home/bnt4me/virginia/venv/jupyter/lib/python3.10/site-packages (from pandas>=2.0.2->looper==1.5.1) (1.22.0)\n",
      "Requirement already satisfied: tzdata>=2022.1 in /home/bnt4me/virginia/venv/jupyter/lib/python3.10/site-packages (from pandas>=2.0.2->looper==1.5.1) (2023.3)\n",
      "Requirement already satisfied: python-dateutil>=2.8.2 in /home/bnt4me/virginia/venv/jupyter/lib/python3.10/site-packages (from pandas>=2.0.2->looper==1.5.1) (2.8.2)\n",
      "Requirement already satisfied: oyaml in /home/bnt4me/virginia/venv/jupyter/lib/python3.10/site-packages (from pipestat>=0.5.1->looper==1.5.1) (1.0)\n",
      "Requirement already satisfied: psycopg2-binary in /home/bnt4me/virginia/venv/jupyter/lib/python3.10/site-packages (from pipestat>=0.5.1->looper==1.5.1) (2.9.5)\n",
      "Requirement already satisfied: pydantic<2.0.0,>=1.10.7 in /home/bnt4me/virginia/venv/jupyter/lib/python3.10/site-packages (from pipestat>=0.5.1->looper==1.5.1) (1.10.7)\n",
      "Requirement already satisfied: sqlmodel>=0.0.8 in /home/bnt4me/virginia/venv/jupyter/lib/python3.10/site-packages (from pipestat>=0.5.1->looper==1.5.1) (0.0.8)\n",
      "Requirement already satisfied: pygments<3.0.0,>=2.14.0 in /home/bnt4me/virginia/venv/jupyter/lib/python3.10/site-packages (from rich>=9.10.0->looper==1.5.1) (2.14.0)\n",
      "Requirement already satisfied: markdown-it-py<3.0.0,>=2.1.0 in /home/bnt4me/virginia/venv/jupyter/lib/python3.10/site-packages (from rich>=9.10.0->looper==1.5.1) (2.1.0)\n",
      "Requirement already satisfied: MarkupSafe>=2.0 in /home/bnt4me/virginia/venv/jupyter/lib/python3.10/site-packages (from jinja2->looper==1.5.1) (2.1.2)\n",
      "Requirement already satisfied: requests>=2.28.2 in /home/bnt4me/virginia/venv/jupyter/lib/python3.10/site-packages (from pephubclient->looper==1.5.1) (2.28.2)\n",
      "Requirement already satisfied: typer>=0.7.0 in /home/bnt4me/virginia/venv/jupyter/lib/python3.10/site-packages (from pephubclient->looper==1.5.1) (0.8.0)\n",
      "Requirement already satisfied: attrs>=17.4.0 in /home/bnt4me/virginia/venv/jupyter/lib/python3.10/site-packages (from jsonschema>=3.0.1->eido>=0.2.0->looper==1.5.1) (22.2.0)\n",
      "Requirement already satisfied: pyrsistent!=0.17.0,!=0.17.1,!=0.17.2,>=0.14.0 in /home/bnt4me/virginia/venv/jupyter/lib/python3.10/site-packages (from jsonschema>=3.0.1->eido>=0.2.0->looper==1.5.1) (0.19.3)\n",
      "Requirement already satisfied: mdurl~=0.1 in /home/bnt4me/virginia/venv/jupyter/lib/python3.10/site-packages (from markdown-it-py<3.0.0,>=2.1.0->rich>=9.10.0->looper==1.5.1) (0.1.2)\n",
      "Requirement already satisfied: typing-extensions>=4.2.0 in /home/bnt4me/virginia/venv/jupyter/lib/python3.10/site-packages (from pydantic<2.0.0,>=1.10.7->pipestat>=0.5.1->looper==1.5.1) (4.4.0)\n",
      "Requirement already satisfied: six>=1.5 in /home/bnt4me/virginia/venv/jupyter/lib/python3.10/site-packages (from python-dateutil>=2.8.2->pandas>=2.0.2->looper==1.5.1) (1.16.0)\n",
      "Requirement already satisfied: charset-normalizer<4,>=2 in /home/bnt4me/virginia/venv/jupyter/lib/python3.10/site-packages (from requests>=2.28.2->pephubclient->looper==1.5.1) (3.0.1)\n",
      "Requirement already satisfied: urllib3<1.27,>=1.21.1 in /home/bnt4me/virginia/venv/jupyter/lib/python3.10/site-packages (from requests>=2.28.2->pephubclient->looper==1.5.1) (1.26.14)\n",
      "Requirement already satisfied: idna<4,>=2.5 in /home/bnt4me/virginia/venv/jupyter/lib/python3.10/site-packages (from requests>=2.28.2->pephubclient->looper==1.5.1) (3.4)\n",
      "Requirement already satisfied: certifi>=2017.4.17 in /home/bnt4me/virginia/venv/jupyter/lib/python3.10/site-packages (from requests>=2.28.2->pephubclient->looper==1.5.1) (2022.12.7)\n",
      "Requirement already satisfied: SQLAlchemy<=1.4.41,>=1.4.17 in /home/bnt4me/virginia/venv/jupyter/lib/python3.10/site-packages (from sqlmodel>=0.0.8->pipestat>=0.5.1->looper==1.5.1) (1.4.41)\n",
      "Requirement already satisfied: sqlalchemy2-stubs in /home/bnt4me/virginia/venv/jupyter/lib/python3.10/site-packages (from sqlmodel>=0.0.8->pipestat>=0.5.1->looper==1.5.1) (0.0.2a35)\n",
      "Requirement already satisfied: click<9.0.0,>=7.1.1 in /home/bnt4me/virginia/venv/jupyter/lib/python3.10/site-packages (from typer>=0.7.0->pephubclient->looper==1.5.1) (8.1.3)\n",
      "Requirement already satisfied: greenlet!=0.4.17 in /home/bnt4me/virginia/venv/jupyter/lib/python3.10/site-packages (from SQLAlchemy<=1.4.41,>=1.4.17->sqlmodel>=0.0.8->pipestat>=0.5.1->looper==1.5.1) (2.0.2)\n",
      "Installing collected packages: pipestat, looper\n",
      "  Attempting uninstall: pipestat\n",
      "    Found existing installation: pipestat 0.5.0\n",
      "    Uninstalling pipestat-0.5.0:\n",
      "      Successfully uninstalled pipestat-0.5.0\n",
      "  Attempting uninstall: looper\n",
      "    Found existing installation: looper 1.5.0\n",
      "    Uninstalling looper-1.5.0:\n",
      "      Successfully uninstalled looper-1.5.0\n",
      "Successfully installed looper-1.5.1 pipestat-0.5.1\n",
      "Requirement already satisfied: refgenie in /home/bnt4me/virginia/venv/jupyter/lib/python3.10/site-packages (0.12.1)\n",
      "Requirement already satisfied: pyfaidx>=0.5.5.2 in /home/bnt4me/virginia/venv/jupyter/lib/python3.10/site-packages (from refgenie) (0.7.1)\n",
      "Requirement already satisfied: refgenconf>=0.12.2 in /home/bnt4me/virginia/venv/jupyter/lib/python3.10/site-packages (from refgenie) (0.12.2)\n",
      "Requirement already satisfied: piper>=0.12.1 in /home/bnt4me/virginia/venv/jupyter/lib/python3.10/site-packages (from refgenie) (0.13.2)\n",
      "Requirement already satisfied: logmuse>=0.2.6 in /home/bnt4me/virginia/venv/jupyter/lib/python3.10/site-packages (from refgenie) (0.2.7)\n",
      "Requirement already satisfied: yacman>=0.8.3 in /home/bnt4me/virginia/venv/jupyter/lib/python3.10/site-packages (from refgenie) (0.9.1)\n",
      "Requirement already satisfied: ubiquerg>=0.4.5 in /home/bnt4me/virginia/venv/jupyter/lib/python3.10/site-packages (from piper>=0.12.1->refgenie) (0.6.2)\n"
     ]
    },
    {
     "name": "stdout",
     "output_type": "stream",
     "text": [
      "Requirement already satisfied: pipestat>=0.4.0 in /home/bnt4me/virginia/venv/jupyter/lib/python3.10/site-packages (from piper>=0.12.1->refgenie) (0.5.1)\n",
      "Requirement already satisfied: pandas in /home/bnt4me/virginia/venv/jupyter/lib/python3.10/site-packages (from piper>=0.12.1->refgenie) (2.0.3)\n",
      "Requirement already satisfied: attmap>=0.12.5 in /home/bnt4me/virginia/venv/jupyter/lib/python3.10/site-packages (from piper>=0.12.1->refgenie) (0.13.2)\n",
      "Requirement already satisfied: psutil in /home/bnt4me/virginia/venv/jupyter/lib/python3.10/site-packages (from piper>=0.12.1->refgenie) (5.9.4)\n",
      "Requirement already satisfied: setuptools>=0.7 in /home/bnt4me/virginia/venv/jupyter/lib/python3.10/site-packages (from pyfaidx>=0.5.5.2->refgenie) (59.6.0)\n",
      "Requirement already satisfied: six in /home/bnt4me/virginia/venv/jupyter/lib/python3.10/site-packages (from pyfaidx>=0.5.5.2->refgenie) (1.16.0)\n",
      "Requirement already satisfied: future in /home/bnt4me/virginia/venv/jupyter/lib/python3.10/site-packages (from refgenconf>=0.12.2->refgenie) (0.18.3)\n",
      "Requirement already satisfied: jsonschema>=3.0.1 in /home/bnt4me/virginia/venv/jupyter/lib/python3.10/site-packages (from refgenconf>=0.12.2->refgenie) (4.17.3)\n",
      "Requirement already satisfied: pyyaml in /home/bnt4me/virginia/venv/jupyter/lib/python3.10/site-packages (from refgenconf>=0.12.2->refgenie) (6.0)\n",
      "Requirement already satisfied: tqdm in /home/bnt4me/virginia/venv/jupyter/lib/python3.10/site-packages (from refgenconf>=0.12.2->refgenie) (4.64.1)\n",
      "Requirement already satisfied: rich>=9.0.1 in /home/bnt4me/virginia/venv/jupyter/lib/python3.10/site-packages (from refgenconf>=0.12.2->refgenie) (13.3.1)\n",
      "Requirement already satisfied: requests in /home/bnt4me/virginia/venv/jupyter/lib/python3.10/site-packages (from refgenconf>=0.12.2->refgenie) (2.28.2)\n",
      "Requirement already satisfied: oyaml in /home/bnt4me/virginia/venv/jupyter/lib/python3.10/site-packages (from yacman>=0.8.3->refgenie) (1.0)\n",
      "Requirement already satisfied: attrs>=17.4.0 in /home/bnt4me/virginia/venv/jupyter/lib/python3.10/site-packages (from jsonschema>=3.0.1->refgenconf>=0.12.2->refgenie) (22.2.0)\n",
      "Requirement already satisfied: pyrsistent!=0.17.0,!=0.17.1,!=0.17.2,>=0.14.0 in /home/bnt4me/virginia/venv/jupyter/lib/python3.10/site-packages (from jsonschema>=3.0.1->refgenconf>=0.12.2->refgenie) (0.19.3)\n",
      "Requirement already satisfied: pydantic<2.0.0,>=1.10.7 in /home/bnt4me/virginia/venv/jupyter/lib/python3.10/site-packages (from pipestat>=0.4.0->piper>=0.12.1->refgenie) (1.10.7)\n",
      "Requirement already satisfied: sqlmodel>=0.0.8 in /home/bnt4me/virginia/venv/jupyter/lib/python3.10/site-packages (from pipestat>=0.4.0->piper>=0.12.1->refgenie) (0.0.8)\n",
      "Requirement already satisfied: eido in /home/bnt4me/virginia/venv/jupyter/lib/python3.10/site-packages (from pipestat>=0.4.0->piper>=0.12.1->refgenie) (0.2.1)\n",
      "Requirement already satisfied: psycopg2-binary in /home/bnt4me/virginia/venv/jupyter/lib/python3.10/site-packages (from pipestat>=0.4.0->piper>=0.12.1->refgenie) (2.9.5)\n",
      "Requirement already satisfied: pygments<3.0.0,>=2.14.0 in /home/bnt4me/virginia/venv/jupyter/lib/python3.10/site-packages (from rich>=9.0.1->refgenconf>=0.12.2->refgenie) (2.14.0)\n",
      "Requirement already satisfied: markdown-it-py<3.0.0,>=2.1.0 in /home/bnt4me/virginia/venv/jupyter/lib/python3.10/site-packages (from rich>=9.0.1->refgenconf>=0.12.2->refgenie) (2.1.0)\n",
      "Requirement already satisfied: pytz>=2020.1 in /home/bnt4me/virginia/venv/jupyter/lib/python3.10/site-packages (from pandas->piper>=0.12.1->refgenie) (2022.7.1)\n",
      "Requirement already satisfied: python-dateutil>=2.8.2 in /home/bnt4me/virginia/venv/jupyter/lib/python3.10/site-packages (from pandas->piper>=0.12.1->refgenie) (2.8.2)\n",
      "Requirement already satisfied: tzdata>=2022.1 in /home/bnt4me/virginia/venv/jupyter/lib/python3.10/site-packages (from pandas->piper>=0.12.1->refgenie) (2023.3)\n",
      "Requirement already satisfied: numpy>=1.21.0 in /home/bnt4me/virginia/venv/jupyter/lib/python3.10/site-packages (from pandas->piper>=0.12.1->refgenie) (1.22.0)\n",
      "Requirement already satisfied: certifi>=2017.4.17 in /home/bnt4me/virginia/venv/jupyter/lib/python3.10/site-packages (from requests->refgenconf>=0.12.2->refgenie) (2022.12.7)\n",
      "Requirement already satisfied: urllib3<1.27,>=1.21.1 in /home/bnt4me/virginia/venv/jupyter/lib/python3.10/site-packages (from requests->refgenconf>=0.12.2->refgenie) (1.26.14)\n",
      "Requirement already satisfied: idna<4,>=2.5 in /home/bnt4me/virginia/venv/jupyter/lib/python3.10/site-packages (from requests->refgenconf>=0.12.2->refgenie) (3.4)\n",
      "Requirement already satisfied: charset-normalizer<4,>=2 in /home/bnt4me/virginia/venv/jupyter/lib/python3.10/site-packages (from requests->refgenconf>=0.12.2->refgenie) (3.0.1)\n",
      "Requirement already satisfied: mdurl~=0.1 in /home/bnt4me/virginia/venv/jupyter/lib/python3.10/site-packages (from markdown-it-py<3.0.0,>=2.1.0->rich>=9.0.1->refgenconf>=0.12.2->refgenie) (0.1.2)\n",
      "Requirement already satisfied: typing-extensions>=4.2.0 in /home/bnt4me/virginia/venv/jupyter/lib/python3.10/site-packages (from pydantic<2.0.0,>=1.10.7->pipestat>=0.4.0->piper>=0.12.1->refgenie) (4.4.0)\n",
      "Requirement already satisfied: sqlalchemy2-stubs in /home/bnt4me/virginia/venv/jupyter/lib/python3.10/site-packages (from sqlmodel>=0.0.8->pipestat>=0.4.0->piper>=0.12.1->refgenie) (0.0.2a35)\n",
      "Requirement already satisfied: SQLAlchemy<=1.4.41,>=1.4.17 in /home/bnt4me/virginia/venv/jupyter/lib/python3.10/site-packages (from sqlmodel>=0.0.8->pipestat>=0.4.0->piper>=0.12.1->refgenie) (1.4.41)\n",
      "Requirement already satisfied: peppy>=0.35.5 in /home/bnt4me/virginia/venv/jupyter/lib/python3.10/site-packages (from eido->pipestat>=0.4.0->piper>=0.12.1->refgenie) (0.35.7)\n",
      "Requirement already satisfied: greenlet!=0.4.17 in /home/bnt4me/virginia/venv/jupyter/lib/python3.10/site-packages (from SQLAlchemy<=1.4.41,>=1.4.17->sqlmodel>=0.0.8->pipestat>=0.4.0->piper>=0.12.1->refgenie) (2.0.2)\n"
     ]
    }
   ],
   "source": [
    "pip install looper==1.5.1\n",
    "pip install refgenie"
   ]
  },
  {
   "cell_type": "code",
   "execution_count": 11,
   "metadata": {},
   "outputs": [
    {
     "name": "stdout",
     "output_type": "stream",
     "text": [
      "Cloning into 'bedbase'...\n",
      "remote: Enumerating objects: 664, done.\u001b[K\n",
      "remote: Counting objects: 100% (317/317), done.\u001b[K\n",
      "remote: Compressing objects: 100% (159/159), done.\u001b[K\n",
      "remote: Total 664 (delta 188), reused 250 (delta 148), pack-reused 347\u001b[K\n",
      "Receiving objects: 100% (664/664), 695.03 KiB | 386.00 KiB/s, done.\n",
      "Resolving deltas: 100% (337/337), done.\n",
      "Collecting bedboss==0.1.0a2\n",
      "  Downloading bedboss-0.1.0a2-py3-none-any.whl (24 kB)\n",
      "Requirement already satisfied: requests>=2.28.2 in /home/bnt4me/virginia/venv/jupyter/lib/python3.10/site-packages (from bedboss==0.1.0a2) (2.28.2)\n",
      "Collecting bbconf==0.4.0a1\n",
      "  Using cached bbconf-0.4.0a1-py3-none-any.whl (11 kB)\n",
      "Requirement already satisfied: refgenconf>=0.12.2 in /home/bnt4me/virginia/venv/jupyter/lib/python3.10/site-packages (from bedboss==0.1.0a2) (0.12.2)\n",
      "Requirement already satisfied: yacman>=0.8.4 in /home/bnt4me/virginia/venv/jupyter/lib/python3.10/site-packages (from bedboss==0.1.0a2) (0.9.1)\n",
      "Collecting piper>=0.13.2\n",
      "  Using cached piper-0.13.2-py3-none-any.whl (72 kB)\n",
      "Requirement already satisfied: peppy>=0.35.7 in /home/bnt4me/virginia/venv/jupyter/lib/python3.10/site-packages (from bedboss==0.1.0a2) (0.35.7)\n",
      "Requirement already satisfied: pandas>=1.5.3 in /home/bnt4me/virginia/venv/jupyter/lib/python3.10/site-packages (from bedboss==0.1.0a2) (2.0.0)\n",
      "Requirement already satisfied: ubiquerg>=0.6.2 in /home/bnt4me/virginia/venv/jupyter/lib/python3.10/site-packages (from bedboss==0.1.0a2) (0.6.2)\n",
      "Requirement already satisfied: logmuse>=0.2.7 in /home/bnt4me/virginia/venv/jupyter/lib/python3.10/site-packages (from bedboss==0.1.0a2) (0.2.7)\n",
      "Requirement already satisfied: sqlalchemy<2.0.0 in /home/bnt4me/virginia/venv/jupyter/lib/python3.10/site-packages (from bbconf==0.4.0a1->bedboss==0.1.0a2) (1.4.41)\n",
      "Requirement already satisfied: pipestat>=0.4.0 in /home/bnt4me/virginia/venv/jupyter/lib/python3.10/site-packages (from bbconf==0.4.0a1->bedboss==0.1.0a2) (0.4.1)\n",
      "Requirement already satisfied: pytz>=2020.1 in /home/bnt4me/virginia/venv/jupyter/lib/python3.10/site-packages (from pandas>=1.5.3->bedboss==0.1.0a2) (2022.7.1)\n",
      "Requirement already satisfied: tzdata>=2022.1 in /home/bnt4me/virginia/venv/jupyter/lib/python3.10/site-packages (from pandas>=1.5.3->bedboss==0.1.0a2) (2023.3)\n",
      "Requirement already satisfied: numpy>=1.21.0 in /home/bnt4me/virginia/venv/jupyter/lib/python3.10/site-packages (from pandas>=1.5.3->bedboss==0.1.0a2) (1.22.0)\n",
      "Requirement already satisfied: python-dateutil>=2.8.2 in /home/bnt4me/virginia/venv/jupyter/lib/python3.10/site-packages (from pandas>=1.5.3->bedboss==0.1.0a2) (2.8.2)\n",
      "Requirement already satisfied: pyyaml in /home/bnt4me/virginia/venv/jupyter/lib/python3.10/site-packages (from peppy>=0.35.7->bedboss==0.1.0a2) (6.0)\n",
      "Requirement already satisfied: attmap>=0.13.2 in /home/bnt4me/virginia/venv/jupyter/lib/python3.10/site-packages (from peppy>=0.35.7->bedboss==0.1.0a2) (0.13.2)\n",
      "Requirement already satisfied: rich>=10.3.0 in /home/bnt4me/virginia/venv/jupyter/lib/python3.10/site-packages (from peppy>=0.35.7->bedboss==0.1.0a2) (13.3.1)\n",
      "Requirement already satisfied: psutil in /home/bnt4me/virginia/venv/jupyter/lib/python3.10/site-packages (from piper>=0.13.2->bedboss==0.1.0a2) (5.9.4)\n",
      "Requirement already satisfied: future in /home/bnt4me/virginia/venv/jupyter/lib/python3.10/site-packages (from refgenconf>=0.12.2->bedboss==0.1.0a2) (0.18.3)\n",
      "Requirement already satisfied: pyfaidx in /home/bnt4me/virginia/venv/jupyter/lib/python3.10/site-packages (from refgenconf>=0.12.2->bedboss==0.1.0a2) (0.7.1)\n",
      "Requirement already satisfied: jsonschema>=3.0.1 in /home/bnt4me/virginia/venv/jupyter/lib/python3.10/site-packages (from refgenconf>=0.12.2->bedboss==0.1.0a2) (4.17.3)\n",
      "Requirement already satisfied: tqdm in /home/bnt4me/virginia/venv/jupyter/lib/python3.10/site-packages (from refgenconf>=0.12.2->bedboss==0.1.0a2) (4.64.1)\n",
      "Requirement already satisfied: charset-normalizer<4,>=2 in /home/bnt4me/virginia/venv/jupyter/lib/python3.10/site-packages (from requests>=2.28.2->bedboss==0.1.0a2) (3.0.1)\n",
      "Requirement already satisfied: idna<4,>=2.5 in /home/bnt4me/virginia/venv/jupyter/lib/python3.10/site-packages (from requests>=2.28.2->bedboss==0.1.0a2) (3.4)\n",
      "Requirement already satisfied: certifi>=2017.4.17 in /home/bnt4me/virginia/venv/jupyter/lib/python3.10/site-packages (from requests>=2.28.2->bedboss==0.1.0a2) (2022.12.7)\n",
      "Requirement already satisfied: urllib3<1.27,>=1.21.1 in /home/bnt4me/virginia/venv/jupyter/lib/python3.10/site-packages (from requests>=2.28.2->bedboss==0.1.0a2) (1.26.14)\n",
      "Requirement already satisfied: oyaml in /home/bnt4me/virginia/venv/jupyter/lib/python3.10/site-packages (from yacman>=0.8.4->bedboss==0.1.0a2) (1.0)\n",
      "Requirement already satisfied: pyrsistent!=0.17.0,!=0.17.1,!=0.17.2,>=0.14.0 in /home/bnt4me/virginia/venv/jupyter/lib/python3.10/site-packages (from jsonschema>=3.0.1->refgenconf>=0.12.2->bedboss==0.1.0a2) (0.19.3)\n",
      "Requirement already satisfied: attrs>=17.4.0 in /home/bnt4me/virginia/venv/jupyter/lib/python3.10/site-packages (from jsonschema>=3.0.1->refgenconf>=0.12.2->bedboss==0.1.0a2) (22.2.0)\n",
      "Requirement already satisfied: eido in /home/bnt4me/virginia/venv/jupyter/lib/python3.10/site-packages (from pipestat>=0.4.0->bbconf==0.4.0a1->bedboss==0.1.0a2) (0.2.1)\n",
      "Requirement already satisfied: sqlmodel>=0.0.8 in /home/bnt4me/virginia/venv/jupyter/lib/python3.10/site-packages (from pipestat>=0.4.0->bbconf==0.4.0a1->bedboss==0.1.0a2) (0.0.8)\n",
      "Requirement already satisfied: psycopg2-binary in /home/bnt4me/virginia/venv/jupyter/lib/python3.10/site-packages (from pipestat>=0.4.0->bbconf==0.4.0a1->bedboss==0.1.0a2) (2.9.5)\n",
      "Requirement already satisfied: pydantic<2.0.0,>=1.10.7 in /home/bnt4me/virginia/venv/jupyter/lib/python3.10/site-packages (from pipestat>=0.4.0->bbconf==0.4.0a1->bedboss==0.1.0a2) (1.10.7)\n",
      "Requirement already satisfied: six>=1.5 in /home/bnt4me/virginia/venv/jupyter/lib/python3.10/site-packages (from python-dateutil>=2.8.2->pandas>=1.5.3->bedboss==0.1.0a2) (1.16.0)\n",
      "Requirement already satisfied: markdown-it-py<3.0.0,>=2.1.0 in /home/bnt4me/virginia/venv/jupyter/lib/python3.10/site-packages (from rich>=10.3.0->peppy>=0.35.7->bedboss==0.1.0a2) (2.1.0)\n",
      "Requirement already satisfied: pygments<3.0.0,>=2.14.0 in /home/bnt4me/virginia/venv/jupyter/lib/python3.10/site-packages (from rich>=10.3.0->peppy>=0.35.7->bedboss==0.1.0a2) (2.14.0)\n",
      "Requirement already satisfied: greenlet!=0.4.17 in /home/bnt4me/virginia/venv/jupyter/lib/python3.10/site-packages (from sqlalchemy<2.0.0->bbconf==0.4.0a1->bedboss==0.1.0a2) (2.0.2)\n",
      "Requirement already satisfied: setuptools>=0.7 in /home/bnt4me/virginia/venv/jupyter/lib/python3.10/site-packages (from pyfaidx->refgenconf>=0.12.2->bedboss==0.1.0a2) (59.6.0)\n",
      "Requirement already satisfied: mdurl~=0.1 in /home/bnt4me/virginia/venv/jupyter/lib/python3.10/site-packages (from markdown-it-py<3.0.0,>=2.1.0->rich>=10.3.0->peppy>=0.35.7->bedboss==0.1.0a2) (0.1.2)\n",
      "Requirement already satisfied: typing-extensions>=4.2.0 in /home/bnt4me/virginia/venv/jupyter/lib/python3.10/site-packages (from pydantic<2.0.0,>=1.10.7->pipestat>=0.4.0->bbconf==0.4.0a1->bedboss==0.1.0a2) (4.4.0)\n",
      "Requirement already satisfied: sqlalchemy2-stubs in /home/bnt4me/virginia/venv/jupyter/lib/python3.10/site-packages (from sqlmodel>=0.0.8->pipestat>=0.4.0->bbconf==0.4.0a1->bedboss==0.1.0a2) (0.0.2a35)\n",
      "Installing collected packages: piper, bbconf, bedboss\n",
      "  Attempting uninstall: piper\n",
      "    Found existing installation: piper 0.12.3\n",
      "    Uninstalling piper-0.12.3:\n",
      "      Successfully uninstalled piper-0.12.3\n",
      "  Attempting uninstall: bbconf\n",
      "    Found existing installation: bbconf 0.4.0\n",
      "    Uninstalling bbconf-0.4.0:\n",
      "      Successfully uninstalled bbconf-0.4.0\n",
      "  Attempting uninstall: bedboss\n",
      "    Found existing installation: bedboss 0.1.0.dev2\n",
      "    Uninstalling bedboss-0.1.0.dev2:\n",
      "      Successfully uninstalled bedboss-0.1.0.dev2\n",
      "Successfully installed bbconf-0.4.0a1 bedboss-0.1.0a2 piper-0.13.2\n"
     ]
    }
   ],
   "source": [
    "git clone -b dev-bedboss git@github.com:databio/bedbase.git\n",
    "pip install bedboss==0.1.0a2\n",
    "# git clone -b validate_genome_assembly git@github.com:databio/bedbuncher\n",
    "# git clone git@github.com:databio/bedembed\n",
    "# git clone -b dev git@github.com:databio/bedhost\n",
    "# git clone git@github.com:databio/bedhost-ui"
   ]
  },
  {
   "cell_type": "markdown",
   "metadata": {},
   "source": [
    "### Let's install this packages!"
   ]
  },
  {
   "cell_type": "markdown",
   "metadata": {},
   "source": [
    "    I have problems with bedtoBigBed script, so I am downloading it too, and seting in bedmaker path to this script :/"
   ]
  },
  {
   "cell_type": "code",
   "execution_count": 28,
   "metadata": {
    "scrolled": true
   },
   "outputs": [
    {
     "name": "stdout",
     "output_type": "stream",
     "text": [
      "--2023-08-11 07:51:37--  http://hgdownload.soe.ucsc.edu/admin/exe/linux.x86_64/bedToBigBed\n",
      "Resolving hgdownload.soe.ucsc.edu (hgdownload.soe.ucsc.edu)... 128.114.119.163\n",
      "Connecting to hgdownload.soe.ucsc.edu (hgdownload.soe.ucsc.edu)|128.114.119.163|:80... connected.\n",
      "HTTP request sent, awaiting response... 200 OK\n",
      "Length: 9632264 (9.2M)\n",
      "Saving to: ‘bedToBigBed’\n",
      "\n",
      "bedToBigBed         100%[===================>]   9.19M   740KB/s    in 18s     \n",
      "\n",
      "2023-08-11 07:51:56 (524 KB/s) - ‘bedToBigBed’ saved [9632264/9632264]\n",
      "\n"
     ]
    }
   ],
   "source": [
    "wget http://hgdownload.soe.ucsc.edu/admin/exe/linux.x86_64/bedToBigBed\n",
    "chmod a+x bedToBigBed"
   ]
  },
  {
   "cell_type": "code",
   "execution_count": 6,
   "metadata": {
    "scrolled": true
   },
   "outputs": [
    {
     "name": "stdout",
     "output_type": "stream",
     "text": [
      "/home/bnt4me/virginia/repos/bedbase_all/bedbase/docs_jupyter/bedbase_tutorial\n"
     ]
    }
   ],
   "source": [
    "pwd"
   ]
  },
  {
   "cell_type": "markdown",
   "metadata": {},
   "source": [

    "Check if we have all tutorial files:"
   ]
  },
  {
   "cell_type": "code",
   "execution_count": 7,
   "metadata": {
    "scrolled": true
   },
   "outputs": [
    {
     "name": "stdout",
     "output_type": "stream",
     "text": [
      "bedbase_configuration_compose_local.yaml  \u001b[0m\u001b[01;34mbedboss\u001b[0m  \u001b[01;34mscripts\u001b[0m\n",
      "bedbase_configuration_compose.yaml        \u001b[01;34mPEPs\u001b[0m\n"
     ]
    }
   ],
   "source": [
    "ls bedbase/tutorial_files"
   ]
  },
  {
   "cell_type": "markdown",
   "metadata": {},
   "source": [
    "# 2. BEDBOSS: ALL TOGETHER"
   ]
  },
  {
   "cell_type": "code",
   "execution_count": 8,
   "metadata": {},
   "outputs": [
    {
     "name": "stdout",
     "output_type": "stream",
     "text": [
      "\u001b[01;31m\u001b[Kbbconf\u001b[m\u001b[K                   0.4.0a1\n"
     ]
    }
   ],
   "source": [
    "pip list | grep bbconf"
   ]
  },
  {
   "cell_type": "code",
   "execution_count": 9,
   "metadata": {},
   "outputs": [
    {
     "name": "stdout",
     "output_type": "stream",
     "text": [
      "\u001b[01;31m\u001b[Kbedboss\u001b[m\u001b[K                  0.1.0a2\n"
     ]
    }
   ],
   "source": [
    "pip list | grep bedboss"
   ]
  },
  {
   "cell_type": "markdown",
   "metadata": {},
   "source": [
    "### Check and update config files"
   ]
  },
  {
   "cell_type": "code",
   "execution_count": 10,
   "metadata": {},
   "outputs": [
    {
     "name": "stdout",
     "output_type": "stream",
     "text": [
      "bedboss_pep_config.yaml  looper_config_bedboss.yaml  sample_table.csv\n",
      "config_db_local.yaml     pipeline_interface.yaml\n"
     ]
    }
   ],
   "source": [
    "ls bedbase/tutorial_files/bedboss"
   ]
  },
  {
   "cell_type": "markdown",
   "metadata": {},
   "source": [
    "Let's create additional metadata for our database:"
   ]
  },
  {
   "cell_type": "code",
   "execution_count": 11,
   "metadata": {},
   "outputs": [
    {
     "name": "stdout",
     "output_type": "stream",
     "text": [
      "pep_version: 2.1.0\n",
      "sample_table: sample_table.csv\n",
      "\n",
      "sample_modifiers:\n",
      "  append:\n",
      "    input_file_path: INPUT\n",
      "    output_folder: \"$BEDBASE_DATA_PATH_HOST/outputs\"\n",
      "    narrowpeak: TRUE\n",
      "    rfg_config_path: RFG\n",
      "    bedbase_config: \"$BEDBASE_DATA_PATH_HOST/bedbase/tutorial_files/bedboss/config_db_local.yaml\"\n",
      "    yaml_file: YAMLFILE\n",
      "  derive:\n",
      "    attributes: [input_file_path, rfg_config_path, yaml_file]\n",
      "    sources:\n",
      "      INPUT: \"$BEDBASE_DATA_PATH_HOST/files/{file_name}\"\n",
      "      RFG: \"$REFGENIE\"\n",
      "      YAMLFILE: \"$BEDBASE_DATA_PATH_HOST/outputs/outputs/bedstat_output/bedstat_pipeline_logs/submission/{sample_name}_sample.yaml\"\n",
      "  imply:\n",
      "    - if:\n",
      "        antibody: [ H3K4me3, H3K27me3, H3K27ac, H3K9ac, H4K5ac, H3K4me, H3K36me3, H4K5ac, H3K9ac ]\n",
      "      then:\n",
      "        narrowpeak: FALSE\n"
     ]
    }
   ],
   "source": [
    "cat bedbase/tutorial_files/bedboss/bedboss_pep_config.yaml"
   ]
  },
  {
   "cell_type": "markdown",
   "metadata": {},
   "source": [
    "Config for local db and bedstat"
   ]
  },
  {
   "cell_type": "code",
   "execution_count": 12,
   "metadata": {},
   "outputs": [
    {
     "name": "stdout",
     "output_type": "stream",
     "text": [
      "path:\n",
      "  pipeline_output_path: $BEDBASE_DATA_PATH_HOST/outputs\n",
      "  bedstat_dir: outputs/bedstat_output\n",
      "  bedbuncher_dir: outputs/bedbuncher_output\n",
      "  remote_url_base: null\n",
      "database:\n",
      "  host: $DB_HOST_URL\n",
      "  port: $POSTGRES_PORT\n",
      "  password: $POSTGRES_PASSWORD\n",
      "  user: $POSTGRES_USER\n",
      "  name: $POSTGRES_DB\n",
      "  dialect: postgresql\n",
      "  driver: psycopg2\n",
      "server:\n",
      "  host: 0.0.0.0\n",
      "  port: 8080\n"
     ]
    }
   ],
   "source": [
    "cat bedbase/tutorial_files/bedboss/config_db_local.yaml"
   ]
  },
  {
   "cell_type": "markdown",
   "metadata": {},
   "source": [
    "looper for bedboss"
   ]
  },
  {
   "cell_type": "code",
   "execution_count": 13,
   "metadata": {},
   "outputs": [
    {
     "name": "stdout",
     "output_type": "stream",
     "text": [
      "pipeline_name: BEDBOSS\n",
      "pipeline_type: sample\n",
      "pre_submit:\n",
      "  python_functions:\n",
      "    - looper.write_sample_yaml\n",
      "command_template: >\n",
      "  bedboss all\n",
      "  --sample-name {sample.sample_name}\n",
      "  --input-file {sample.input_file_path}\n",
      "  --input-type {sample.format}\n",
      "  --genome {sample.genome}\n",
      "  --sample-yaml {sample.yaml_file}\n",
      "  --output_folder {sample.output_folder}\n",
      "  --narrowpeak {sample.narrowpeak}\n",
      "  --rfg-config {sample.rfg_config_path}\n",
      "  {% if sample.bedbase_config is defined %} --bedbase-config {sample.bedbase_config} {% endif %}\n",
      "  {% if sample.chrom_sizes is defined %} --chrom-sizes {sample.chrom_sizes} {% endif %}\n",
      "  {% if sample.open_signal_matrix is defined %} --open-signal-matrix {sample.open_signal_matrix} {% endif %}\n",
      "  {% if sample.ensdb is defined %} --ensdb {sample.ensdb} {% endif %}\n",
      "  {% if sample.fasta is defined %} --fasta {sample.fasta} {% endif %}\n",
      "  --outfolder $BEDBASE_DATA_PATH_HOST/outputs/outputs/bedstat_output/bedstat_pipeline_logs\n"
     ]
    }
   ],
   "source": [
    "cat bedbase/tutorial_files/bedboss//pipeline_interface.yaml"
   ]
  },
  {
   "cell_type": "markdown",
   "metadata": {},
   "source": [
    "Looper config file:"
   ]
  },
  {
   "cell_type": "code",
   "execution_count": 16,
   "metadata": {},
   "outputs": [
    {
     "name": "stdout",
     "output_type": "stream",
     "text": [
      "bedboss_pep_config.yaml  looper_config_bedboss.yaml  sample_table.csv\n",
      "config_db_local.yaml     pipeline_interface.yaml\n"
     ]
    }
   ],
   "source": [
    "ls bedbase/tutorial_files/bedboss"
   ]
  },
  {
   "cell_type": "code",
   "execution_count": 17,
   "metadata": {},
   "outputs": [
    {
     "name": "stdout",
     "output_type": "stream",
     "text": [
      "pep_config: /home/bnt4me/virginia/repos/bedbase_all/bedbase/docs_jupyter/bedbase_tutorial/bedbase/tutorial_files/bedboss/bedboss_pep_config.yaml\n",
      "output_dir: $BEDBASE_DATA_PATH_HOST/outputs/outputs/bedstat_output/bedstat_pipeline_logs\n",
      "\n",
      "pipeline_interfaces:\n",
      "  sample:  /home/bnt4me/virginia/repos/bedbase_all/bedbase/docs_jupyter/bedbase_tutorial/bedbase/tutorial_files/bedboss//pipeline_interface.yaml\n"
     ]
    }
   ],
   "source": [
    "cat bedbase/tutorial_files/bedboss/looper_config_bedboss.yaml"
   ]
  },
  {
   "cell_type": "markdown",
   "metadata": {},
   "source": [
    "### Start DB (bedbase-postgres)"
   ]
  },
  {
   "cell_type": "markdown",
   "metadata": {},
   "source": [
    "### Inititiate a local PostgreSQL instance\n",
    "\n",
    "In addition to generate statistics and plots, `bedstat` inserts JSON formatted metadata into relational [PostgreSQL] database. \n",
    "\n",
    "If you don't have docker installed, you can install it with `sudo apt-get update && apt-get install docker-engine -y`.\n",
    "\n",
    "Now, create a persistent volume to house PostgreSQL data:"
   ]
  },
  {
   "cell_type": "code",
   "execution_count": 35,
   "metadata": {
    "scrolled": true
   },
   "outputs": [
    {
     "name": "stdout",
     "output_type": "stream",
     "text": [
      "postgres-data\n"
     ]
    }
   ],
   "source": [
    "docker volume create postgres-data"
   ]
  },
  {
   "cell_type": "markdown",
   "metadata": {},
   "source": [
    "Spin up a `postgres` container. Provide required environment variables (need to match the settings in bedbase configuration file) and bind the created docker volume to `/var/lib/postgresql/data` path in the container:"
   ]
  },
  {
   "cell_type": "code",
   "execution_count": 36,
   "metadata": {},
   "outputs": [
    {
     "name": "stdout",
     "output_type": "stream",
     "text": [
      "42ed2028444042c3ceef801c0828ce016dde87f1c0ac0d9494ffb6274374f262\n",
      "docker: Error response from daemon: driver failed programming external connectivity on endpoint bedbase-postgres (fe853ffbf2fa584785686c319c5a657021a860dce6c9e81f67f5e805ef2133a0): Bind for 0.0.0.0:5432 failed: port is already allocated.\n"
     ]
    },
    {
     "ename": "",
     "evalue": "125",
     "output_type": "error",
     "traceback": []
    }
   ],
   "source": [
    "docker run -d --name bedbase-postgres -p 5432:5432 -e POSTGRES_PASSWORD=bedbasepassword -e POSTGRES_USER=postgres -e POSTGRES_DB=postgres -v postgres-data:/var/lib/postgresql/data postgres"
   ]
  },
  {
   "cell_type": "markdown",
   "metadata": {},
   "source": [
    "If environment variables are not initialized with function above, We have to initialize them manually "
   ]
  },
  {
   "cell_type": "code",
   "execution_count": 29,
   "metadata": {},
   "outputs": [],
   "source": [
    "export DB_HOST_URL=localhost\n",
    "export POSTGRES_PORT=5432\n",
    "export POSTGRES_PASSWORD=docker\n",
    "export POSTGRES_USER=postgres\n",
    "export POSTGRES_DB=pep-db"
   ]
  },
  {
   "cell_type": "markdown",
   "metadata": {},
   "source": [
    "### RUN BEDBoss"
   ]
  },
  {
   "cell_type": "markdown",
   "metadata": {},
   "source": [
    "Additionally, we have to initialize environment variable $REFGENIE - the path to the refgenie configuration file. If Refgenie is not initialize, we will have to initialize it localy. use `pip install --user refgenie` to install and add to the PATH with `export PATH=~/.local/bin:$PATH`"
   ]
  },
  {
   "cell_type": "code",
   "execution_count": 19,
   "metadata": {
    "scrolled": true
   },
   "outputs": [
    {
     "name": "stdout",
     "output_type": "stream",
     "text": [
      "Traceback (most recent call last):\n",
      "  File \"/home/bnt4me/virginia/venv/jupyter/bin/refgenie\", line 8, in <module>\n",
      "    sys.exit(main())\n",
      "  File \"/home/bnt4me/virginia/venv/jupyter/lib/python3.10/site-packages/refgenie/cli.py\", line 133, in main\n",
      "    rgc.initialize_config_file(os.path.abspath(gencfg))\n",
      "  File \"/home/bnt4me/virginia/venv/jupyter/lib/python3.10/site-packages/refgenconf/refgenconf.py\", line 290, in initialize_config_file\n",
      "    _write_fail_err(\"file exists\")\n",
      "  File \"/home/bnt4me/virginia/venv/jupyter/lib/python3.10/site-packages/refgenconf/refgenconf.py\", line 281, in _write_fail_err\n",
      "    raise OSError(\"Can't initialize, {}: {} \".format(reason, filepath))\n",
      "OSError: Can't initialize, file exists: /home/bnt4me/virginia/repos/bedbase_all/bedbase/docs_jupyter/bedbase_tutorial/genome_config.yaml \n"
     ]
    },
    {
     "ename": "",
     "evalue": "1",
     "output_type": "error",
     "traceback": []
    }
   ],
   "source": [
    "export REFGENIE='genome_config.yaml'\n",
    "refgenie init -c $REFGENIE"
   ]
  },
  {
   "cell_type": "code",
   "execution_count": 20,
   "metadata": {},
   "outputs": [
    {
     "name": "stdout",
     "output_type": "stream",
     "text": [
      "/home/bnt4me/virginia/repos/bedbase_all/bedbase/docs_jupyter/bedbase_tutorial\n"
     ]
    }
   ],
   "source": [
    "pwd"
   ]
  },
  {
   "cell_type": "code",
   "execution_count": 21,
   "metadata": {},
   "outputs": [
    {
     "name": "stdout",
     "output_type": "stream",
     "text": [
      "bedboss_pep_config.yaml  looper_config_bedboss.yaml  sample_table.csv\n",
      "config_db_local.yaml     pipeline_interface.yaml\n"
     ]
    }
   ],
   "source": [
    "ls bedbase/tutorial_files/bedboss"
   ]
  },
  {
   "cell_type": "markdown",
   "metadata": {},
   "source": [
    "##### Run bedboss"
   ]
  },
  {
   "cell_type": "code",
   "execution_count": 22,
   "metadata": {},
   "outputs": [
    {
     "name": "stdout",
     "output_type": "stream",
     "text": [
      "looper 1.5.1\n",
      "\u001b[0m\n"
     ]
    }
   ],
   "source": [
    "looper --version"
   ]
  },
  {
   "cell_type": "code",
   "execution_count": 23,
   "metadata": {},
   "outputs": [
    {
     "name": "stdout",
     "output_type": "stream",
     "text": [
      "usage: looper run [-h] [-i] [-d] [-t S] [-x S] [-y S] [-f] [--divvy DIVCFG] [-p P] [-s S]\n",
      "                  [-c K [K ...]] [-u X] [-n N] [--looper-config LOOPER_CONFIG]\n",
      "                  [-S YAML [YAML ...]] [-P YAML [YAML ...]] [-l N] [-k N]\n",
      "                  [--sel-attr ATTR] [--sel-excl [E ...] | --sel-incl [I ...]]\n",
      "                  [-a A [A ...]]\n",
      "                  [config_file]\n",
      "\n",
      "Run or submit sample jobs.\n",
      "\n",
      "positional arguments:\n",
      "  config_file                        Project configuration file (YAML) or pephub registry\n",
      "                                     path.\n",
      "\n",
      "options:\n",
      "  -h, --help                         show this help message and exit\n",
      "  -i, --ignore-flags                 Ignore run status flags? Default=False\n",
      "  -d, --dry-run                      Don't actually submit the jobs. Default=False\n",
      "  -t S, --time-delay S               Time delay in seconds between job submissions\n",
      "  -x S, --command-extra S            String to append to every command\n",
      "  -y S, --command-extra-override S   Same as command-extra, but overrides values in PEP\n",
      "  -f, --skip-file-checks             Do not perform input file checks\n",
      "  -u X, --lump X                     Total input file size (GB) to batch into one job\n",
      "  -n N, --lumpn N                    Number of commands to batch into one job\n",
      "  --looper-config LOOPER_CONFIG      Looper configuration file (YAML)\n",
      "  -S YAML [YAML ...], --sample-pipeline-interfaces YAML [YAML ...]\n",
      "                                     Path to looper sample config file\n",
      "  -P YAML [YAML ...], --project-pipeline-interfaces YAML [YAML ...]\n",
      "                                     Path to looper project config file\n",
      "  -a A [A ...], --amend A [A ...]    List of amendments to activate\n",
      "\n",
      "divvy arguments:\n",
      "  Configure divvy to change computing settings\n",
      "\n",
      "  --divvy DIVCFG                     Path to divvy configuration file. Default=$DIVCFG env\n",
      "                                     variable. Currently: not set\n",
      "  -p P, --package P                  Name of computing resource package to use\n",
      "  -s S, --settings S                 Path to a YAML settings file with compute settings\n",
      "  -c K [K ...], --compute K [K ...]  List of key-value pairs (k1=v1)\n",
      "\n",
      "sample selection arguments:\n",
      "  Specify samples to include or exclude based on sample attribute values\n",
      "\n",
      "  -l N, --limit N                    Limit to n samples\n",
      "  -k N, --skip N                     Skip samples by numerical index\n",
      "  --sel-attr ATTR                    Attribute for sample exclusion OR inclusion\n",
      "  --sel-excl [E ...]                 Exclude samples with these values\n",
      "  --sel-incl [I ...]                 Include only samples with these values\n",
      "\u001b[0m\n"
     ]
    }
   ],
   "source": [
    "looper run --help"
   ]
  },
  {
   "cell_type": "code",
   "execution_count": 56,
   "metadata": {},
   "outputs": [
    {
     "name": "stdout",
     "output_type": "stream",
     "text": [
      "/home/bnt4me/virginia/repos/bedbase_all/bedbase/docs_jupyter/bedbase_tutorial\n"
     ]
    }
   ],
   "source": [
    "pwd"
   ]
  },
  {
   "cell_type": "code",
   "execution_count": 24,
   "metadata": {},
   "outputs": [
    {
     "name": "stdout",
     "output_type": "stream",
     "text": [
      "bash: /home/bnt4me/virginia/repos/bedbase_all/bedbase/docs_jupyter/bedbase_tutorial: Is a directory\n"
     ]
    },
    {
     "ename": "",
     "evalue": "126",
     "output_type": "error",
     "traceback": []
    }
   ],
   "source": [
    "$BEDBASE_DATA_PATH_HOST"
   ]
  },
  {
   "cell_type": "code",
   "execution_count": 28,
   "metadata": {},
   "outputs": [
    {
     "name": "stdout",
     "output_type": "stream",
     "text": [
      "Looper version: 1.5.1\n",
      "Command: run\n",
      "Using default config. No config found in env var: ['DIVCFG']\n",
      "Pipestat compatible: False\n",
      "\u001b[36m## [1 of 11] sample: bedbase_demo_db1; pipeline: BEDBOSS\u001b[0m\n",
      "Calling pre-submit function: looper.write_sample_yaml\n",
      "Writing script to /home/bnt4me/virginia/repos/bedbase_all/bedbase/docs_jupyter/bedbase_tutorial/outputs/outputs/bedstat_output/bedstat_pipeline_logs/submission/BEDBOSS_bedbase_demo_db1.sub\n",
      "Job script (n=1; 0.00Gb): /home/bnt4me/virginia/repos/bedbase_all/bedbase/docs_jupyter/bedbase_tutorial/outputs/outputs/bedstat_output/bedstat_pipeline_logs/submission/BEDBOSS_bedbase_demo_db1.sub\n",
      "Compute node: bnt4me-Precision-5560\n",
      "Start time: 2023-08-14 09:27:35\n",
      "Using default config. No config found in env var: PIPESTAT_CONFIG\n",
      "Config: None.\n",
      "No schema supplied.\n",
      "Initialize FileBackend\n",
      "Warning: You're running an interactive python session. This works, but pypiper cannot tee the output, so results are only logged to screen.\n",
      "### Pipeline run code and environment:\n",
      "\n",
      "*              Command:  `/home/bnt4me/virginia/venv/jupyter/bin/bedboss all --sample-name bedbase_demo_db1 --input-file /home/bnt4me/virginia/repos/bedbase_all/bedbase/docs_jupyter/bedbase_tutorial/files/GSE105587_ENCFF018NNF_conservative_idr_thresholded_peaks_GRCh38.bed.gz --input-type bed --genome hg38 --sample-yaml /home/bnt4me/virginia/repos/bedbase_all/bedbase/docs_jupyter/bedbase_tutorial/outputs/outputs/bedstat_output/bedstat_pipeline_logs/submission/bedbase_demo_db1_sample.yaml --output_folder /home/bnt4me/virginia/repos/bedbase_all/bedbase/docs_jupyter/bedbase_tutorial/outputs --narrowpeak True --rfg-config genome_config.yaml --bedbase-config /home/bnt4me/virginia/repos/bedbase_all/bedbase/docs_jupyter/bedbase_tutorial/bedbase/tutorial_files/bedboss/config_db_local.yaml --outfolder /home/bnt4me/virginia/repos/bedbase_all/bedbase/docs_jupyter/bedbase_tutorial/outputs/outputs/bedstat_output/bedstat_pipeline_logs`\n",
      "*         Compute host:  bnt4me-Precision-5560\n",
      "*          Working dir:  /home/bnt4me/virginia/repos/bedbase_all/bedbase/docs_jupyter/bedbase_tutorial\n",
      "*            Outfolder:  /home/bnt4me/virginia/repos/bedbase_all/bedbase/docs_jupyter/bedbase_tutorial/outputs/outputs/bedstat_output/bedstat_pipeline_logs/\n",
      "*  Pipeline started at:   (08-14 09:27:35) elapsed: 0.0 _TIME_\n",
      "\n",
      "### Version log:\n",
      "\n",
      "*       Python version:  3.10.12\n",
      "*          Pypiper dir:  `/home/bnt4me/virginia/venv/jupyter/lib/python3.10/site-packages/pypiper`\n",
      "*      Pypiper version:  0.13.2\n",
      "*         Pipeline dir:  `/home/bnt4me/virginia/venv/jupyter/bin`\n",
      "*     Pipeline version:  0.1.0a2\n",
      "\n",
      "### Arguments passed to pipeline:\n",
      "\n",
      "\n",
      "### Initialized Pipestat Object:\n",
      "\n",
      "* PipestatManager (bedboss-pipeline)\n",
      "* Backend: File\n",
      "*  - results: /home/bnt4me/virginia/repos/bedbase_all/bedbase/docs_jupyter/bedbase_tutorial/outputs/outputs/bedstat_output/bedstat_pipeline_logs/stats.yaml\n",
      "*  - status: /home/bnt4me/virginia/repos/bedbase_all/bedbase/docs_jupyter/bedbase_tutorial/outputs/outputs/bedstat_output/bedstat_pipeline_logs\n",
      "* Multiple Pipelines Allowed: True\n",
      "* Pipeline name: bedboss-pipeline\n",
      "* Pipeline type: sample\n",
      "* Status Schema key: None\n",
      "* Results formatter: default_formatter\n",
      "* Results schema source: None\n",
      "* Status schema source: None\n",
      "* Records count: 2\n",
      "* Sample name: DEFAULT_SAMPLE_NAME\n",
      "\n",
      "\n",
      "----------------------------------------\n",
      "\n",
      "Unused arguments: {'command': 'all', 'silent': False, 'verbosity': None, 'logdev': False}\n",
      "Getting Open Signal Matrix file path...\n",
      "output_bed = /home/bnt4me/virginia/repos/bedbase_all/bedbase/docs_jupyter/bedbase_tutorial/outputs/outputs/bedstat_output/bedstat_pipeline_logs/bed_files/GSE105587_ENCFF018NNF_conservative_idr_thresholded_peaks_GRCh38.bed.gz\n",
      "output_bigbed = /home/bnt4me/virginia/repos/bedbase_all/bedbase/docs_jupyter/bedbase_tutorial/outputs/outputs/bedstat_output/bedstat_pipeline_logs/bigbed_files\n",
      "Got input type: bed\n",
      "Converting /home/bnt4me/virginia/repos/bedbase_all/bedbase/docs_jupyter/bedbase_tutorial/files/GSE105587_ENCFF018NNF_conservative_idr_thresholded_peaks_GRCh38.bed.gz to BED format.\n",
      "Target exists: `/home/bnt4me/virginia/repos/bedbase_all/bedbase/docs_jupyter/bedbase_tutorial/outputs/outputs/bedstat_output/bedstat_pipeline_logs/bed_files/GSE105587_ENCFF018NNF_conservative_idr_thresholded_peaks_GRCh38.bed.gz`  \n",
      "Running bedqc...\n",
      "Unused arguments: {}\n",
      "Target to produce: `/home/bnt4me/virginia/repos/bedbase_all/bedbase/docs_jupyter/bedbase_tutorial/outputs/outputs/bedstat_output/bedstat_pipeline_logs/bed_files/bedmaker_logs/bedbase_demo_db1/33xf84g5`  \n",
      "\n",
      "> `zcat /home/bnt4me/virginia/repos/bedbase_all/bedbase/docs_jupyter/bedbase_tutorial/outputs/outputs/bedstat_output/bedstat_pipeline_logs/bed_files/GSE105587_ENCFF018NNF_conservative_idr_thresholded_peaks_GRCh38.bed.gz > /home/bnt4me/virginia/repos/bedbase_all/bedbase/docs_jupyter/bedbase_tutorial/outputs/outputs/bedstat_output/bedstat_pipeline_logs/bed_files/bedmaker_logs/bedbase_demo_db1/33xf84g5` (24312)\n",
      "<pre>\n",
      "</pre>\n",
      "Command completed. Elapsed time: 0:00:00. Running peak memory: 0.003GB.  \n",
      "  PID: 24312;\tCommand: zcat;\tReturn code: 0;\tMemory used: 0.003GB\n",
      "\n",
      "\n",
      "> `bash /home/bnt4me/virginia/venv/jupyter/lib/python3.10/site-packages/bedboss/bedqc/est_line.sh /home/bnt4me/virginia/repos/bedbase_all/bedbase/docs_jupyter/bedbase_tutorial/outputs/outputs/bedstat_output/bedstat_pipeline_logs/bed_files/bedmaker_logs/bedbase_demo_db1/33xf84g5 `\n",
      "File (/home/bnt4me/virginia/repos/bedbase_all/bedbase/docs_jupyter/bedbase_tutorial/outputs/outputs/bedstat_output/bedstat_pipeline_logs/bed_files/bedmaker_logs/bedbase_demo_db1/33xf84g5) has passed Quality Control!\n",
      "Generating bigBed files for: /home/bnt4me/virginia/repos/bedbase_all/bedbase/docs_jupyter/bedbase_tutorial/files/GSE105587_ENCFF018NNF_conservative_idr_thresholded_peaks_GRCh38.bed.gz\n",
      "Determining path to chrom.sizes asset via Refgenie.\n",
      "Reading refgenie genome configuration file from file: /home/bnt4me/virginia/repos/bedbase_all/bedbase/docs_jupyter/bedbase_tutorial/genome_config.yaml\n",
      "/home/bnt4me/virginia/repos/bedbase_all/bedbase/docs_jupyter/bedbase_tutorial/alias/hg38/fasta/default/hg38.chrom.sizes\n",
      "Determined path to chrom.sizes asset: /home/bnt4me/virginia/repos/bedbase_all/bedbase/docs_jupyter/bedbase_tutorial/alias/hg38/fasta/default/hg38.chrom.sizes\n",
      "Config: /home/bnt4me/virginia/repos/bedbase_all/bedbase/docs_jupyter/bedbase_tutorial/bedbase/tutorial_files/bedboss/config_db_local.yaml.\n",
      "Initialize DBBackend\n",
      "/home/bnt4me/virginia/venv/jupyter/lib/python3.10/site-packages/pipestat/parsed_schema.py:284: RuntimeWarning: fields may not start with an underscore, ignoring \"_pipeline_name\"\n",
      "  return create_model(\n",
      "Traceback (most recent call last):\n",
      "  File \"/home/bnt4me/virginia/venv/jupyter/lib/python3.10/site-packages/pipestat/backends/dbbackend.py\", line 689, in _engine\n",
      "Using default schema: /home/bnt4me/virginia/venv/jupyter/bin/pipestat_output_schema.yaml\n",
      "    return self.db_engine_key\n",
      "AttributeError: 'DBBackend' object has no attribute 'db_engine_key'\n",
      "\n",
      "During handling of the above exception, another exception occurred:\n",
      "\n",
      "Traceback (most recent call last):\n",
      "  File \"/home/bnt4me/virginia/venv/jupyter/bin/bedboss\", line 8, in <module>\n",
      "    sys.exit(main())\n",
      "  File \"/home/bnt4me/virginia/venv/jupyter/lib/python3.10/site-packages/bedboss/bedboss.py\", line 180, in main\n",
      "    run_all(pm=pm, **args_dict)\n",
      "  File \"/home/bnt4me/virginia/venv/jupyter/lib/python3.10/site-packages/bedboss/bedboss.py\", line 138, in run_all\n",
      "    bedstat(\n",
      "  File \"/home/bnt4me/virginia/venv/jupyter/lib/python3.10/site-packages/bedboss/bedstat/bedstat.py\", line 103, in bedstat\n",
      "    bbc = bbconf.BedBaseConf(config_path=bedbase_config, database_only=True)\n",
      "  File \"/home/bnt4me/virginia/venv/jupyter/lib/python3.10/site-packages/bbconf/bbconf.py\", line 72, in __init__\n",
      "    BED_TABLE: pipestat.PipestatManager(\n",
      "  File \"/home/bnt4me/virginia/venv/jupyter/lib/python3.10/site-packages/pipestat/pipestat.py\", line 161, in __init__\n",
      "    self.backend = DBBackend(\n",
      "  File \"/home/bnt4me/virginia/venv/jupyter/lib/python3.10/site-packages/pipestat/backends/dbbackend.py\", line 63, in __init__\n",
      "    SQLModel.metadata.create_all(self._engine)\n",
      "  File \"/home/bnt4me/virginia/venv/jupyter/lib/python3.10/site-packages/pipestat/backends/dbbackend.py\", line 694, in _engine\n"
     ]
    },
    {
     "name": "stdout",
     "output_type": "stream",
     "text": [
      "    self.db_engine_key = create_engine(self.db_url, echo=self.show_db_logs)\n",
      "  File \"/home/bnt4me/virginia/venv/jupyter/lib/python3.10/site-packages/sqlmodel/engine/create.py\", line 139, in create_engine\n",
      "    return _create_engine(url, **current_kwargs)  # type: ignore\n",
      "  File \"<string>\", line 2, in create_engine\n",
      "  File \"/home/bnt4me/virginia/venv/jupyter/lib/python3.10/site-packages/sqlalchemy/util/deprecations.py\", line 309, in warned\n",
      "    return fn(*args, **kwargs)\n",
      "  File \"/home/bnt4me/virginia/venv/jupyter/lib/python3.10/site-packages/sqlalchemy/engine/create.py\", line 518, in create_engine\n",
      "    u = _url.make_url(url)\n",
      "  File \"/home/bnt4me/virginia/venv/jupyter/lib/python3.10/site-packages/sqlalchemy/engine/url.py\", line 725, in make_url\n",
      "    return _parse_rfc1738_args(name_or_url)\n",
      "  File \"/home/bnt4me/virginia/venv/jupyter/lib/python3.10/site-packages/sqlalchemy/engine/url.py\", line 781, in _parse_rfc1738_args\n",
      "    components[\"port\"] = int(components[\"port\"])\n",
      "ValueError: invalid literal for int() with base 10: '%24POSTGRES_PORT'\n",
      "Starting cleanup: 1 files; 0 conditional files for cleanup\n",
      "\n",
      "Cleaning up flagged intermediate files. . .\n",
      "\n",
      "### Pipeline failed at:  (08-14 09:27:35) elapsed: 0.0 _TIME_\n",
      "\n",
      "Total time: 0:00:00\n",
      "Failure reason: Pipeline failure. See details above.\n",
      "Exception ignored in atexit callback: <bound method PipelineManager._exit_handler of <pypiper.manager.PipelineManager object at 0x7f7ab5237fa0>>\n",
      "Traceback (most recent call last):\n",
      "  File \"/home/bnt4me/virginia/venv/jupyter/lib/python3.10/site-packages/pypiper/manager.py\", line 2191, in _exit_handler\n",
      "    self.fail_pipeline(Exception(\"Pipeline failure. See details above.\"))\n",
      "  File \"/home/bnt4me/virginia/venv/jupyter/lib/python3.10/site-packages/pypiper/manager.py\", line 2036, in fail_pipeline\n",
      "    raise exc\n",
      "Exception: Pipeline failure. See details above.\n",
      "\u001b[36m## [2 of 11] sample: bedbase_demo_db2; pipeline: BEDBOSS\u001b[0m\n",
      "Calling pre-submit function: looper.write_sample_yaml\n",
      "Writing script to /home/bnt4me/virginia/repos/bedbase_all/bedbase/docs_jupyter/bedbase_tutorial/outputs/outputs/bedstat_output/bedstat_pipeline_logs/submission/BEDBOSS_bedbase_demo_db2.sub\n",
      "Job script (n=1; 0.00Gb): /home/bnt4me/virginia/repos/bedbase_all/bedbase/docs_jupyter/bedbase_tutorial/outputs/outputs/bedstat_output/bedstat_pipeline_logs/submission/BEDBOSS_bedbase_demo_db2.sub\n",
      "Compute node: bnt4me-Precision-5560\n",
      "Start time: 2023-08-14 09:27:35\n",
      "Using default config. No config found in env var: PIPESTAT_CONFIG\n",
      "Config: None.\n",
      "No schema supplied.\n",
      "Initialize FileBackend\n",
      "Warning: You're running an interactive python session. This works, but pypiper cannot tee the output, so results are only logged to screen.\n",
      "### Pipeline run code and environment:\n",
      "\n",
      "*              Command:  `/home/bnt4me/virginia/venv/jupyter/bin/bedboss all --sample-name bedbase_demo_db2 --input-file /home/bnt4me/virginia/repos/bedbase_all/bedbase/docs_jupyter/bedbase_tutorial/files/GSE105977_ENCFF617QGK_optimal_idr_thresholded_peaks_GRCh38.bed.gz --input-type bed --genome hg38 --sample-yaml /home/bnt4me/virginia/repos/bedbase_all/bedbase/docs_jupyter/bedbase_tutorial/outputs/outputs/bedstat_output/bedstat_pipeline_logs/submission/bedbase_demo_db2_sample.yaml --output_folder /home/bnt4me/virginia/repos/bedbase_all/bedbase/docs_jupyter/bedbase_tutorial/outputs --narrowpeak True --rfg-config genome_config.yaml --bedbase-config /home/bnt4me/virginia/repos/bedbase_all/bedbase/docs_jupyter/bedbase_tutorial/bedbase/tutorial_files/bedboss/config_db_local.yaml --outfolder /home/bnt4me/virginia/repos/bedbase_all/bedbase/docs_jupyter/bedbase_tutorial/outputs/outputs/bedstat_output/bedstat_pipeline_logs`\n",
      "*         Compute host:  bnt4me-Precision-5560\n",
      "*          Working dir:  /home/bnt4me/virginia/repos/bedbase_all/bedbase/docs_jupyter/bedbase_tutorial\n",
      "*            Outfolder:  /home/bnt4me/virginia/repos/bedbase_all/bedbase/docs_jupyter/bedbase_tutorial/outputs/outputs/bedstat_output/bedstat_pipeline_logs/\n",
      "*  Pipeline started at:   (08-14 09:27:36) elapsed: 0.0 _TIME_\n",
      "\n",
      "### Version log:\n",
      "\n",
      "*       Python version:  3.10.12\n",
      "*          Pypiper dir:  `/home/bnt4me/virginia/venv/jupyter/lib/python3.10/site-packages/pypiper`\n",
      "*      Pypiper version:  0.13.2\n",
      "*         Pipeline dir:  `/home/bnt4me/virginia/venv/jupyter/bin`\n",
      "*     Pipeline version:  0.1.0a2\n",
      "\n",
      "### Arguments passed to pipeline:\n",
      "\n",
      "\n",
      "### Initialized Pipestat Object:\n",
      "\n",
      "* PipestatManager (bedboss-pipeline)\n",
      "* Backend: File\n",
      "*  - results: /home/bnt4me/virginia/repos/bedbase_all/bedbase/docs_jupyter/bedbase_tutorial/outputs/outputs/bedstat_output/bedstat_pipeline_logs/stats.yaml\n",
      "*  - status: /home/bnt4me/virginia/repos/bedbase_all/bedbase/docs_jupyter/bedbase_tutorial/outputs/outputs/bedstat_output/bedstat_pipeline_logs\n",
      "* Multiple Pipelines Allowed: True\n",
      "* Pipeline name: bedboss-pipeline\n",
      "* Pipeline type: sample\n",
      "* Status Schema key: None\n",
      "* Results formatter: default_formatter\n",
      "* Results schema source: None\n",
      "* Status schema source: None\n",
      "* Records count: 2\n",
      "* Sample name: DEFAULT_SAMPLE_NAME\n",
      "\n",
      "\n",
      "----------------------------------------\n",
      "\n",
      "Unused arguments: {'command': 'all', 'silent': False, 'verbosity': None, 'logdev': False}\n",
      "Getting Open Signal Matrix file path...\n",
      "output_bed = /home/bnt4me/virginia/repos/bedbase_all/bedbase/docs_jupyter/bedbase_tutorial/outputs/outputs/bedstat_output/bedstat_pipeline_logs/bed_files/GSE105977_ENCFF617QGK_optimal_idr_thresholded_peaks_GRCh38.bed.gz\n",
      "output_bigbed = /home/bnt4me/virginia/repos/bedbase_all/bedbase/docs_jupyter/bedbase_tutorial/outputs/outputs/bedstat_output/bedstat_pipeline_logs/bigbed_files\n",
      "Got input type: bed\n",
      "Converting /home/bnt4me/virginia/repos/bedbase_all/bedbase/docs_jupyter/bedbase_tutorial/files/GSE105977_ENCFF617QGK_optimal_idr_thresholded_peaks_GRCh38.bed.gz to BED format.\n",
      "Target exists: `/home/bnt4me/virginia/repos/bedbase_all/bedbase/docs_jupyter/bedbase_tutorial/outputs/outputs/bedstat_output/bedstat_pipeline_logs/bed_files/GSE105977_ENCFF617QGK_optimal_idr_thresholded_peaks_GRCh38.bed.gz`  \n",
      "Running bedqc...\n",
      "Unused arguments: {}\n",
      "Target to produce: `/home/bnt4me/virginia/repos/bedbase_all/bedbase/docs_jupyter/bedbase_tutorial/outputs/outputs/bedstat_output/bedstat_pipeline_logs/bed_files/bedmaker_logs/bedbase_demo_db2/lypwq5fe`  \n",
      "\n",
      "> `zcat /home/bnt4me/virginia/repos/bedbase_all/bedbase/docs_jupyter/bedbase_tutorial/outputs/outputs/bedstat_output/bedstat_pipeline_logs/bed_files/GSE105977_ENCFF617QGK_optimal_idr_thresholded_peaks_GRCh38.bed.gz > /home/bnt4me/virginia/repos/bedbase_all/bedbase/docs_jupyter/bedbase_tutorial/outputs/outputs/bedstat_output/bedstat_pipeline_logs/bed_files/bedmaker_logs/bedbase_demo_db2/lypwq5fe` (24344)\n",
      "<pre>\n",
      "</pre>\n",
      "Command completed. Elapsed time: 0:00:00. Running peak memory: 0GB.  \n",
      "  PID: 24344;\tCommand: zcat;\tReturn code: 0;\tMemory used: 0.0GB\n",
      "\n",
      "\n",
      "> `bash /home/bnt4me/virginia/venv/jupyter/lib/python3.10/site-packages/bedboss/bedqc/est_line.sh /home/bnt4me/virginia/repos/bedbase_all/bedbase/docs_jupyter/bedbase_tutorial/outputs/outputs/bedstat_output/bedstat_pipeline_logs/bed_files/bedmaker_logs/bedbase_demo_db2/lypwq5fe `\n",
      "File (/home/bnt4me/virginia/repos/bedbase_all/bedbase/docs_jupyter/bedbase_tutorial/outputs/outputs/bedstat_output/bedstat_pipeline_logs/bed_files/bedmaker_logs/bedbase_demo_db2/lypwq5fe) has passed Quality Control!\n",
      "Generating bigBed files for: /home/bnt4me/virginia/repos/bedbase_all/bedbase/docs_jupyter/bedbase_tutorial/files/GSE105977_ENCFF617QGK_optimal_idr_thresholded_peaks_GRCh38.bed.gz\n",
      "Determining path to chrom.sizes asset via Refgenie.\n",
      "Reading refgenie genome configuration file from file: /home/bnt4me/virginia/repos/bedbase_all/bedbase/docs_jupyter/bedbase_tutorial/genome_config.yaml\n",
      "/home/bnt4me/virginia/repos/bedbase_all/bedbase/docs_jupyter/bedbase_tutorial/alias/hg38/fasta/default/hg38.chrom.sizes\n",
      "Determined path to chrom.sizes asset: /home/bnt4me/virginia/repos/bedbase_all/bedbase/docs_jupyter/bedbase_tutorial/alias/hg38/fasta/default/hg38.chrom.sizes\n",
      "Config: /home/bnt4me/virginia/repos/bedbase_all/bedbase/docs_jupyter/bedbase_tutorial/bedbase/tutorial_files/bedboss/config_db_local.yaml.\n",
      "Initialize DBBackend\n",
      "/home/bnt4me/virginia/venv/jupyter/lib/python3.10/site-packages/pipestat/parsed_schema.py:284: RuntimeWarning: fields may not start with an underscore, ignoring \"_pipeline_name\"\n"
     ]
    },
    {
     "name": "stdout",
     "output_type": "stream",
     "text": [
      "  return create_model(\n",
      "Using default schema: /home/bnt4me/virginia/venv/jupyter/bin/pipestat_output_schema.yaml\n",
      "Traceback (most recent call last):\n",
      "  File \"/home/bnt4me/virginia/venv/jupyter/lib/python3.10/site-packages/pipestat/backends/dbbackend.py\", line 689, in _engine\n",
      "    return self.db_engine_key\n",
      "AttributeError: 'DBBackend' object has no attribute 'db_engine_key'\n",
      "\n",
      "During handling of the above exception, another exception occurred:\n",
      "\n",
      "Traceback (most recent call last):\n",
      "  File \"/home/bnt4me/virginia/venv/jupyter/bin/bedboss\", line 8, in <module>\n",
      "    sys.exit(main())\n",
      "  File \"/home/bnt4me/virginia/venv/jupyter/lib/python3.10/site-packages/bedboss/bedboss.py\", line 180, in main\n",
      "    run_all(pm=pm, **args_dict)\n",
      "  File \"/home/bnt4me/virginia/venv/jupyter/lib/python3.10/site-packages/bedboss/bedboss.py\", line 138, in run_all\n",
      "    bedstat(\n",
      "  File \"/home/bnt4me/virginia/venv/jupyter/lib/python3.10/site-packages/bedboss/bedstat/bedstat.py\", line 103, in bedstat\n",
      "    bbc = bbconf.BedBaseConf(config_path=bedbase_config, database_only=True)\n",
      "  File \"/home/bnt4me/virginia/venv/jupyter/lib/python3.10/site-packages/bbconf/bbconf.py\", line 72, in __init__\n",
      "    BED_TABLE: pipestat.PipestatManager(\n",
      "  File \"/home/bnt4me/virginia/venv/jupyter/lib/python3.10/site-packages/pipestat/pipestat.py\", line 161, in __init__\n",
      "    self.backend = DBBackend(\n",
      "  File \"/home/bnt4me/virginia/venv/jupyter/lib/python3.10/site-packages/pipestat/backends/dbbackend.py\", line 63, in __init__\n",
      "    SQLModel.metadata.create_all(self._engine)\n",
      "  File \"/home/bnt4me/virginia/venv/jupyter/lib/python3.10/site-packages/pipestat/backends/dbbackend.py\", line 694, in _engine\n",
      "    self.db_engine_key = create_engine(self.db_url, echo=self.show_db_logs)\n",
      "  File \"/home/bnt4me/virginia/venv/jupyter/lib/python3.10/site-packages/sqlmodel/engine/create.py\", line 139, in create_engine\n",
      "    return _create_engine(url, **current_kwargs)  # type: ignore\n",
      "  File \"<string>\", line 2, in create_engine\n",
      "  File \"/home/bnt4me/virginia/venv/jupyter/lib/python3.10/site-packages/sqlalchemy/util/deprecations.py\", line 309, in warned\n",
      "    return fn(*args, **kwargs)\n",
      "  File \"/home/bnt4me/virginia/venv/jupyter/lib/python3.10/site-packages/sqlalchemy/engine/create.py\", line 518, in create_engine\n",
      "    u = _url.make_url(url)\n",
      "  File \"/home/bnt4me/virginia/venv/jupyter/lib/python3.10/site-packages/sqlalchemy/engine/url.py\", line 725, in make_url\n",
      "    return _parse_rfc1738_args(name_or_url)\n",
      "  File \"/home/bnt4me/virginia/venv/jupyter/lib/python3.10/site-packages/sqlalchemy/engine/url.py\", line 781, in _parse_rfc1738_args\n",
      "    components[\"port\"] = int(components[\"port\"])\n",
      "ValueError: invalid literal for int() with base 10: '%24POSTGRES_PORT'\n",
      "Starting cleanup: 1 files; 0 conditional files for cleanup\n",
      "\n",
      "Cleaning up flagged intermediate files. . .\n",
      "\n",
      "### Pipeline failed at:  (08-14 09:27:36) elapsed: 0.0 _TIME_\n",
      "\n",
      "Total time: 0:00:00\n",
      "Failure reason: Pipeline failure. See details above.\n",
      "Exception ignored in atexit callback: <bound method PipelineManager._exit_handler of <pypiper.manager.PipelineManager object at 0x7fb4accabfa0>>\n",
      "Traceback (most recent call last):\n",
      "  File \"/home/bnt4me/virginia/venv/jupyter/lib/python3.10/site-packages/pypiper/manager.py\", line 2191, in _exit_handler\n",
      "    self.fail_pipeline(Exception(\"Pipeline failure. See details above.\"))\n",
      "  File \"/home/bnt4me/virginia/venv/jupyter/lib/python3.10/site-packages/pypiper/manager.py\", line 2036, in fail_pipeline\n",
      "    raise exc\n",
      "Exception: Pipeline failure. See details above.\n",
      "\u001b[36m## [3 of 11] sample: bedbase_demo_db3; pipeline: BEDBOSS\u001b[0m\n",
      "Calling pre-submit function: looper.write_sample_yaml\n",
      "Writing script to /home/bnt4me/virginia/repos/bedbase_all/bedbase/docs_jupyter/bedbase_tutorial/outputs/outputs/bedstat_output/bedstat_pipeline_logs/submission/BEDBOSS_bedbase_demo_db3.sub\n",
      "Job script (n=1; 0.00Gb): /home/bnt4me/virginia/repos/bedbase_all/bedbase/docs_jupyter/bedbase_tutorial/outputs/outputs/bedstat_output/bedstat_pipeline_logs/submission/BEDBOSS_bedbase_demo_db3.sub\n",
      "Compute node: bnt4me-Precision-5560\n",
      "Start time: 2023-08-14 09:27:36\n",
      "Using default config. No config found in env var: PIPESTAT_CONFIG\n",
      "Config: None.\n",
      "No schema supplied.\n",
      "Initialize FileBackend\n",
      "Warning: You're running an interactive python session. This works, but pypiper cannot tee the output, so results are only logged to screen.\n",
      "### Pipeline run code and environment:\n",
      "\n",
      "*              Command:  `/home/bnt4me/virginia/venv/jupyter/bin/bedboss all --sample-name bedbase_demo_db3 --input-file /home/bnt4me/virginia/repos/bedbase_all/bedbase/docs_jupyter/bedbase_tutorial/files/GSE105977_ENCFF793SZW_conservative_idr_thresholded_peaks_GRCh38.bed.gz --input-type bed --genome hg38 --sample-yaml /home/bnt4me/virginia/repos/bedbase_all/bedbase/docs_jupyter/bedbase_tutorial/outputs/outputs/bedstat_output/bedstat_pipeline_logs/submission/bedbase_demo_db3_sample.yaml --output_folder /home/bnt4me/virginia/repos/bedbase_all/bedbase/docs_jupyter/bedbase_tutorial/outputs --narrowpeak True --rfg-config genome_config.yaml --bedbase-config /home/bnt4me/virginia/repos/bedbase_all/bedbase/docs_jupyter/bedbase_tutorial/bedbase/tutorial_files/bedboss/config_db_local.yaml --outfolder /home/bnt4me/virginia/repos/bedbase_all/bedbase/docs_jupyter/bedbase_tutorial/outputs/outputs/bedstat_output/bedstat_pipeline_logs`\n",
      "*         Compute host:  bnt4me-Precision-5560\n",
      "*          Working dir:  /home/bnt4me/virginia/repos/bedbase_all/bedbase/docs_jupyter/bedbase_tutorial\n",
      "*            Outfolder:  /home/bnt4me/virginia/repos/bedbase_all/bedbase/docs_jupyter/bedbase_tutorial/outputs/outputs/bedstat_output/bedstat_pipeline_logs/\n",
      "*  Pipeline started at:   (08-14 09:27:37) elapsed: 0.0 _TIME_\n",
      "\n",
      "### Version log:\n",
      "\n",
      "*       Python version:  3.10.12\n",
      "*          Pypiper dir:  `/home/bnt4me/virginia/venv/jupyter/lib/python3.10/site-packages/pypiper`\n",
      "*      Pypiper version:  0.13.2\n",
      "*         Pipeline dir:  `/home/bnt4me/virginia/venv/jupyter/bin`\n",
      "*     Pipeline version:  0.1.0a2\n",
      "\n",
      "### Arguments passed to pipeline:\n",
      "\n",
      "\n",
      "### Initialized Pipestat Object:\n",
      "\n",
      "* PipestatManager (bedboss-pipeline)\n",
      "* Backend: File\n",
      "*  - results: /home/bnt4me/virginia/repos/bedbase_all/bedbase/docs_jupyter/bedbase_tutorial/outputs/outputs/bedstat_output/bedstat_pipeline_logs/stats.yaml\n",
      "*  - status: /home/bnt4me/virginia/repos/bedbase_all/bedbase/docs_jupyter/bedbase_tutorial/outputs/outputs/bedstat_output/bedstat_pipeline_logs\n",
      "* Multiple Pipelines Allowed: True\n",
      "* Pipeline name: bedboss-pipeline\n",
      "* Pipeline type: sample\n",
      "* Status Schema key: None\n",
      "* Results formatter: default_formatter\n",
      "* Results schema source: None\n",
      "* Status schema source: None\n",
      "* Records count: 2\n",
      "* Sample name: DEFAULT_SAMPLE_NAME\n",
      "\n",
      "\n",
      "----------------------------------------\n",
      "\n",
      "Unused arguments: {'command': 'all', 'silent': False, 'verbosity': None, 'logdev': False}\n",
      "Getting Open Signal Matrix file path...\n",
      "output_bed = /home/bnt4me/virginia/repos/bedbase_all/bedbase/docs_jupyter/bedbase_tutorial/outputs/outputs/bedstat_output/bedstat_pipeline_logs/bed_files/GSE105977_ENCFF793SZW_conservative_idr_thresholded_peaks_GRCh38.bed.gz\n",
      "output_bigbed = /home/bnt4me/virginia/repos/bedbase_all/bedbase/docs_jupyter/bedbase_tutorial/outputs/outputs/bedstat_output/bedstat_pipeline_logs/bigbed_files\n",
      "Got input type: bed\n",
      "Converting /home/bnt4me/virginia/repos/bedbase_all/bedbase/docs_jupyter/bedbase_tutorial/files/GSE105977_ENCFF793SZW_conservative_idr_thresholded_peaks_GRCh38.bed.gz to BED format.\n",
      "Target exists: `/home/bnt4me/virginia/repos/bedbase_all/bedbase/docs_jupyter/bedbase_tutorial/outputs/outputs/bedstat_output/bedstat_pipeline_logs/bed_files/GSE105977_ENCFF793SZW_conservative_idr_thresholded_peaks_GRCh38.bed.gz`  \n",
      "Running bedqc...\n",
      "Unused arguments: {}\n",
      "Target to produce: `/home/bnt4me/virginia/repos/bedbase_all/bedbase/docs_jupyter/bedbase_tutorial/outputs/outputs/bedstat_output/bedstat_pipeline_logs/bed_files/bedmaker_logs/bedbase_demo_db3/_5zvvg7p`  \n",
      "\n",
      "> `zcat /home/bnt4me/virginia/repos/bedbase_all/bedbase/docs_jupyter/bedbase_tutorial/outputs/outputs/bedstat_output/bedstat_pipeline_logs/bed_files/GSE105977_ENCFF793SZW_conservative_idr_thresholded_peaks_GRCh38.bed.gz > /home/bnt4me/virginia/repos/bedbase_all/bedbase/docs_jupyter/bedbase_tutorial/outputs/outputs/bedstat_output/bedstat_pipeline_logs/bed_files/bedmaker_logs/bedbase_demo_db3/_5zvvg7p` (24374)\n"
     ]
    },
    {
     "name": "stdout",
     "output_type": "stream",
     "text": [
      "<pre>\n",
      "</pre>\n",
      "Command completed. Elapsed time: 0:00:00. Running peak memory: 0GB.  \n",
      "  PID: 24374;\tCommand: zcat;\tReturn code: 0;\tMemory used: 0.0GB\n",
      "\n",
      "\n",
      "> `bash /home/bnt4me/virginia/venv/jupyter/lib/python3.10/site-packages/bedboss/bedqc/est_line.sh /home/bnt4me/virginia/repos/bedbase_all/bedbase/docs_jupyter/bedbase_tutorial/outputs/outputs/bedstat_output/bedstat_pipeline_logs/bed_files/bedmaker_logs/bedbase_demo_db3/_5zvvg7p `\n",
      "File (/home/bnt4me/virginia/repos/bedbase_all/bedbase/docs_jupyter/bedbase_tutorial/outputs/outputs/bedstat_output/bedstat_pipeline_logs/bed_files/bedmaker_logs/bedbase_demo_db3/_5zvvg7p) has passed Quality Control!\n",
      "Generating bigBed files for: /home/bnt4me/virginia/repos/bedbase_all/bedbase/docs_jupyter/bedbase_tutorial/files/GSE105977_ENCFF793SZW_conservative_idr_thresholded_peaks_GRCh38.bed.gz\n",
      "Determining path to chrom.sizes asset via Refgenie.\n",
      "Reading refgenie genome configuration file from file: /home/bnt4me/virginia/repos/bedbase_all/bedbase/docs_jupyter/bedbase_tutorial/genome_config.yaml\n",
      "/home/bnt4me/virginia/repos/bedbase_all/bedbase/docs_jupyter/bedbase_tutorial/alias/hg38/fasta/default/hg38.chrom.sizes\n",
      "Determined path to chrom.sizes asset: /home/bnt4me/virginia/repos/bedbase_all/bedbase/docs_jupyter/bedbase_tutorial/alias/hg38/fasta/default/hg38.chrom.sizes\n",
      "Config: /home/bnt4me/virginia/repos/bedbase_all/bedbase/docs_jupyter/bedbase_tutorial/bedbase/tutorial_files/bedboss/config_db_local.yaml.\n",
      "Initialize DBBackend\n",
      "/home/bnt4me/virginia/venv/jupyter/lib/python3.10/site-packages/pipestat/parsed_schema.py:284: RuntimeWarning: fields may not start with an underscore, ignoring \"_pipeline_name\"\n",
      "  return create_model(\n",
      "Traceback (most recent call last):\n",
      "  File \"/home/bnt4me/virginia/venv/jupyter/lib/python3.10/site-packages/pipestat/backends/dbbackend.py\", line 689, in _engine\n",
      "Using default schema: /home/bnt4me/virginia/venv/jupyter/bin/pipestat_output_schema.yaml\n",
      "    return self.db_engine_key\n",
      "AttributeError: 'DBBackend' object has no attribute 'db_engine_key'\n",
      "\n",
      "During handling of the above exception, another exception occurred:\n",
      "\n",
      "Traceback (most recent call last):\n",
      "  File \"/home/bnt4me/virginia/venv/jupyter/bin/bedboss\", line 8, in <module>\n",
      "    sys.exit(main())\n",
      "  File \"/home/bnt4me/virginia/venv/jupyter/lib/python3.10/site-packages/bedboss/bedboss.py\", line 180, in main\n",
      "    run_all(pm=pm, **args_dict)\n",
      "  File \"/home/bnt4me/virginia/venv/jupyter/lib/python3.10/site-packages/bedboss/bedboss.py\", line 138, in run_all\n",
      "    bedstat(\n",
      "  File \"/home/bnt4me/virginia/venv/jupyter/lib/python3.10/site-packages/bedboss/bedstat/bedstat.py\", line 103, in bedstat\n",
      "    bbc = bbconf.BedBaseConf(config_path=bedbase_config, database_only=True)\n",
      "  File \"/home/bnt4me/virginia/venv/jupyter/lib/python3.10/site-packages/bbconf/bbconf.py\", line 72, in __init__\n",
      "    BED_TABLE: pipestat.PipestatManager(\n",
      "  File \"/home/bnt4me/virginia/venv/jupyter/lib/python3.10/site-packages/pipestat/pipestat.py\", line 161, in __init__\n",
      "    self.backend = DBBackend(\n",
      "  File \"/home/bnt4me/virginia/venv/jupyter/lib/python3.10/site-packages/pipestat/backends/dbbackend.py\", line 63, in __init__\n",
      "    SQLModel.metadata.create_all(self._engine)\n",
      "  File \"/home/bnt4me/virginia/venv/jupyter/lib/python3.10/site-packages/pipestat/backends/dbbackend.py\", line 694, in _engine\n",
      "    self.db_engine_key = create_engine(self.db_url, echo=self.show_db_logs)\n",
      "  File \"/home/bnt4me/virginia/venv/jupyter/lib/python3.10/site-packages/sqlmodel/engine/create.py\", line 139, in create_engine\n",
      "    return _create_engine(url, **current_kwargs)  # type: ignore\n",
      "  File \"<string>\", line 2, in create_engine\n",
      "  File \"/home/bnt4me/virginia/venv/jupyter/lib/python3.10/site-packages/sqlalchemy/util/deprecations.py\", line 309, in warned\n",
      "    return fn(*args, **kwargs)\n",
      "  File \"/home/bnt4me/virginia/venv/jupyter/lib/python3.10/site-packages/sqlalchemy/engine/create.py\", line 518, in create_engine\n",
      "    u = _url.make_url(url)\n",
      "  File \"/home/bnt4me/virginia/venv/jupyter/lib/python3.10/site-packages/sqlalchemy/engine/url.py\", line 725, in make_url\n",
      "    return _parse_rfc1738_args(name_or_url)\n",
      "  File \"/home/bnt4me/virginia/venv/jupyter/lib/python3.10/site-packages/sqlalchemy/engine/url.py\", line 781, in _parse_rfc1738_args\n",
      "    components[\"port\"] = int(components[\"port\"])\n",
      "ValueError: invalid literal for int() with base 10: '%24POSTGRES_PORT'\n",
      "Starting cleanup: 1 files; 0 conditional files for cleanup\n",
      "\n",
      "Cleaning up flagged intermediate files. . .\n",
      "\n",
      "### Pipeline failed at:  (08-14 09:27:37) elapsed: 0.0 _TIME_\n",
      "\n",
      "Total time: 0:00:00\n",
      "Failure reason: Pipeline failure. See details above.\n",
      "Exception ignored in atexit callback: <bound method PipelineManager._exit_handler of <pypiper.manager.PipelineManager object at 0x7f40cbcd7fd0>>\n",
      "Traceback (most recent call last):\n",
      "  File \"/home/bnt4me/virginia/venv/jupyter/lib/python3.10/site-packages/pypiper/manager.py\", line 2191, in _exit_handler\n",
      "    self.fail_pipeline(Exception(\"Pipeline failure. See details above.\"))\n",
      "  File \"/home/bnt4me/virginia/venv/jupyter/lib/python3.10/site-packages/pypiper/manager.py\", line 2036, in fail_pipeline\n",
      "    raise exc\n",
      "Exception: Pipeline failure. See details above.\n",
      "\u001b[36m## [4 of 11] sample: bedbase_demo_db4; pipeline: BEDBOSS\u001b[0m\n",
      "Calling pre-submit function: looper.write_sample_yaml\n",
      "Writing script to /home/bnt4me/virginia/repos/bedbase_all/bedbase/docs_jupyter/bedbase_tutorial/outputs/outputs/bedstat_output/bedstat_pipeline_logs/submission/BEDBOSS_bedbase_demo_db4.sub\n",
      "Job script (n=1; 0.00Gb): /home/bnt4me/virginia/repos/bedbase_all/bedbase/docs_jupyter/bedbase_tutorial/outputs/outputs/bedstat_output/bedstat_pipeline_logs/submission/BEDBOSS_bedbase_demo_db4.sub\n",
      "Compute node: bnt4me-Precision-5560\n",
      "Start time: 2023-08-14 09:27:37\n",
      "Using default config. No config found in env var: PIPESTAT_CONFIG\n",
      "Config: None.\n",
      "No schema supplied.\n",
      "Initialize FileBackend\n",
      "Warning: You're running an interactive python session. This works, but pypiper cannot tee the output, so results are only logged to screen.\n",
      "### Pipeline run code and environment:\n",
      "\n",
      "*              Command:  `/home/bnt4me/virginia/venv/jupyter/bin/bedboss all --sample-name bedbase_demo_db4 --input-file /home/bnt4me/virginia/repos/bedbase_all/bedbase/docs_jupyter/bedbase_tutorial/files/GSE105977_ENCFF937CGY_peaks_GRCh38.bed.gz --input-type bed --genome hg38 --sample-yaml /home/bnt4me/virginia/repos/bedbase_all/bedbase/docs_jupyter/bedbase_tutorial/outputs/outputs/bedstat_output/bedstat_pipeline_logs/submission/bedbase_demo_db4_sample.yaml --output_folder /home/bnt4me/virginia/repos/bedbase_all/bedbase/docs_jupyter/bedbase_tutorial/outputs --narrowpeak True --rfg-config genome_config.yaml --bedbase-config /home/bnt4me/virginia/repos/bedbase_all/bedbase/docs_jupyter/bedbase_tutorial/bedbase/tutorial_files/bedboss/config_db_local.yaml --outfolder /home/bnt4me/virginia/repos/bedbase_all/bedbase/docs_jupyter/bedbase_tutorial/outputs/outputs/bedstat_output/bedstat_pipeline_logs`\n",
      "*         Compute host:  bnt4me-Precision-5560\n",
      "*          Working dir:  /home/bnt4me/virginia/repos/bedbase_all/bedbase/docs_jupyter/bedbase_tutorial\n",
      "*            Outfolder:  /home/bnt4me/virginia/repos/bedbase_all/bedbase/docs_jupyter/bedbase_tutorial/outputs/outputs/bedstat_output/bedstat_pipeline_logs/\n",
      "*  Pipeline started at:   (08-14 09:27:37) elapsed: 0.0 _TIME_\n",
      "\n",
      "### Version log:\n",
      "\n",
      "*       Python version:  3.10.12\n",
      "*          Pypiper dir:  `/home/bnt4me/virginia/venv/jupyter/lib/python3.10/site-packages/pypiper`\n",
      "*      Pypiper version:  0.13.2\n",
      "*         Pipeline dir:  `/home/bnt4me/virginia/venv/jupyter/bin`\n",
      "*     Pipeline version:  0.1.0a2\n",
      "\n",
      "### Arguments passed to pipeline:\n",
      "\n",
      "\n",
      "### Initialized Pipestat Object:\n",
      "\n",
      "* PipestatManager (bedboss-pipeline)\n",
      "* Backend: File\n",
      "*  - results: /home/bnt4me/virginia/repos/bedbase_all/bedbase/docs_jupyter/bedbase_tutorial/outputs/outputs/bedstat_output/bedstat_pipeline_logs/stats.yaml\n",
      "*  - status: /home/bnt4me/virginia/repos/bedbase_all/bedbase/docs_jupyter/bedbase_tutorial/outputs/outputs/bedstat_output/bedstat_pipeline_logs\n",
      "* Multiple Pipelines Allowed: True\n",
      "* Pipeline name: bedboss-pipeline\n",
      "* Pipeline type: sample\n",
      "* Status Schema key: None\n",
      "* Results formatter: default_formatter\n",
      "* Results schema source: None\n",
      "* Status schema source: None\n"
     ]
    },
    {
     "name": "stdout",
     "output_type": "stream",
     "text": [
      "* Records count: 2\n",
      "* Sample name: DEFAULT_SAMPLE_NAME\n",
      "\n",
      "\n",
      "----------------------------------------\n",
      "\n",
      "Unused arguments: {'command': 'all', 'silent': False, 'verbosity': None, 'logdev': False}\n",
      "Getting Open Signal Matrix file path...\n",
      "output_bed = /home/bnt4me/virginia/repos/bedbase_all/bedbase/docs_jupyter/bedbase_tutorial/outputs/outputs/bedstat_output/bedstat_pipeline_logs/bed_files/GSE105977_ENCFF937CGY_peaks_GRCh38.bed.gz\n",
      "output_bigbed = /home/bnt4me/virginia/repos/bedbase_all/bedbase/docs_jupyter/bedbase_tutorial/outputs/outputs/bedstat_output/bedstat_pipeline_logs/bigbed_files\n",
      "Got input type: bed\n",
      "Converting /home/bnt4me/virginia/repos/bedbase_all/bedbase/docs_jupyter/bedbase_tutorial/files/GSE105977_ENCFF937CGY_peaks_GRCh38.bed.gz to BED format.\n",
      "Target exists: `/home/bnt4me/virginia/repos/bedbase_all/bedbase/docs_jupyter/bedbase_tutorial/outputs/outputs/bedstat_output/bedstat_pipeline_logs/bed_files/GSE105977_ENCFF937CGY_peaks_GRCh38.bed.gz`  \n",
      "Running bedqc...\n",
      "Unused arguments: {}\n",
      "Target to produce: `/home/bnt4me/virginia/repos/bedbase_all/bedbase/docs_jupyter/bedbase_tutorial/outputs/outputs/bedstat_output/bedstat_pipeline_logs/bed_files/bedmaker_logs/bedbase_demo_db4/gig106fd`  \n",
      "\n",
      "> `zcat /home/bnt4me/virginia/repos/bedbase_all/bedbase/docs_jupyter/bedbase_tutorial/outputs/outputs/bedstat_output/bedstat_pipeline_logs/bed_files/GSE105977_ENCFF937CGY_peaks_GRCh38.bed.gz > /home/bnt4me/virginia/repos/bedbase_all/bedbase/docs_jupyter/bedbase_tutorial/outputs/outputs/bedstat_output/bedstat_pipeline_logs/bed_files/bedmaker_logs/bedbase_demo_db4/gig106fd` (24404)\n",
      "<pre>\n",
      "</pre>\n",
      "Command completed. Elapsed time: 0:00:00. Running peak memory: 0.003GB.  \n",
      "  PID: 24404;\tCommand: zcat;\tReturn code: 0;\tMemory used: 0.003GB\n",
      "\n",
      "\n",
      "> `bash /home/bnt4me/virginia/venv/jupyter/lib/python3.10/site-packages/bedboss/bedqc/est_line.sh /home/bnt4me/virginia/repos/bedbase_all/bedbase/docs_jupyter/bedbase_tutorial/outputs/outputs/bedstat_output/bedstat_pipeline_logs/bed_files/bedmaker_logs/bedbase_demo_db4/gig106fd `\n",
      "File (/home/bnt4me/virginia/repos/bedbase_all/bedbase/docs_jupyter/bedbase_tutorial/outputs/outputs/bedstat_output/bedstat_pipeline_logs/bed_files/bedmaker_logs/bedbase_demo_db4/gig106fd) has passed Quality Control!\n",
      "Generating bigBed files for: /home/bnt4me/virginia/repos/bedbase_all/bedbase/docs_jupyter/bedbase_tutorial/files/GSE105977_ENCFF937CGY_peaks_GRCh38.bed.gz\n",
      "Determining path to chrom.sizes asset via Refgenie.\n",
      "Reading refgenie genome configuration file from file: /home/bnt4me/virginia/repos/bedbase_all/bedbase/docs_jupyter/bedbase_tutorial/genome_config.yaml\n",
      "/home/bnt4me/virginia/repos/bedbase_all/bedbase/docs_jupyter/bedbase_tutorial/alias/hg38/fasta/default/hg38.chrom.sizes\n",
      "Determined path to chrom.sizes asset: /home/bnt4me/virginia/repos/bedbase_all/bedbase/docs_jupyter/bedbase_tutorial/alias/hg38/fasta/default/hg38.chrom.sizes\n",
      "Config: /home/bnt4me/virginia/repos/bedbase_all/bedbase/docs_jupyter/bedbase_tutorial/bedbase/tutorial_files/bedboss/config_db_local.yaml.\n",
      "Initialize DBBackend\n",
      "/home/bnt4me/virginia/venv/jupyter/lib/python3.10/site-packages/pipestat/parsed_schema.py:284: RuntimeWarning: fields may not start with an underscore, ignoring \"_pipeline_name\"\n",
      "  return create_model(\n",
      "Traceback (most recent call last):\n",
      "  File \"/home/bnt4me/virginia/venv/jupyter/lib/python3.10/site-packages/pipestat/backends/dbbackend.py\", line 689, in _engine\n",
      "Using default schema: /home/bnt4me/virginia/venv/jupyter/bin/pipestat_output_schema.yaml\n",
      "    return self.db_engine_key\n",
      "AttributeError: 'DBBackend' object has no attribute 'db_engine_key'\n",
      "\n",
      "During handling of the above exception, another exception occurred:\n",
      "\n",
      "Traceback (most recent call last):\n",
      "  File \"/home/bnt4me/virginia/venv/jupyter/bin/bedboss\", line 8, in <module>\n",
      "    sys.exit(main())\n",
      "  File \"/home/bnt4me/virginia/venv/jupyter/lib/python3.10/site-packages/bedboss/bedboss.py\", line 180, in main\n",
      "    run_all(pm=pm, **args_dict)\n",
      "  File \"/home/bnt4me/virginia/venv/jupyter/lib/python3.10/site-packages/bedboss/bedboss.py\", line 138, in run_all\n",
      "    bedstat(\n",
      "  File \"/home/bnt4me/virginia/venv/jupyter/lib/python3.10/site-packages/bedboss/bedstat/bedstat.py\", line 103, in bedstat\n",
      "    bbc = bbconf.BedBaseConf(config_path=bedbase_config, database_only=True)\n",
      "  File \"/home/bnt4me/virginia/venv/jupyter/lib/python3.10/site-packages/bbconf/bbconf.py\", line 72, in __init__\n",
      "    BED_TABLE: pipestat.PipestatManager(\n",
      "  File \"/home/bnt4me/virginia/venv/jupyter/lib/python3.10/site-packages/pipestat/pipestat.py\", line 161, in __init__\n",
      "    self.backend = DBBackend(\n",
      "  File \"/home/bnt4me/virginia/venv/jupyter/lib/python3.10/site-packages/pipestat/backends/dbbackend.py\", line 63, in __init__\n",
      "    SQLModel.metadata.create_all(self._engine)\n",
      "  File \"/home/bnt4me/virginia/venv/jupyter/lib/python3.10/site-packages/pipestat/backends/dbbackend.py\", line 694, in _engine\n",
      "    self.db_engine_key = create_engine(self.db_url, echo=self.show_db_logs)\n",
      "  File \"/home/bnt4me/virginia/venv/jupyter/lib/python3.10/site-packages/sqlmodel/engine/create.py\", line 139, in create_engine\n",
      "    return _create_engine(url, **current_kwargs)  # type: ignore\n",
      "  File \"<string>\", line 2, in create_engine\n",
      "  File \"/home/bnt4me/virginia/venv/jupyter/lib/python3.10/site-packages/sqlalchemy/util/deprecations.py\", line 309, in warned\n",
      "    return fn(*args, **kwargs)\n",
      "  File \"/home/bnt4me/virginia/venv/jupyter/lib/python3.10/site-packages/sqlalchemy/engine/create.py\", line 518, in create_engine\n",
      "    u = _url.make_url(url)\n",
      "  File \"/home/bnt4me/virginia/venv/jupyter/lib/python3.10/site-packages/sqlalchemy/engine/url.py\", line 725, in make_url\n",
      "    return _parse_rfc1738_args(name_or_url)\n",
      "  File \"/home/bnt4me/virginia/venv/jupyter/lib/python3.10/site-packages/sqlalchemy/engine/url.py\", line 781, in _parse_rfc1738_args\n",
      "    components[\"port\"] = int(components[\"port\"])\n",
      "ValueError: invalid literal for int() with base 10: '%24POSTGRES_PORT'\n",
      "Starting cleanup: 1 files; 0 conditional files for cleanup\n",
      "\n",
      "Cleaning up flagged intermediate files. . .\n",
      "\n",
      "### Pipeline failed at:  (08-14 09:27:38) elapsed: 0.0 _TIME_\n",
      "\n",
      "Total time: 0:00:00\n",
      "Failure reason: Pipeline failure. See details above.\n",
      "Exception ignored in atexit callback: <bound method PipelineManager._exit_handler of <pypiper.manager.PipelineManager object at 0x7fa90da10280>>\n",
      "Traceback (most recent call last):\n",
      "  File \"/home/bnt4me/virginia/venv/jupyter/lib/python3.10/site-packages/pypiper/manager.py\", line 2191, in _exit_handler\n",
      "    self.fail_pipeline(Exception(\"Pipeline failure. See details above.\"))\n",
      "  File \"/home/bnt4me/virginia/venv/jupyter/lib/python3.10/site-packages/pypiper/manager.py\", line 2036, in fail_pipeline\n",
      "    raise exc\n",
      "Exception: Pipeline failure. See details above.\n",
      "\u001b[36m## [5 of 11] sample: bedbase_demo_db5; pipeline: BEDBOSS\u001b[0m\n",
      "Calling pre-submit function: looper.write_sample_yaml\n",
      "Writing script to /home/bnt4me/virginia/repos/bedbase_all/bedbase/docs_jupyter/bedbase_tutorial/outputs/outputs/bedstat_output/bedstat_pipeline_logs/submission/BEDBOSS_bedbase_demo_db5.sub\n",
      "Job script (n=1; 0.00Gb): /home/bnt4me/virginia/repos/bedbase_all/bedbase/docs_jupyter/bedbase_tutorial/outputs/outputs/bedstat_output/bedstat_pipeline_logs/submission/BEDBOSS_bedbase_demo_db5.sub\n",
      "Compute node: bnt4me-Precision-5560\n",
      "Start time: 2023-08-14 09:27:38\n",
      "Using default config. No config found in env var: PIPESTAT_CONFIG\n",
      "Config: None.\n",
      "No schema supplied.\n",
      "Initialize FileBackend\n",
      "Warning: You're running an interactive python session. This works, but pypiper cannot tee the output, so results are only logged to screen.\n",
      "### Pipeline run code and environment:\n",
      "\n",
      "*              Command:  `/home/bnt4me/virginia/venv/jupyter/bin/bedboss all --sample-name bedbase_demo_db5 --input-file /home/bnt4me/virginia/repos/bedbase_all/bedbase/docs_jupyter/bedbase_tutorial/files/GSE91663_ENCFF316ASR_peaks_GRCh38.bed.gz --input-type bed --genome hg38 --sample-yaml /home/bnt4me/virginia/repos/bedbase_all/bedbase/docs_jupyter/bedbase_tutorial/outputs/outputs/bedstat_output/bedstat_pipeline_logs/submission/bedbase_demo_db5_sample.yaml --output_folder /home/bnt4me/virginia/repos/bedbase_all/bedbase/docs_jupyter/bedbase_tutorial/outputs --narrowpeak True --rfg-config genome_config.yaml --bedbase-config /home/bnt4me/virginia/repos/bedbase_all/bedbase/docs_jupyter/bedbase_tutorial/bedbase/tutorial_files/bedboss/config_db_local.yaml --outfolder /home/bnt4me/virginia/repos/bedbase_all/bedbase/docs_jupyter/bedbase_tutorial/outputs/outputs/bedstat_output/bedstat_pipeline_logs`\n"
     ]
    },
    {
     "name": "stdout",
     "output_type": "stream",
     "text": [
      "*         Compute host:  bnt4me-Precision-5560\n",
      "*          Working dir:  /home/bnt4me/virginia/repos/bedbase_all/bedbase/docs_jupyter/bedbase_tutorial\n",
      "*            Outfolder:  /home/bnt4me/virginia/repos/bedbase_all/bedbase/docs_jupyter/bedbase_tutorial/outputs/outputs/bedstat_output/bedstat_pipeline_logs/\n",
      "*  Pipeline started at:   (08-14 09:27:38) elapsed: 0.0 _TIME_\n",
      "\n",
      "### Version log:\n",
      "\n",
      "*       Python version:  3.10.12\n",
      "*          Pypiper dir:  `/home/bnt4me/virginia/venv/jupyter/lib/python3.10/site-packages/pypiper`\n",
      "*      Pypiper version:  0.13.2\n",
      "*         Pipeline dir:  `/home/bnt4me/virginia/venv/jupyter/bin`\n",
      "*     Pipeline version:  0.1.0a2\n",
      "\n",
      "### Arguments passed to pipeline:\n",
      "\n",
      "\n",
      "### Initialized Pipestat Object:\n",
      "\n",
      "* PipestatManager (bedboss-pipeline)\n",
      "* Backend: File\n",
      "*  - results: /home/bnt4me/virginia/repos/bedbase_all/bedbase/docs_jupyter/bedbase_tutorial/outputs/outputs/bedstat_output/bedstat_pipeline_logs/stats.yaml\n",
      "*  - status: /home/bnt4me/virginia/repos/bedbase_all/bedbase/docs_jupyter/bedbase_tutorial/outputs/outputs/bedstat_output/bedstat_pipeline_logs\n",
      "* Multiple Pipelines Allowed: True\n",
      "* Pipeline name: bedboss-pipeline\n",
      "* Pipeline type: sample\n",
      "* Status Schema key: None\n",
      "* Results formatter: default_formatter\n",
      "* Results schema source: None\n",
      "* Status schema source: None\n",
      "* Records count: 2\n",
      "* Sample name: DEFAULT_SAMPLE_NAME\n",
      "\n",
      "\n",
      "----------------------------------------\n",
      "\n",
      "Unused arguments: {'command': 'all', 'silent': False, 'verbosity': None, 'logdev': False}\n",
      "Getting Open Signal Matrix file path...\n",
      "output_bed = /home/bnt4me/virginia/repos/bedbase_all/bedbase/docs_jupyter/bedbase_tutorial/outputs/outputs/bedstat_output/bedstat_pipeline_logs/bed_files/GSE91663_ENCFF316ASR_peaks_GRCh38.bed.gz\n",
      "output_bigbed = /home/bnt4me/virginia/repos/bedbase_all/bedbase/docs_jupyter/bedbase_tutorial/outputs/outputs/bedstat_output/bedstat_pipeline_logs/bigbed_files\n",
      "Got input type: bed\n",
      "Converting /home/bnt4me/virginia/repos/bedbase_all/bedbase/docs_jupyter/bedbase_tutorial/files/GSE91663_ENCFF316ASR_peaks_GRCh38.bed.gz to BED format.\n",
      "Target exists: `/home/bnt4me/virginia/repos/bedbase_all/bedbase/docs_jupyter/bedbase_tutorial/outputs/outputs/bedstat_output/bedstat_pipeline_logs/bed_files/GSE91663_ENCFF316ASR_peaks_GRCh38.bed.gz`  \n",
      "Running bedqc...\n",
      "Unused arguments: {}\n",
      "Target to produce: `/home/bnt4me/virginia/repos/bedbase_all/bedbase/docs_jupyter/bedbase_tutorial/outputs/outputs/bedstat_output/bedstat_pipeline_logs/bed_files/bedmaker_logs/bedbase_demo_db5/ix1s2r3k`  \n",
      "\n",
      "> `zcat /home/bnt4me/virginia/repos/bedbase_all/bedbase/docs_jupyter/bedbase_tutorial/outputs/outputs/bedstat_output/bedstat_pipeline_logs/bed_files/GSE91663_ENCFF316ASR_peaks_GRCh38.bed.gz > /home/bnt4me/virginia/repos/bedbase_all/bedbase/docs_jupyter/bedbase_tutorial/outputs/outputs/bedstat_output/bedstat_pipeline_logs/bed_files/bedmaker_logs/bedbase_demo_db5/ix1s2r3k` (24435)\n",
      "<pre>\n",
      "</pre>\n",
      "Command completed. Elapsed time: 0:00:00. Running peak memory: 0.003GB.  \n",
      "  PID: 24435;\tCommand: zcat;\tReturn code: 0;\tMemory used: 0.003GB\n",
      "\n",
      "\n",
      "> `bash /home/bnt4me/virginia/venv/jupyter/lib/python3.10/site-packages/bedboss/bedqc/est_line.sh /home/bnt4me/virginia/repos/bedbase_all/bedbase/docs_jupyter/bedbase_tutorial/outputs/outputs/bedstat_output/bedstat_pipeline_logs/bed_files/bedmaker_logs/bedbase_demo_db5/ix1s2r3k `\n",
      "File (/home/bnt4me/virginia/repos/bedbase_all/bedbase/docs_jupyter/bedbase_tutorial/outputs/outputs/bedstat_output/bedstat_pipeline_logs/bed_files/bedmaker_logs/bedbase_demo_db5/ix1s2r3k) has passed Quality Control!\n",
      "Generating bigBed files for: /home/bnt4me/virginia/repos/bedbase_all/bedbase/docs_jupyter/bedbase_tutorial/files/GSE91663_ENCFF316ASR_peaks_GRCh38.bed.gz\n",
      "Determining path to chrom.sizes asset via Refgenie.\n",
      "Reading refgenie genome configuration file from file: /home/bnt4me/virginia/repos/bedbase_all/bedbase/docs_jupyter/bedbase_tutorial/genome_config.yaml\n",
      "/home/bnt4me/virginia/repos/bedbase_all/bedbase/docs_jupyter/bedbase_tutorial/alias/hg38/fasta/default/hg38.chrom.sizes\n",
      "Determined path to chrom.sizes asset: /home/bnt4me/virginia/repos/bedbase_all/bedbase/docs_jupyter/bedbase_tutorial/alias/hg38/fasta/default/hg38.chrom.sizes\n",
      "Config: /home/bnt4me/virginia/repos/bedbase_all/bedbase/docs_jupyter/bedbase_tutorial/bedbase/tutorial_files/bedboss/config_db_local.yaml.\n",
      "Initialize DBBackend\n",
      "/home/bnt4me/virginia/venv/jupyter/lib/python3.10/site-packages/pipestat/parsed_schema.py:284: RuntimeWarning: fields may not start with an underscore, ignoring \"_pipeline_name\"\n",
      "  return create_model(\n",
      "Traceback (most recent call last):\n",
      "  File \"/home/bnt4me/virginia/venv/jupyter/lib/python3.10/site-packages/pipestat/backends/dbbackend.py\", line 689, in _engine\n",
      "Using default schema: /home/bnt4me/virginia/venv/jupyter/bin/pipestat_output_schema.yaml\n",
      "    return self.db_engine_key\n",
      "AttributeError: 'DBBackend' object has no attribute 'db_engine_key'\n",
      "\n",
      "During handling of the above exception, another exception occurred:\n",
      "\n",
      "Traceback (most recent call last):\n",
      "  File \"/home/bnt4me/virginia/venv/jupyter/bin/bedboss\", line 8, in <module>\n",
      "    sys.exit(main())\n",
      "  File \"/home/bnt4me/virginia/venv/jupyter/lib/python3.10/site-packages/bedboss/bedboss.py\", line 180, in main\n",
      "    run_all(pm=pm, **args_dict)\n",
      "  File \"/home/bnt4me/virginia/venv/jupyter/lib/python3.10/site-packages/bedboss/bedboss.py\", line 138, in run_all\n",
      "    bedstat(\n",
      "  File \"/home/bnt4me/virginia/venv/jupyter/lib/python3.10/site-packages/bedboss/bedstat/bedstat.py\", line 103, in bedstat\n",
      "    bbc = bbconf.BedBaseConf(config_path=bedbase_config, database_only=True)\n",
      "  File \"/home/bnt4me/virginia/venv/jupyter/lib/python3.10/site-packages/bbconf/bbconf.py\", line 72, in __init__\n",
      "    BED_TABLE: pipestat.PipestatManager(\n",
      "  File \"/home/bnt4me/virginia/venv/jupyter/lib/python3.10/site-packages/pipestat/pipestat.py\", line 161, in __init__\n",
      "    self.backend = DBBackend(\n",
      "  File \"/home/bnt4me/virginia/venv/jupyter/lib/python3.10/site-packages/pipestat/backends/dbbackend.py\", line 63, in __init__\n",
      "    SQLModel.metadata.create_all(self._engine)\n",
      "  File \"/home/bnt4me/virginia/venv/jupyter/lib/python3.10/site-packages/pipestat/backends/dbbackend.py\", line 694, in _engine\n",
      "    self.db_engine_key = create_engine(self.db_url, echo=self.show_db_logs)\n",
      "  File \"/home/bnt4me/virginia/venv/jupyter/lib/python3.10/site-packages/sqlmodel/engine/create.py\", line 139, in create_engine\n",
      "    return _create_engine(url, **current_kwargs)  # type: ignore\n",
      "  File \"<string>\", line 2, in create_engine\n",
      "  File \"/home/bnt4me/virginia/venv/jupyter/lib/python3.10/site-packages/sqlalchemy/util/deprecations.py\", line 309, in warned\n",
      "    return fn(*args, **kwargs)\n",
      "  File \"/home/bnt4me/virginia/venv/jupyter/lib/python3.10/site-packages/sqlalchemy/engine/create.py\", line 518, in create_engine\n",
      "    u = _url.make_url(url)\n",
      "  File \"/home/bnt4me/virginia/venv/jupyter/lib/python3.10/site-packages/sqlalchemy/engine/url.py\", line 725, in make_url\n",
      "    return _parse_rfc1738_args(name_or_url)\n",
      "  File \"/home/bnt4me/virginia/venv/jupyter/lib/python3.10/site-packages/sqlalchemy/engine/url.py\", line 781, in _parse_rfc1738_args\n",
      "    components[\"port\"] = int(components[\"port\"])\n",
      "ValueError: invalid literal for int() with base 10: '%24POSTGRES_PORT'\n",
      "Starting cleanup: 1 files; 0 conditional files for cleanup\n",
      "\n",
      "Cleaning up flagged intermediate files. . .\n",
      "\n",
      "### Pipeline failed at:  (08-14 09:27:39) elapsed: 0.0 _TIME_\n",
      "\n",
      "Total time: 0:00:00\n",
      "Failure reason: Pipeline failure. See details above.\n",
      "Exception ignored in atexit callback: <bound method PipelineManager._exit_handler of <pypiper.manager.PipelineManager object at 0x7f23282d3f70>>\n",
      "Traceback (most recent call last):\n",
      "  File \"/home/bnt4me/virginia/venv/jupyter/lib/python3.10/site-packages/pypiper/manager.py\", line 2191, in _exit_handler\n",
      "    self.fail_pipeline(Exception(\"Pipeline failure. See details above.\"))\n",
      "  File \"/home/bnt4me/virginia/venv/jupyter/lib/python3.10/site-packages/pypiper/manager.py\", line 2036, in fail_pipeline\n",
      "    raise exc\n",
      "Exception: Pipeline failure. See details above.\n",
      "\u001b[36m## [6 of 11] sample: bedbase_demo_db6; pipeline: BEDBOSS\u001b[0m\n",
      "Calling pre-submit function: looper.write_sample_yaml\n",
      "Writing script to /home/bnt4me/virginia/repos/bedbase_all/bedbase/docs_jupyter/bedbase_tutorial/outputs/outputs/bedstat_output/bedstat_pipeline_logs/submission/BEDBOSS_bedbase_demo_db6.sub\n"
     ]
    },
    {
     "name": "stdout",
     "output_type": "stream",
     "text": [
      "Job script (n=1; 0.00Gb): /home/bnt4me/virginia/repos/bedbase_all/bedbase/docs_jupyter/bedbase_tutorial/outputs/outputs/bedstat_output/bedstat_pipeline_logs/submission/BEDBOSS_bedbase_demo_db6.sub\n",
      "Compute node: bnt4me-Precision-5560\n",
      "Start time: 2023-08-14 09:27:39\n",
      "Using default config. No config found in env var: PIPESTAT_CONFIG\n",
      "Config: None.\n",
      "No schema supplied.\n",
      "Initialize FileBackend\n",
      "Warning: You're running an interactive python session. This works, but pypiper cannot tee the output, so results are only logged to screen.\n",
      "### Pipeline run code and environment:\n",
      "\n",
      "*              Command:  `/home/bnt4me/virginia/venv/jupyter/bin/bedboss all --sample-name bedbase_demo_db6 --input-file /home/bnt4me/virginia/repos/bedbase_all/bedbase/docs_jupyter/bedbase_tutorial/files/GSE91663_ENCFF319TPR_conservative_idr_thresholded_peaks_GRCh38.bed.gz --input-type bed --genome hg38 --sample-yaml /home/bnt4me/virginia/repos/bedbase_all/bedbase/docs_jupyter/bedbase_tutorial/outputs/outputs/bedstat_output/bedstat_pipeline_logs/submission/bedbase_demo_db6_sample.yaml --output_folder /home/bnt4me/virginia/repos/bedbase_all/bedbase/docs_jupyter/bedbase_tutorial/outputs --narrowpeak True --rfg-config genome_config.yaml --bedbase-config /home/bnt4me/virginia/repos/bedbase_all/bedbase/docs_jupyter/bedbase_tutorial/bedbase/tutorial_files/bedboss/config_db_local.yaml --outfolder /home/bnt4me/virginia/repos/bedbase_all/bedbase/docs_jupyter/bedbase_tutorial/outputs/outputs/bedstat_output/bedstat_pipeline_logs`\n",
      "*         Compute host:  bnt4me-Precision-5560\n",
      "*          Working dir:  /home/bnt4me/virginia/repos/bedbase_all/bedbase/docs_jupyter/bedbase_tutorial\n",
      "*            Outfolder:  /home/bnt4me/virginia/repos/bedbase_all/bedbase/docs_jupyter/bedbase_tutorial/outputs/outputs/bedstat_output/bedstat_pipeline_logs/\n",
      "*  Pipeline started at:   (08-14 09:27:40) elapsed: 0.0 _TIME_\n",
      "\n",
      "### Version log:\n",
      "\n",
      "*       Python version:  3.10.12\n",
      "*          Pypiper dir:  `/home/bnt4me/virginia/venv/jupyter/lib/python3.10/site-packages/pypiper`\n",
      "*      Pypiper version:  0.13.2\n",
      "*         Pipeline dir:  `/home/bnt4me/virginia/venv/jupyter/bin`\n",
      "*     Pipeline version:  0.1.0a2\n",
      "\n",
      "### Arguments passed to pipeline:\n",
      "\n",
      "\n",
      "### Initialized Pipestat Object:\n",
      "\n",
      "* PipestatManager (bedboss-pipeline)\n",
      "* Backend: File\n",
      "*  - results: /home/bnt4me/virginia/repos/bedbase_all/bedbase/docs_jupyter/bedbase_tutorial/outputs/outputs/bedstat_output/bedstat_pipeline_logs/stats.yaml\n",
      "*  - status: /home/bnt4me/virginia/repos/bedbase_all/bedbase/docs_jupyter/bedbase_tutorial/outputs/outputs/bedstat_output/bedstat_pipeline_logs\n",
      "* Multiple Pipelines Allowed: True\n",
      "* Pipeline name: bedboss-pipeline\n",
      "* Pipeline type: sample\n",
      "* Status Schema key: None\n",
      "* Results formatter: default_formatter\n",
      "* Results schema source: None\n",
      "* Status schema source: None\n",
      "* Records count: 2\n",
      "* Sample name: DEFAULT_SAMPLE_NAME\n",
      "\n",
      "\n",
      "----------------------------------------\n",
      "\n",
      "Unused arguments: {'command': 'all', 'silent': False, 'verbosity': None, 'logdev': False}\n",
      "Getting Open Signal Matrix file path...\n",
      "output_bed = /home/bnt4me/virginia/repos/bedbase_all/bedbase/docs_jupyter/bedbase_tutorial/outputs/outputs/bedstat_output/bedstat_pipeline_logs/bed_files/GSE91663_ENCFF319TPR_conservative_idr_thresholded_peaks_GRCh38.bed.gz\n",
      "output_bigbed = /home/bnt4me/virginia/repos/bedbase_all/bedbase/docs_jupyter/bedbase_tutorial/outputs/outputs/bedstat_output/bedstat_pipeline_logs/bigbed_files\n",
      "Got input type: bed\n",
      "Converting /home/bnt4me/virginia/repos/bedbase_all/bedbase/docs_jupyter/bedbase_tutorial/files/GSE91663_ENCFF319TPR_conservative_idr_thresholded_peaks_GRCh38.bed.gz to BED format.\n",
      "Target exists: `/home/bnt4me/virginia/repos/bedbase_all/bedbase/docs_jupyter/bedbase_tutorial/outputs/outputs/bedstat_output/bedstat_pipeline_logs/bed_files/GSE91663_ENCFF319TPR_conservative_idr_thresholded_peaks_GRCh38.bed.gz`  \n",
      "Running bedqc...\n",
      "Unused arguments: {}\n",
      "Target to produce: `/home/bnt4me/virginia/repos/bedbase_all/bedbase/docs_jupyter/bedbase_tutorial/outputs/outputs/bedstat_output/bedstat_pipeline_logs/bed_files/bedmaker_logs/bedbase_demo_db6/jrhj1l5n`  \n",
      "\n",
      "> `zcat /home/bnt4me/virginia/repos/bedbase_all/bedbase/docs_jupyter/bedbase_tutorial/outputs/outputs/bedstat_output/bedstat_pipeline_logs/bed_files/GSE91663_ENCFF319TPR_conservative_idr_thresholded_peaks_GRCh38.bed.gz > /home/bnt4me/virginia/repos/bedbase_all/bedbase/docs_jupyter/bedbase_tutorial/outputs/outputs/bedstat_output/bedstat_pipeline_logs/bed_files/bedmaker_logs/bedbase_demo_db6/jrhj1l5n` (24466)\n",
      "<pre>\n",
      "</pre>\n",
      "Command completed. Elapsed time: 0:00:00. Running peak memory: 0.003GB.  \n",
      "  PID: 24466;\tCommand: zcat;\tReturn code: 0;\tMemory used: 0.003GB\n",
      "\n",
      "\n",
      "> `bash /home/bnt4me/virginia/venv/jupyter/lib/python3.10/site-packages/bedboss/bedqc/est_line.sh /home/bnt4me/virginia/repos/bedbase_all/bedbase/docs_jupyter/bedbase_tutorial/outputs/outputs/bedstat_output/bedstat_pipeline_logs/bed_files/bedmaker_logs/bedbase_demo_db6/jrhj1l5n `\n",
      "File (/home/bnt4me/virginia/repos/bedbase_all/bedbase/docs_jupyter/bedbase_tutorial/outputs/outputs/bedstat_output/bedstat_pipeline_logs/bed_files/bedmaker_logs/bedbase_demo_db6/jrhj1l5n) has passed Quality Control!\n",
      "Generating bigBed files for: /home/bnt4me/virginia/repos/bedbase_all/bedbase/docs_jupyter/bedbase_tutorial/files/GSE91663_ENCFF319TPR_conservative_idr_thresholded_peaks_GRCh38.bed.gz\n",
      "Determining path to chrom.sizes asset via Refgenie.\n",
      "Reading refgenie genome configuration file from file: /home/bnt4me/virginia/repos/bedbase_all/bedbase/docs_jupyter/bedbase_tutorial/genome_config.yaml\n",
      "/home/bnt4me/virginia/repos/bedbase_all/bedbase/docs_jupyter/bedbase_tutorial/alias/hg38/fasta/default/hg38.chrom.sizes\n",
      "Determined path to chrom.sizes asset: /home/bnt4me/virginia/repos/bedbase_all/bedbase/docs_jupyter/bedbase_tutorial/alias/hg38/fasta/default/hg38.chrom.sizes\n",
      "Config: /home/bnt4me/virginia/repos/bedbase_all/bedbase/docs_jupyter/bedbase_tutorial/bedbase/tutorial_files/bedboss/config_db_local.yaml.\n",
      "Initialize DBBackend\n",
      "/home/bnt4me/virginia/venv/jupyter/lib/python3.10/site-packages/pipestat/parsed_schema.py:284: RuntimeWarning: fields may not start with an underscore, ignoring \"_pipeline_name\"\n",
      "  return create_model(\n",
      "Traceback (most recent call last):\n",
      "  File \"/home/bnt4me/virginia/venv/jupyter/lib/python3.10/site-packages/pipestat/backends/dbbackend.py\", line 689, in _engine\n",
      "Using default schema: /home/bnt4me/virginia/venv/jupyter/bin/pipestat_output_schema.yaml\n",
      "    return self.db_engine_key\n",
      "AttributeError: 'DBBackend' object has no attribute 'db_engine_key'\n",
      "\n",
      "During handling of the above exception, another exception occurred:\n",
      "\n",
      "Traceback (most recent call last):\n",
      "  File \"/home/bnt4me/virginia/venv/jupyter/bin/bedboss\", line 8, in <module>\n",
      "    sys.exit(main())\n",
      "  File \"/home/bnt4me/virginia/venv/jupyter/lib/python3.10/site-packages/bedboss/bedboss.py\", line 180, in main\n",
      "    run_all(pm=pm, **args_dict)\n",
      "  File \"/home/bnt4me/virginia/venv/jupyter/lib/python3.10/site-packages/bedboss/bedboss.py\", line 138, in run_all\n",
      "    bedstat(\n",
      "  File \"/home/bnt4me/virginia/venv/jupyter/lib/python3.10/site-packages/bedboss/bedstat/bedstat.py\", line 103, in bedstat\n",
      "    bbc = bbconf.BedBaseConf(config_path=bedbase_config, database_only=True)\n",
      "  File \"/home/bnt4me/virginia/venv/jupyter/lib/python3.10/site-packages/bbconf/bbconf.py\", line 72, in __init__\n",
      "    BED_TABLE: pipestat.PipestatManager(\n",
      "  File \"/home/bnt4me/virginia/venv/jupyter/lib/python3.10/site-packages/pipestat/pipestat.py\", line 161, in __init__\n",
      "    self.backend = DBBackend(\n",
      "  File \"/home/bnt4me/virginia/venv/jupyter/lib/python3.10/site-packages/pipestat/backends/dbbackend.py\", line 63, in __init__\n",
      "    SQLModel.metadata.create_all(self._engine)\n",
      "  File \"/home/bnt4me/virginia/venv/jupyter/lib/python3.10/site-packages/pipestat/backends/dbbackend.py\", line 694, in _engine\n",
      "    self.db_engine_key = create_engine(self.db_url, echo=self.show_db_logs)\n",
      "  File \"/home/bnt4me/virginia/venv/jupyter/lib/python3.10/site-packages/sqlmodel/engine/create.py\", line 139, in create_engine\n",
      "    return _create_engine(url, **current_kwargs)  # type: ignore\n",
      "  File \"<string>\", line 2, in create_engine\n",
      "  File \"/home/bnt4me/virginia/venv/jupyter/lib/python3.10/site-packages/sqlalchemy/util/deprecations.py\", line 309, in warned\n"
     ]
    },
    {
     "name": "stdout",
     "output_type": "stream",
     "text": [
      "    return fn(*args, **kwargs)\n",
      "  File \"/home/bnt4me/virginia/venv/jupyter/lib/python3.10/site-packages/sqlalchemy/engine/create.py\", line 518, in create_engine\n",
      "    u = _url.make_url(url)\n",
      "  File \"/home/bnt4me/virginia/venv/jupyter/lib/python3.10/site-packages/sqlalchemy/engine/url.py\", line 725, in make_url\n",
      "    return _parse_rfc1738_args(name_or_url)\n",
      "  File \"/home/bnt4me/virginia/venv/jupyter/lib/python3.10/site-packages/sqlalchemy/engine/url.py\", line 781, in _parse_rfc1738_args\n",
      "    components[\"port\"] = int(components[\"port\"])\n",
      "ValueError: invalid literal for int() with base 10: '%24POSTGRES_PORT'\n",
      "Starting cleanup: 1 files; 0 conditional files for cleanup\n",
      "\n",
      "Cleaning up flagged intermediate files. . .\n",
      "\n",
      "### Pipeline failed at:  (08-14 09:27:40) elapsed: 0.0 _TIME_\n",
      "\n",
      "Total time: 0:00:00\n",
      "Failure reason: Pipeline failure. See details above.\n",
      "Exception ignored in atexit callback: <bound method PipelineManager._exit_handler of <pypiper.manager.PipelineManager object at 0x7f697ae982b0>>\n",
      "Traceback (most recent call last):\n",
      "  File \"/home/bnt4me/virginia/venv/jupyter/lib/python3.10/site-packages/pypiper/manager.py\", line 2191, in _exit_handler\n",
      "    self.fail_pipeline(Exception(\"Pipeline failure. See details above.\"))\n",
      "  File \"/home/bnt4me/virginia/venv/jupyter/lib/python3.10/site-packages/pypiper/manager.py\", line 2036, in fail_pipeline\n",
      "    raise exc\n",
      "Exception: Pipeline failure. See details above.\n",
      "\u001b[36m## [7 of 11] sample: bedbase_demo_db7; pipeline: BEDBOSS\u001b[0m\n",
      "Calling pre-submit function: looper.write_sample_yaml\n",
      "Writing script to /home/bnt4me/virginia/repos/bedbase_all/bedbase/docs_jupyter/bedbase_tutorial/outputs/outputs/bedstat_output/bedstat_pipeline_logs/submission/BEDBOSS_bedbase_demo_db7.sub\n",
      "Job script (n=1; 0.00Gb): /home/bnt4me/virginia/repos/bedbase_all/bedbase/docs_jupyter/bedbase_tutorial/outputs/outputs/bedstat_output/bedstat_pipeline_logs/submission/BEDBOSS_bedbase_demo_db7.sub\n",
      "Compute node: bnt4me-Precision-5560\n",
      "Start time: 2023-08-14 09:27:40\n",
      "Using default config. No config found in env var: PIPESTAT_CONFIG\n",
      "Config: None.\n",
      "No schema supplied.\n",
      "Initialize FileBackend\n",
      "Warning: You're running an interactive python session. This works, but pypiper cannot tee the output, so results are only logged to screen.\n",
      "### Pipeline run code and environment:\n",
      "\n",
      "*              Command:  `/home/bnt4me/virginia/venv/jupyter/bin/bedboss all --sample-name bedbase_demo_db7 --input-file /home/bnt4me/virginia/repos/bedbase_all/bedbase/docs_jupyter/bedbase_tutorial/files/GSE91663_ENCFF553KIK_optimal_idr_thresholded_peaks_GRCh38.bed.gz --input-type bed --genome hg38 --sample-yaml /home/bnt4me/virginia/repos/bedbase_all/bedbase/docs_jupyter/bedbase_tutorial/outputs/outputs/bedstat_output/bedstat_pipeline_logs/submission/bedbase_demo_db7_sample.yaml --output_folder /home/bnt4me/virginia/repos/bedbase_all/bedbase/docs_jupyter/bedbase_tutorial/outputs --narrowpeak True --rfg-config genome_config.yaml --bedbase-config /home/bnt4me/virginia/repos/bedbase_all/bedbase/docs_jupyter/bedbase_tutorial/bedbase/tutorial_files/bedboss/config_db_local.yaml --outfolder /home/bnt4me/virginia/repos/bedbase_all/bedbase/docs_jupyter/bedbase_tutorial/outputs/outputs/bedstat_output/bedstat_pipeline_logs`\n",
      "*         Compute host:  bnt4me-Precision-5560\n",
      "*          Working dir:  /home/bnt4me/virginia/repos/bedbase_all/bedbase/docs_jupyter/bedbase_tutorial\n",
      "*            Outfolder:  /home/bnt4me/virginia/repos/bedbase_all/bedbase/docs_jupyter/bedbase_tutorial/outputs/outputs/bedstat_output/bedstat_pipeline_logs/\n",
      "*  Pipeline started at:   (08-14 09:27:40) elapsed: 0.0 _TIME_\n",
      "\n",
      "### Version log:\n",
      "\n",
      "*       Python version:  3.10.12\n",
      "*          Pypiper dir:  `/home/bnt4me/virginia/venv/jupyter/lib/python3.10/site-packages/pypiper`\n",
      "*      Pypiper version:  0.13.2\n",
      "*         Pipeline dir:  `/home/bnt4me/virginia/venv/jupyter/bin`\n",
      "*     Pipeline version:  0.1.0a2\n",
      "\n",
      "### Arguments passed to pipeline:\n",
      "\n",
      "\n",
      "### Initialized Pipestat Object:\n",
      "\n",
      "* PipestatManager (bedboss-pipeline)\n",
      "* Backend: File\n",
      "*  - results: /home/bnt4me/virginia/repos/bedbase_all/bedbase/docs_jupyter/bedbase_tutorial/outputs/outputs/bedstat_output/bedstat_pipeline_logs/stats.yaml\n",
      "*  - status: /home/bnt4me/virginia/repos/bedbase_all/bedbase/docs_jupyter/bedbase_tutorial/outputs/outputs/bedstat_output/bedstat_pipeline_logs\n",
      "* Multiple Pipelines Allowed: True\n",
      "* Pipeline name: bedboss-pipeline\n",
      "* Pipeline type: sample\n",
      "* Status Schema key: None\n",
      "* Results formatter: default_formatter\n",
      "* Results schema source: None\n",
      "* Status schema source: None\n",
      "* Records count: 2\n",
      "* Sample name: DEFAULT_SAMPLE_NAME\n",
      "\n",
      "\n",
      "----------------------------------------\n",
      "\n",
      "Unused arguments: {'command': 'all', 'silent': False, 'verbosity': None, 'logdev': False}\n",
      "Getting Open Signal Matrix file path...\n",
      "output_bed = /home/bnt4me/virginia/repos/bedbase_all/bedbase/docs_jupyter/bedbase_tutorial/outputs/outputs/bedstat_output/bedstat_pipeline_logs/bed_files/GSE91663_ENCFF553KIK_optimal_idr_thresholded_peaks_GRCh38.bed.gz\n",
      "output_bigbed = /home/bnt4me/virginia/repos/bedbase_all/bedbase/docs_jupyter/bedbase_tutorial/outputs/outputs/bedstat_output/bedstat_pipeline_logs/bigbed_files\n",
      "Got input type: bed\n",
      "Converting /home/bnt4me/virginia/repos/bedbase_all/bedbase/docs_jupyter/bedbase_tutorial/files/GSE91663_ENCFF553KIK_optimal_idr_thresholded_peaks_GRCh38.bed.gz to BED format.\n",
      "Target exists: `/home/bnt4me/virginia/repos/bedbase_all/bedbase/docs_jupyter/bedbase_tutorial/outputs/outputs/bedstat_output/bedstat_pipeline_logs/bed_files/GSE91663_ENCFF553KIK_optimal_idr_thresholded_peaks_GRCh38.bed.gz`  \n",
      "Running bedqc...\n",
      "Unused arguments: {}\n",
      "Target to produce: `/home/bnt4me/virginia/repos/bedbase_all/bedbase/docs_jupyter/bedbase_tutorial/outputs/outputs/bedstat_output/bedstat_pipeline_logs/bed_files/bedmaker_logs/bedbase_demo_db7/9r0q9410`  \n",
      "\n",
      "> `zcat /home/bnt4me/virginia/repos/bedbase_all/bedbase/docs_jupyter/bedbase_tutorial/outputs/outputs/bedstat_output/bedstat_pipeline_logs/bed_files/GSE91663_ENCFF553KIK_optimal_idr_thresholded_peaks_GRCh38.bed.gz > /home/bnt4me/virginia/repos/bedbase_all/bedbase/docs_jupyter/bedbase_tutorial/outputs/outputs/bedstat_output/bedstat_pipeline_logs/bed_files/bedmaker_logs/bedbase_demo_db7/9r0q9410` (24496)\n",
      "<pre>\n",
      "</pre>\n",
      "Command completed. Elapsed time: 0:00:00. Running peak memory: 0.003GB.  \n",
      "  PID: 24496;\tCommand: zcat;\tReturn code: 0;\tMemory used: 0.003GB\n",
      "\n",
      "\n",
      "> `bash /home/bnt4me/virginia/venv/jupyter/lib/python3.10/site-packages/bedboss/bedqc/est_line.sh /home/bnt4me/virginia/repos/bedbase_all/bedbase/docs_jupyter/bedbase_tutorial/outputs/outputs/bedstat_output/bedstat_pipeline_logs/bed_files/bedmaker_logs/bedbase_demo_db7/9r0q9410 `\n",
      "File (/home/bnt4me/virginia/repos/bedbase_all/bedbase/docs_jupyter/bedbase_tutorial/outputs/outputs/bedstat_output/bedstat_pipeline_logs/bed_files/bedmaker_logs/bedbase_demo_db7/9r0q9410) has passed Quality Control!\n",
      "Generating bigBed files for: /home/bnt4me/virginia/repos/bedbase_all/bedbase/docs_jupyter/bedbase_tutorial/files/GSE91663_ENCFF553KIK_optimal_idr_thresholded_peaks_GRCh38.bed.gz\n",
      "Determining path to chrom.sizes asset via Refgenie.\n",
      "Reading refgenie genome configuration file from file: /home/bnt4me/virginia/repos/bedbase_all/bedbase/docs_jupyter/bedbase_tutorial/genome_config.yaml\n",
      "/home/bnt4me/virginia/repos/bedbase_all/bedbase/docs_jupyter/bedbase_tutorial/alias/hg38/fasta/default/hg38.chrom.sizes\n",
      "Determined path to chrom.sizes asset: /home/bnt4me/virginia/repos/bedbase_all/bedbase/docs_jupyter/bedbase_tutorial/alias/hg38/fasta/default/hg38.chrom.sizes\n",
      "Config: /home/bnt4me/virginia/repos/bedbase_all/bedbase/docs_jupyter/bedbase_tutorial/bedbase/tutorial_files/bedboss/config_db_local.yaml.\n",
      "Initialize DBBackend\n",
      "/home/bnt4me/virginia/venv/jupyter/lib/python3.10/site-packages/pipestat/parsed_schema.py:284: RuntimeWarning: fields may not start with an underscore, ignoring \"_pipeline_name\"\n",
      "  return create_model(\n",
      "Traceback (most recent call last):\n",
      "  File \"/home/bnt4me/virginia/venv/jupyter/lib/python3.10/site-packages/pipestat/backends/dbbackend.py\", line 689, in _engine\n",
      "Using default schema: /home/bnt4me/virginia/venv/jupyter/bin/pipestat_output_schema.yaml\n",
      "    return self.db_engine_key\n",
      "AttributeError: 'DBBackend' object has no attribute 'db_engine_key'\n"
     ]
    },
    {
     "name": "stdout",
     "output_type": "stream",
     "text": [
      "\n",
      "During handling of the above exception, another exception occurred:\n",
      "\n",
      "Traceback (most recent call last):\n",
      "  File \"/home/bnt4me/virginia/venv/jupyter/bin/bedboss\", line 8, in <module>\n",
      "    sys.exit(main())\n",
      "  File \"/home/bnt4me/virginia/venv/jupyter/lib/python3.10/site-packages/bedboss/bedboss.py\", line 180, in main\n",
      "    run_all(pm=pm, **args_dict)\n",
      "  File \"/home/bnt4me/virginia/venv/jupyter/lib/python3.10/site-packages/bedboss/bedboss.py\", line 138, in run_all\n",
      "    bedstat(\n",
      "  File \"/home/bnt4me/virginia/venv/jupyter/lib/python3.10/site-packages/bedboss/bedstat/bedstat.py\", line 103, in bedstat\n",
      "    bbc = bbconf.BedBaseConf(config_path=bedbase_config, database_only=True)\n",
      "  File \"/home/bnt4me/virginia/venv/jupyter/lib/python3.10/site-packages/bbconf/bbconf.py\", line 72, in __init__\n",
      "    BED_TABLE: pipestat.PipestatManager(\n",
      "  File \"/home/bnt4me/virginia/venv/jupyter/lib/python3.10/site-packages/pipestat/pipestat.py\", line 161, in __init__\n",
      "    self.backend = DBBackend(\n",
      "  File \"/home/bnt4me/virginia/venv/jupyter/lib/python3.10/site-packages/pipestat/backends/dbbackend.py\", line 63, in __init__\n",
      "    SQLModel.metadata.create_all(self._engine)\n",
      "  File \"/home/bnt4me/virginia/venv/jupyter/lib/python3.10/site-packages/pipestat/backends/dbbackend.py\", line 694, in _engine\n",
      "    self.db_engine_key = create_engine(self.db_url, echo=self.show_db_logs)\n",
      "  File \"/home/bnt4me/virginia/venv/jupyter/lib/python3.10/site-packages/sqlmodel/engine/create.py\", line 139, in create_engine\n",
      "    return _create_engine(url, **current_kwargs)  # type: ignore\n",
      "  File \"<string>\", line 2, in create_engine\n",
      "  File \"/home/bnt4me/virginia/venv/jupyter/lib/python3.10/site-packages/sqlalchemy/util/deprecations.py\", line 309, in warned\n",
      "    return fn(*args, **kwargs)\n",
      "  File \"/home/bnt4me/virginia/venv/jupyter/lib/python3.10/site-packages/sqlalchemy/engine/create.py\", line 518, in create_engine\n",
      "    u = _url.make_url(url)\n",
      "  File \"/home/bnt4me/virginia/venv/jupyter/lib/python3.10/site-packages/sqlalchemy/engine/url.py\", line 725, in make_url\n",
      "    return _parse_rfc1738_args(name_or_url)\n",
      "  File \"/home/bnt4me/virginia/venv/jupyter/lib/python3.10/site-packages/sqlalchemy/engine/url.py\", line 781, in _parse_rfc1738_args\n",
      "    components[\"port\"] = int(components[\"port\"])\n",
      "ValueError: invalid literal for int() with base 10: '%24POSTGRES_PORT'\n",
      "Starting cleanup: 1 files; 0 conditional files for cleanup\n",
      "\n",
      "Cleaning up flagged intermediate files. . .\n",
      "\n",
      "### Pipeline failed at:  (08-14 09:27:40) elapsed: 0.0 _TIME_\n",
      "\n",
      "Total time: 0:00:00\n",
      "Failure reason: Pipeline failure. See details above.\n",
      "Exception ignored in atexit callback: <bound method PipelineManager._exit_handler of <pypiper.manager.PipelineManager object at 0x7f244a7082b0>>\n",
      "Traceback (most recent call last):\n",
      "  File \"/home/bnt4me/virginia/venv/jupyter/lib/python3.10/site-packages/pypiper/manager.py\", line 2191, in _exit_handler\n",
      "    self.fail_pipeline(Exception(\"Pipeline failure. See details above.\"))\n",
      "  File \"/home/bnt4me/virginia/venv/jupyter/lib/python3.10/site-packages/pypiper/manager.py\", line 2036, in fail_pipeline\n",
      "    raise exc\n",
      "Exception: Pipeline failure. See details above.\n",
      "\u001b[36m## [8 of 11] sample: bedbase_demo_db8; pipeline: BEDBOSS\u001b[0m\n",
      "Calling pre-submit function: looper.write_sample_yaml\n",
      "Writing script to /home/bnt4me/virginia/repos/bedbase_all/bedbase/docs_jupyter/bedbase_tutorial/outputs/outputs/bedstat_output/bedstat_pipeline_logs/submission/BEDBOSS_bedbase_demo_db8.sub\n",
      "Job script (n=1; 0.00Gb): /home/bnt4me/virginia/repos/bedbase_all/bedbase/docs_jupyter/bedbase_tutorial/outputs/outputs/bedstat_output/bedstat_pipeline_logs/submission/BEDBOSS_bedbase_demo_db8.sub\n",
      "Compute node: bnt4me-Precision-5560\n",
      "Start time: 2023-08-14 09:27:40\n",
      "Using default config. No config found in env var: PIPESTAT_CONFIG\n",
      "Config: None.\n",
      "No schema supplied.\n",
      "Initialize FileBackend\n",
      "Warning: You're running an interactive python session. This works, but pypiper cannot tee the output, so results are only logged to screen.\n",
      "### Pipeline run code and environment:\n",
      "\n",
      "*              Command:  `/home/bnt4me/virginia/venv/jupyter/bin/bedboss all --sample-name bedbase_demo_db8 --input-file /home/bnt4me/virginia/repos/bedbase_all/bedbase/docs_jupyter/bedbase_tutorial/files/GSM2423312_ENCFF155HVK_peaks_GRCh38.bed.gz --input-type bed --genome hg38 --sample-yaml /home/bnt4me/virginia/repos/bedbase_all/bedbase/docs_jupyter/bedbase_tutorial/outputs/outputs/bedstat_output/bedstat_pipeline_logs/submission/bedbase_demo_db8_sample.yaml --output_folder /home/bnt4me/virginia/repos/bedbase_all/bedbase/docs_jupyter/bedbase_tutorial/outputs --narrowpeak True --rfg-config genome_config.yaml --bedbase-config /home/bnt4me/virginia/repos/bedbase_all/bedbase/docs_jupyter/bedbase_tutorial/bedbase/tutorial_files/bedboss/config_db_local.yaml --outfolder /home/bnt4me/virginia/repos/bedbase_all/bedbase/docs_jupyter/bedbase_tutorial/outputs/outputs/bedstat_output/bedstat_pipeline_logs`\n",
      "*         Compute host:  bnt4me-Precision-5560\n",
      "*          Working dir:  /home/bnt4me/virginia/repos/bedbase_all/bedbase/docs_jupyter/bedbase_tutorial\n",
      "*            Outfolder:  /home/bnt4me/virginia/repos/bedbase_all/bedbase/docs_jupyter/bedbase_tutorial/outputs/outputs/bedstat_output/bedstat_pipeline_logs/\n",
      "*  Pipeline started at:   (08-14 09:27:41) elapsed: 0.0 _TIME_\n",
      "\n",
      "### Version log:\n",
      "\n",
      "*       Python version:  3.10.12\n",
      "*          Pypiper dir:  `/home/bnt4me/virginia/venv/jupyter/lib/python3.10/site-packages/pypiper`\n",
      "*      Pypiper version:  0.13.2\n",
      "*         Pipeline dir:  `/home/bnt4me/virginia/venv/jupyter/bin`\n",
      "*     Pipeline version:  0.1.0a2\n",
      "\n",
      "### Arguments passed to pipeline:\n",
      "\n",
      "\n",
      "### Initialized Pipestat Object:\n",
      "\n",
      "* PipestatManager (bedboss-pipeline)\n",
      "* Backend: File\n",
      "*  - results: /home/bnt4me/virginia/repos/bedbase_all/bedbase/docs_jupyter/bedbase_tutorial/outputs/outputs/bedstat_output/bedstat_pipeline_logs/stats.yaml\n",
      "*  - status: /home/bnt4me/virginia/repos/bedbase_all/bedbase/docs_jupyter/bedbase_tutorial/outputs/outputs/bedstat_output/bedstat_pipeline_logs\n",
      "* Multiple Pipelines Allowed: True\n",
      "* Pipeline name: bedboss-pipeline\n",
      "* Pipeline type: sample\n",
      "* Status Schema key: None\n",
      "* Results formatter: default_formatter\n",
      "* Results schema source: None\n",
      "* Status schema source: None\n",
      "* Records count: 2\n",
      "* Sample name: DEFAULT_SAMPLE_NAME\n",
      "\n",
      "\n",
      "----------------------------------------\n",
      "\n",
      "Unused arguments: {'command': 'all', 'silent': False, 'verbosity': None, 'logdev': False}\n",
      "Getting Open Signal Matrix file path...\n",
      "output_bed = /home/bnt4me/virginia/repos/bedbase_all/bedbase/docs_jupyter/bedbase_tutorial/outputs/outputs/bedstat_output/bedstat_pipeline_logs/bed_files/GSM2423312_ENCFF155HVK_peaks_GRCh38.bed.gz\n",
      "output_bigbed = /home/bnt4me/virginia/repos/bedbase_all/bedbase/docs_jupyter/bedbase_tutorial/outputs/outputs/bedstat_output/bedstat_pipeline_logs/bigbed_files\n",
      "Got input type: bed\n",
      "Converting /home/bnt4me/virginia/repos/bedbase_all/bedbase/docs_jupyter/bedbase_tutorial/files/GSM2423312_ENCFF155HVK_peaks_GRCh38.bed.gz to BED format.\n",
      "Target exists: `/home/bnt4me/virginia/repos/bedbase_all/bedbase/docs_jupyter/bedbase_tutorial/outputs/outputs/bedstat_output/bedstat_pipeline_logs/bed_files/GSM2423312_ENCFF155HVK_peaks_GRCh38.bed.gz`  \n",
      "Running bedqc...\n",
      "Unused arguments: {}\n",
      "Target to produce: `/home/bnt4me/virginia/repos/bedbase_all/bedbase/docs_jupyter/bedbase_tutorial/outputs/outputs/bedstat_output/bedstat_pipeline_logs/bed_files/bedmaker_logs/bedbase_demo_db8/ny2pxb01`  \n",
      "\n",
      "> `zcat /home/bnt4me/virginia/repos/bedbase_all/bedbase/docs_jupyter/bedbase_tutorial/outputs/outputs/bedstat_output/bedstat_pipeline_logs/bed_files/GSM2423312_ENCFF155HVK_peaks_GRCh38.bed.gz > /home/bnt4me/virginia/repos/bedbase_all/bedbase/docs_jupyter/bedbase_tutorial/outputs/outputs/bedstat_output/bedstat_pipeline_logs/bed_files/bedmaker_logs/bedbase_demo_db8/ny2pxb01` (24527)\n",
      "<pre>\n",
      "</pre>\n",
      "Command completed. Elapsed time: 0:00:00. Running peak memory: 0.003GB.  \n",
      "  PID: 24527;\tCommand: zcat;\tReturn code: 0;\tMemory used: 0.003GB\n",
      "\n",
      "\n",
      "> `bash /home/bnt4me/virginia/venv/jupyter/lib/python3.10/site-packages/bedboss/bedqc/est_line.sh /home/bnt4me/virginia/repos/bedbase_all/bedbase/docs_jupyter/bedbase_tutorial/outputs/outputs/bedstat_output/bedstat_pipeline_logs/bed_files/bedmaker_logs/bedbase_demo_db8/ny2pxb01 `\n"
     ]
    },
    {
     "name": "stdout",
     "output_type": "stream",
     "text": [
      "File (/home/bnt4me/virginia/repos/bedbase_all/bedbase/docs_jupyter/bedbase_tutorial/outputs/outputs/bedstat_output/bedstat_pipeline_logs/bed_files/bedmaker_logs/bedbase_demo_db8/ny2pxb01) has passed Quality Control!\n",
      "Generating bigBed files for: /home/bnt4me/virginia/repos/bedbase_all/bedbase/docs_jupyter/bedbase_tutorial/files/GSM2423312_ENCFF155HVK_peaks_GRCh38.bed.gz\n",
      "Determining path to chrom.sizes asset via Refgenie.\n",
      "Reading refgenie genome configuration file from file: /home/bnt4me/virginia/repos/bedbase_all/bedbase/docs_jupyter/bedbase_tutorial/genome_config.yaml\n",
      "/home/bnt4me/virginia/repos/bedbase_all/bedbase/docs_jupyter/bedbase_tutorial/alias/hg38/fasta/default/hg38.chrom.sizes\n",
      "Determined path to chrom.sizes asset: /home/bnt4me/virginia/repos/bedbase_all/bedbase/docs_jupyter/bedbase_tutorial/alias/hg38/fasta/default/hg38.chrom.sizes\n",
      "Config: /home/bnt4me/virginia/repos/bedbase_all/bedbase/docs_jupyter/bedbase_tutorial/bedbase/tutorial_files/bedboss/config_db_local.yaml.\n",
      "Initialize DBBackend\n",
      "/home/bnt4me/virginia/venv/jupyter/lib/python3.10/site-packages/pipestat/parsed_schema.py:284: RuntimeWarning: fields may not start with an underscore, ignoring \"_pipeline_name\"\n",
      "  return create_model(\n",
      "Using default schema: /home/bnt4me/virginia/venv/jupyter/bin/pipestat_output_schema.yaml\n",
      "Traceback (most recent call last):\n",
      "  File \"/home/bnt4me/virginia/venv/jupyter/lib/python3.10/site-packages/pipestat/backends/dbbackend.py\", line 689, in _engine\n",
      "    return self.db_engine_key\n",
      "AttributeError: 'DBBackend' object has no attribute 'db_engine_key'\n",
      "\n",
      "During handling of the above exception, another exception occurred:\n",
      "\n",
      "Traceback (most recent call last):\n",
      "  File \"/home/bnt4me/virginia/venv/jupyter/bin/bedboss\", line 8, in <module>\n",
      "    sys.exit(main())\n",
      "  File \"/home/bnt4me/virginia/venv/jupyter/lib/python3.10/site-packages/bedboss/bedboss.py\", line 180, in main\n",
      "    run_all(pm=pm, **args_dict)\n",
      "  File \"/home/bnt4me/virginia/venv/jupyter/lib/python3.10/site-packages/bedboss/bedboss.py\", line 138, in run_all\n",
      "    bedstat(\n",
      "  File \"/home/bnt4me/virginia/venv/jupyter/lib/python3.10/site-packages/bedboss/bedstat/bedstat.py\", line 103, in bedstat\n",
      "    bbc = bbconf.BedBaseConf(config_path=bedbase_config, database_only=True)\n",
      "  File \"/home/bnt4me/virginia/venv/jupyter/lib/python3.10/site-packages/bbconf/bbconf.py\", line 72, in __init__\n",
      "    BED_TABLE: pipestat.PipestatManager(\n",
      "  File \"/home/bnt4me/virginia/venv/jupyter/lib/python3.10/site-packages/pipestat/pipestat.py\", line 161, in __init__\n",
      "    self.backend = DBBackend(\n",
      "  File \"/home/bnt4me/virginia/venv/jupyter/lib/python3.10/site-packages/pipestat/backends/dbbackend.py\", line 63, in __init__\n",
      "    SQLModel.metadata.create_all(self._engine)\n",
      "  File \"/home/bnt4me/virginia/venv/jupyter/lib/python3.10/site-packages/pipestat/backends/dbbackend.py\", line 694, in _engine\n",
      "    self.db_engine_key = create_engine(self.db_url, echo=self.show_db_logs)\n",
      "  File \"/home/bnt4me/virginia/venv/jupyter/lib/python3.10/site-packages/sqlmodel/engine/create.py\", line 139, in create_engine\n",
      "    return _create_engine(url, **current_kwargs)  # type: ignore\n",
      "  File \"<string>\", line 2, in create_engine\n",
      "  File \"/home/bnt4me/virginia/venv/jupyter/lib/python3.10/site-packages/sqlalchemy/util/deprecations.py\", line 309, in warned\n",
      "    return fn(*args, **kwargs)\n",
      "  File \"/home/bnt4me/virginia/venv/jupyter/lib/python3.10/site-packages/sqlalchemy/engine/create.py\", line 518, in create_engine\n",
      "    u = _url.make_url(url)\n",
      "  File \"/home/bnt4me/virginia/venv/jupyter/lib/python3.10/site-packages/sqlalchemy/engine/url.py\", line 725, in make_url\n",
      "    return _parse_rfc1738_args(name_or_url)\n",
      "  File \"/home/bnt4me/virginia/venv/jupyter/lib/python3.10/site-packages/sqlalchemy/engine/url.py\", line 781, in _parse_rfc1738_args\n",
      "    components[\"port\"] = int(components[\"port\"])\n",
      "ValueError: invalid literal for int() with base 10: '%24POSTGRES_PORT'\n",
      "Starting cleanup: 1 files; 0 conditional files for cleanup\n",
      "\n",
      "Cleaning up flagged intermediate files. . .\n",
      "\n",
      "### Pipeline failed at:  (08-14 09:27:41) elapsed: 0.0 _TIME_\n",
      "\n",
      "Total time: 0:00:00\n",
      "Failure reason: Pipeline failure. See details above.\n",
      "Exception ignored in atexit callback: <bound method PipelineManager._exit_handler of <pypiper.manager.PipelineManager object at 0x7f7a160abfd0>>\n",
      "Traceback (most recent call last):\n",
      "  File \"/home/bnt4me/virginia/venv/jupyter/lib/python3.10/site-packages/pypiper/manager.py\", line 2191, in _exit_handler\n",
      "    self.fail_pipeline(Exception(\"Pipeline failure. See details above.\"))\n",
      "  File \"/home/bnt4me/virginia/venv/jupyter/lib/python3.10/site-packages/pypiper/manager.py\", line 2036, in fail_pipeline\n",
      "    raise exc\n",
      "Exception: Pipeline failure. See details above.\n",
      "\u001b[36m## [9 of 11] sample: bedhost_demo_db9; pipeline: BEDBOSS\u001b[0m\n",
      "Calling pre-submit function: looper.write_sample_yaml\n",
      "Writing script to /home/bnt4me/virginia/repos/bedbase_all/bedbase/docs_jupyter/bedbase_tutorial/outputs/outputs/bedstat_output/bedstat_pipeline_logs/submission/BEDBOSS_bedhost_demo_db9.sub\n",
      "Job script (n=1; 0.00Gb): /home/bnt4me/virginia/repos/bedbase_all/bedbase/docs_jupyter/bedbase_tutorial/outputs/outputs/bedstat_output/bedstat_pipeline_logs/submission/BEDBOSS_bedhost_demo_db9.sub\n",
      "Compute node: bnt4me-Precision-5560\n",
      "Start time: 2023-08-14 09:27:41\n",
      "Using default config. No config found in env var: PIPESTAT_CONFIG\n",
      "Config: None.\n",
      "No schema supplied.\n",
      "Initialize FileBackend\n",
      "Warning: You're running an interactive python session. This works, but pypiper cannot tee the output, so results are only logged to screen.\n",
      "### Pipeline run code and environment:\n",
      "\n",
      "*              Command:  `/home/bnt4me/virginia/venv/jupyter/bin/bedboss all --sample-name bedhost_demo_db9 --input-file /home/bnt4me/virginia/repos/bedbase_all/bedbase/docs_jupyter/bedbase_tutorial/files/GSM2423313_ENCFF722AOG_peaks_GRCh38.bed.gz --input-type bed --genome hg38 --sample-yaml /home/bnt4me/virginia/repos/bedbase_all/bedbase/docs_jupyter/bedbase_tutorial/outputs/outputs/bedstat_output/bedstat_pipeline_logs/submission/bedhost_demo_db9_sample.yaml --output_folder /home/bnt4me/virginia/repos/bedbase_all/bedbase/docs_jupyter/bedbase_tutorial/outputs --narrowpeak True --rfg-config genome_config.yaml --bedbase-config /home/bnt4me/virginia/repos/bedbase_all/bedbase/docs_jupyter/bedbase_tutorial/bedbase/tutorial_files/bedboss/config_db_local.yaml --outfolder /home/bnt4me/virginia/repos/bedbase_all/bedbase/docs_jupyter/bedbase_tutorial/outputs/outputs/bedstat_output/bedstat_pipeline_logs`\n",
      "*         Compute host:  bnt4me-Precision-5560\n",
      "*          Working dir:  /home/bnt4me/virginia/repos/bedbase_all/bedbase/docs_jupyter/bedbase_tutorial\n",
      "*            Outfolder:  /home/bnt4me/virginia/repos/bedbase_all/bedbase/docs_jupyter/bedbase_tutorial/outputs/outputs/bedstat_output/bedstat_pipeline_logs/\n",
      "*  Pipeline started at:   (08-14 09:27:42) elapsed: 0.0 _TIME_\n",
      "\n",
      "### Version log:\n",
      "\n",
      "*       Python version:  3.10.12\n",
      "*          Pypiper dir:  `/home/bnt4me/virginia/venv/jupyter/lib/python3.10/site-packages/pypiper`\n",
      "*      Pypiper version:  0.13.2\n",
      "*         Pipeline dir:  `/home/bnt4me/virginia/venv/jupyter/bin`\n",
      "*     Pipeline version:  0.1.0a2\n",
      "\n",
      "### Arguments passed to pipeline:\n",
      "\n",
      "\n",
      "### Initialized Pipestat Object:\n",
      "\n",
      "* PipestatManager (bedboss-pipeline)\n",
      "* Backend: File\n",
      "*  - results: /home/bnt4me/virginia/repos/bedbase_all/bedbase/docs_jupyter/bedbase_tutorial/outputs/outputs/bedstat_output/bedstat_pipeline_logs/stats.yaml\n",
      "*  - status: /home/bnt4me/virginia/repos/bedbase_all/bedbase/docs_jupyter/bedbase_tutorial/outputs/outputs/bedstat_output/bedstat_pipeline_logs\n",
      "* Multiple Pipelines Allowed: True\n",
      "* Pipeline name: bedboss-pipeline\n",
      "* Pipeline type: sample\n",
      "* Status Schema key: None\n",
      "* Results formatter: default_formatter\n",
      "* Results schema source: None\n",
      "* Status schema source: None\n",
      "* Records count: 2\n",
      "* Sample name: DEFAULT_SAMPLE_NAME\n",
      "\n",
      "\n",
      "----------------------------------------\n",
      "\n",
      "Unused arguments: {'command': 'all', 'silent': False, 'verbosity': None, 'logdev': False}\n",
      "Getting Open Signal Matrix file path...\n",
      "output_bed = /home/bnt4me/virginia/repos/bedbase_all/bedbase/docs_jupyter/bedbase_tutorial/outputs/outputs/bedstat_output/bedstat_pipeline_logs/bed_files/GSM2423313_ENCFF722AOG_peaks_GRCh38.bed.gz\n",
      "output_bigbed = /home/bnt4me/virginia/repos/bedbase_all/bedbase/docs_jupyter/bedbase_tutorial/outputs/outputs/bedstat_output/bedstat_pipeline_logs/bigbed_files\n"
     ]
    },
    {
     "name": "stdout",
     "output_type": "stream",
     "text": [
      "Got input type: bed\n",
      "Converting /home/bnt4me/virginia/repos/bedbase_all/bedbase/docs_jupyter/bedbase_tutorial/files/GSM2423313_ENCFF722AOG_peaks_GRCh38.bed.gz to BED format.\n",
      "Target exists: `/home/bnt4me/virginia/repos/bedbase_all/bedbase/docs_jupyter/bedbase_tutorial/outputs/outputs/bedstat_output/bedstat_pipeline_logs/bed_files/GSM2423313_ENCFF722AOG_peaks_GRCh38.bed.gz`  \n",
      "Running bedqc...\n",
      "Unused arguments: {}\n",
      "Target to produce: `/home/bnt4me/virginia/repos/bedbase_all/bedbase/docs_jupyter/bedbase_tutorial/outputs/outputs/bedstat_output/bedstat_pipeline_logs/bed_files/bedmaker_logs/bedhost_demo_db9/h6i4w9_0`  \n",
      "\n",
      "> `zcat /home/bnt4me/virginia/repos/bedbase_all/bedbase/docs_jupyter/bedbase_tutorial/outputs/outputs/bedstat_output/bedstat_pipeline_logs/bed_files/GSM2423313_ENCFF722AOG_peaks_GRCh38.bed.gz > /home/bnt4me/virginia/repos/bedbase_all/bedbase/docs_jupyter/bedbase_tutorial/outputs/outputs/bedstat_output/bedstat_pipeline_logs/bed_files/bedmaker_logs/bedhost_demo_db9/h6i4w9_0` (24559)\n",
      "<pre>\n",
      "</pre>\n",
      "Command completed. Elapsed time: 0:00:00. Running peak memory: 0.003GB.  \n",
      "  PID: 24559;\tCommand: zcat;\tReturn code: 0;\tMemory used: 0.003GB\n",
      "\n",
      "\n",
      "> `bash /home/bnt4me/virginia/venv/jupyter/lib/python3.10/site-packages/bedboss/bedqc/est_line.sh /home/bnt4me/virginia/repos/bedbase_all/bedbase/docs_jupyter/bedbase_tutorial/outputs/outputs/bedstat_output/bedstat_pipeline_logs/bed_files/bedmaker_logs/bedhost_demo_db9/h6i4w9_0 `\n",
      "File (/home/bnt4me/virginia/repos/bedbase_all/bedbase/docs_jupyter/bedbase_tutorial/outputs/outputs/bedstat_output/bedstat_pipeline_logs/bed_files/bedmaker_logs/bedhost_demo_db9/h6i4w9_0) has passed Quality Control!\n",
      "Generating bigBed files for: /home/bnt4me/virginia/repos/bedbase_all/bedbase/docs_jupyter/bedbase_tutorial/files/GSM2423313_ENCFF722AOG_peaks_GRCh38.bed.gz\n",
      "Determining path to chrom.sizes asset via Refgenie.\n",
      "Reading refgenie genome configuration file from file: /home/bnt4me/virginia/repos/bedbase_all/bedbase/docs_jupyter/bedbase_tutorial/genome_config.yaml\n",
      "/home/bnt4me/virginia/repos/bedbase_all/bedbase/docs_jupyter/bedbase_tutorial/alias/hg38/fasta/default/hg38.chrom.sizes\n",
      "Determined path to chrom.sizes asset: /home/bnt4me/virginia/repos/bedbase_all/bedbase/docs_jupyter/bedbase_tutorial/alias/hg38/fasta/default/hg38.chrom.sizes\n",
      "Config: /home/bnt4me/virginia/repos/bedbase_all/bedbase/docs_jupyter/bedbase_tutorial/bedbase/tutorial_files/bedboss/config_db_local.yaml.\n",
      "Initialize DBBackend\n",
      "/home/bnt4me/virginia/venv/jupyter/lib/python3.10/site-packages/pipestat/parsed_schema.py:284: RuntimeWarning: fields may not start with an underscore, ignoring \"_pipeline_name\"\n",
      "  return create_model(\n",
      "Traceback (most recent call last):\n",
      "  File \"/home/bnt4me/virginia/venv/jupyter/lib/python3.10/site-packages/pipestat/backends/dbbackend.py\", line 689, in _engine\n",
      "Using default schema: /home/bnt4me/virginia/venv/jupyter/bin/pipestat_output_schema.yaml\n",
      "    return self.db_engine_key\n",
      "AttributeError: 'DBBackend' object has no attribute 'db_engine_key'\n",
      "\n",
      "During handling of the above exception, another exception occurred:\n",
      "\n",
      "Traceback (most recent call last):\n",
      "  File \"/home/bnt4me/virginia/venv/jupyter/bin/bedboss\", line 8, in <module>\n",
      "    sys.exit(main())\n",
      "  File \"/home/bnt4me/virginia/venv/jupyter/lib/python3.10/site-packages/bedboss/bedboss.py\", line 180, in main\n",
      "    run_all(pm=pm, **args_dict)\n",
      "  File \"/home/bnt4me/virginia/venv/jupyter/lib/python3.10/site-packages/bedboss/bedboss.py\", line 138, in run_all\n",
      "    bedstat(\n",
      "  File \"/home/bnt4me/virginia/venv/jupyter/lib/python3.10/site-packages/bedboss/bedstat/bedstat.py\", line 103, in bedstat\n",
      "    bbc = bbconf.BedBaseConf(config_path=bedbase_config, database_only=True)\n",
      "  File \"/home/bnt4me/virginia/venv/jupyter/lib/python3.10/site-packages/bbconf/bbconf.py\", line 72, in __init__\n",
      "    BED_TABLE: pipestat.PipestatManager(\n",
      "  File \"/home/bnt4me/virginia/venv/jupyter/lib/python3.10/site-packages/pipestat/pipestat.py\", line 161, in __init__\n",
      "    self.backend = DBBackend(\n",
      "  File \"/home/bnt4me/virginia/venv/jupyter/lib/python3.10/site-packages/pipestat/backends/dbbackend.py\", line 63, in __init__\n",
      "    SQLModel.metadata.create_all(self._engine)\n",
      "  File \"/home/bnt4me/virginia/venv/jupyter/lib/python3.10/site-packages/pipestat/backends/dbbackend.py\", line 694, in _engine\n",
      "    self.db_engine_key = create_engine(self.db_url, echo=self.show_db_logs)\n",
      "  File \"/home/bnt4me/virginia/venv/jupyter/lib/python3.10/site-packages/sqlmodel/engine/create.py\", line 139, in create_engine\n",
      "    return _create_engine(url, **current_kwargs)  # type: ignore\n",
      "  File \"<string>\", line 2, in create_engine\n",
      "  File \"/home/bnt4me/virginia/venv/jupyter/lib/python3.10/site-packages/sqlalchemy/util/deprecations.py\", line 309, in warned\n",
      "    return fn(*args, **kwargs)\n",
      "  File \"/home/bnt4me/virginia/venv/jupyter/lib/python3.10/site-packages/sqlalchemy/engine/create.py\", line 518, in create_engine\n",
      "    u = _url.make_url(url)\n",
      "  File \"/home/bnt4me/virginia/venv/jupyter/lib/python3.10/site-packages/sqlalchemy/engine/url.py\", line 725, in make_url\n",
      "    return _parse_rfc1738_args(name_or_url)\n",
      "  File \"/home/bnt4me/virginia/venv/jupyter/lib/python3.10/site-packages/sqlalchemy/engine/url.py\", line 781, in _parse_rfc1738_args\n",
      "    components[\"port\"] = int(components[\"port\"])\n",
      "ValueError: invalid literal for int() with base 10: '%24POSTGRES_PORT'\n",
      "Starting cleanup: 1 files; 0 conditional files for cleanup\n",
      "\n",
      "Cleaning up flagged intermediate files. . .\n",
      "\n",
      "### Pipeline failed at:  (08-14 09:27:42) elapsed: 0.0 _TIME_\n",
      "\n",
      "Total time: 0:00:00\n",
      "Failure reason: Pipeline failure. See details above.\n",
      "Exception ignored in atexit callback: <bound method PipelineManager._exit_handler of <pypiper.manager.PipelineManager object at 0x7f0af155bfd0>>\n",
      "Traceback (most recent call last):\n",
      "  File \"/home/bnt4me/virginia/venv/jupyter/lib/python3.10/site-packages/pypiper/manager.py\", line 2191, in _exit_handler\n",
      "    self.fail_pipeline(Exception(\"Pipeline failure. See details above.\"))\n",
      "  File \"/home/bnt4me/virginia/venv/jupyter/lib/python3.10/site-packages/pypiper/manager.py\", line 2036, in fail_pipeline\n",
      "    raise exc\n",
      "Exception: Pipeline failure. See details above.\n",
      "\u001b[36m## [10 of 11] sample: bedbase_demo_db10; pipeline: BEDBOSS\u001b[0m\n",
      "Calling pre-submit function: looper.write_sample_yaml\n",
      "Writing script to /home/bnt4me/virginia/repos/bedbase_all/bedbase/docs_jupyter/bedbase_tutorial/outputs/outputs/bedstat_output/bedstat_pipeline_logs/submission/BEDBOSS_bedbase_demo_db10.sub\n",
      "Job script (n=1; 0.00Gb): /home/bnt4me/virginia/repos/bedbase_all/bedbase/docs_jupyter/bedbase_tutorial/outputs/outputs/bedstat_output/bedstat_pipeline_logs/submission/BEDBOSS_bedbase_demo_db10.sub\n",
      "Compute node: bnt4me-Precision-5560\n",
      "Start time: 2023-08-14 09:27:42\n",
      "Using default config. No config found in env var: PIPESTAT_CONFIG\n",
      "Config: None.\n",
      "No schema supplied.\n",
      "Initialize FileBackend\n",
      "Warning: You're running an interactive python session. This works, but pypiper cannot tee the output, so results are only logged to screen.\n",
      "### Pipeline run code and environment:\n",
      "\n",
      "*              Command:  `/home/bnt4me/virginia/venv/jupyter/bin/bedboss all --sample-name bedbase_demo_db10 --input-file /home/bnt4me/virginia/repos/bedbase_all/bedbase/docs_jupyter/bedbase_tutorial/files/GSM2827349_ENCFF196DNQ_peaks_GRCh38.bed.gz --input-type bed --genome hg38 --sample-yaml /home/bnt4me/virginia/repos/bedbase_all/bedbase/docs_jupyter/bedbase_tutorial/outputs/outputs/bedstat_output/bedstat_pipeline_logs/submission/bedbase_demo_db10_sample.yaml --output_folder /home/bnt4me/virginia/repos/bedbase_all/bedbase/docs_jupyter/bedbase_tutorial/outputs --narrowpeak True --rfg-config genome_config.yaml --bedbase-config /home/bnt4me/virginia/repos/bedbase_all/bedbase/docs_jupyter/bedbase_tutorial/bedbase/tutorial_files/bedboss/config_db_local.yaml --outfolder /home/bnt4me/virginia/repos/bedbase_all/bedbase/docs_jupyter/bedbase_tutorial/outputs/outputs/bedstat_output/bedstat_pipeline_logs`\n",
      "*         Compute host:  bnt4me-Precision-5560\n",
      "*          Working dir:  /home/bnt4me/virginia/repos/bedbase_all/bedbase/docs_jupyter/bedbase_tutorial\n",
      "*            Outfolder:  /home/bnt4me/virginia/repos/bedbase_all/bedbase/docs_jupyter/bedbase_tutorial/outputs/outputs/bedstat_output/bedstat_pipeline_logs/\n"
     ]
    },
    {
     "name": "stdout",
     "output_type": "stream",
     "text": [
      "*  Pipeline started at:   (08-14 09:27:43) elapsed: 0.0 _TIME_\n",
      "\n",
      "### Version log:\n",
      "\n",
      "*       Python version:  3.10.12\n",
      "*          Pypiper dir:  `/home/bnt4me/virginia/venv/jupyter/lib/python3.10/site-packages/pypiper`\n",
      "*      Pypiper version:  0.13.2\n",
      "*         Pipeline dir:  `/home/bnt4me/virginia/venv/jupyter/bin`\n",
      "*     Pipeline version:  0.1.0a2\n",
      "\n",
      "### Arguments passed to pipeline:\n",
      "\n",
      "\n",
      "### Initialized Pipestat Object:\n",
      "\n",
      "* PipestatManager (bedboss-pipeline)\n",
      "* Backend: File\n",
      "*  - results: /home/bnt4me/virginia/repos/bedbase_all/bedbase/docs_jupyter/bedbase_tutorial/outputs/outputs/bedstat_output/bedstat_pipeline_logs/stats.yaml\n",
      "*  - status: /home/bnt4me/virginia/repos/bedbase_all/bedbase/docs_jupyter/bedbase_tutorial/outputs/outputs/bedstat_output/bedstat_pipeline_logs\n",
      "* Multiple Pipelines Allowed: True\n",
      "* Pipeline name: bedboss-pipeline\n",
      "* Pipeline type: sample\n",
      "* Status Schema key: None\n",
      "* Results formatter: default_formatter\n",
      "* Results schema source: None\n",
      "* Status schema source: None\n",
      "* Records count: 2\n",
      "* Sample name: DEFAULT_SAMPLE_NAME\n",
      "\n",
      "\n",
      "----------------------------------------\n",
      "\n",
      "Unused arguments: {'command': 'all', 'silent': False, 'verbosity': None, 'logdev': False}\n",
      "Getting Open Signal Matrix file path...\n",
      "output_bed = /home/bnt4me/virginia/repos/bedbase_all/bedbase/docs_jupyter/bedbase_tutorial/outputs/outputs/bedstat_output/bedstat_pipeline_logs/bed_files/GSM2827349_ENCFF196DNQ_peaks_GRCh38.bed.gz\n",
      "output_bigbed = /home/bnt4me/virginia/repos/bedbase_all/bedbase/docs_jupyter/bedbase_tutorial/outputs/outputs/bedstat_output/bedstat_pipeline_logs/bigbed_files\n",
      "Got input type: bed\n",
      "Converting /home/bnt4me/virginia/repos/bedbase_all/bedbase/docs_jupyter/bedbase_tutorial/files/GSM2827349_ENCFF196DNQ_peaks_GRCh38.bed.gz to BED format.\n",
      "Target exists: `/home/bnt4me/virginia/repos/bedbase_all/bedbase/docs_jupyter/bedbase_tutorial/outputs/outputs/bedstat_output/bedstat_pipeline_logs/bed_files/GSM2827349_ENCFF196DNQ_peaks_GRCh38.bed.gz`  \n",
      "Running bedqc...\n",
      "Unused arguments: {}\n",
      "Target to produce: `/home/bnt4me/virginia/repos/bedbase_all/bedbase/docs_jupyter/bedbase_tutorial/outputs/outputs/bedstat_output/bedstat_pipeline_logs/bed_files/bedmaker_logs/bedbase_demo_db10/l3b3cyqx`  \n",
      "\n",
      "> `zcat /home/bnt4me/virginia/repos/bedbase_all/bedbase/docs_jupyter/bedbase_tutorial/outputs/outputs/bedstat_output/bedstat_pipeline_logs/bed_files/GSM2827349_ENCFF196DNQ_peaks_GRCh38.bed.gz > /home/bnt4me/virginia/repos/bedbase_all/bedbase/docs_jupyter/bedbase_tutorial/outputs/outputs/bedstat_output/bedstat_pipeline_logs/bed_files/bedmaker_logs/bedbase_demo_db10/l3b3cyqx` (24590)\n",
      "<pre>\n",
      "</pre>\n",
      "Command completed. Elapsed time: 0:00:00. Running peak memory: 0.003GB.  \n",
      "  PID: 24590;\tCommand: zcat;\tReturn code: 0;\tMemory used: 0.003GB\n",
      "\n",
      "\n",
      "> `bash /home/bnt4me/virginia/venv/jupyter/lib/python3.10/site-packages/bedboss/bedqc/est_line.sh /home/bnt4me/virginia/repos/bedbase_all/bedbase/docs_jupyter/bedbase_tutorial/outputs/outputs/bedstat_output/bedstat_pipeline_logs/bed_files/bedmaker_logs/bedbase_demo_db10/l3b3cyqx `\n",
      "File (/home/bnt4me/virginia/repos/bedbase_all/bedbase/docs_jupyter/bedbase_tutorial/outputs/outputs/bedstat_output/bedstat_pipeline_logs/bed_files/bedmaker_logs/bedbase_demo_db10/l3b3cyqx) has passed Quality Control!\n",
      "Generating bigBed files for: /home/bnt4me/virginia/repos/bedbase_all/bedbase/docs_jupyter/bedbase_tutorial/files/GSM2827349_ENCFF196DNQ_peaks_GRCh38.bed.gz\n",
      "Determining path to chrom.sizes asset via Refgenie.\n",
      "Reading refgenie genome configuration file from file: /home/bnt4me/virginia/repos/bedbase_all/bedbase/docs_jupyter/bedbase_tutorial/genome_config.yaml\n",
      "/home/bnt4me/virginia/repos/bedbase_all/bedbase/docs_jupyter/bedbase_tutorial/alias/hg38/fasta/default/hg38.chrom.sizes\n",
      "Determined path to chrom.sizes asset: /home/bnt4me/virginia/repos/bedbase_all/bedbase/docs_jupyter/bedbase_tutorial/alias/hg38/fasta/default/hg38.chrom.sizes\n",
      "Config: /home/bnt4me/virginia/repos/bedbase_all/bedbase/docs_jupyter/bedbase_tutorial/bedbase/tutorial_files/bedboss/config_db_local.yaml.\n",
      "Initialize DBBackend\n",
      "/home/bnt4me/virginia/venv/jupyter/lib/python3.10/site-packages/pipestat/parsed_schema.py:284: RuntimeWarning: fields may not start with an underscore, ignoring \"_pipeline_name\"\n",
      "  return create_model(\n",
      "Traceback (most recent call last):\n",
      "  File \"/home/bnt4me/virginia/venv/jupyter/lib/python3.10/site-packages/pipestat/backends/dbbackend.py\", line 689, in _engine\n",
      "Using default schema: /home/bnt4me/virginia/venv/jupyter/bin/pipestat_output_schema.yaml\n",
      "    return self.db_engine_key\n",
      "AttributeError: 'DBBackend' object has no attribute 'db_engine_key'\n",
      "\n",
      "During handling of the above exception, another exception occurred:\n",
      "\n",
      "Traceback (most recent call last):\n",
      "  File \"/home/bnt4me/virginia/venv/jupyter/bin/bedboss\", line 8, in <module>\n",
      "    sys.exit(main())\n",
      "  File \"/home/bnt4me/virginia/venv/jupyter/lib/python3.10/site-packages/bedboss/bedboss.py\", line 180, in main\n",
      "    run_all(pm=pm, **args_dict)\n",
      "  File \"/home/bnt4me/virginia/venv/jupyter/lib/python3.10/site-packages/bedboss/bedboss.py\", line 138, in run_all\n",
      "    bedstat(\n",
      "  File \"/home/bnt4me/virginia/venv/jupyter/lib/python3.10/site-packages/bedboss/bedstat/bedstat.py\", line 103, in bedstat\n",
      "    bbc = bbconf.BedBaseConf(config_path=bedbase_config, database_only=True)\n",
      "  File \"/home/bnt4me/virginia/venv/jupyter/lib/python3.10/site-packages/bbconf/bbconf.py\", line 72, in __init__\n",
      "    BED_TABLE: pipestat.PipestatManager(\n",
      "  File \"/home/bnt4me/virginia/venv/jupyter/lib/python3.10/site-packages/pipestat/pipestat.py\", line 161, in __init__\n",
      "    self.backend = DBBackend(\n",
      "  File \"/home/bnt4me/virginia/venv/jupyter/lib/python3.10/site-packages/pipestat/backends/dbbackend.py\", line 63, in __init__\n",
      "    SQLModel.metadata.create_all(self._engine)\n",
      "  File \"/home/bnt4me/virginia/venv/jupyter/lib/python3.10/site-packages/pipestat/backends/dbbackend.py\", line 694, in _engine\n",
      "    self.db_engine_key = create_engine(self.db_url, echo=self.show_db_logs)\n",
      "  File \"/home/bnt4me/virginia/venv/jupyter/lib/python3.10/site-packages/sqlmodel/engine/create.py\", line 139, in create_engine\n",
      "    return _create_engine(url, **current_kwargs)  # type: ignore\n",
      "  File \"<string>\", line 2, in create_engine\n",
      "  File \"/home/bnt4me/virginia/venv/jupyter/lib/python3.10/site-packages/sqlalchemy/util/deprecations.py\", line 309, in warned\n",
      "    return fn(*args, **kwargs)\n",
      "  File \"/home/bnt4me/virginia/venv/jupyter/lib/python3.10/site-packages/sqlalchemy/engine/create.py\", line 518, in create_engine\n",
      "    u = _url.make_url(url)\n",
      "  File \"/home/bnt4me/virginia/venv/jupyter/lib/python3.10/site-packages/sqlalchemy/engine/url.py\", line 725, in make_url\n",
      "    return _parse_rfc1738_args(name_or_url)\n",
      "  File \"/home/bnt4me/virginia/venv/jupyter/lib/python3.10/site-packages/sqlalchemy/engine/url.py\", line 781, in _parse_rfc1738_args\n",
      "    components[\"port\"] = int(components[\"port\"])\n",
      "ValueError: invalid literal for int() with base 10: '%24POSTGRES_PORT'\n",
      "Starting cleanup: 1 files; 0 conditional files for cleanup\n",
      "\n",
      "Cleaning up flagged intermediate files. . .\n",
      "\n",
      "### Pipeline failed at:  (08-14 09:27:43) elapsed: 0.0 _TIME_\n",
      "\n",
      "Total time: 0:00:00\n",
      "Failure reason: Pipeline failure. See details above.\n",
      "Exception ignored in atexit callback: <bound method PipelineManager._exit_handler of <pypiper.manager.PipelineManager object at 0x7fa158c6ffd0>>\n",
      "Traceback (most recent call last):\n",
      "  File \"/home/bnt4me/virginia/venv/jupyter/lib/python3.10/site-packages/pypiper/manager.py\", line 2191, in _exit_handler\n",
      "    self.fail_pipeline(Exception(\"Pipeline failure. See details above.\"))\n",
      "  File \"/home/bnt4me/virginia/venv/jupyter/lib/python3.10/site-packages/pypiper/manager.py\", line 2036, in fail_pipeline\n",
      "    raise exc\n",
      "Exception: Pipeline failure. See details above.\n",
      "\u001b[36m## [11 of 11] sample: bedbase_demo_db11; pipeline: BEDBOSS\u001b[0m\n",
      "Calling pre-submit function: looper.write_sample_yaml\n",
      "Writing script to /home/bnt4me/virginia/repos/bedbase_all/bedbase/docs_jupyter/bedbase_tutorial/outputs/outputs/bedstat_output/bedstat_pipeline_logs/submission/BEDBOSS_bedbase_demo_db11.sub\n",
      "Job script (n=1; 0.00Gb): /home/bnt4me/virginia/repos/bedbase_all/bedbase/docs_jupyter/bedbase_tutorial/outputs/outputs/bedstat_output/bedstat_pipeline_logs/submission/BEDBOSS_bedbase_demo_db11.sub\n"
     ]
    },
    {
     "name": "stdout",
     "output_type": "stream",
     "text": [
      "Compute node: bnt4me-Precision-5560\n",
      "Start time: 2023-08-14 09:27:43\n",
      "Using default config. No config found in env var: PIPESTAT_CONFIG\n",
      "Config: None.\n",
      "No schema supplied.\n",
      "Initialize FileBackend\n",
      "Warning: You're running an interactive python session. This works, but pypiper cannot tee the output, so results are only logged to screen.\n",
      "### Pipeline run code and environment:\n",
      "\n",
      "*              Command:  `/home/bnt4me/virginia/venv/jupyter/bin/bedboss all --sample-name bedbase_demo_db11 --input-file /home/bnt4me/virginia/repos/bedbase_all/bedbase/docs_jupyter/bedbase_tutorial/files/GSM2827350_ENCFF928JXU_peaks_GRCh38.bed.gz --input-type bed --genome hg38 --sample-yaml /home/bnt4me/virginia/repos/bedbase_all/bedbase/docs_jupyter/bedbase_tutorial/outputs/outputs/bedstat_output/bedstat_pipeline_logs/submission/bedbase_demo_db11_sample.yaml --output_folder /home/bnt4me/virginia/repos/bedbase_all/bedbase/docs_jupyter/bedbase_tutorial/outputs --narrowpeak True --rfg-config genome_config.yaml --bedbase-config /home/bnt4me/virginia/repos/bedbase_all/bedbase/docs_jupyter/bedbase_tutorial/bedbase/tutorial_files/bedboss/config_db_local.yaml --outfolder /home/bnt4me/virginia/repos/bedbase_all/bedbase/docs_jupyter/bedbase_tutorial/outputs/outputs/bedstat_output/bedstat_pipeline_logs`\n",
      "*         Compute host:  bnt4me-Precision-5560\n",
      "*          Working dir:  /home/bnt4me/virginia/repos/bedbase_all/bedbase/docs_jupyter/bedbase_tutorial\n",
      "*            Outfolder:  /home/bnt4me/virginia/repos/bedbase_all/bedbase/docs_jupyter/bedbase_tutorial/outputs/outputs/bedstat_output/bedstat_pipeline_logs/\n",
      "*  Pipeline started at:   (08-14 09:27:44) elapsed: 0.0 _TIME_\n",
      "\n",
      "### Version log:\n",
      "\n",
      "*       Python version:  3.10.12\n",
      "*          Pypiper dir:  `/home/bnt4me/virginia/venv/jupyter/lib/python3.10/site-packages/pypiper`\n",
      "*      Pypiper version:  0.13.2\n",
      "*         Pipeline dir:  `/home/bnt4me/virginia/venv/jupyter/bin`\n",
      "*     Pipeline version:  0.1.0a2\n",
      "\n",
      "### Arguments passed to pipeline:\n",
      "\n",
      "\n",
      "### Initialized Pipestat Object:\n",
      "\n",
      "* PipestatManager (bedboss-pipeline)\n",
      "* Backend: File\n",
      "*  - results: /home/bnt4me/virginia/repos/bedbase_all/bedbase/docs_jupyter/bedbase_tutorial/outputs/outputs/bedstat_output/bedstat_pipeline_logs/stats.yaml\n",
      "*  - status: /home/bnt4me/virginia/repos/bedbase_all/bedbase/docs_jupyter/bedbase_tutorial/outputs/outputs/bedstat_output/bedstat_pipeline_logs\n",
      "* Multiple Pipelines Allowed: True\n",
      "* Pipeline name: bedboss-pipeline\n",
      "* Pipeline type: sample\n",
      "* Status Schema key: None\n",
      "* Results formatter: default_formatter\n",
      "* Results schema source: None\n",
      "* Status schema source: None\n",
      "* Records count: 2\n",
      "* Sample name: DEFAULT_SAMPLE_NAME\n",
      "\n",
      "\n",
      "----------------------------------------\n",
      "\n",
      "Unused arguments: {'command': 'all', 'silent': False, 'verbosity': None, 'logdev': False}\n",
      "Getting Open Signal Matrix file path...\n",
      "output_bed = /home/bnt4me/virginia/repos/bedbase_all/bedbase/docs_jupyter/bedbase_tutorial/outputs/outputs/bedstat_output/bedstat_pipeline_logs/bed_files/GSM2827350_ENCFF928JXU_peaks_GRCh38.bed.gz\n",
      "output_bigbed = /home/bnt4me/virginia/repos/bedbase_all/bedbase/docs_jupyter/bedbase_tutorial/outputs/outputs/bedstat_output/bedstat_pipeline_logs/bigbed_files\n",
      "Got input type: bed\n",
      "Converting /home/bnt4me/virginia/repos/bedbase_all/bedbase/docs_jupyter/bedbase_tutorial/files/GSM2827350_ENCFF928JXU_peaks_GRCh38.bed.gz to BED format.\n",
      "Target exists: `/home/bnt4me/virginia/repos/bedbase_all/bedbase/docs_jupyter/bedbase_tutorial/outputs/outputs/bedstat_output/bedstat_pipeline_logs/bed_files/GSM2827350_ENCFF928JXU_peaks_GRCh38.bed.gz`  \n",
      "Running bedqc...\n",
      "Unused arguments: {}\n",
      "Target to produce: `/home/bnt4me/virginia/repos/bedbase_all/bedbase/docs_jupyter/bedbase_tutorial/outputs/outputs/bedstat_output/bedstat_pipeline_logs/bed_files/bedmaker_logs/bedbase_demo_db11/2pfkxwx0`  \n",
      "\n",
      "> `zcat /home/bnt4me/virginia/repos/bedbase_all/bedbase/docs_jupyter/bedbase_tutorial/outputs/outputs/bedstat_output/bedstat_pipeline_logs/bed_files/GSM2827350_ENCFF928JXU_peaks_GRCh38.bed.gz > /home/bnt4me/virginia/repos/bedbase_all/bedbase/docs_jupyter/bedbase_tutorial/outputs/outputs/bedstat_output/bedstat_pipeline_logs/bed_files/bedmaker_logs/bedbase_demo_db11/2pfkxwx0` (24621)\n",
      "<pre>\n",
      "</pre>\n",
      "Command completed. Elapsed time: 0:00:00. Running peak memory: 0.003GB.  \n",
      "  PID: 24621;\tCommand: zcat;\tReturn code: 0;\tMemory used: 0.003GB\n",
      "\n",
      "\n",
      "> `bash /home/bnt4me/virginia/venv/jupyter/lib/python3.10/site-packages/bedboss/bedqc/est_line.sh /home/bnt4me/virginia/repos/bedbase_all/bedbase/docs_jupyter/bedbase_tutorial/outputs/outputs/bedstat_output/bedstat_pipeline_logs/bed_files/bedmaker_logs/bedbase_demo_db11/2pfkxwx0 `\n",
      "File (/home/bnt4me/virginia/repos/bedbase_all/bedbase/docs_jupyter/bedbase_tutorial/outputs/outputs/bedstat_output/bedstat_pipeline_logs/bed_files/bedmaker_logs/bedbase_demo_db11/2pfkxwx0) has passed Quality Control!\n",
      "Generating bigBed files for: /home/bnt4me/virginia/repos/bedbase_all/bedbase/docs_jupyter/bedbase_tutorial/files/GSM2827350_ENCFF928JXU_peaks_GRCh38.bed.gz\n",
      "Determining path to chrom.sizes asset via Refgenie.\n",
      "Reading refgenie genome configuration file from file: /home/bnt4me/virginia/repos/bedbase_all/bedbase/docs_jupyter/bedbase_tutorial/genome_config.yaml\n",
      "/home/bnt4me/virginia/repos/bedbase_all/bedbase/docs_jupyter/bedbase_tutorial/alias/hg38/fasta/default/hg38.chrom.sizes\n",
      "Determined path to chrom.sizes asset: /home/bnt4me/virginia/repos/bedbase_all/bedbase/docs_jupyter/bedbase_tutorial/alias/hg38/fasta/default/hg38.chrom.sizes\n",
      "Config: /home/bnt4me/virginia/repos/bedbase_all/bedbase/docs_jupyter/bedbase_tutorial/bedbase/tutorial_files/bedboss/config_db_local.yaml.\n",
      "Initialize DBBackend\n",
      "/home/bnt4me/virginia/venv/jupyter/lib/python3.10/site-packages/pipestat/parsed_schema.py:284: RuntimeWarning: fields may not start with an underscore, ignoring \"_pipeline_name\"\n",
      "  return create_model(\n",
      "Traceback (most recent call last):\n",
      "  File \"/home/bnt4me/virginia/venv/jupyter/lib/python3.10/site-packages/pipestat/backends/dbbackend.py\", line 689, in _engine\n",
      "Using default schema: /home/bnt4me/virginia/venv/jupyter/bin/pipestat_output_schema.yaml\n",
      "    return self.db_engine_key\n",
      "AttributeError: 'DBBackend' object has no attribute 'db_engine_key'\n",
      "\n",
      "During handling of the above exception, another exception occurred:\n",
      "\n",
      "Traceback (most recent call last):\n",
      "  File \"/home/bnt4me/virginia/venv/jupyter/bin/bedboss\", line 8, in <module>\n",
      "    sys.exit(main())\n",
      "  File \"/home/bnt4me/virginia/venv/jupyter/lib/python3.10/site-packages/bedboss/bedboss.py\", line 180, in main\n",
      "    run_all(pm=pm, **args_dict)\n",
      "  File \"/home/bnt4me/virginia/venv/jupyter/lib/python3.10/site-packages/bedboss/bedboss.py\", line 138, in run_all\n",
      "    bedstat(\n",
      "  File \"/home/bnt4me/virginia/venv/jupyter/lib/python3.10/site-packages/bedboss/bedstat/bedstat.py\", line 103, in bedstat\n",
      "    bbc = bbconf.BedBaseConf(config_path=bedbase_config, database_only=True)\n",
      "  File \"/home/bnt4me/virginia/venv/jupyter/lib/python3.10/site-packages/bbconf/bbconf.py\", line 72, in __init__\n",
      "    BED_TABLE: pipestat.PipestatManager(\n",
      "  File \"/home/bnt4me/virginia/venv/jupyter/lib/python3.10/site-packages/pipestat/pipestat.py\", line 161, in __init__\n",
      "    self.backend = DBBackend(\n",
      "  File \"/home/bnt4me/virginia/venv/jupyter/lib/python3.10/site-packages/pipestat/backends/dbbackend.py\", line 63, in __init__\n",
      "    SQLModel.metadata.create_all(self._engine)\n",
      "  File \"/home/bnt4me/virginia/venv/jupyter/lib/python3.10/site-packages/pipestat/backends/dbbackend.py\", line 694, in _engine\n",
      "    self.db_engine_key = create_engine(self.db_url, echo=self.show_db_logs)\n",
      "  File \"/home/bnt4me/virginia/venv/jupyter/lib/python3.10/site-packages/sqlmodel/engine/create.py\", line 139, in create_engine\n",
      "    return _create_engine(url, **current_kwargs)  # type: ignore\n",
      "  File \"<string>\", line 2, in create_engine\n",
      "  File \"/home/bnt4me/virginia/venv/jupyter/lib/python3.10/site-packages/sqlalchemy/util/deprecations.py\", line 309, in warned\n",
      "    return fn(*args, **kwargs)\n",
      "  File \"/home/bnt4me/virginia/venv/jupyter/lib/python3.10/site-packages/sqlalchemy/engine/create.py\", line 518, in create_engine\n",
      "    u = _url.make_url(url)\n",
      "  File \"/home/bnt4me/virginia/venv/jupyter/lib/python3.10/site-packages/sqlalchemy/engine/url.py\", line 725, in make_url\n",
      "    return _parse_rfc1738_args(name_or_url)\n"
     ]
    },
    {
     "name": "stdout",
     "output_type": "stream",
     "text": [
      "  File \"/home/bnt4me/virginia/venv/jupyter/lib/python3.10/site-packages/sqlalchemy/engine/url.py\", line 781, in _parse_rfc1738_args\n",
      "    components[\"port\"] = int(components[\"port\"])\n",
      "ValueError: invalid literal for int() with base 10: '%24POSTGRES_PORT'\n",
      "Starting cleanup: 1 files; 0 conditional files for cleanup\n",
      "\n",
      "Cleaning up flagged intermediate files. . .\n",
      "\n",
      "### Pipeline failed at:  (08-14 09:27:44) elapsed: 0.0 _TIME_\n",
      "\n",
      "Total time: 0:00:00\n",
      "Failure reason: Pipeline failure. See details above.\n",
      "Exception ignored in atexit callback: <bound method PipelineManager._exit_handler of <pypiper.manager.PipelineManager object at 0x7fe2f62bc2b0>>\n",
      "Traceback (most recent call last):\n",
      "  File \"/home/bnt4me/virginia/venv/jupyter/lib/python3.10/site-packages/pypiper/manager.py\", line 2191, in _exit_handler\n",
      "    self.fail_pipeline(Exception(\"Pipeline failure. See details above.\"))\n",
      "  File \"/home/bnt4me/virginia/venv/jupyter/lib/python3.10/site-packages/pypiper/manager.py\", line 2036, in fail_pipeline\n",
      "    raise exc\n",
      "Exception: Pipeline failure. See details above.\n",
      "\n",
      "Looper finished\n",
      "Samples valid for job generation: 11 of 11\n",
      "Commands submitted: 11 of 11\n",
      "Jobs submitted: 11\n",
      "\u001b[0m\n"
     ]
    }
   ],
   "source": [
    "looper run --looper-config ./bedbase/tutorial_files/bedboss/looper_config_bedboss.yaml --output-dir $BEDBASE_DATA_PATH_HOST/outputs/outputs/bedstat_output/bedstat_pipeline_logs"
   ]
  },
  {
   "cell_type": "markdown",
   "metadata": {},
   "source": [
    "### ❗❗ If You have errors in bedstat requirements:"
   ]
  },
  {
   "cell_type": "code",
   "execution_count": 8,
   "metadata": {},
   "outputs": [
    {
     "ename": "",
     "evalue": "1",
     "output_type": "error",
     "traceback": []
    }
   ],
   "source": [
    "pip install -r bedstat/requirements.txt --user > requirements_log.txt"
   ]
  },
  {
   "cell_type": "markdown",
   "metadata": {},
   "source": [
    "Install R dependencies"
   ]
  },
  {
   "cell_type": "code",
   "execution_count": 32,
   "metadata": {},
   "outputs": [],
   "source": [
    "Rscript bedstat/scripts/installRdeps.R > R_deps.txt"
   ]
  },
  {
   "cell_type": "markdown",
   "metadata": {},
   "source": [
    "In case there is an issue installing `GenomicDistributionsData`, try:\n",
    "```\n",
    "wget http://big.databio.org/GenomicDistributionsData/GenomicDistributionsData_0.0.2.tar.gz\n",
    "Rscript -e 'install.packages(\"GenomicDistributionsData_0.0.2.tar.gz\", type=\"source\", repos=NULL)'\n",
    "```"
   ]
  },
  {
   "cell_type": "markdown",
   "metadata": {},
   "source": [
    "There's an additional dependency needed by `bedstat` if we wish to calculate and plot the GC content of our bedfiles. Depending on the genome assemblies of the files listed on a PEP, the appropriate BSgenome packages should be installed. The following is an example of how we can do so:"
   ]
  },
  {
   "cell_type": "code",
   "execution_count": 12,
   "metadata": {},
   "outputs": [
    {
     "name": "stdout",
     "output_type": "stream",
     "text": [
      "if (!requireNamespace(\"BiocManager\", quietly = TRUE))\n",
      "    install.packages(\"BiocManager\")\n",
      "\n",
      "BiocManager::install(\"BSgenome.Hsapiens.UCSC.hg38.masked\")"
     ]
    }
   ],
   "source": [
    "cat bedbase/tutorial_files/scripts/BSgenome_install.R"
   ]
  },
  {
   "cell_type": "code",
   "execution_count": 31,
   "metadata": {},
   "outputs": [],
   "source": [
    "Rscript bedbase/tutorial_files/scripts/BSgenome_install.R > BSgenome.txt"
   ]
  },
  {
   "cell_type": "markdown",
   "metadata": {},
   "source": [
    "We'll need to create a directory where we can store the stats and plots generated by `bedstat`. Additionally, we'll create a directory where we can store log and metadata files that we'll need later on."
   ]
  },
  {
   "cell_type": "markdown",
   "metadata": {},
   "source": [
    "## 4. BEDBUNCHER: Create bedsets and their respective statistics \n",
    "\n",
    "### Create a new PEP describing the bedset name and specific JSON query \n",
    "\n",
    "Now that we've processed several individual BED files, we'll turn to the next task: grouping them together into collections of BED files, which we call *bedsets*. For this, we use the `bedbuncher` pipeline, which produces outputs for each bedset, such as a bedset PEP, bedset-level statistics and plots, and an `IGD` database. To run `bedbuncher`, we will need another PEP describing each bedset. Though the annotation sheet below specifies attributes for one bedset, you can create as many as you wish using additional rows. For each bedset, you need to provide the query to retrieve certain collection BED files. \n",
    "\n",
    "The following example PEP shows the attributes we need to provide for each bedset and the config.yaml file that will grab the files needed to run `bedbuncher`:"
   ]
  },
  {
   "cell_type": "code",
   "execution_count": 31,
   "metadata": {},
   "outputs": [
    {
     "name": "stdout",
     "output_type": "stream",
     "text": [
      "sample_name,bedset_name,genome,query,operator,query_val,bbconfig_name,bedbase_config\n",
      "sample1,bedsetOver1kRegions,hg38,'regions_no',gt,\"\"\"1000\"\"\",bedbase_configuration_compose,source1\n",
      "sample2,bedsetOver50GCContent,hg38,'gc_content',gt,\"\"\"0.5\"\"\",bedbase_configuration_compose,source1\n",
      "sample3,bedsetUnder500MeanWidth,hg38,'mean_region_width',lt,\"\"\"500\"\"\",bedbase_configuration_compose,source1\n",
      "sample4,bedsetTestSelectCellType,hg38,\"\"\"other::text~~:str_1 or other::text~~:str_2\"\"\",\"\"\"str_1,str_2\"\"\",\"\"\"%GM12878%,%HEK293%\"\"\",bedbase_configuration_compose,source1\n",
      "sample5,bedsetTestSelectGenome,hg38,\"\"\"name=:name_1 or name=:name_2\"\"\",\"\"\"name_1,name_2\"\"\",\"\"\"GSE105587_ENCFF018NNF_conservative_idr_thresholded_peaks_GRCh38,GSE91663_ENCFF553KIK_optimal_idr_thresholded_peaks_GRCh38\"\"\",bedbase_configuration_compose,source1\n",
      "sample6,bedsetTestCellType,hg38,\"\"\"other\"\"\",contains,\"\"\"\"\"{\\\"\"cell_type\\\"\":\\ \\\"\"K562\\\"\"}\"\"\"\"\",bedbase_configuration_compose,source1\n",
      "sample7,bedsetTestSpace,hg38,\"\"\"other\"\"\",contains,\"\"\"\"\"{\\\"\"description\\\"\":\\ \\\"\"IKZF1\\ ChIP-seq\\ on\\ human\\ GM12878\\\"\"}\"\"\"\"\",bedbase_configuration_compose,source1\n",
      "sample8,bedsetTestsSpaceMult,hg38,\"\"\"other::text~~:str_1 or other::text~~:str_2\"\"\",\"\"\"str_1,str_2\"\"\",\"\"\"%IKZF1 ChIP-seq on human GM12878%,%ZEB2 ChIP-seq on human K562 (ENCODE)%\"\"\",bedbase_configuration_compose,source1\n",
      "sample9,bedsetTestSpace2,hg38,\"\"\"other\"\"\",contains,\"\"\"\"\"{\\\"\"description\\\"\":\\ \\\"\"HEK293\\ cell\\ line\\ stably\\ expressing\\ N-terminal\\ tagged\\ eGFP-GLI2\\ under\\ the\\ control\\ of\\ a\\ CMV\\ promoter\\\"\"}\"\"\"\"\",bedbase_configuration_compose,source1\n",
      "sample10,bedsetTestsSpaceMult2,hg38,\"\"\"other::text~~:str_1 or other::text~~:str_2\"\"\",\"\"\"str_1,str_2\"\"\",\"\"\"%ZEB2 ChIP-seq on human K562 (ENCODE)%,%HEK293 cell line stably expressing N-terminal tagged eGFP-GLI2 under the control of a CMV promoter %\"\"\",bedbase_configuration_compose,source1\n"
     ]
    }
   ],
   "source": [
    "cat bedbase/tutorial_files/PEPs/bedbuncher_query.csv"
   ]
  },
  {
   "cell_type": "code",
   "execution_count": 32,
   "metadata": {},
   "outputs": [
    {
     "name": "stdout",
     "output_type": "stream",
     "text": [
      "pep_version: 2.0.0\n",
      "sample_table: bedbuncher_query.csv\n",
      "\n",
      "looper:\n",
      "    output_dir: $BEDBASE_DATA_PATH_HOST/outputs/bedbuncher_output/bedbuncher_pipeline_logs\n",
      "\n",
      "sample_modifiers:\n",
      "  append:\n",
      "    pipeline_interfaces: $CODE/bedbuncher/pipeline_interface.yaml \n",
      "  derive:\n",
      "    attributes: [bedbase_config]\n",
      "    sources:\n",
      "      source1: $CODE/bedbase/tutorial_files/{bbconfig_name}.yaml\n"
     ]
    }
   ],
   "source": [
    "cat bedbase/tutorial_files/PEPs/bedbuncher_config.yaml"
   ]
  },
  {
   "cell_type": "markdown",
   "metadata": {},
   "source": [
    "Running `bedbuncher` with arguments defined in the example PEP above will result in a bedset with bedfiles that consist of at least 1000 regions."
   ]
  },
  {
   "cell_type": "markdown",
   "metadata": {},
   "source": [
    "###  Create outputs directory and install bedbuncher command line dependencies\n",
    "\n",
    "We need a folder where we can store bedset related outputs. Though not required, we'll also create a directory where we can store the `bedbuncher` pipeline logs. "
   ]
  },
  {
   "cell_type": "code",
   "execution_count": 33,
   "metadata": {},
   "outputs": [],
   "source": [
    "mkdir -p outputs/bedbuncher_output/bedbuncher_pipeline_logs"
   ]
  },
  {
   "cell_type": "markdown",
   "metadata": {},
   "source": [
    "One of the feats of `bedbuncher` includes [IGD](https://github.com/databio/IGD) database creation from the files in the bedset. `IGD` can be installed by cloning the repository from github, executing the make file to create the binary, and pointing the binary location with the `$PATH` environment variable. "
   ]
  },
  {
   "cell_type": "code",
   "execution_count": 34,
   "metadata": {},
   "outputs": [
    {
     "name": "stdout",
     "output_type": "stream",
     "text": [
      "Cloning into 'IGD'...\n",
      "remote: Enumerating objects: 1297, done.\u001b[K\n",
      "remote: Counting objects: 100% (67/67), done.\u001b[K\n",
      "remote: Compressing objects: 100% (50/50), done.\u001b[K\n",
      "remote: Total 1297 (delta 35), reused 40 (delta 17), pack-reused 1230\u001b[K\n",
      "Receiving objects: 100% (1297/1297), 949.45 KiB | 10.79 MiB/s, done.\n",
      "Resolving deltas: 100% (804/804), done.\n"
     ]
    }
   ],
   "source": [
    "git clone git@github.com:databio/IGD\n",
    "cd IGD\n",
    "make > igd_make_log.txt 2>&1\n",
    "cd ..\n",
    "\n",
    "export PATH=$BEDBASE_DATA_PATH_HOST/IGD/bin/:$PATH"
   ]
  },
  {
   "cell_type": "markdown",
   "metadata": {},
   "source": [
    "### Run bedbuncher using Looper \n",
    "\n",
    "Once we have cloned the `bedbuncher` repository, set our local Postgres cluster and created the `iGD` binary, we can run the pipeline by pointing `looper run` to the appropriate `PEP` config file. As mentioned earlier, if the path to the bedbase configuration file has been stored in the `$BEDBASE` environment variable, it's not neccesary to pass the `--bedbase-config` argument. "
   ]
  },
  {
   "cell_type": "code",
   "execution_count": 36,
   "metadata": {},
   "outputs": [
    {
     "name": "stdout",
     "output_type": "stream",
     "text": [
      "Looper version: 1.3.1\n",
      "Command: run\n",
      "/home/bnt4me/.local/lib/python3.8/site-packages/divvy/compute.py:150: UserWarning: The '_file_path' property is deprecated and will be removed in a future release. Use ComputingConfiguration[\"__internal\"][\"_file_path\"] instead.\n",
      "  os.path.dirname(self._file_path),\n",
      "/home/bnt4me/.local/lib/python3.8/site-packages/divvy/compute.py:58: UserWarning: The '_file_path' property is deprecated and will be removed in a future release. Use ComputingConfiguration[\"__internal\"][\"_file_path\"] instead.\n",
      "  self.config_file = self._file_path\n",
      "Activating compute package 'local'\n",
      "\u001b[36m## [1 of 10] sample: sample1; pipeline: BEDBUNCHER\u001b[0m\n",
      "Writing script to /home/bnt4me/Virginia/bed_maker/bedbase_tutorial/outputs/bedbuncher_output/bedbuncher_pipeline_logs/submission/BEDBUNCHER_sample1.sub\n",
      "Job script (n=1; 0.00Gb): /home/bnt4me/Virginia/bed_maker/bedbase_tutorial/outputs/bedbuncher_output/bedbuncher_pipeline_logs/submission/BEDBUNCHER_sample1.sub\n",
      "\u001b[36m## [2 of 10] sample: sample2; pipeline: BEDBUNCHER\u001b[0m\n",
      "Writing script to /home/bnt4me/Virginia/bed_maker/bedbase_tutorial/outputs/bedbuncher_output/bedbuncher_pipeline_logs/submission/BEDBUNCHER_sample2.sub\n",
      "Job script (n=1; 0.00Gb): /home/bnt4me/Virginia/bed_maker/bedbase_tutorial/outputs/bedbuncher_output/bedbuncher_pipeline_logs/submission/BEDBUNCHER_sample2.sub\n",
      "\u001b[36m## [3 of 10] sample: sample3; pipeline: BEDBUNCHER\u001b[0m\n",
      "Writing script to /home/bnt4me/Virginia/bed_maker/bedbase_tutorial/outputs/bedbuncher_output/bedbuncher_pipeline_logs/submission/BEDBUNCHER_sample3.sub\n",
      "Job script (n=1; 0.00Gb): /home/bnt4me/Virginia/bed_maker/bedbase_tutorial/outputs/bedbuncher_output/bedbuncher_pipeline_logs/submission/BEDBUNCHER_sample3.sub\n",
      "\u001b[36m## [4 of 10] sample: sample4; pipeline: BEDBUNCHER\u001b[0m\n",
      "Writing script to /home/bnt4me/Virginia/bed_maker/bedbase_tutorial/outputs/bedbuncher_output/bedbuncher_pipeline_logs/submission/BEDBUNCHER_sample4.sub\n",
      "Job script (n=1; 0.00Gb): /home/bnt4me/Virginia/bed_maker/bedbase_tutorial/outputs/bedbuncher_output/bedbuncher_pipeline_logs/submission/BEDBUNCHER_sample4.sub\n",
      "\u001b[36m## [5 of 10] sample: sample5; pipeline: BEDBUNCHER\u001b[0m\n",
      "Writing script to /home/bnt4me/Virginia/bed_maker/bedbase_tutorial/outputs/bedbuncher_output/bedbuncher_pipeline_logs/submission/BEDBUNCHER_sample5.sub\n",
      "Job script (n=1; 0.00Gb): /home/bnt4me/Virginia/bed_maker/bedbase_tutorial/outputs/bedbuncher_output/bedbuncher_pipeline_logs/submission/BEDBUNCHER_sample5.sub\n",
      "\u001b[36m## [6 of 10] sample: sample6; pipeline: BEDBUNCHER\u001b[0m\n",
      "Writing script to /home/bnt4me/Virginia/bed_maker/bedbase_tutorial/outputs/bedbuncher_output/bedbuncher_pipeline_logs/submission/BEDBUNCHER_sample6.sub\n",
      "Job script (n=1; 0.00Gb): /home/bnt4me/Virginia/bed_maker/bedbase_tutorial/outputs/bedbuncher_output/bedbuncher_pipeline_logs/submission/BEDBUNCHER_sample6.sub\n",
      "\u001b[36m## [7 of 10] sample: sample7; pipeline: BEDBUNCHER\u001b[0m\n",
      "Writing script to /home/bnt4me/Virginia/bed_maker/bedbase_tutorial/outputs/bedbuncher_output/bedbuncher_pipeline_logs/submission/BEDBUNCHER_sample7.sub\n",
      "Job script (n=1; 0.00Gb): /home/bnt4me/Virginia/bed_maker/bedbase_tutorial/outputs/bedbuncher_output/bedbuncher_pipeline_logs/submission/BEDBUNCHER_sample7.sub\n",
      "\u001b[36m## [8 of 10] sample: sample8; pipeline: BEDBUNCHER\u001b[0m\n",
      "Writing script to /home/bnt4me/Virginia/bed_maker/bedbase_tutorial/outputs/bedbuncher_output/bedbuncher_pipeline_logs/submission/BEDBUNCHER_sample8.sub\n",
      "Job script (n=1; 0.00Gb): /home/bnt4me/Virginia/bed_maker/bedbase_tutorial/outputs/bedbuncher_output/bedbuncher_pipeline_logs/submission/BEDBUNCHER_sample8.sub\n",
      "\u001b[36m## [9 of 10] sample: sample9; pipeline: BEDBUNCHER\u001b[0m\n",
      "Writing script to /home/bnt4me/Virginia/bed_maker/bedbase_tutorial/outputs/bedbuncher_output/bedbuncher_pipeline_logs/submission/BEDBUNCHER_sample9.sub\n",
      "Job script (n=1; 0.00Gb): /home/bnt4me/Virginia/bed_maker/bedbase_tutorial/outputs/bedbuncher_output/bedbuncher_pipeline_logs/submission/BEDBUNCHER_sample9.sub\n",
      "\u001b[36m## [10 of 10] sample: sample10; pipeline: BEDBUNCHER\u001b[0m\n",
      "Writing script to /home/bnt4me/Virginia/bed_maker/bedbase_tutorial/outputs/bedbuncher_output/bedbuncher_pipeline_logs/submission/BEDBUNCHER_sample10.sub\n",
      "Job script (n=1; 0.00Gb): /home/bnt4me/Virginia/bed_maker/bedbase_tutorial/outputs/bedbuncher_output/bedbuncher_pipeline_logs/submission/BEDBUNCHER_sample10.sub\n",
      "\n",
      "Looper finished\n",
      "Samples valid for job generation: 10 of 10\n",
      "Commands submitted: 10 of 10\n",
      "Jobs submitted: 10\n"
     ]
    }
   ],
   "source": [
    "looper run  bedbase/tutorial_files/PEPs/bedbuncher_config.yaml  --package local \\\n",
    "--command-extra=\"-R\" > outputs/bedbuncher_output/bedbuncher_pipeline_logs/looper_logs.txt"
   ]
  },
  {
   "cell_type": "markdown",
   "metadata": {},
   "source": [
    "## 5. BEDEMBED: \n",
    "\n",
    "### bedembed_train: Uses the StarSpace method to embed the bed files and the meta data."
   ]
  },
  {
   "cell_type": "markdown",
   "metadata": {},
   "source": [
    "We need to install [StarSpace](https://github.com/facebookresearch/StarSpace) first.  "
   ]
  },
  {
   "cell_type": "code",
   "execution_count": null,
   "metadata": {},
   "outputs": [],
   "source": [
    "mkdir -p bedembed/tools"
   ]
  },
  {
   "cell_type": "markdown",
   "metadata": {},
   "source": [
    "We need to install [Boost](http://www.boost.org/) library and specify the path of boost library in makefile in order to run StarSpace."
   ]
  },
  {
   "cell_type": "code",
   "execution_count": null,
   "metadata": {},
   "outputs": [],
   "source": [
    "wget https://boostorg.jfrog.io/artifactory/main/release/1.78.0/source/boost_1_78_0.zip\n",
    "unzip boost_1_78_0.zip\n",
    "sudo mv boost_1_78_0 /usr/local/bin\n",
    "cd /usr/local/bin/boost_1_78_0\n",
    "./bootstrap.sh\n",
    "./b2"
   ]
  },
  {
   "cell_type": "markdown",
   "metadata": {},
   "source": [
    "In order to build StarSpace on Mac OS or Linux, use the following:"
   ]
  },
  {
   "cell_type": "code",
   "execution_count": null,
   "metadata": {},
   "outputs": [],
   "source": [
    "cd $BEDBASE_DATA_PATH_HOST/bedembed/tools\n",
    "git clone https://github.com/facebookresearch/Starspace.git\n",
    "cd Starspace\n",
    "make\n",
    "make embed_doc"
   ]
  },
  {
   "cell_type": "markdown",
   "metadata": {},
   "source": [
    "We need a folder where we can store bedembed related outputs. Though not required, we'll also create a directory where we can store the bedembed pipeline logs."
   ]
  },
  {
   "cell_type": "code",
   "execution_count": null,
   "metadata": {},
   "outputs": [],
   "source": [
    "mkdir -p outputs/bedembed_output/bedembed_pipeline_logs"
   ]
  },
  {
   "cell_type": "code",
   "execution_count": null,
   "metadata": {},
   "outputs": [],
   "source": [
    "path_starspace=$BEDBASE_DATA_PATH_HOST'/bedembed/tools/Starspace/starspace'\n",
    "path_meta=$BEDBASE_DATA_PATH_HOST'/bedbase/tutorial_files/PEPs/bedstat_annotation_sheet.csv'\n",
    "# download Universe file from rivanna\n",
    "path_universe=$BEDBASE_DATA_PATH_HOST'/tiles1000.hg19.bed'\n",
    "path_output=$BEDBASE_DATA_PATH_HOST'/outputs/bedembed_output/'\n",
    "assembly='hg38'\n",
    "path_data=$BEDBASE_DATA_PATH_HOST'/bed_files/'\n",
    "labels=\"exp_protocol,cell_type,tissue,antibody,treatment\"\n",
    "no_files=10\n",
    "start_line=0\n",
    "dim=50\n",
    "epochs=20\n",
    "learning_rate=0.001\n",
    "\n",
    "python ./bedembed/pipeline/bedembed_train.py -star $path_starspace -i $path_data -g $assembly -meta $path_meta -univ $path_universe \\\n",
    "-l $labels -nof $no_files -o $path_output -startline $start_line -dim $dim -epochs $epochs -lr $learning_rate"
   ]
  },
  {
   "cell_type": "markdown",
   "metadata": {},
   "source": [
    "### bedembed_test: calculate the distances between file labels and trained search terms\n",
    "\n",
    "### Get a PEP describing the bedfiles to process \n",
    "\n",
    "We'll use the standard [PEP](http://pep.databio.org) format for the annotation, which consists of 1) a sample table (.csv) that annotates the files, and 2) a project config.yaml file that points to the sample annotation sheet. The config file also has other components, such as derived attributes, that in this case point to the bedfiles to be processed. Here is the PEP config file for this example project:"
   ]
  },
  {
   "cell_type": "code",
   "execution_count": 1,
   "metadata": {},
   "outputs": [
    {
     "name": "stdout",
     "output_type": "stream",
     "text": [
      "bedembed_version: 0.0.0\n",
      "sample_table: bedstat_annotation_sheet.csv\n",
      "\n",
      "looper:\n",
      "  output-dir: $BEDBASE_DATA_PATH_HOST/outputs/bedembed_output/bedembed_pipeline_logs \n",
      "sample_modifiers:\n",
      "  append:\n",
      "    bedbase_config: $BEDBASE_DATA_PATH_HOST/bedbase/tutorial_files/bedbase_configuration_compose.yaml\n",
      "    pipeline_interfaces: $BEDBASE_DATA_PATH_HOST/bedembed/pipeline_interface_test.yaml\n",
      "    universe: /project/shefflab/data/StarSpace/universe/universe_tilelen1000.bed\n",
      "    input_file_path: INPUT\n",
      "    output_file_path: $BEDBASE_DATA_PATH_HOST/outputs/bedembed_output\n",
      "    yaml_file: SAMPLE_YAML\n",
      "  derive:\n",
      "    attributes: [yaml_file, input_file_path]\n",
      "    sources:\n",
      "      INPUT: \"/project/shefflab/data/encode/{file_name}\"\n",
      "      SAMPLE_YAML: \"$BEDBASE_DATA_PATH_HOST/outputs/bedembed_output/bedembed_pipeline_logs/submission/{sample_name}_sample.yaml\"\n"
     ]
    }
   ],
   "source": [
    "cat bedbase/tutorial_files/PEPs/bedembed_test_config.yaml"
   ]
  },
  {
   "cell_type": "markdown",
   "metadata": {},
   "source": [
    "### Run bedembed using Looper \n",
    "\n",
    "Once we have cloned the `bedembed` repository, set our local postgres cluster, we can run the pipeline by pointing `looper run` to the appropriate `PEP` config file. As mentioned earlier, if the path to the bedbase configuration file is provided, the calculated distances will report to the postgres database, if not it will save as a csv file in the `output_file_path`"
   ]
  },
  {
   "cell_type": "code",
   "execution_count": null,
   "metadata": {},
   "outputs": [],
   "source": [
    "looper run bedbase/tutorial_files/PEPs/bedembed_test_config.yaml --package local"
   ]
  },
  {
   "cell_type": "markdown",
   "metadata": {},
   "source": [
    "## 5. BEDHOST:  Serve BED files and API to explore pipeline outputs\n",
    "\n",
    "The last part of the tutorial consists on running a local instance of `bedhost` (a REST API for `bedstat` and `bedbuncher` produced outputs) in order to explore plots, statistics and download pipeline outputs. \n",
    "To run `bedhost`, frist use `bedhost-ui` to built the bedhost user interface with React."
   ]
  },
  {
   "cell_type": "code",
   "execution_count": 38,
   "metadata": {},
   "outputs": [],
   "source": [
    "cd bedhost-ui\n",
    "# Install node modules defined in package.json\n",
    "npm install \n",
    "# Build the app for production to the ./build folder\n",
    "npm run build\n",
    "# copy the contents of the ./build directory to bedhost/bedhost/static/bedhost-ui\n",
    "cp -avr ./build ../bedhost/bedhost/static/bedhost-ui\n",
    "\n",
    "cd .."
   ]
  },
  {
   "cell_type": "markdown",
   "metadata": {},
   "source": [
    "To run `bedhost`, we'll pip install the package from the previously cloned repository:"
   ]
  },
  {
   "cell_type": "code",
   "execution_count": 39,
   "metadata": {},
   "outputs": [],
   "source": [
    "pip install bedhost/. --user > bedhost_log.txt"
   ]
  },
  {
   "cell_type": "markdown",
   "metadata": {},
   "source": [
    "To start `bedhost`, we simply need to run the following command passing the location of the bedbase configuration file to the `-c` flag.  "
   ]
  },
  {
   "cell_type": "code",
   "execution_count": null,
   "metadata": {},
   "outputs": [
    {
     "name": "stdout",
     "output_type": "stream",
     "text": [
      "Serving data for columns: ['md5sum']\n",
      "Serving data for columns: ['md5sum']\n",
      "Generating GraphQL schema\n",
      "running bedhost app\n",
      "\u001b[32mINFO\u001b[0m:     Started server process [\u001b[36m648505\u001b[0m]\n",
      "\u001b[32mINFO\u001b[0m:     Waiting for application startup.\n",
      "\u001b[32mINFO\u001b[0m:     Application startup complete.\n",
      "\u001b[32mINFO\u001b[0m:     Uvicorn running on \u001b[1mhttp://0.0.0.0:8000\u001b[0m (Press CTRL+C to quit)\n",
      "\u001b[32mINFO\u001b[0m:     127.0.0.1:47532 - \"\u001b[1mGET / HTTP/1.1\u001b[0m\" \u001b[32m200 OK\u001b[0m\n",
      "\u001b[32mINFO\u001b[0m:     127.0.0.1:47532 - \"\u001b[1mGET /ui/static/css/2.fa6c921b.chunk.css HTTP/1.1\u001b[0m\" \u001b[32m200 OK\u001b[0m\n",
      "\u001b[32mINFO\u001b[0m:     127.0.0.1:47534 - \"\u001b[1mGET /ui/static/css/main.4620a2c9.chunk.css HTTP/1.1\u001b[0m\" \u001b[32m200 OK\u001b[0m\n",
      "\u001b[32mINFO\u001b[0m:     127.0.0.1:47536 - \"\u001b[1mGET /ui/static/js/2.b0639060.chunk.js HTTP/1.1\u001b[0m\" \u001b[32m200 OK\u001b[0m\n",
      "\u001b[32mINFO\u001b[0m:     127.0.0.1:47534 - \"\u001b[1mGET /ui/static/js/main.56118e82.chunk.js HTTP/1.1\u001b[0m\" \u001b[32m200 OK\u001b[0m\n",
      "\u001b[32mINFO\u001b[0m:     127.0.0.1:47536 - \"\u001b[1mGET /api/bed/all/data/count HTTP/1.1\u001b[0m\" \u001b[32m200 OK\u001b[0m\n",
      "[(None,), ({'alias': 'hg38', 'digest': '2230c535660fb4774114bfa966a62f823fdb6d21acf138d4'},)]\n",
      "\u001b[32mINFO\u001b[0m:     127.0.0.1:47532 - \"\u001b[1mGET /api/bed/genomes HTTP/1.1\u001b[0m\" \u001b[32m200 OK\u001b[0m\n",
      "\u001b[32mINFO\u001b[0m:     127.0.0.1:47534 - \"\u001b[1mGET /api/versions HTTP/1.1\u001b[0m\" \u001b[32m200 OK\u001b[0m\n",
      "\u001b[32mINFO\u001b[0m:     127.0.0.1:47538 - \"\u001b[1mGET /ui/bedbase_logo.svg HTTP/1.1\u001b[0m\" \u001b[32m200 OK\u001b[0m\n",
      "\u001b[32mINFO\u001b[0m:     127.0.0.1:47538 - \"\u001b[1mGET /api/bedset/all/data/count HTTP/1.1\u001b[0m\" \u001b[32m200 OK\u001b[0m\n",
      "Serving data for columns: ['md5sum']\n",
      "\u001b[32mINFO\u001b[0m:     127.0.0.1:47538 - \"\u001b[1mGET /api/bed/all/data?ids=md5sum&limit=1 HTTP/1.1\u001b[0m\" \u001b[32m200 OK\u001b[0m\n",
      "Serving data for columns: ['md5sum']\n",
      "\u001b[32mINFO\u001b[0m:     127.0.0.1:47538 - \"\u001b[1mGET /api/bedset/all/data?ids=md5sum&limt=1 HTTP/1.1\u001b[0m\" \u001b[32m200 OK\u001b[0m\n",
      "\u001b[32mINFO\u001b[0m:     127.0.0.1:47538 - \"\u001b[1mGET /openapi.json HTTP/1.1\u001b[0m\" \u001b[32m200 OK\u001b[0m\n",
      "\u001b[32mINFO\u001b[0m:     127.0.0.1:47538 - \"\u001b[1mGET /ui/favicon.ico HTTP/1.1\u001b[0m\" \u001b[32m200 OK\u001b[0m\n"
     ]
    }
   ],
   "source": [
    "bedhost serve -c  $BEDBASE_DATA_PATH_HOST/bedbase/tutorial_files/bedbase_configuration_compose.yaml"
   ]
  },
  {
   "cell_type": "markdown",
   "metadata": {},
   "source": [
    "If we have stored the path to the bedbase config in the environment variable `$BEDBASE` (suggested), it's not neccesary to use said flag. "
   ]
  },
  {
   "cell_type": "code",
   "execution_count": null,
   "metadata": {},
   "outputs": [],
   "source": [
    "bedhost serve "
   ]
  },
  {
   "cell_type": "markdown",
   "metadata": {},
   "source": [
    "The `bedhost` API can be opened in the url [http://0.0.0.0:8000](http://0.0.0.0:8000). We can now explore the plots and statistics generated by the `bedstat` and `bedbuncher` pipelines."
   ]
  },
  {
   "cell_type": "markdown",
   "metadata": {},
   "source": [
    "## or optionally run BEDHOST using containers\n",
    "\n",
    "Alternatively, you can run the application inside a container.\n",
    "\n",
    "For that we'll use [docker compose](https://docs.docker.com/compose/), a tool that makes running multi-contaier Docker applications possible. The `docker-compose.yaml` file defines two services: \n",
    "- `fastapi-api`: runs the fastAPI server \n",
    "- `postgres-db`: runs the PostgeSQL database used by the server\n"
   ]
  },
  {
   "cell_type": "code",
   "execution_count": 24,
   "metadata": {},
   "outputs": [],
   "source": [
    "cd $BEDBASE_DATA_PATH_HOST"
   ]
  },
  {
   "cell_type": "markdown",
   "metadata": {},
   "source": [
    "Use the `BEDBASE_DATA_PATH_HOST` environment variable to point to the host directory with the pipeline results that will be mounted in the container as a volume. \n",
    "\n",
    "The environment variables are passed to the container via `.env` file, which the `docker-compose.yaml` points to for each service. Additionally, you can just export the environment variables before issuing the `docker-compose` command.\n",
    "When you set the same environment variable in multiple files, here’s the priority used by Compose to choose which value to use:\n",
    "\n",
    "1. Compose file\n",
    "2. Shell environment variables\n",
    "3. Environment file\n",
    "4. Dockerfile\n",
    "4. Variable is not defined"
   ]
  },
  {
   "cell_type": "code",
   "execution_count": 26,
   "metadata": {},
   "outputs": [
    {
     "name": "stdout",
     "output_type": "stream",
     "text": [
      "Pulling postgres-db (postgres:)...\n",
      "latest: Pulling from library/postgres\n",
      "Digest: sha256:8f7c3c9b61d82a4a021da5d9618faf056633e089302a726d619fa467c73609e4\n",
      "Status: Downloaded newer image for postgres:latest\n",
      "Recreating postgreSQL-bedbase ... \n",
      "\u001b[1BRecreating fastAPI-bedbase    ... mdone\u001b[0m\n",
      "\u001b[1BAttaching to postgreSQL-bedbase, fastAPI-bedbase\n",
      "\u001b[33mpostgreSQL-bedbase |\u001b[0m \n",
      "\u001b[33mpostgreSQL-bedbase |\u001b[0m PostgreSQL Database directory appears to contain a database; Skipping initialization\n",
      "\u001b[33mpostgreSQL-bedbase |\u001b[0m \n",
      "\u001b[33mpostgreSQL-bedbase |\u001b[0m 2020-11-02 23:10:28.883 UTC [1] LOG:  starting PostgreSQL 13.0 (Debian 13.0-1.pgdg100+1) on x86_64-pc-linux-gnu, compiled by gcc (Debian 8.3.0-6) 8.3.0, 64-bit\n",
      "\u001b[33mpostgreSQL-bedbase |\u001b[0m 2020-11-02 23:10:28.885 UTC [1] LOG:  listening on IPv4 address \"0.0.0.0\", port 5432\n",
      "\u001b[33mpostgreSQL-bedbase |\u001b[0m 2020-11-02 23:10:28.885 UTC [1] LOG:  listening on IPv6 address \"::\", port 5432\n",
      "\u001b[33mpostgreSQL-bedbase |\u001b[0m 2020-11-02 23:10:28.891 UTC [1] LOG:  listening on Unix socket \"/var/run/postgresql/.s.PGSQL.5432\"\n",
      "\u001b[33mpostgreSQL-bedbase |\u001b[0m 2020-11-02 23:10:28.901 UTC [25] LOG:  database system was shut down at 2020-11-02 23:03:14 UTC\n",
      "\u001b[33mpostgreSQL-bedbase |\u001b[0m 2020-11-02 23:10:28.909 UTC [1] LOG:  database system is ready to accept connections\n",
      "\u001b[36mfastAPI-bedbase |\u001b[0m wait-for-it.sh: waiting 60 seconds for postgres-db:5432\n",
      "\u001b[36mfastAPI-bedbase |\u001b[0m wait-for-it.sh: postgres-db:5432 is available after 0 seconds\n",
      "\u001b[36mfastAPI-bedbase |\u001b[0m DEBU 2020-11-02 23:10:30,246 | bedhost:est:265 > Configured logger 'bedhost' using logmuse v0.2.6 \n",
      "\u001b[36mfastAPI-bedbase |\u001b[0m DEBU 23:10:30 | bbconf:est:265 > Configured logger 'bbconf' using logmuse v0.2.6 \n",
      "\u001b[36mfastAPI-bedbase |\u001b[0m DEBU 23:10:30 | bbconf:bbconf:105 > Established connection with PostgreSQL: postgres-db \n",
      "\u001b[36mfastAPI-bedbase |\u001b[0m DEBU 2020-11-02 23:10:30,299 | bedhost:main:503 > Determined React UI path: /app/bedhost/static/bedhost-ui \n",
      "\u001b[36mfastAPI-bedbase |\u001b[0m INFO 2020-11-02 23:10:30,299 | bedhost:main:510 > running bedhost app \n",
      "\u001b[36mfastAPI-bedbase |\u001b[0m INFO:     Started server process [1]\n",
      "\u001b[36mfastAPI-bedbase |\u001b[0m INFO:     Waiting for application startup.\n",
      "\u001b[36mfastAPI-bedbase |\u001b[0m INFO:     Application startup complete.\n",
      "\u001b[36mfastAPI-bedbase |\u001b[0m INFO:     Uvicorn running on http://0.0.0.0:8000 (Press CTRL+C to quit)\n",
      "Gracefully stopping... (press Ctrl+C again to force)\n",
      "Stopping fastAPI-bedbase      ... \n",
      "Stopping postgreSQL-bedbase   ... \n",
      "\u001b[1Bping postgreSQL-bedbase   ... \u001b[32mdone\u001b[0m"
     ]
    }
   ],
   "source": [
    "cd bedhost; docker-compose up"
   ]
  },
  {
   "cell_type": "code",
   "execution_count": null,
   "metadata": {},
   "outputs": [],
   "source": []
  }
 ],
 "metadata": {
  "kernelspec": {
   "display_name": "Bash",
   "language": "bash",
   "name": "bash"
  },
  "language_info": {
   "codemirror_mode": "shell",
   "file_extension": ".sh",
   "mimetype": "text/x-sh",
   "name": "bash"
  },
  "toc": {
   "base_numbering": 1,
   "nav_menu": {},
   "number_sections": true,
   "sideBar": true,
   "skip_h1_title": true,
   "title_cell": "Table of Contents",
   "title_sidebar": "Contents",
   "toc_cell": true,
   "toc_position": {
    "height": "calc(100% - 180px)",
    "left": "10px",
    "top": "150px",
    "width": "329.797px"
   },
   "toc_section_display": true,
   "toc_window_display": false
  }
 },
 "nbformat": 4,
 "nbformat_minor": 4
}
