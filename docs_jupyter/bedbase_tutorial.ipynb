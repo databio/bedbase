{
 "cells": [
  {
   "cell_type": "markdown",
   "metadata": {},
   "source": [
    "# BEDBASE workflow tutorial\n",
    "\n",
    "This demo demonstrates how to process, analyze, visualize, and serve BED files. The process has 5 steps: First, the [bedmaker](https://github.com/databio/bedmaker) pipeline converts different region data files (bed, bedGraph, bigBed, bigWig, and wig) into BED format and generates bigBed format for each file for visualization in Genome Browser.  An optional step, the [bedqc](https://github.com/databio/bedqc) pipline, flags the BED files that you might not want to include in the downstream analysis.  Second, individual BED files are analyzed using the [bedstat](https://github.com/databio/bedstat) pipeline. Third, BED files are grouped and then analyzed as groups using the [bedbuncher](https://github.com/databio/bedbuncher) pipeline. Fourth, [bedembed](https://github.com/databio/bedembed) uses the StarSpace method to embed the bed files and the meta data, and the distances between the file labels and trained search terms will be calculated with cosine distance. Finally, the BED files, along with statistics, plots, and grouping information, is served via a web interface and RESTful API using the [bedhost](https://github.com/databio/bedhost) package.\n",
    "\n",
    "**Glossary of terms:**\n",
    "\n",
    "- *bedfile*: a tab-delimited file with one genomic region per line. Each genomic region is decribed by 3 required columns: chrom, start and end.\n",
    "- *bedset*: a collection of BED files grouped by with a shared biological, experimental, or logical criterion.\n"
   ]
  },
  {
   "cell_type": "markdown",
   "metadata": {
    "toc": true
   },
   "source": [
    "<h1>Table of Contents<span class=\"tocSkip\"></span></h1>\n",
    "<div class=\"toc\"><ul class=\"toc-item\"><li><span><a href=\"#1.-Preparation\" data-toc-modified-id=\"1.-Preparation-1\"><span class=\"toc-item-num\">1&nbsp;&nbsp;</span>1. Preparation</a></span></li><li><span><a href=\"#2.-BEDMAKER:-convert-non-bed-files-into-bed-files-and-generate-bigBed-files-for-genome-browser-tracks\" data-toc-modified-id=\"2.-BEDMAKER:-convert-non-bed-files-into-bed-files-and-generate-bigBed-files-for-genome-browser-tracks-2\"><span class=\"toc-item-num\">2&nbsp;&nbsp;</span>2. BEDMAKER: convert non-bed files into bed files and generate bigBed files for genome browser tracks</a></span><ul class=\"toc-item\"><li><span><a href=\"#Get-a-PEP-describing-the-files-to-process\" data-toc-modified-id=\"Get-a-PEP-describing-the-files-to-process-2.1\"><span class=\"toc-item-num\">2.1&nbsp;&nbsp;</span>Get a PEP describing the files to process</a></span></li><li><span><a href=\"#Run-bedmaker-on-the-demo-PEP\" data-toc-modified-id=\"Run-bedmaker-on-the-demo-PEP-2.2\"><span class=\"toc-item-num\">2.2&nbsp;&nbsp;</span>Run bedmaker on the demo PEP</a></span></li></ul></li><li><span><a href=\"#OPTIONAL-BEDQC:-flag-bed-files-for-futher-evaluation-to-determine-whether-they-should-be-included-in-the-downstream-analysis\" data-toc-modified-id=\"OPTIONAL-BEDQC:-flag-bed-files-for-futher-evaluation-to-determine-whether-they-should-be-included-in-the-downstream-analysis\"><span class=\"toc-item-num\">&nbsp;&nbsp;</span>OPTIONAL BEDQC: flag bed files for futher evaluation to determine whether they should be included in the downstream analysis</a></span><ul class=\"toc-item\"><li><span><a href=\"#Get-a-PEP-describing-the-files-to-process\" data-toc-modified-id=\"Get-a-PEP-describing-the-files-to-process\"><span class=\"toc-item-num\">&nbsp;&nbsp;</span>Get a PEP describing the files to process</a></span></li><li><span><a href=\"#Run-bedqc-on-the-demo-PEP\" data-toc-modified-id=\"Run-bedqc-on-the-demo-PEP\"><span class=\"toc-item-num\">&nbsp;&nbsp;</span>Run bedqc on the demo PEP</a></span></li></ul></li><li><span><a href=\"#3.-BEDSTAT:-Generate-statistics-and-plots-of-BED-files\" data-toc-modified-id=\"3.-BEDSTAT:-Generate-statistics-and-plots-of-BED-files-3\"><span class=\"toc-item-num\">3&nbsp;&nbsp;</span>3. BEDSTAT: Generate statistics and plots of BED files</a></span><ul class=\"toc-item\"><li><span><a href=\"#Get-a-PEP-describing-the-bedfiles-to-process\" data-toc-modified-id=\"Get-a-PEP-describing-the-bedfiles-to-process-3.1\"><span class=\"toc-item-num\">3.1&nbsp;&nbsp;</span>Get a PEP describing the bedfiles to process</a></span></li><li><span><a href=\"#Install-bedstat-dependencies\" data-toc-modified-id=\"Install-bedstat-dependencies-3.2\"><span class=\"toc-item-num\">3.2&nbsp;&nbsp;</span>Install bedstat dependencies</a></span></li><li><span><a href=\"#Inititiate-a-local-PostgreSQL-instance\" data-toc-modified-id=\"Inititiate-a-local-PostgreSQL-instance-3.3\"><span class=\"toc-item-num\">3.3&nbsp;&nbsp;</span>Inititiate a local PostgreSQL instance</a></span></li><li><span><a href=\"#Run-bedstat--on-the-demo-PEP\" data-toc-modified-id=\"Run-bedstat--on-the-demo-PEP-3.4\"><span class=\"toc-item-num\">3.4&nbsp;&nbsp;</span>Run bedstat  on the demo PEP</a></span></li></ul></li><li><span><a href=\"#4.-BEDBUNCHER:-Create-bedsets-and-their-respective-statistics\" data-toc-modified-id=\"4.-BEDBUNCHER:-Create-bedsets-and-their-respective-statistics-4\"><span class=\"toc-item-num\">4&nbsp;&nbsp;</span>4. BEDBUNCHER: Create bedsets and their respective statistics</a></span><ul class=\"toc-item\"><li><span><a href=\"#Create-a-new-PEP-describing-the-bedset-name-and-specific-JSON-query\" data-toc-modified-id=\"Create-a-new-PEP-describing-the-bedset-name-and-specific-JSON-query-4.1\"><span class=\"toc-item-num\">4.1&nbsp;&nbsp;</span>Create a new PEP describing the bedset name and specific JSON query</a></span></li><li><span><a href=\"#Create-outputs-directory-and-install-bedbuncher-CML-dependencies\" data-toc-modified-id=\"Create-outputs-directory-and-install-bedbuncher-CML-dependencies-4.2\"><span class=\"toc-item-num\">4.2&nbsp;&nbsp;</span>Create outputs directory and install bedbuncher CML dependencies</a></span></li><li><span><a href=\"#Run-bedbuncher-using-Looper\" data-toc-modified-id=\"Run-bedbuncher-using-Looper-4.3\"><span class=\"toc-item-num\">4.3&nbsp;&nbsp;</span>Run bedbuncher using Looper</a></span></li></ul></li><li><span><a href=\"#5.-BEDHOST:--Serve-BED-files-and-API-to-explore-pipeline-outputs\" data-toc-modified-id=\"5.-BEDHOST:--Serve-BED-files-and-API-to-explore-pipeline-outputs-5\"><span class=\"toc-item-num\">5&nbsp;&nbsp;</span>5. BEDHOST:  Serve BED files and API to explore pipeline outputs</a></span></li></ul></div>"
   ]
  },
  {
   "cell_type": "markdown",
   "metadata": {},
   "source": [
    "## 1. Preparation \n",
    "\n",
    "First, we will create a tutorial directory where we'll store the bedbase pipelines and files to be processed. We'll also need to create an environment variable that points to the tutorial directory (we'll need this variable later). "
   ]
  },
  {
   "cell_type": "code",
   "execution_count": 27,
   "metadata": {},
   "outputs": [],
   "source": [
    "# mkdir bedbase_tutorial\n",
    "# cd bedbase_tutorial\n",
    "export BEDBASE_DATA_PATH_HOST=`pwd`\n",
    "export CODE=`pwd`"
   ]
  },
  {
   "cell_type": "markdown",
   "metadata": {},
   "source": [
    "Download some example BED files:"
   ]
  },
  {
   "cell_type": "code",
   "execution_count": 18,
   "metadata": {},
   "outputs": [
    {
     "name": "stdout",
     "output_type": "stream",
     "text": [
      "--2022-10-17 17:48:47--  http://big.databio.org/example_data/bedbase_tutorial/bed_files.tar.gz\n",
      "Resolving big.databio.org (big.databio.org)... 128.143.223.179\n",
      "Connecting to big.databio.org (big.databio.org)|128.143.223.179|:80... connected.\n",
      "HTTP request sent, awaiting response... 200 OK\n",
      "Length: 44549692 (42M) [application/octet-stream]\n",
      "Saving to: ‘bed_files.tar.gz’\n",
      "\n",
      "bed_files.tar.gz    100%[===================>]  42.49M   750KB/s    in 46s     \n",
      "\n",
      "2022-10-17 17:49:33 (956 KB/s) - ‘bed_files.tar.gz’ saved [44549692/44549692]\n",
      "\n"
     ]
    }
   ],
   "source": [
    "wget http://big.databio.org/example_data/bedbase_tutorial/bed_files.tar.gz     "
   ]
  },
  {
   "cell_type": "markdown",
   "metadata": {},
   "source": [
    "The downloaded files are compressed so we'll need to untar them:"
   ]
  },
  {
   "cell_type": "code",
   "execution_count": 19,
   "metadata": {},
   "outputs": [
    {
     "name": "stdout",
     "output_type": "stream",
     "text": [
      "bed_files/\n",
      "bed_files/GSE105587_ENCFF018NNF_conservative_idr_thresholded_peaks_GRCh38.bed.gz\n",
      "bed_files/GSM2423312_ENCFF155HVK_peaks_GRCh38.bed.gz\n",
      "bed_files/GSE105977_ENCFF617QGK_optimal_idr_thresholded_peaks_GRCh38.bed.gz\n",
      "bed_files/GSE91663_ENCFF316ASR_peaks_GRCh38.bed.gz\n",
      "bed_files/GSM2423313_ENCFF722AOG_peaks_GRCh38.bed.gz\n",
      "bed_files/GSM2827349_ENCFF196DNQ_peaks_GRCh38.bed.gz\n",
      "bed_files/GSE91663_ENCFF553KIK_optimal_idr_thresholded_peaks_GRCh38.bed.gz\n",
      "bed_files/GSE91663_ENCFF319TPR_conservative_idr_thresholded_peaks_GRCh38.bed.gz\n",
      "bed_files/GSE105977_ENCFF937CGY_peaks_GRCh38.bed.gz\n",
      "bed_files/GSM2827350_ENCFF928JXU_peaks_GRCh38.bed.gz\n",
      "bed_files/GSE105977_ENCFF793SZW_conservative_idr_thresholded_peaks_GRCh38.bed.gz\n"
     ]
    }
   ],
   "source": [
    "tar -zxvf bed_files.tar.gz && mv bed_files files"
   ]
  },
  {
   "cell_type": "code",
   "execution_count": 20,
   "metadata": {},
   "outputs": [],
   "source": [
    "rm bed_files.tar.gz"
   ]
  },
  {
   "cell_type": "markdown",
   "metadata": {},
   "source": [
    "Additionally, we'll download a matrix we need to provide if we wish to plot the tissue specificity of our set of genomic ranges:"
   ]
  },
  {
   "cell_type": "markdown",
   "metadata": {},
   "source": [
    "Lastly, we'll download the core pipelines and tools needed to complete this tutorial: `bedmaker`, `bedqc`, `bedstat`, `bedbuncher` , `bedhost`, and `bedhost-ui`"
   ]
  },
  {
   "cell_type": "code",
   "execution_count": 8,
   "metadata": {},
   "outputs": [
    {
     "name": "stdout",
     "output_type": "stream",
     "text": [
      "Cloning into 'bedbase'...\n",
      "remote: Enumerating objects: 496, done.\u001b[K\n",
      "remote: Counting objects: 100% (149/149), done.\u001b[K\n",
      "remote: Compressing objects: 100% (77/77), done.\u001b[K\n",
      "remote: Total 496 (delta 101), reused 99 (delta 68), pack-reused 347\u001b[K\n",
      "Receiving objects: 100% (496/496), 581.32 KiB | 6.25 MiB/s, done.\n",
      "Resolving deltas: 100% (250/250), done.\n",
      "fatal: destination path 'bedmaker' already exists and is not an empty directory.\n",
      "fatal: destination path 'bedstat' already exists and is not an empty directory.\n",
      "fatal: destination path 'bedboss' already exists and is not an empty directory.\n"
     ]
    },
    {
     "ename": "",
     "evalue": "128",
     "output_type": "error",
     "traceback": []
    }
   ],
   "source": [
    "git clone -b dev-bedboss git@github.com:databio/bedbase.git\n",
    "git clone -b dev git@github.com:databio/bedmaker\n",
    "git clone -b dev_alex git@github.com:databio/bedstat\n",
    "git clone -b dev git@github.com:databio/bedboss\n",
    "# git clone -b validate_genome_assembly git@github.com:databio/bedbuncher\n",
    "# git clone git@github.com:databio/bedembed\n",
    "# git clone -b dev git@github.com:databio/bedhost\n",
    "# git clone git@github.com:databio/bedhost-ui"
   ]
  },
  {
   "cell_type": "markdown",
   "metadata": {},
   "source": [
    "### Let's install this packages!"
   ]
  },
  {
   "cell_type": "markdown",
   "metadata": {},
   "source": [
    "    I have problems with bedtoBigBed script, so I am downloading it too, and seting in bedmaker path to this script :/"
   ]
  },
  {
   "cell_type": "code",
   "execution_count": 6,
   "metadata": {
    "scrolled": true
   },
   "outputs": [
    {
     "name": "stdout",
     "output_type": "stream",
     "text": [
      "--2022-10-17 15:03:18--  http://hgdownload.soe.ucsc.edu/admin/exe/linux.x86_64/bedToBigBed\n",
      "Resolving hgdownload.soe.ucsc.edu (hgdownload.soe.ucsc.edu)... 128.114.119.163\n",
      "Connecting to hgdownload.soe.ucsc.edu (hgdownload.soe.ucsc.edu)|128.114.119.163|:80... connected.\n",
      "HTTP request sent, awaiting response... 200 OK\n",
      "Length: 9573456 (9.1M)\n",
      "Saving to: ‘bedToBigBed’\n",
      "\n",
      "bedToBigBed         100%[===================>]   9.13M  10.6MB/s    in 0.9s    \n",
      "\n",
      "2022-10-17 15:03:19 (10.6 MB/s) - ‘bedToBigBed’ saved [9573456/9573456]\n",
      "\n"
     ]
    }
   ],
   "source": [
    "wget http://hgdownload.soe.ucsc.edu/admin/exe/linux.x86_64/bedToBigBed\n",
    "chmod a+x bedToBigBed"
   ]
  },
  {
   "cell_type": "code",
   "execution_count": 7,
   "metadata": {},
   "outputs": [
    {
     "name": "stdout",
     "output_type": "stream",
     "text": [
      "\u001b[0m\u001b[01;34mbedbase\u001b[0m  \u001b[01;34mbedboss\u001b[0m  \u001b[01;34mbedmaker\u001b[0m  \u001b[01;34mbedstat\u001b[0m  \u001b[01;32mbedToBigBed\u001b[0m  \u001b[01;34mfiles\u001b[0m\n"
     ]
    }
   ],
   "source": [
    "ls"
   ]
  },
  {
   "cell_type": "code",
   "execution_count": 8,
   "metadata": {
    "scrolled": true
   },
   "outputs": [
    {
     "name": "stdout",
     "output_type": "stream",
     "text": [
      "/home/bnt4me/Virginia/repos/bedbase/docs_jupyter/bedbase_tutorial\n"
     ]
    }
   ],
   "source": [
    "pwd"
   ]
  },
  {
   "cell_type": "code",
   "execution_count": 9,
   "metadata": {},
   "outputs": [
    {
     "name": "stdout",
     "output_type": "stream",
     "text": [
      "Processing ./bedmaker\n",
      "  Preparing metadata (setup.py) ... \u001b[?25ldone\n",
      "\u001b[?25hCollecting argparse>=1.4.0\n",
      "  Using cached argparse-1.4.0-py2.py3-none-any.whl (23 kB)\n",
      "Requirement already satisfied: refgenconf>=0.12.2 in /home/bnt4me/Virginia/venv/jup_notebook/lib/python3.8/site-packages (from bedmaker==0.1.0) (0.12.2)\n",
      "Requirement already satisfied: piper==0.12.3 in /home/bnt4me/Virginia/venv/jup_notebook/lib/python3.8/site-packages (from bedmaker==0.1.0) (0.12.3)\n",
      "Requirement already satisfied: ubiquerg>=0.6.2 in /home/bnt4me/Virginia/venv/jup_notebook/lib/python3.8/site-packages (from bedmaker==0.1.0) (0.6.2)\n",
      "Requirement already satisfied: logmuse>=0.2.7 in /home/bnt4me/Virginia/venv/jup_notebook/lib/python3.8/site-packages (from bedmaker==0.1.0) (0.2.7)\n",
      "Requirement already satisfied: yacman>=0.8.4 in /home/bnt4me/Virginia/venv/jup_notebook/lib/python3.8/site-packages (from bedmaker==0.1.0) (0.8.4)\n",
      "Requirement already satisfied: pandas>=1.4.4 in /home/bnt4me/Virginia/venv/jup_notebook/lib/python3.8/site-packages (from bedmaker==0.1.0) (1.5.0)\n",
      "Requirement already satisfied: psutil in /home/bnt4me/Virginia/venv/jup_notebook/lib/python3.8/site-packages (from piper==0.12.3->bedmaker==0.1.0) (5.9.1)\n",
      "Requirement already satisfied: attmap>=0.12.5 in /home/bnt4me/Virginia/venv/jup_notebook/lib/python3.8/site-packages (from piper==0.12.3->bedmaker==0.1.0) (0.13.2)\n",
      "Requirement already satisfied: pytz>=2020.1 in /home/bnt4me/Virginia/venv/jup_notebook/lib/python3.8/site-packages (from pandas>=1.4.4->bedmaker==0.1.0) (2022.2.1)\n",
      "Requirement already satisfied: python-dateutil>=2.8.1 in /home/bnt4me/Virginia/venv/jup_notebook/lib/python3.8/site-packages (from pandas>=1.4.4->bedmaker==0.1.0) (2.8.2)\n",
      "Requirement already satisfied: numpy>=1.20.3 in /home/bnt4me/Virginia/venv/jup_notebook/lib/python3.8/site-packages (from pandas>=1.4.4->bedmaker==0.1.0) (1.23.4)\n",
      "Requirement already satisfied: tqdm in /home/bnt4me/Virginia/venv/jup_notebook/lib/python3.8/site-packages (from refgenconf>=0.12.2->bedmaker==0.1.0) (4.64.1)\n",
      "Requirement already satisfied: pyyaml in /home/bnt4me/Virginia/venv/jup_notebook/lib/python3.8/site-packages (from refgenconf>=0.12.2->bedmaker==0.1.0) (6.0)\n",
      "Requirement already satisfied: pyfaidx in /home/bnt4me/Virginia/venv/jup_notebook/lib/python3.8/site-packages (from refgenconf>=0.12.2->bedmaker==0.1.0) (0.7.1)\n",
      "Requirement already satisfied: jsonschema>=3.0.1 in /home/bnt4me/Virginia/venv/jup_notebook/lib/python3.8/site-packages (from refgenconf>=0.12.2->bedmaker==0.1.0) (4.13.0)\n",
      "Requirement already satisfied: rich>=9.0.1 in /home/bnt4me/Virginia/venv/jup_notebook/lib/python3.8/site-packages (from refgenconf>=0.12.2->bedmaker==0.1.0) (12.5.1)\n",
      "Requirement already satisfied: requests in /home/bnt4me/Virginia/venv/jup_notebook/lib/python3.8/site-packages (from refgenconf>=0.12.2->bedmaker==0.1.0) (2.28.1)\n",
      "Requirement already satisfied: future in /home/bnt4me/Virginia/venv/jup_notebook/lib/python3.8/site-packages (from refgenconf>=0.12.2->bedmaker==0.1.0) (0.18.2)\n",
      "Requirement already satisfied: oyaml in /home/bnt4me/Virginia/venv/jup_notebook/lib/python3.8/site-packages (from yacman>=0.8.4->bedmaker==0.1.0) (1.0)\n",
      "Requirement already satisfied: importlib-resources>=1.4.0 in /home/bnt4me/Virginia/venv/jup_notebook/lib/python3.8/site-packages (from jsonschema>=3.0.1->refgenconf>=0.12.2->bedmaker==0.1.0) (5.9.0)\n",
      "Requirement already satisfied: attrs>=17.4.0 in /home/bnt4me/Virginia/venv/jup_notebook/lib/python3.8/site-packages (from jsonschema>=3.0.1->refgenconf>=0.12.2->bedmaker==0.1.0) (22.1.0)\n",
      "Requirement already satisfied: pyrsistent!=0.17.0,!=0.17.1,!=0.17.2,>=0.14.0 in /home/bnt4me/Virginia/venv/jup_notebook/lib/python3.8/site-packages (from jsonschema>=3.0.1->refgenconf>=0.12.2->bedmaker==0.1.0) (0.18.1)\n",
      "Requirement already satisfied: pkgutil-resolve-name>=1.3.10 in /home/bnt4me/Virginia/venv/jup_notebook/lib/python3.8/site-packages (from jsonschema>=3.0.1->refgenconf>=0.12.2->bedmaker==0.1.0) (1.3.10)\n",
      "Requirement already satisfied: six>=1.5 in /home/bnt4me/Virginia/venv/jup_notebook/lib/python3.8/site-packages (from python-dateutil>=2.8.1->pandas>=1.4.4->bedmaker==0.1.0) (1.16.0)\n",
      "Requirement already satisfied: pygments<3.0.0,>=2.6.0 in /home/bnt4me/Virginia/venv/jup_notebook/lib/python3.8/site-packages (from rich>=9.0.1->refgenconf>=0.12.2->bedmaker==0.1.0) (2.13.0)\n",
      "Requirement already satisfied: typing-extensions<5.0,>=4.0.0 in /home/bnt4me/Virginia/venv/jup_notebook/lib/python3.8/site-packages (from rich>=9.0.1->refgenconf>=0.12.2->bedmaker==0.1.0) (4.3.0)\n",
      "Requirement already satisfied: commonmark<0.10.0,>=0.9.0 in /home/bnt4me/Virginia/venv/jup_notebook/lib/python3.8/site-packages (from rich>=9.0.1->refgenconf>=0.12.2->bedmaker==0.1.0) (0.9.1)\n",
      "Requirement already satisfied: setuptools>=0.7 in /home/bnt4me/Virginia/venv/jup_notebook/lib/python3.8/site-packages (from pyfaidx->refgenconf>=0.12.2->bedmaker==0.1.0) (59.8.0)\n",
      "Requirement already satisfied: urllib3<1.27,>=1.21.1 in /home/bnt4me/Virginia/venv/jup_notebook/lib/python3.8/site-packages (from requests->refgenconf>=0.12.2->bedmaker==0.1.0) (1.26.11)\n",
      "Requirement already satisfied: idna<4,>=2.5 in /home/bnt4me/Virginia/venv/jup_notebook/lib/python3.8/site-packages (from requests->refgenconf>=0.12.2->bedmaker==0.1.0) (3.3)\n",
      "Requirement already satisfied: charset-normalizer<3,>=2 in /home/bnt4me/Virginia/venv/jup_notebook/lib/python3.8/site-packages (from requests->refgenconf>=0.12.2->bedmaker==0.1.0) (2.1.0)\n",
      "Requirement already satisfied: certifi>=2017.4.17 in /home/bnt4me/Virginia/venv/jup_notebook/lib/python3.8/site-packages (from requests->refgenconf>=0.12.2->bedmaker==0.1.0) (2022.6.15)\n",
      "Requirement already satisfied: zipp>=3.1.0 in /home/bnt4me/Virginia/venv/jup_notebook/lib/python3.8/site-packages (from importlib-resources>=1.4.0->jsonschema>=3.0.1->refgenconf>=0.12.2->bedmaker==0.1.0) (3.8.1)\n",
      "Building wheels for collected packages: bedmaker\n",
      "  Building wheel for bedmaker (setup.py) ... \u001b[?25ldone\n",
      "\u001b[?25h  Created wheel for bedmaker: filename=bedmaker-0.1.0-py3-none-any.whl size=11417 sha256=d3665a350670355224d1623e0a297846c14f3feb11d90d43da7e88fd86a76d68\n",
      "  Stored in directory: /tmp/pip-ephem-wheel-cache-65i4dk0y/wheels/b0/3c/ec/d391d359533d0588c473b0dd29a3e30863d9c5a04d10b537f1\n",
      "Successfully built bedmaker\n",
      "Installing collected packages: argparse, bedmaker\n",
      "  Attempting uninstall: bedmaker\n",
      "    Found existing installation: bedmaker 0.1.0\n",
      "    Uninstalling bedmaker-0.1.0:\n",
      "      Successfully uninstalled bedmaker-0.1.0\n",
      "Successfully installed argparse-1.4.0 bedmaker-0.1.0\n",
      "Processing ./bedstat\n",
      "  Preparing metadata (setup.py) ... \u001b[?25ldone\n",
      "\u001b[?25hRequirement already satisfied: piper>=0.12.1 in /home/bnt4me/Virginia/venv/jup_notebook/lib/python3.8/site-packages (from bedstat==0.1.0) (0.12.3)\n",
      "Requirement already satisfied: looper>=1.2.1 in /home/bnt4me/Virginia/venv/jup_notebook/lib/python3.8/site-packages (from bedstat==0.1.0) (1.3.2)\n",
      "Requirement already satisfied: bbconf>=0.1.0 in /home/bnt4me/Virginia/venv/jup_notebook/lib/python3.8/site-packages (from bedstat==0.1.0) (0.3.1)\n",
      "Requirement already satisfied: requests>=2.27.0 in /home/bnt4me/Virginia/venv/jup_notebook/lib/python3.8/site-packages (from bedstat==0.1.0) (2.28.1)\n",
      "Requirement already satisfied: yacman>=0.8.4 in /home/bnt4me/Virginia/venv/jup_notebook/lib/python3.8/site-packages (from bedstat==0.1.0) (0.8.4)\n",
      "Requirement already satisfied: pipestat>=0.3.1 in /home/bnt4me/Virginia/venv/jup_notebook/lib/python3.8/site-packages (from bedstat==0.1.0) (0.3.1)\n",
      "Requirement already satisfied: logmuse in /home/bnt4me/Virginia/venv/jup_notebook/lib/python3.8/site-packages (from bbconf>=0.1.0->bedstat==0.1.0) (0.2.7)\n",
      "Requirement already satisfied: divvy>=0.5.0 in /home/bnt4me/Virginia/venv/jup_notebook/lib/python3.8/site-packages (from looper>=1.2.1->bedstat==0.1.0) (0.6.0)\n",
      "Requirement already satisfied: colorama>=0.3.9 in /home/bnt4me/Virginia/venv/jup_notebook/lib/python3.8/site-packages (from looper>=1.2.1->bedstat==0.1.0) (0.4.5)\n",
      "Requirement already satisfied: jinja2 in /home/bnt4me/Virginia/venv/jup_notebook/lib/python3.8/site-packages (from looper>=1.2.1->bedstat==0.1.0) (3.1.2)\n",
      "Requirement already satisfied: peppy>=0.31.0 in /home/bnt4me/Virginia/venv/jup_notebook/lib/python3.8/site-packages (from looper>=1.2.1->bedstat==0.1.0) (0.35.2)\n"
     ]
    },
    {
     "name": "stdout",
     "output_type": "stream",
     "text": [
      "Requirement already satisfied: pandas>=0.20.2 in /home/bnt4me/Virginia/venv/jup_notebook/lib/python3.8/site-packages (from looper>=1.2.1->bedstat==0.1.0) (1.5.0)\n",
      "Requirement already satisfied: attmap>=0.12.7 in /home/bnt4me/Virginia/venv/jup_notebook/lib/python3.8/site-packages (from looper>=1.2.1->bedstat==0.1.0) (0.13.2)\n",
      "Requirement already satisfied: eido>=0.1.3 in /home/bnt4me/Virginia/venv/jup_notebook/lib/python3.8/site-packages (from looper>=1.2.1->bedstat==0.1.0) (0.1.9)\n",
      "Requirement already satisfied: ubiquerg>=0.5.2 in /home/bnt4me/Virginia/venv/jup_notebook/lib/python3.8/site-packages (from looper>=1.2.1->bedstat==0.1.0) (0.6.2)\n",
      "Requirement already satisfied: pyyaml>=3.12 in /home/bnt4me/Virginia/venv/jup_notebook/lib/python3.8/site-packages (from looper>=1.2.1->bedstat==0.1.0) (6.0)\n",
      "Requirement already satisfied: psutil in /home/bnt4me/Virginia/venv/jup_notebook/lib/python3.8/site-packages (from piper>=0.12.1->bedstat==0.1.0) (5.9.1)\n",
      "Requirement already satisfied: jsonschema in /home/bnt4me/Virginia/venv/jup_notebook/lib/python3.8/site-packages (from pipestat>=0.3.1->bedstat==0.1.0) (4.13.0)\n",
      "Requirement already satisfied: oyaml in /home/bnt4me/Virginia/venv/jup_notebook/lib/python3.8/site-packages (from pipestat>=0.3.1->bedstat==0.1.0) (1.0)\n",
      "Requirement already satisfied: psycopg2-binary in /home/bnt4me/Virginia/venv/jup_notebook/lib/python3.8/site-packages (from pipestat>=0.3.1->bedstat==0.1.0) (2.9.4)\n",
      "Requirement already satisfied: sqlalchemy>=1.4.7 in /home/bnt4me/Virginia/venv/jup_notebook/lib/python3.8/site-packages (from pipestat>=0.3.1->bedstat==0.1.0) (1.4.41)\n",
      "Requirement already satisfied: charset-normalizer<3,>=2 in /home/bnt4me/Virginia/venv/jup_notebook/lib/python3.8/site-packages (from requests>=2.27.0->bedstat==0.1.0) (2.1.0)\n",
      "Requirement already satisfied: idna<4,>=2.5 in /home/bnt4me/Virginia/venv/jup_notebook/lib/python3.8/site-packages (from requests>=2.27.0->bedstat==0.1.0) (3.3)\n",
      "Requirement already satisfied: certifi>=2017.4.17 in /home/bnt4me/Virginia/venv/jup_notebook/lib/python3.8/site-packages (from requests>=2.27.0->bedstat==0.1.0) (2022.6.15)\n",
      "Requirement already satisfied: urllib3<1.27,>=1.21.1 in /home/bnt4me/Virginia/venv/jup_notebook/lib/python3.8/site-packages (from requests>=2.27.0->bedstat==0.1.0) (1.26.11)\n",
      "Requirement already satisfied: attrs>=17.4.0 in /home/bnt4me/Virginia/venv/jup_notebook/lib/python3.8/site-packages (from jsonschema->pipestat>=0.3.1->bedstat==0.1.0) (22.1.0)\n",
      "Requirement already satisfied: pkgutil-resolve-name>=1.3.10 in /home/bnt4me/Virginia/venv/jup_notebook/lib/python3.8/site-packages (from jsonschema->pipestat>=0.3.1->bedstat==0.1.0) (1.3.10)\n",
      "Requirement already satisfied: importlib-resources>=1.4.0 in /home/bnt4me/Virginia/venv/jup_notebook/lib/python3.8/site-packages (from jsonschema->pipestat>=0.3.1->bedstat==0.1.0) (5.9.0)\n",
      "Requirement already satisfied: pyrsistent!=0.17.0,!=0.17.1,!=0.17.2,>=0.14.0 in /home/bnt4me/Virginia/venv/jup_notebook/lib/python3.8/site-packages (from jsonschema->pipestat>=0.3.1->bedstat==0.1.0) (0.18.1)\n",
      "Requirement already satisfied: python-dateutil>=2.8.1 in /home/bnt4me/Virginia/venv/jup_notebook/lib/python3.8/site-packages (from pandas>=0.20.2->looper>=1.2.1->bedstat==0.1.0) (2.8.2)\n",
      "Requirement already satisfied: pytz>=2020.1 in /home/bnt4me/Virginia/venv/jup_notebook/lib/python3.8/site-packages (from pandas>=0.20.2->looper>=1.2.1->bedstat==0.1.0) (2022.2.1)\n",
      "Requirement already satisfied: numpy>=1.20.3 in /home/bnt4me/Virginia/venv/jup_notebook/lib/python3.8/site-packages (from pandas>=0.20.2->looper>=1.2.1->bedstat==0.1.0) (1.23.4)\n",
      "Requirement already satisfied: rich>=10.3.0 in /home/bnt4me/Virginia/venv/jup_notebook/lib/python3.8/site-packages (from peppy>=0.31.0->looper>=1.2.1->bedstat==0.1.0) (12.5.1)\n",
      "Requirement already satisfied: greenlet!=0.4.17 in /home/bnt4me/Virginia/venv/jup_notebook/lib/python3.8/site-packages (from sqlalchemy>=1.4.7->pipestat>=0.3.1->bedstat==0.1.0) (1.1.3.post0)\n",
      "Requirement already satisfied: MarkupSafe>=2.0 in /home/bnt4me/Virginia/venv/jup_notebook/lib/python3.8/site-packages (from jinja2->looper>=1.2.1->bedstat==0.1.0) (2.1.1)\n",
      "Requirement already satisfied: zipp>=3.1.0 in /home/bnt4me/Virginia/venv/jup_notebook/lib/python3.8/site-packages (from importlib-resources>=1.4.0->jsonschema->pipestat>=0.3.1->bedstat==0.1.0) (3.8.1)\n",
      "Requirement already satisfied: six>=1.5 in /home/bnt4me/Virginia/venv/jup_notebook/lib/python3.8/site-packages (from python-dateutil>=2.8.1->pandas>=0.20.2->looper>=1.2.1->bedstat==0.1.0) (1.16.0)\n",
      "Requirement already satisfied: typing-extensions<5.0,>=4.0.0 in /home/bnt4me/Virginia/venv/jup_notebook/lib/python3.8/site-packages (from rich>=10.3.0->peppy>=0.31.0->looper>=1.2.1->bedstat==0.1.0) (4.3.0)\n",
      "Requirement already satisfied: commonmark<0.10.0,>=0.9.0 in /home/bnt4me/Virginia/venv/jup_notebook/lib/python3.8/site-packages (from rich>=10.3.0->peppy>=0.31.0->looper>=1.2.1->bedstat==0.1.0) (0.9.1)\n",
      "Requirement already satisfied: pygments<3.0.0,>=2.6.0 in /home/bnt4me/Virginia/venv/jup_notebook/lib/python3.8/site-packages (from rich>=10.3.0->peppy>=0.31.0->looper>=1.2.1->bedstat==0.1.0) (2.13.0)\n",
      "Building wheels for collected packages: bedstat\n",
      "  Building wheel for bedstat (setup.py) ... \u001b[?25ldone\n",
      "\u001b[?25h  Created wheel for bedstat: filename=bedstat-0.1.0-py3-none-any.whl size=12964 sha256=a765e5936c39417a9320f7e9ddf98b7964f11acbe43730077f7e908a0915266a\n",
      "  Stored in directory: /tmp/pip-ephem-wheel-cache-3my6yxh4/wheels/79/d1/85/9e5219be05d57343991497d2aaa54ca43673b643bb74ea4c78\n",
      "Successfully built bedstat\n",
      "Installing collected packages: bedstat\n",
      "  Attempting uninstall: bedstat\n",
      "    Found existing installation: bedstat 0.1.0\n",
      "    Uninstalling bedstat-0.1.0:\n",
      "      Successfully uninstalled bedstat-0.1.0\n",
      "Successfully installed bedstat-0.1.0\n",
      "Processing ./bedboss\n",
      "  Preparing metadata (setup.py) ... \u001b[?25ldone\n",
      "\u001b[?25hRequirement already satisfied: logmuse>=0.2.7 in /home/bnt4me/Virginia/venv/jup_notebook/lib/python3.8/site-packages (from bedboss==0.1.0) (0.2.7)\n",
      "Requirement already satisfied: peppy>=0.35.2 in /home/bnt4me/Virginia/venv/jup_notebook/lib/python3.8/site-packages (from bedboss==0.1.0) (0.35.2)\n",
      "Requirement already satisfied: yacman>=0.8.4 in /home/bnt4me/Virginia/venv/jup_notebook/lib/python3.8/site-packages (from bedboss==0.1.0) (0.8.4)\n",
      "Requirement already satisfied: rich>=10.3.0 in /home/bnt4me/Virginia/venv/jup_notebook/lib/python3.8/site-packages (from peppy>=0.35.2->bedboss==0.1.0) (12.5.1)\n",
      "Requirement already satisfied: pyyaml in /home/bnt4me/Virginia/venv/jup_notebook/lib/python3.8/site-packages (from peppy>=0.35.2->bedboss==0.1.0) (6.0)\n",
      "Requirement already satisfied: attmap>=0.13.2 in /home/bnt4me/Virginia/venv/jup_notebook/lib/python3.8/site-packages (from peppy>=0.35.2->bedboss==0.1.0) (0.13.2)\n",
      "Requirement already satisfied: pandas>=0.24.2 in /home/bnt4me/Virginia/venv/jup_notebook/lib/python3.8/site-packages (from peppy>=0.35.2->bedboss==0.1.0) (1.5.0)\n",
      "Requirement already satisfied: ubiquerg>=0.6.2 in /home/bnt4me/Virginia/venv/jup_notebook/lib/python3.8/site-packages (from peppy>=0.35.2->bedboss==0.1.0) (0.6.2)\n",
      "Requirement already satisfied: jsonschema>=3.2.0 in /home/bnt4me/Virginia/venv/jup_notebook/lib/python3.8/site-packages (from yacman>=0.8.4->bedboss==0.1.0) (4.13.0)\n",
      "Requirement already satisfied: oyaml in /home/bnt4me/Virginia/venv/jup_notebook/lib/python3.8/site-packages (from yacman>=0.8.4->bedboss==0.1.0) (1.0)\n",
      "Requirement already satisfied: attrs>=17.4.0 in /home/bnt4me/Virginia/venv/jup_notebook/lib/python3.8/site-packages (from jsonschema>=3.2.0->yacman>=0.8.4->bedboss==0.1.0) (22.1.0)\n",
      "Requirement already satisfied: importlib-resources>=1.4.0 in /home/bnt4me/Virginia/venv/jup_notebook/lib/python3.8/site-packages (from jsonschema>=3.2.0->yacman>=0.8.4->bedboss==0.1.0) (5.9.0)\n",
      "Requirement already satisfied: pyrsistent!=0.17.0,!=0.17.1,!=0.17.2,>=0.14.0 in /home/bnt4me/Virginia/venv/jup_notebook/lib/python3.8/site-packages (from jsonschema>=3.2.0->yacman>=0.8.4->bedboss==0.1.0) (0.18.1)\n",
      "Requirement already satisfied: pkgutil-resolve-name>=1.3.10 in /home/bnt4me/Virginia/venv/jup_notebook/lib/python3.8/site-packages (from jsonschema>=3.2.0->yacman>=0.8.4->bedboss==0.1.0) (1.3.10)\n"
     ]
    },
    {
     "name": "stdout",
     "output_type": "stream",
     "text": [
      "Requirement already satisfied: numpy>=1.20.3 in /home/bnt4me/Virginia/venv/jup_notebook/lib/python3.8/site-packages (from pandas>=0.24.2->peppy>=0.35.2->bedboss==0.1.0) (1.23.4)\n",
      "Requirement already satisfied: pytz>=2020.1 in /home/bnt4me/Virginia/venv/jup_notebook/lib/python3.8/site-packages (from pandas>=0.24.2->peppy>=0.35.2->bedboss==0.1.0) (2022.2.1)\n",
      "Requirement already satisfied: python-dateutil>=2.8.1 in /home/bnt4me/Virginia/venv/jup_notebook/lib/python3.8/site-packages (from pandas>=0.24.2->peppy>=0.35.2->bedboss==0.1.0) (2.8.2)\n",
      "Requirement already satisfied: pygments<3.0.0,>=2.6.0 in /home/bnt4me/Virginia/venv/jup_notebook/lib/python3.8/site-packages (from rich>=10.3.0->peppy>=0.35.2->bedboss==0.1.0) (2.13.0)\n",
      "Requirement already satisfied: commonmark<0.10.0,>=0.9.0 in /home/bnt4me/Virginia/venv/jup_notebook/lib/python3.8/site-packages (from rich>=10.3.0->peppy>=0.35.2->bedboss==0.1.0) (0.9.1)\n",
      "Requirement already satisfied: typing-extensions<5.0,>=4.0.0 in /home/bnt4me/Virginia/venv/jup_notebook/lib/python3.8/site-packages (from rich>=10.3.0->peppy>=0.35.2->bedboss==0.1.0) (4.3.0)\n",
      "Requirement already satisfied: zipp>=3.1.0 in /home/bnt4me/Virginia/venv/jup_notebook/lib/python3.8/site-packages (from importlib-resources>=1.4.0->jsonschema>=3.2.0->yacman>=0.8.4->bedboss==0.1.0) (3.8.1)\n",
      "Requirement already satisfied: six>=1.5 in /home/bnt4me/Virginia/venv/jup_notebook/lib/python3.8/site-packages (from python-dateutil>=2.8.1->pandas>=0.24.2->peppy>=0.35.2->bedboss==0.1.0) (1.16.0)\n",
      "Building wheels for collected packages: bedboss\n",
      "  Building wheel for bedboss (setup.py) ... \u001b[?25ldone\n",
      "\u001b[?25h  Created wheel for bedboss: filename=bedboss-0.1.0-py3-none-any.whl size=8161 sha256=c6a2b2bf78074034c68888d43e5f5a9f1ded86b10e700ac37c83820b0486a347\n",
      "  Stored in directory: /tmp/pip-ephem-wheel-cache-l2up3s4x/wheels/5d/60/0a/667af44fc31a74da5d64ba668baafdede3606a593eb0389e41\n",
      "Successfully built bedboss\n",
      "Installing collected packages: bedboss\n",
      "  Attempting uninstall: bedboss\n",
      "    Found existing installation: bedboss 0.1.0\n",
      "    Uninstalling bedboss-0.1.0:\n",
      "      Successfully uninstalled bedboss-0.1.0\n",
      "Successfully installed bedboss-0.1.0\n"
     ]
    }
   ],
   "source": [
    "pip install ./bedmaker\n",
    "pip install ./bedstat\n",
    "pip install ./bedboss"
   ]
  },
  {
   "cell_type": "code",
   "execution_count": 10,
   "metadata": {},
   "outputs": [
    {
     "name": "stdout",
     "output_type": "stream",
     "text": [
      "/home/bnt4me/Virginia/repos/bedbase/docs_jupyter/bedbase_tutorial\n"
     ]
    }
   ],
   "source": []
  },
  {
   "cell_type": "code",
   "execution_count": 10,
   "metadata": {},
   "outputs": [
    {
     "name": "stdout",
     "output_type": "stream",
     "text": [
      "/home/bnt4me/Virginia/repos/bedbase/docs_jupyter/bedbase_tutorial\n"
     ]
    }
   ],
   "source": [
    "pwd"
   ]
  },
  {
   "cell_type": "code",
   "execution_count": 11,
   "metadata": {},
   "outputs": [
    {
     "name": "stdout",
     "output_type": "stream",
     "text": [
      "bedbase_configuration_compose_local.yaml  \u001b[0m\u001b[01;34mbedboss\u001b[0m  \u001b[01;34mscripts\u001b[0m\n",
      "bedbase_configuration_compose.yaml        \u001b[01;34mPEPs\u001b[0m\n"
     ]
    }
   ],
   "source": [
    "ls bedbase/tutorial_files"
   ]
  },
  {
   "cell_type": "markdown",
   "metadata": {},
   "source": [
    "# 2. BEDBOSS: ALL TOGETHER"
   ]
  },
  {
   "cell_type": "markdown",
   "metadata": {},
   "source": [
    "### Check and update config files"
   ]
  },
  {
   "cell_type": "markdown",
   "metadata": {},
   "source": [
    "Let's create additional metadata for our database:"
   ]
  },
  {
   "cell_type": "code",
   "execution_count": 34,
   "metadata": {},
   "outputs": [
    {
     "name": "stdout",
     "output_type": "stream",
     "text": [
      "\u001b[2KDetecting duplicate sample names \u001b[38;2;114;156;31m━━━━━━━━━━━━━━━━━━━━━━━━━━━━━━━━━━\u001b[0m \u001b[35m100%\u001b[0m \u001b[36m0:00:00\u001b[0m\n",
      "\u001b[?25h"
     ]
    }
   ],
   "source": [
    "yamlcreate -i ./bedbase/tutorial_files/bedboss/bedstat_annotation_sheet.csv -f $BEDBASE_DATA_PATH_HOST/outputs/meta_yaml"
   ]
  },
  {
   "cell_type": "code",
   "execution_count": 13,
   "metadata": {},
   "outputs": [
    {
     "name": "stdout",
     "output_type": "stream",
     "text": [
      "pep_version: 2.1.0\n",
      "sample_table: bedstat_annotation_sheet.csv\n",
      "\n",
      "looper:\n",
      "    output-dir: $BEDBASE_DATA_PATH_HOST/outputs/bedboss_output/bedstat_pipeline_logs\n",
      "\n",
      "sample_modifiers:\n",
      "  append:\n",
      "    pipeline_interfaces: ./pipeline_interface.yaml\n",
      "    input_file_path: INPUT\n",
      "    output_folder: \"$BEDBASE_DATA_PATH_HOST/outputs\"\n",
      "    narrowpeak: TRUE\n",
      "    rfg_config_path: RFG\n",
      "    bedbase_config: \"$BEDBASE_DATA_PATH_HOST/bedbase/tutorial_files/bedboss/config_db_local.yaml\"\n",
      "    yaml_file: YAMLFILE\n",
      "  derive:\n",
      "    attributes: [input_file_path, rfg_config_path, yaml_file]\n",
      "    sources:\n",
      "      INPUT: \"$BEDBASE_DATA_PATH_HOST/files/{file_name}\"\n",
      "      RFG: \"$REFGENIE\"\n",
      "      YAMLFILE: \"$BEDBASE_DATA_PATH_HOST/output/meta_yaml/{sample_name}.yaml\"\n",
      "  imply:\n",
      "    - if:\n",
      "        antibody: [ H3K4me3, H3K27me3, H3K27ac, H3K9ac, H4K5ac, H3K4me, H3K36me3, H4K5ac, H3K9ac ]\n",
      "      then:\n",
      "        narrowpeak: FALSE\n"
     ]
    }
   ],
   "source": [
    "cat bedbase/tutorial_files/bedboss/bedboss_looper.yaml"
   ]
  },
  {
   "cell_type": "markdown",
   "metadata": {},
   "source": [
    "Config for local db and bedstat"
   ]
  },
  {
   "cell_type": "code",
   "execution_count": 14,
   "metadata": {},
   "outputs": [
    {
     "name": "stdout",
     "output_type": "stream",
     "text": [
      "path:\n",
      "  pipeline_output_path: $BEDBASE_DATA_PATH_HOST/outputs\n",
      "  bedstat_dir: bedstat_output\n",
      "  bedbuncher_dir: bedbuncher_output\n",
      "  remote_url_base: null\n",
      "database:\n",
      "  host: localhost\n",
      "  port: 5432\n",
      "  password: bedbasepassword\n",
      "  user: postgres\n",
      "  name: postgres\n",
      "  dialect: postgresql\n",
      "  driver: psycopg2\n",
      "server:\n",
      "  host: 0.0.0.0\n",
      "  port: 8080\n"
     ]
    }
   ],
   "source": [
    "cat bedbase/tutorial_files/bedboss/config_db_local.yaml"
   ]
  },
  {
   "cell_type": "markdown",
   "metadata": {},
   "source": [
    "looper for bedboss"
   ]
  },
  {
   "cell_type": "code",
   "execution_count": 15,
   "metadata": {},
   "outputs": [
    {
     "name": "stdout",
     "output_type": "stream",
     "text": [
      "pipeline_name: BEDMAKER\n",
      "pipeline_type: sample\n",
      "command_template: >\n",
      "  bedboss\n",
      "  --sample-name {sample.sample_name}\n",
      "  --input-file {sample.input_file_path}\n",
      "  --input-type {sample.format}\n",
      "  --genome {sample.genome}\n",
      "  --output_folder {sample.output_folder}\n",
      "  --narrowpeak {sample.narrowpeak}\n",
      "  --rfg-config {sample.rfg_config_path}\n",
      "  --bedbase-config {sample.bedbase_config}\n",
      "  --sample-yaml {sample.yaml_file}\n"
     ]
    }
   ],
   "source": [
    "cat bedbase/tutorial_files/bedboss//pipeline_interface.yaml"
   ]
  },
  {
   "cell_type": "markdown",
   "metadata": {},
   "source": [
    "### Start DB (bedbase-postgres)"
   ]
  },
  {
   "cell_type": "markdown",
   "metadata": {},
   "source": [
    "### Inititiate a local PostgreSQL instance\n",
    "\n",
    "In addition to generate statistics and plots, `bedstat` inserts JSON formatted metadata into relational [PostgreSQL] database. \n",
    "\n",
    "If you don't have docker installed, you can install it with `sudo apt-get update && apt-get install docker-engine -y`.\n",
    "\n",
    "Now, create a persistent volume to house PostgreSQL data:"
   ]
  },
  {
   "cell_type": "code",
   "execution_count": 7,
   "metadata": {
    "scrolled": true
   },
   "outputs": [
    {
     "name": "stdout",
     "output_type": "stream",
     "text": [
      "postgres-data\n"
     ]
    }
   ],
   "source": [
    "docker volume create postgres-data"
   ]
  },
  {
   "cell_type": "markdown",
   "metadata": {},
   "source": [
    "Spin up a `postgres` container. Provide required environment variables (need to match the settings in bedbase configuration file) and bind the created docker volume to `/var/lib/postgresql/data` path in the container:"
   ]
  },
  {
   "cell_type": "code",
   "execution_count": 39,
   "metadata": {},
   "outputs": [
    {
     "name": "stdout",
     "output_type": "stream",
     "text": [
      "docker: Error response from daemon: Conflict. The container name \"/bedbase-postgres\" is already in use by container \"955be16a6e74f91197bc0123fe85a3b3ada720399cd64f3b86b7bd2804db1b8e\". You have to remove (or rename) that container to be able to reuse that name.\n",
      "See 'docker run --help'.\n"
     ]
    },
    {
     "ename": "",
     "evalue": "125",
     "output_type": "error",
     "traceback": []
    }
   ],
   "source": [
    "docker run -d --name bedbase-postgres -p 5432:5432 -e POSTGRES_PASSWORD=bedbasepassword -e POSTGRES_USER=postgres -e POSTGRES_DB=postgres -v postgres-data:/var/lib/postgresql/data postgres"
   ]
  },
  {
   "cell_type": "markdown",
   "metadata": {},
   "source": [
    "If environment variables are not initialized with function above, We have to initialize them manually "
   ]
  },
  {
   "cell_type": "code",
   "execution_count": 40,
   "metadata": {},
   "outputs": [],
   "source": [
    "export DB_HOST_URL=localhost\n",
    "export POSTGRES_PORT=5432\n",
    "export POSTGRES_PASSWORD=bedbasepassword\n",
    "export POSTGRES_USER=postgres\n",
    "export POSTGRES_DB=postgres"
   ]
  },
  {
   "cell_type": "markdown",
   "metadata": {},
   "source": [
    "### RUN BEDBoss"
   ]
  },
  {
   "cell_type": "markdown",
   "metadata": {},
   "source": [
    "Additionally, we have to initialize environment variable $REFGENIE - the path to the refgenie configuration file. If Refgenie is not initialize, we will have to initialize it localy. use `pip install --user refgenie` to install and add to the PATH with `export PATH=~/.local/bin:$PATH`"
   ]
  },
  {
   "cell_type": "code",
   "execution_count": 16,
   "metadata": {
    "scrolled": true
   },
   "outputs": [
    {
     "name": "stdout",
     "output_type": "stream",
     "text": [
      "Traceback (most recent call last):\n",
      "  File \"/home/bnt4me/.local/bin/refgenie\", line 8, in <module>\n",
      "    sys.exit(main())\n",
      "  File \"/home/bnt4me/.local/lib/python3.8/site-packages/refgenie/cli.py\", line 133, in main\n",
      "    rgc.initialize_config_file(os.path.abspath(gencfg))\n",
      "  File \"/home/bnt4me/.local/lib/python3.8/site-packages/refgenconf/refgenconf.py\", line 290, in initialize_config_file\n",
      "    _write_fail_err(\"file exists\")\n",
      "  File \"/home/bnt4me/.local/lib/python3.8/site-packages/refgenconf/refgenconf.py\", line 281, in _write_fail_err\n",
      "    raise OSError(\"Can't initialize, {}: {} \".format(reason, filepath))\n",
      "OSError: Can't initialize, file exists: /home/bnt4me/Virginia/repos/bedbase/docs_jupyter/bedbase_tutorial/genome_config.yaml \n"
     ]
    },
    {
     "ename": "",
     "evalue": "1",
     "output_type": "error",
     "traceback": []
    }
   ],
   "source": [
    "export REFGENIE='genome_config.yaml'\n",
    "refgenie init -c $REFGENIE"
   ]
  },
  {
   "cell_type": "code",
   "execution_count": 26,
   "metadata": {},
   "outputs": [
    {
     "name": "stdout",
     "output_type": "stream",
     "text": [
      "/home/bnt4me/Virginia/repos/bedbase/docs_jupyter/bedbase_tutorial\n"
     ]
    }
   ],
   "source": [
    "pwd"
   ]
  },
  {
   "cell_type": "markdown",
   "metadata": {},
   "source": [
    "##### Run bedboss"
   ]
  },
  {
   "cell_type": "code",
   "execution_count": 35,
   "metadata": {},
   "outputs": [
    {
     "name": "stdout",
     "output_type": "stream",
     "text": [
      "Looper version: 1.3.2\n",
      "Command: run\n",
      "Unrecognized arguments: -R\n",
      "\u001b[2KDetecting duplicate sample names \u001b[38;2;114;156;31m━━━━━━━━━━━━━━━━━━━━━━━━━━━━━━━━━━\u001b[0m \u001b[35m100%\u001b[0m \u001b[36m0:00:00\u001b[0m\n",
      "\u001b[?25hActivating compute package 'local'\n",
      "\u001b[36m## [1 of 11] sample: bedbase_demo_db1; pipeline: BEDMAKER\u001b[0m\n",
      "Writing script to /home/bnt4me/Virginia/repos/bedbase/docs_jupyter/bedbase_tutorial/outputs/bedboss_output/bedstat_pipeline_logs/submission/BEDMAKER_bedbase_demo_db1.sub\n",
      "Job script (n=1; 0.00Gb): /home/bnt4me/Virginia/repos/bedbase/docs_jupyter/bedbase_tutorial/outputs/bedboss_output/bedstat_pipeline_logs/submission/BEDMAKER_bedbase_demo_db1.sub\n",
      "Compute node: cphg-Precision-5560\n",
      "Start time: 2022-10-17 17:56:34\n",
      "processing genome name...\n",
      "Getting Open Signal Matrix file path...\n",
      "output_bed = /home/bnt4me/Virginia/repos/bedbase/docs_jupyter/bedbase_tutorial/outputs/bed_files/GSE105587_ENCFF018NNF_conservative_idr_thresholded_peaks_GRCh38.bed.gz\n",
      "output_bigbed = /home/bnt4me/Virginia/repos/bedbase/docs_jupyter/bedbase_tutorial/outputs/bigbed_files\n",
      "Output directory does not exist. Creating: /home/bnt4me/Virginia/repos/bedbase/docs_jupyter/bedbase_tutorial/outputs/bed_files\n",
      "BigBed directory does not exist. Creating: /home/bnt4me/Virginia/repos/bedbase/docs_jupyter/bedbase_tutorial/outputs/bigbed_files\n",
      "bedmaker logs directory doesn't exist. Creating one...\n",
      "### Pipeline run code and environment:\n",
      "\n",
      "*              Command:  `/home/bnt4me/Virginia/venv/jup_notebook/bin/bedboss --sample-name bedbase_demo_db1 --input-file /home/bnt4me/Virginia/repos/bedbase/docs_jupyter/bedbase_tutorial/files/GSE105587_ENCFF018NNF_conservative_idr_thresholded_peaks_GRCh38.bed.gz --input-type bed --genome hg38 --output_folder /home/bnt4me/Virginia/repos/bedbase/docs_jupyter/bedbase_tutorial/outputs --narrowpeak True --rfg-config genome_config.yaml --bedbase-config /home/bnt4me/Virginia/repos/bedbase/docs_jupyter/bedbase_tutorial/bedbase/tutorial_files/bedboss/config_db_local.yaml --sample-yaml /home/bnt4me/Virginia/repos/bedbase/docs_jupyter/bedbase_tutorial/outputs/meta_yaml/bedbase_demo_db1.yaml`\n",
      "*         Compute host:  cphg-Precision-5560\n",
      "*          Working dir:  /home/bnt4me/Virginia/repos/bedbase/docs_jupyter/bedbase_tutorial\n",
      "*            Outfolder:  /home/bnt4me/Virginia/repos/bedbase/docs_jupyter/bedbase_tutorial/outputs/bed_files/bedmaker_logs/bedbase_demo_db1/\n",
      "*  Pipeline started at:   (10-17 17:56:34) elapsed: 0.0 _TIME_\n",
      "\n",
      "### Version log:\n",
      "\n",
      "*       Python version:  3.8.10\n",
      "*          Pypiper dir:  `/home/bnt4me/Virginia/venv/jup_notebook/lib/python3.8/site-packages/pypiper`\n",
      "*      Pypiper version:  0.12.3\n",
      "*         Pipeline dir:  `/home/bnt4me/Virginia/venv/jup_notebook/bin`\n",
      "*     Pipeline version:  None\n",
      "\n",
      "### Arguments passed to pipeline:\n",
      "\n",
      "\n",
      "----------------------------------------\n",
      "\n",
      "Got input type: bed\n",
      "Target to produce: `/home/bnt4me/Virginia/repos/bedbase/docs_jupyter/bedbase_tutorial/outputs/bed_files/GSE105587_ENCFF018NNF_conservative_idr_thresholded_peaks_GRCh38.bed.gz`  \n",
      "\n",
      "> `cp /home/bnt4me/Virginia/repos/bedbase/docs_jupyter/bedbase_tutorial/files/GSE105587_ENCFF018NNF_conservative_idr_thresholded_peaks_GRCh38.bed.gz /home/bnt4me/Virginia/repos/bedbase/docs_jupyter/bedbase_tutorial/outputs/bed_files/GSE105587_ENCFF018NNF_conservative_idr_thresholded_peaks_GRCh38.bed.gz` (203187)\n",
      "<pre>\n",
      "</pre>\n",
      "Command completed. Elapsed time: 0:00:00. Running peak memory: 0GB.  \n",
      "  PID: 203187;\tCommand: cp;\tReturn code: 0;\tMemory used: 0.0GB\n",
      "\n",
      "### Pipeline run code and environment:\n",
      "\n",
      "*              Command:  `/home/bnt4me/Virginia/venv/jup_notebook/bin/bedboss --sample-name bedbase_demo_db1 --input-file /home/bnt4me/Virginia/repos/bedbase/docs_jupyter/bedbase_tutorial/files/GSE105587_ENCFF018NNF_conservative_idr_thresholded_peaks_GRCh38.bed.gz --input-type bed --genome hg38 --output_folder /home/bnt4me/Virginia/repos/bedbase/docs_jupyter/bedbase_tutorial/outputs --narrowpeak True --rfg-config genome_config.yaml --bedbase-config /home/bnt4me/Virginia/repos/bedbase/docs_jupyter/bedbase_tutorial/bedbase/tutorial_files/bedboss/config_db_local.yaml --sample-yaml /home/bnt4me/Virginia/repos/bedbase/docs_jupyter/bedbase_tutorial/outputs/meta_yaml/bedbase_demo_db1.yaml`\n",
      "*         Compute host:  cphg-Precision-5560\n",
      "*          Working dir:  /home/bnt4me/Virginia/repos/bedbase/docs_jupyter/bedbase_tutorial\n",
      "*            Outfolder:  /home/bnt4me/Virginia/repos/bedbase/docs_jupyter/bedbase_tutorial/outputs/bed_files/bedqc_logs/\n",
      "*  Pipeline started at:   (10-17 17:56:34) elapsed: 0.0 _TIME_\n",
      "\n",
      "### Version log:\n",
      "\n",
      "*       Python version:  3.8.10\n",
      "*          Pypiper dir:  `/home/bnt4me/Virginia/venv/jup_notebook/lib/python3.8/site-packages/pypiper`\n",
      "*      Pypiper version:  0.12.3\n",
      "*         Pipeline dir:  `/home/bnt4me/Virginia/venv/jup_notebook/bin`\n",
      "*     Pipeline version:  None\n",
      "\n",
      "### Arguments passed to pipeline:\n",
      "\n",
      "\n",
      "----------------------------------------\n",
      "\n",
      "Target to produce: `/home/bnt4me/Virginia/repos/bedbase/docs_jupyter/bedbase_tutorial/outputs/bed_files/bedqc_logs/ko3qqvh3`  \n",
      "\n",
      "> `zcat /home/bnt4me/Virginia/repos/bedbase/docs_jupyter/bedbase_tutorial/outputs/bed_files/GSE105587_ENCFF018NNF_conservative_idr_thresholded_peaks_GRCh38.bed.gz > /home/bnt4me/Virginia/repos/bedbase/docs_jupyter/bedbase_tutorial/outputs/bed_files/bedqc_logs/ko3qqvh3` (203202)\n",
      "<pre>\n",
      "</pre>\n",
      "Command completed. Elapsed time: 0:00:00. Running peak memory: 0.002GB.  \n",
      "  PID: 203202;\tCommand: zcat;\tReturn code: 0;\tMemory used: 0.002GB\n",
      "\n",
      "Targetless command, running...  \n",
      "\n",
      "> `bash /home/bnt4me/Virginia/venv/jup_notebook/lib/python3.8/site-packages/bedmaker/est_line.sh /home/bnt4me/Virginia/repos/bedbase/docs_jupyter/bedbase_tutorial/outputs/bed_files/bedqc_logs/ko3qqvh3 ` (203204)\n",
      "<pre>\n",
      "69000</pre>\n",
      "Command completed. Elapsed time: 0:00:00. Running peak memory: 0.002GB.  \n",
      "  PID: 203204;\tCommand: bash;\tReturn code: 0;\tMemory used: 0.0GB\n",
      "\n",
      "Starting cleanup: 1 files; 0 conditional files for cleanup\n",
      "\n",
      "Cleaning up flagged intermediate files. . .\n",
      "\n",
      "### Pipeline completed. Epilogue\n",
      "*        Elapsed time (this run):  0:00:00\n",
      "*  Total elapsed time (all runs):  0:00:00\n",
      "*         Peak memory (this run):  0.0022 GB\n",
      "*        Pipeline completed time: 2022-10-17 17:56:34\n",
      "Generating bigBed files for: /home/bnt4me/Virginia/repos/bedbase/docs_jupyter/bedbase_tutorial/files/GSE105587_ENCFF018NNF_conservative_idr_thresholded_peaks_GRCh38.bed.gz\n",
      "Determining path to chrom.sizes asset via Refgenie.\n",
      "Reading refgenie genome configuration file from file: /home/bnt4me/Virginia/repos/bedbase/docs_jupyter/bedbase_tutorial/genome_config.yaml\n",
      "/home/bnt4me/Virginia/repos/bedbase/docs_jupyter/bedbase_tutorial/alias/hg38/fasta/default/hg38.chrom.sizes\n",
      "Determined path to chrom.sizes asset: /home/bnt4me/Virginia/repos/bedbase/docs_jupyter/bedbase_tutorial/alias/hg38/fasta/default/hg38.chrom.sizes\n",
      "Target to produce: `/home/bnt4me/Virginia/repos/bedbase/docs_jupyter/bedbase_tutorial/outputs/bigbed_files/n6oovfjc`  \n",
      "\n",
      "> `zcat /home/bnt4me/Virginia/repos/bedbase/docs_jupyter/bedbase_tutorial/outputs/bed_files/GSE105587_ENCFF018NNF_conservative_idr_thresholded_peaks_GRCh38.bed.gz  | sort -k1,1 -k2,2n > /home/bnt4me/Virginia/repos/bedbase/docs_jupyter/bedbase_tutorial/outputs/bigbed_files/n6oovfjc` (203214,203215)\n",
      "<pre>\n",
      "</pre>\n",
      "Command completed. Elapsed time: 0:00:00. Running peak memory: 0.009GB.  \n",
      "  PID: 203214;\tCommand: zcat;\tReturn code: 0;\tMemory used: 0.002GB  \n",
      "  PID: 203215;\tCommand: sort;\tReturn code: 0;\tMemory used: 0.009GB\n",
      "\n",
      "Target to produce: `/home/bnt4me/Virginia/repos/bedbase/docs_jupyter/bedbase_tutorial/outputs/bigbed_files/GSE105587_ENCFF018NNF_conservative_idr_thresholded_peaks_GRCh38.bigBed`  \n",
      "\n",
      "> `bedToBigBed -type=bed6+4 /home/bnt4me/Virginia/repos/bedbase/docs_jupyter/bedbase_tutorial/outputs/bigbed_files/n6oovfjc /home/bnt4me/Virginia/repos/bedbase/docs_jupyter/bedbase_tutorial/alias/hg38/fasta/default/hg38.chrom.sizes /home/bnt4me/Virginia/repos/bedbase/docs_jupyter/bedbase_tutorial/outputs/bigbed_files/GSE105587_ENCFF018NNF_conservative_idr_thresholded_peaks_GRCh38.bigBed` (203217)\n",
      "<pre>\n",
      "pass1 - making usageList (34 chroms): 12 millis\n",
      "pass2 - checking and writing primary data (68728 records, 10 fields): 103 millis\n",
      "</pre>\n",
      "Command completed. Elapsed time: 0:00:00. Running peak memory: 0.011GB.  \n"
     ]
    },
    {
     "name": "stdout",
     "output_type": "stream",
     "text": [
      "  PID: 203217;\tCommand: bedToBigBed;\tReturn code: 0;\tMemory used: 0.011GB\n",
      "\n",
      "Starting cleanup: 1 files; 0 conditional files for cleanup\n",
      "\n",
      "Cleaning up flagged intermediate files. . .\n",
      "\n",
      "### Pipeline completed. Epilogue\n",
      "*        Elapsed time (this run):  0:00:01\n",
      "*  Total elapsed time (all runs):  0:00:00\n",
      "*         Peak memory (this run):  0.0115 GB\n",
      "*        Pipeline completed time: 2022-10-17 17:56:35\n",
      "### Pipeline run code and environment:\n",
      "\n",
      "*              Command:  `/home/bnt4me/Virginia/venv/jup_notebook/bin/bedboss --sample-name bedbase_demo_db1 --input-file /home/bnt4me/Virginia/repos/bedbase/docs_jupyter/bedbase_tutorial/files/GSE105587_ENCFF018NNF_conservative_idr_thresholded_peaks_GRCh38.bed.gz --input-type bed --genome hg38 --output_folder /home/bnt4me/Virginia/repos/bedbase/docs_jupyter/bedbase_tutorial/outputs --narrowpeak True --rfg-config genome_config.yaml --bedbase-config /home/bnt4me/Virginia/repos/bedbase/docs_jupyter/bedbase_tutorial/bedbase/tutorial_files/bedboss/config_db_local.yaml --sample-yaml /home/bnt4me/Virginia/repos/bedbase/docs_jupyter/bedbase_tutorial/outputs/meta_yaml/bedbase_demo_db1.yaml`\n",
      "*         Compute host:  cphg-Precision-5560\n",
      "*          Working dir:  /home/bnt4me/Virginia/repos/bedbase/docs_jupyter/bedbase_tutorial\n",
      "*            Outfolder:  /home/bnt4me/Virginia/repos/bedbase/docs_jupyter/bedbase_tutorial/outputs/bedstat_output/78c0e4753d04b238fc07e4ebe5a02984/\n",
      "*  Pipeline started at:   (10-17 17:56:35) elapsed: 0.0 _TIME_\n",
      "\n",
      "### Version log:\n",
      "\n",
      "*       Python version:  3.8.10\n",
      "*          Pypiper dir:  `/home/bnt4me/Virginia/venv/jup_notebook/lib/python3.8/site-packages/pypiper`\n",
      "*      Pypiper version:  0.12.3\n",
      "*         Pipeline dir:  `/home/bnt4me/Virginia/venv/jup_notebook/bin`\n",
      "*     Pipeline version:  None\n",
      "\n",
      "### Arguments passed to pipeline:\n",
      "\n",
      "\n",
      "----------------------------------------\n",
      "\n",
      "Rscript /home/bnt4me/Virginia/venv/jup_notebook/lib/python3.8/site-packages/bedstat/tools/regionstat.R --bedfilePath=/home/bnt4me/Virginia/repos/bedbase/docs_jupyter/bedbase_tutorial/outputs/bed_files/GSE105587_ENCFF018NNF_conservative_idr_thresholded_peaks_GRCh38.bed.gz --fileId=GSE105587_ENCFF018NNF_conservative_idr_thresholded_peaks_GRCh38 --openSignalMatrix=./openSignalMatrix/openSignalMatrix_hg38_percentile99_01_quantNormalized_round4d.txt.gz --outputFolder=/home/bnt4me/Virginia/repos/bedbase/docs_jupyter/bedbase_tutorial/outputs/bedstat_output/78c0e4753d04b238fc07e4ebe5a02984 --genome=hg38 --ensdb=None --digest=78c0e4753d04b238fc07e4ebe5a02984\n",
      "Target to produce: `/home/bnt4me/Virginia/repos/bedbase/docs_jupyter/bedbase_tutorial/outputs/bedstat_output/78c0e4753d04b238fc07e4ebe5a02984/GSE105587_ENCFF018NNF_conservative_idr_thresholded_peaks_GRCh38.json`  \n",
      "\n",
      "> `Rscript /home/bnt4me/Virginia/venv/jup_notebook/lib/python3.8/site-packages/bedstat/tools/regionstat.R --bedfilePath=/home/bnt4me/Virginia/repos/bedbase/docs_jupyter/bedbase_tutorial/outputs/bed_files/GSE105587_ENCFF018NNF_conservative_idr_thresholded_peaks_GRCh38.bed.gz --fileId=GSE105587_ENCFF018NNF_conservative_idr_thresholded_peaks_GRCh38 --openSignalMatrix=./openSignalMatrix/openSignalMatrix_hg38_percentile99_01_quantNormalized_round4d.txt.gz --outputFolder=/home/bnt4me/Virginia/repos/bedbase/docs_jupyter/bedbase_tutorial/outputs/bedstat_output/78c0e4753d04b238fc07e4ebe5a02984 --genome=hg38 --ensdb=None --digest=78c0e4753d04b238fc07e4ebe5a02984` (203227)\n",
      "<pre>\n",
      "Loading required package: IRanges\n",
      "Loading required package: BiocGenerics\n",
      "\n",
      "Attaching package: ‘BiocGenerics’\n",
      "\n",
      "The following objects are masked from ‘package:stats’:\n",
      "\n",
      "    IQR, mad, sd, var, xtabs\n",
      "\n",
      "The following objects are masked from ‘package:base’:\n",
      "\n",
      "    anyDuplicated, append, as.data.frame, basename, cbind, colnames,\n",
      "    dirname, do.call, duplicated, eval, evalq, Filter, Find, get, grep,\n",
      "    grepl, intersect, is.unsorted, lapply, Map, mapply, match, mget,\n",
      "    order, paste, pmax, pmax.int, pmin, pmin.int, Position, rank,\n",
      "    rbind, Reduce, rownames, sapply, setdiff, sort, table, tapply,\n",
      "    union, unique, unsplit, which.max, which.min\n",
      "\n",
      "Loading required package: S4Vectors\n",
      "Loading required package: stats4\n",
      "\n",
      "Attaching package: ‘S4Vectors’\n",
      "\n",
      "The following objects are masked from ‘package:base’:\n",
      "\n",
      "    expand.grid, I, unname\n",
      "\n",
      "Loading required package: GenomicRanges\n",
      "Loading required package: GenomeInfoDb\n",
      "snapshotDate(): 2022-04-26\n",
      "Warning message:\n",
      "replacing previous import 'GenomicFeatures::proteinToGenome' by 'ensembldb::proteinToGenome' when loading 'GenomicDistributionsData' \n",
      "Loading required package: GenomicFeatures\n",
      "Loading required package: AnnotationDbi\n",
      "Loading required package: Biobase\n",
      "Welcome to Bioconductor\n",
      "\n",
      "    Vignettes contain introductory material; view with\n",
      "    'browseVignettes()'. To cite Bioconductor, see\n",
      "    'citation(\"Biobase\")', and for packages 'citation(\"pkgname\")'.\n",
      "\n",
      "Loading required package: AnnotationFilter\n",
      "\n",
      "Attaching package: 'ensembldb'\n",
      "\n",
      "The following object is masked from 'package:stats':\n",
      "\n",
      "    filter\n",
      "\n",
      "Loading required package: R.oo\n",
      "Loading required package: R.methodsS3\n",
      "R.methodsS3 v1.8.2 (2022-06-13 22:00:14 UTC) successfully loaded. See ?R.methodsS3 for help.\n",
      "R.oo v1.25.0 (2022-06-12 02:20:02 UTC) successfully loaded. See ?R.oo for help.\n",
      "\n",
      "Attaching package: 'R.oo'\n",
      "\n",
      "The following object is masked from 'package:R.methodsS3':\n",
      "\n",
      "    throw\n",
      "\n",
      "The following object is masked from 'package:GenomicRanges':\n",
      "\n",
      "    trim\n",
      "\n",
      "The following object is masked from 'package:IRanges':\n",
      "\n",
      "    trim\n",
      "\n",
      "The following objects are masked from 'package:methods':\n",
      "\n",
      "    getClasses, getMethods\n",
      "\n",
      "The following objects are masked from 'package:base':\n",
      "\n",
      "    attach, detach, load, save\n",
      "\n",
      "R.utils v2.12.0 (2022-06-28 03:20:05 UTC) successfully loaded. See ?R.utils for help.\n",
      "\n",
      "Attaching package: 'R.utils'\n",
      "\n",
      "The following object is masked from 'package:utils':\n",
      "\n",
      "    timestamp\n",
      "\n",
      "The following objects are masked from 'package:base':\n",
      "\n",
      "    cat, commandArgs, getOption, isOpen, nullfile, parse, warnings\n",
      "\n",
      "see ?GenomicDistributionsData and browseVignettes('GenomicDistributionsData') for documentation\n",
      "loading from cache\n",
      "[1] \"Plotting: /home/bnt4me/Virginia/repos/bedbase/docs_jupyter/bedbase_tutorial/outputs/bedstat_output/78c0e4753d04b238fc07e4ebe5a02984/GSE105587_ENCFF018NNF_conservative_idr_thresholded_peaks_GRCh38_tssdist\"\n",
      "Scale for 'x' is already present. Adding another scale for 'x', which will\n",
      "replace the existing scale.\n",
      "[1] \"Writing plot json: outputs/bedstat_output/78c0e4753d04b238fc07e4ebe5a02984/GSE105587_ENCFF018NNF_conservative_idr_thresholded_peaks_GRCh38_tssdist\"\n",
      "Successfully calculated and plot TSS distance.\n",
      "[1] \"Plotting: /home/bnt4me/Virginia/repos/bedbase/docs_jupyter/bedbase_tutorial/outputs/bedstat_output/78c0e4753d04b238fc07e4ebe5a02984/GSE105587_ENCFF018NNF_conservative_idr_thresholded_peaks_GRCh38_chrombins\"\n",
      "see ?GenomicDistributionsData and browseVignettes('GenomicDistributionsData') for documentation\n",
      "loading from cache\n",
      "[1] \"Writing plot json: outputs/bedstat_output/78c0e4753d04b238fc07e4ebe5a02984/GSE105587_ENCFF018NNF_conservative_idr_thresholded_peaks_GRCh38_chrombins\"\n",
      "Successfully calculated and plot chromosomes region distribution.\n",
      "see ?GenomicDistributionsData and browseVignettes('GenomicDistributionsData') for documentation\n",
      "loading from cache\n",
      "Calculating overlaps...\n",
      "[1] \"Plotting: /home/bnt4me/Virginia/repos/bedbase/docs_jupyter/bedbase_tutorial/outputs/bedstat_output/78c0e4753d04b238fc07e4ebe5a02984/GSE105587_ENCFF018NNF_conservative_idr_thresholded_peaks_GRCh38_paritions\"\n",
      "[1] \"Writing plot json: outputs/bedstat_output/78c0e4753d04b238fc07e4ebe5a02984/GSE105587_ENCFF018NNF_conservative_idr_thresholded_peaks_GRCh38_paritions\"\n",
      "Successfully calculated and plot regions distribution over genomic partitions.\n",
      "[1] \"Plotting: /home/bnt4me/Virginia/repos/bedbase/docs_jupyter/bedbase_tutorial/outputs/bedstat_output/78c0e4753d04b238fc07e4ebe5a02984/GSE105587_ENCFF018NNF_conservative_idr_thresholded_peaks_GRCh38_expected_partitions\"\n",
      "see ?GenomicDistributionsData and browseVignettes('GenomicDistributionsData') for documentation\n",
      "loading from cache\n",
      "see ?GenomicDistributionsData and browseVignettes('GenomicDistributionsData') for documentation\n",
      "loading from cache\n",
      "[1] \"Writing plot json: outputs/bedstat_output/78c0e4753d04b238fc07e4ebe5a02984/GSE105587_ENCFF018NNF_conservative_idr_thresholded_peaks_GRCh38_expected_partitions\"\n"
     ]
    },
    {
     "name": "stdout",
     "output_type": "stream",
     "text": [
      "Successfully calculated and plot expected distribution over genomic partitions.\n",
      "[1] \"Plotting: /home/bnt4me/Virginia/repos/bedbase/docs_jupyter/bedbase_tutorial/outputs/bedstat_output/78c0e4753d04b238fc07e4ebe5a02984/GSE105587_ENCFF018NNF_conservative_idr_thresholded_peaks_GRCh38_cumulative_partitions\"\n",
      "see ?GenomicDistributionsData and browseVignettes('GenomicDistributionsData') for documentation\n",
      "loading from cache\n",
      "[1] \"Writing plot json: outputs/bedstat_output/78c0e4753d04b238fc07e4ebe5a02984/GSE105587_ENCFF018NNF_conservative_idr_thresholded_peaks_GRCh38_cumulative_partitions\"\n",
      "Successfully calculated and plot cumulative distribution over genomic partitions.\n",
      "[1] \"Plotting: /home/bnt4me/Virginia/repos/bedbase/docs_jupyter/bedbase_tutorial/outputs/bedstat_output/78c0e4753d04b238fc07e4ebe5a02984/GSE105587_ENCFF018NNF_conservative_idr_thresholded_peaks_GRCh38_widths_histogram\"\n",
      "[1] \"Writing plot json: outputs/bedstat_output/78c0e4753d04b238fc07e4ebe5a02984/GSE105587_ENCFF018NNF_conservative_idr_thresholded_peaks_GRCh38_widths_histogram\"\n",
      "Successfully calculated and plot quantile-trimmed histogram of widths.\n",
      "[1] \"Plotting: /home/bnt4me/Virginia/repos/bedbase/docs_jupyter/bedbase_tutorial/outputs/bedstat_output/78c0e4753d04b238fc07e4ebe5a02984/GSE105587_ENCFF018NNF_conservative_idr_thresholded_peaks_GRCh38_neighbor_distances\"\n",
      "[1] \"Writing plot json: outputs/bedstat_output/78c0e4753d04b238fc07e4ebe5a02984/GSE105587_ENCFF018NNF_conservative_idr_thresholded_peaks_GRCh38_neighbor_distances\"\n",
      "Successfully calculated and plot distance between neighbor regions.\n",
      "[1] \"Plotting: /home/bnt4me/Virginia/repos/bedbase/docs_jupyter/bedbase_tutorial/outputs/bedstat_output/78c0e4753d04b238fc07e4ebe5a02984/GSE105587_ENCFF018NNF_conservative_idr_thresholded_peaks_GRCh38_open_chromatin\"\n",
      "[1] \"Writing plot json: outputs/bedstat_output/78c0e4753d04b238fc07e4ebe5a02984/GSE105587_ENCFF018NNF_conservative_idr_thresholded_peaks_GRCh38_open_chromatin\"\n",
      "Successfully calculated and plot cell specific enrichment for open chromatin.\n",
      "[1] \"bedmeta\"\n",
      "$name\n",
      "[1] \"GSE105587_ENCFF018NNF_conservative_idr_thresholded_peaks_GRCh38\"\n",
      "\n",
      "$regions_no\n",
      "[1] 68728\n",
      "\n",
      "$mean_region_width\n",
      "[1] 567.1\n",
      "\n",
      "$md5sum\n",
      "[1] \"78c0e4753d04b238fc07e4ebe5a02984\"\n",
      "\n",
      "$median_TSS_dist\n",
      "[1] 16930\n",
      "\n",
      "</pre>\n",
      "Command completed. Elapsed time: 0:00:43. Running peak memory: 1.266GB.  \n",
      "  PID: 203227;\tCommand: Rscript;\tReturn code: 0;\tMemory used: 1.266GB\n",
      "\n",
      "\n",
      "### Pipeline completed. Epilogue\n",
      "*        Elapsed time (this run):  0:00:43\n",
      "*  Total elapsed time (all runs):  0:00:43\n",
      "*         Peak memory (this run):  1.2662 GB\n",
      "*        Pipeline completed time: 2022-10-17 17:57:18\n",
      "These results exist for '78c0e4753d04b238fc07e4ebe5a02984': name, regions_no, mean_region_width, md5sum, median_tss_dist, exon_frequency, exon_percentage, fiveutr_frequency, fiveutr_percentage, intergenic_frequency, intergenic_percentage, intron_frequency, intron_percentage, promotercore_frequency, promotercore_percentage, promoterprox_frequency, promoterprox_percentage, threeutr_frequency, threeutr_percentage, other, bedfile, genome, bigbedfile, tssdist, chrombins, paritions, expected_partitions, cumulative_partitions, widths_histogram, neighbor_distances, open_chromatin\n",
      "\u001b[36m## [2 of 11] sample: bedbase_demo_db2; pipeline: BEDMAKER\u001b[0m\n",
      "Writing script to /home/bnt4me/Virginia/repos/bedbase/docs_jupyter/bedbase_tutorial/outputs/bedboss_output/bedstat_pipeline_logs/submission/BEDMAKER_bedbase_demo_db2.sub\n",
      "Job script (n=1; 0.00Gb): /home/bnt4me/Virginia/repos/bedbase/docs_jupyter/bedbase_tutorial/outputs/bedboss_output/bedstat_pipeline_logs/submission/BEDMAKER_bedbase_demo_db2.sub\n",
      "Compute node: cphg-Precision-5560\n",
      "Start time: 2022-10-17 17:57:24\n",
      "processing genome name...\n",
      "Getting Open Signal Matrix file path...\n",
      "output_bed = /home/bnt4me/Virginia/repos/bedbase/docs_jupyter/bedbase_tutorial/outputs/bed_files/GSE105977_ENCFF617QGK_optimal_idr_thresholded_peaks_GRCh38.bed.gz\n",
      "output_bigbed = /home/bnt4me/Virginia/repos/bedbase/docs_jupyter/bedbase_tutorial/outputs/bigbed_files\n",
      "bedmaker logs directory doesn't exist. Creating one...\n",
      "### Pipeline run code and environment:\n",
      "\n",
      "*              Command:  `/home/bnt4me/Virginia/venv/jup_notebook/bin/bedboss --sample-name bedbase_demo_db2 --input-file /home/bnt4me/Virginia/repos/bedbase/docs_jupyter/bedbase_tutorial/files/GSE105977_ENCFF617QGK_optimal_idr_thresholded_peaks_GRCh38.bed.gz --input-type bed --genome hg38 --output_folder /home/bnt4me/Virginia/repos/bedbase/docs_jupyter/bedbase_tutorial/outputs --narrowpeak True --rfg-config genome_config.yaml --bedbase-config /home/bnt4me/Virginia/repos/bedbase/docs_jupyter/bedbase_tutorial/bedbase/tutorial_files/bedboss/config_db_local.yaml --sample-yaml /home/bnt4me/Virginia/repos/bedbase/docs_jupyter/bedbase_tutorial/outputs/meta_yaml/bedbase_demo_db2.yaml`\n",
      "*         Compute host:  cphg-Precision-5560\n",
      "*          Working dir:  /home/bnt4me/Virginia/repos/bedbase/docs_jupyter/bedbase_tutorial\n",
      "*            Outfolder:  /home/bnt4me/Virginia/repos/bedbase/docs_jupyter/bedbase_tutorial/outputs/bed_files/bedmaker_logs/bedbase_demo_db2/\n",
      "*  Pipeline started at:   (10-17 17:57:24) elapsed: 0.0 _TIME_\n",
      "\n",
      "### Version log:\n",
      "\n",
      "*       Python version:  3.8.10\n",
      "*          Pypiper dir:  `/home/bnt4me/Virginia/venv/jup_notebook/lib/python3.8/site-packages/pypiper`\n",
      "*      Pypiper version:  0.12.3\n",
      "*         Pipeline dir:  `/home/bnt4me/Virginia/venv/jup_notebook/bin`\n",
      "*     Pipeline version:  None\n",
      "\n",
      "### Arguments passed to pipeline:\n",
      "\n",
      "\n",
      "----------------------------------------\n",
      "\n",
      "Got input type: bed\n",
      "Target to produce: `/home/bnt4me/Virginia/repos/bedbase/docs_jupyter/bedbase_tutorial/outputs/bed_files/GSE105977_ENCFF617QGK_optimal_idr_thresholded_peaks_GRCh38.bed.gz`  \n",
      "\n",
      "> `cp /home/bnt4me/Virginia/repos/bedbase/docs_jupyter/bedbase_tutorial/files/GSE105977_ENCFF617QGK_optimal_idr_thresholded_peaks_GRCh38.bed.gz /home/bnt4me/Virginia/repos/bedbase/docs_jupyter/bedbase_tutorial/outputs/bed_files/GSE105977_ENCFF617QGK_optimal_idr_thresholded_peaks_GRCh38.bed.gz` (203404)\n",
      "<pre>\n",
      "</pre>\n",
      "Command completed. Elapsed time: 0:00:00. Running peak memory: 0GB.  \n",
      "  PID: 203404;\tCommand: cp;\tReturn code: 0;\tMemory used: 0.0GB\n",
      "\n",
      "Removed existing flag: '/home/bnt4me/Virginia/repos/bedbase/docs_jupyter/bedbase_tutorial/outputs/bed_files/bedqc_logs/bedQC-pipeline_completed.flag'\n",
      "### Pipeline run code and environment:\n",
      "\n",
      "*              Command:  `/home/bnt4me/Virginia/venv/jup_notebook/bin/bedboss --sample-name bedbase_demo_db2 --input-file /home/bnt4me/Virginia/repos/bedbase/docs_jupyter/bedbase_tutorial/files/GSE105977_ENCFF617QGK_optimal_idr_thresholded_peaks_GRCh38.bed.gz --input-type bed --genome hg38 --output_folder /home/bnt4me/Virginia/repos/bedbase/docs_jupyter/bedbase_tutorial/outputs --narrowpeak True --rfg-config genome_config.yaml --bedbase-config /home/bnt4me/Virginia/repos/bedbase/docs_jupyter/bedbase_tutorial/bedbase/tutorial_files/bedboss/config_db_local.yaml --sample-yaml /home/bnt4me/Virginia/repos/bedbase/docs_jupyter/bedbase_tutorial/outputs/meta_yaml/bedbase_demo_db2.yaml`\n",
      "*         Compute host:  cphg-Precision-5560\n",
      "*          Working dir:  /home/bnt4me/Virginia/repos/bedbase/docs_jupyter/bedbase_tutorial\n",
      "*            Outfolder:  /home/bnt4me/Virginia/repos/bedbase/docs_jupyter/bedbase_tutorial/outputs/bed_files/bedqc_logs/\n",
      "*  Pipeline started at:   (10-17 17:57:24) elapsed: 0.0 _TIME_\n",
      "\n",
      "### Version log:\n",
      "\n",
      "*       Python version:  3.8.10\n",
      "*          Pypiper dir:  `/home/bnt4me/Virginia/venv/jup_notebook/lib/python3.8/site-packages/pypiper`\n",
      "*      Pypiper version:  0.12.3\n",
      "*         Pipeline dir:  `/home/bnt4me/Virginia/venv/jup_notebook/bin`\n",
      "*     Pipeline version:  None\n",
      "\n",
      "### Arguments passed to pipeline:\n",
      "\n",
      "\n",
      "----------------------------------------\n",
      "\n",
      "Target to produce: `/home/bnt4me/Virginia/repos/bedbase/docs_jupyter/bedbase_tutorial/outputs/bed_files/bedqc_logs/8__morub`  \n",
      "\n",
      "> `zcat /home/bnt4me/Virginia/repos/bedbase/docs_jupyter/bedbase_tutorial/outputs/bed_files/GSE105977_ENCFF617QGK_optimal_idr_thresholded_peaks_GRCh38.bed.gz > /home/bnt4me/Virginia/repos/bedbase/docs_jupyter/bedbase_tutorial/outputs/bed_files/bedqc_logs/8__morub` (203411)\n",
      "<pre>\n",
      "</pre>\n",
      "Command completed. Elapsed time: 0:00:00. Running peak memory: 0GB.  \n",
      "  PID: 203411;\tCommand: zcat;\tReturn code: 0;\tMemory used: 0.0GB\n"
     ]
    },
    {
     "name": "stdout",
     "output_type": "stream",
     "text": [
      "\n",
      "Targetless command, running...  \n",
      "\n",
      "> `bash /home/bnt4me/Virginia/venv/jup_notebook/lib/python3.8/site-packages/bedmaker/est_line.sh /home/bnt4me/Virginia/repos/bedbase/docs_jupyter/bedbase_tutorial/outputs/bed_files/bedqc_logs/8__morub ` (203413)\n",
      "<pre>\n",
      "5000</pre>\n",
      "Command completed. Elapsed time: 0:00:00. Running peak memory: 0GB.  \n",
      "  PID: 203413;\tCommand: bash;\tReturn code: 0;\tMemory used: 0.0GB\n",
      "\n",
      "Starting cleanup: 1 files; 0 conditional files for cleanup\n",
      "\n",
      "Cleaning up flagged intermediate files. . .\n",
      "\n",
      "### Pipeline completed. Epilogue\n",
      "*        Elapsed time (this run):  0:00:00\n",
      "*  Total elapsed time (all runs):  0:00:00\n",
      "*         Peak memory (this run):  0 GB\n",
      "*        Pipeline completed time: 2022-10-17 17:57:24\n",
      "Generating bigBed files for: /home/bnt4me/Virginia/repos/bedbase/docs_jupyter/bedbase_tutorial/files/GSE105977_ENCFF617QGK_optimal_idr_thresholded_peaks_GRCh38.bed.gz\n",
      "Determining path to chrom.sizes asset via Refgenie.\n",
      "Reading refgenie genome configuration file from file: /home/bnt4me/Virginia/repos/bedbase/docs_jupyter/bedbase_tutorial/genome_config.yaml\n",
      "/home/bnt4me/Virginia/repos/bedbase/docs_jupyter/bedbase_tutorial/alias/hg38/fasta/default/hg38.chrom.sizes\n",
      "Determined path to chrom.sizes asset: /home/bnt4me/Virginia/repos/bedbase/docs_jupyter/bedbase_tutorial/alias/hg38/fasta/default/hg38.chrom.sizes\n",
      "Target to produce: `/home/bnt4me/Virginia/repos/bedbase/docs_jupyter/bedbase_tutorial/outputs/bigbed_files/h32k44cf`  \n",
      "\n",
      "> `zcat /home/bnt4me/Virginia/repos/bedbase/docs_jupyter/bedbase_tutorial/outputs/bed_files/GSE105977_ENCFF617QGK_optimal_idr_thresholded_peaks_GRCh38.bed.gz  | sort -k1,1 -k2,2n > /home/bnt4me/Virginia/repos/bedbase/docs_jupyter/bedbase_tutorial/outputs/bigbed_files/h32k44cf` (203423,203424)\n",
      "<pre>\n",
      "</pre>\n",
      "Command completed. Elapsed time: 0:00:00. Running peak memory: 0GB.  \n",
      "  PID: 203423;\tCommand: zcat;\tReturn code: 0;\tMemory used: 0.0GB  \n",
      "  PID: 203424;\tCommand: sort;\tReturn code: 0;\tMemory used: 0.0GB\n",
      "\n",
      "Target to produce: `/home/bnt4me/Virginia/repos/bedbase/docs_jupyter/bedbase_tutorial/outputs/bigbed_files/GSE105977_ENCFF617QGK_optimal_idr_thresholded_peaks_GRCh38.bigBed`  \n",
      "\n",
      "> `bedToBigBed -type=bed6+4 /home/bnt4me/Virginia/repos/bedbase/docs_jupyter/bedbase_tutorial/outputs/bigbed_files/h32k44cf /home/bnt4me/Virginia/repos/bedbase/docs_jupyter/bedbase_tutorial/alias/hg38/fasta/default/hg38.chrom.sizes /home/bnt4me/Virginia/repos/bedbase/docs_jupyter/bedbase_tutorial/outputs/bigbed_files/GSE105977_ENCFF617QGK_optimal_idr_thresholded_peaks_GRCh38.bigBed` (203426)\n",
      "<pre>\n",
      "pass1 - making usageList (26 chroms): 1 millis\n",
      "pass2 - checking and writing primary data (5725 records, 10 fields): 10 millis\n",
      "</pre>\n",
      "Command completed. Elapsed time: 0:00:00. Running peak memory: 0.012GB.  \n",
      "  PID: 203426;\tCommand: bedToBigBed;\tReturn code: 0;\tMemory used: 0.012GB\n",
      "\n",
      "Starting cleanup: 1 files; 0 conditional files for cleanup\n",
      "\n",
      "Cleaning up flagged intermediate files. . .\n",
      "\n",
      "### Pipeline completed. Epilogue\n",
      "*        Elapsed time (this run):  0:00:00\n",
      "*  Total elapsed time (all runs):  0:00:00\n",
      "*         Peak memory (this run):  0.012 GB\n",
      "*        Pipeline completed time: 2022-10-17 17:57:24\n",
      "### Pipeline run code and environment:\n",
      "\n",
      "*              Command:  `/home/bnt4me/Virginia/venv/jup_notebook/bin/bedboss --sample-name bedbase_demo_db2 --input-file /home/bnt4me/Virginia/repos/bedbase/docs_jupyter/bedbase_tutorial/files/GSE105977_ENCFF617QGK_optimal_idr_thresholded_peaks_GRCh38.bed.gz --input-type bed --genome hg38 --output_folder /home/bnt4me/Virginia/repos/bedbase/docs_jupyter/bedbase_tutorial/outputs --narrowpeak True --rfg-config genome_config.yaml --bedbase-config /home/bnt4me/Virginia/repos/bedbase/docs_jupyter/bedbase_tutorial/bedbase/tutorial_files/bedboss/config_db_local.yaml --sample-yaml /home/bnt4me/Virginia/repos/bedbase/docs_jupyter/bedbase_tutorial/outputs/meta_yaml/bedbase_demo_db2.yaml`\n",
      "*         Compute host:  cphg-Precision-5560\n",
      "*          Working dir:  /home/bnt4me/Virginia/repos/bedbase/docs_jupyter/bedbase_tutorial\n",
      "*            Outfolder:  /home/bnt4me/Virginia/repos/bedbase/docs_jupyter/bedbase_tutorial/outputs/bedstat_output/fdd94ac0787599d564b07193e4ec41fd/\n",
      "*  Pipeline started at:   (10-17 17:57:24) elapsed: 0.0 _TIME_\n",
      "\n",
      "### Version log:\n",
      "\n",
      "*       Python version:  3.8.10\n",
      "*          Pypiper dir:  `/home/bnt4me/Virginia/venv/jup_notebook/lib/python3.8/site-packages/pypiper`\n",
      "*      Pypiper version:  0.12.3\n",
      "*         Pipeline dir:  `/home/bnt4me/Virginia/venv/jup_notebook/bin`\n",
      "*     Pipeline version:  None\n",
      "\n",
      "### Arguments passed to pipeline:\n",
      "\n",
      "\n",
      "----------------------------------------\n",
      "\n",
      "Rscript /home/bnt4me/Virginia/venv/jup_notebook/lib/python3.8/site-packages/bedstat/tools/regionstat.R --bedfilePath=/home/bnt4me/Virginia/repos/bedbase/docs_jupyter/bedbase_tutorial/outputs/bed_files/GSE105977_ENCFF617QGK_optimal_idr_thresholded_peaks_GRCh38.bed.gz --fileId=GSE105977_ENCFF617QGK_optimal_idr_thresholded_peaks_GRCh38 --openSignalMatrix=./openSignalMatrix/openSignalMatrix_hg38_percentile99_01_quantNormalized_round4d.txt.gz --outputFolder=/home/bnt4me/Virginia/repos/bedbase/docs_jupyter/bedbase_tutorial/outputs/bedstat_output/fdd94ac0787599d564b07193e4ec41fd --genome=hg38 --ensdb=None --digest=fdd94ac0787599d564b07193e4ec41fd\n",
      "Target to produce: `/home/bnt4me/Virginia/repos/bedbase/docs_jupyter/bedbase_tutorial/outputs/bedstat_output/fdd94ac0787599d564b07193e4ec41fd/GSE105977_ENCFF617QGK_optimal_idr_thresholded_peaks_GRCh38.json`  \n",
      "\n",
      "> `Rscript /home/bnt4me/Virginia/venv/jup_notebook/lib/python3.8/site-packages/bedstat/tools/regionstat.R --bedfilePath=/home/bnt4me/Virginia/repos/bedbase/docs_jupyter/bedbase_tutorial/outputs/bed_files/GSE105977_ENCFF617QGK_optimal_idr_thresholded_peaks_GRCh38.bed.gz --fileId=GSE105977_ENCFF617QGK_optimal_idr_thresholded_peaks_GRCh38 --openSignalMatrix=./openSignalMatrix/openSignalMatrix_hg38_percentile99_01_quantNormalized_round4d.txt.gz --outputFolder=/home/bnt4me/Virginia/repos/bedbase/docs_jupyter/bedbase_tutorial/outputs/bedstat_output/fdd94ac0787599d564b07193e4ec41fd --genome=hg38 --ensdb=None --digest=fdd94ac0787599d564b07193e4ec41fd` (203436)\n",
      "<pre>\n",
      "Loading required package: IRanges\n",
      "Loading required package: BiocGenerics\n",
      "\n",
      "Attaching package: ‘BiocGenerics’\n",
      "\n",
      "The following objects are masked from ‘package:stats’:\n",
      "\n",
      "    IQR, mad, sd, var, xtabs\n",
      "\n",
      "The following objects are masked from ‘package:base’:\n",
      "\n",
      "    anyDuplicated, append, as.data.frame, basename, cbind, colnames,\n",
      "    dirname, do.call, duplicated, eval, evalq, Filter, Find, get, grep,\n",
      "    grepl, intersect, is.unsorted, lapply, Map, mapply, match, mget,\n",
      "    order, paste, pmax, pmax.int, pmin, pmin.int, Position, rank,\n",
      "    rbind, Reduce, rownames, sapply, setdiff, sort, table, tapply,\n",
      "    union, unique, unsplit, which.max, which.min\n",
      "\n",
      "Loading required package: S4Vectors\n",
      "Loading required package: stats4\n",
      "\n",
      "Attaching package: ‘S4Vectors’\n",
      "\n",
      "The following objects are masked from ‘package:base’:\n",
      "\n",
      "    expand.grid, I, unname\n",
      "\n",
      "Loading required package: GenomicRanges\n",
      "Loading required package: GenomeInfoDb\n",
      "snapshotDate(): 2022-04-26\n",
      "Warning message:\n",
      "replacing previous import 'GenomicFeatures::proteinToGenome' by 'ensembldb::proteinToGenome' when loading 'GenomicDistributionsData' \n",
      "Loading required package: GenomicFeatures\n",
      "Loading required package: AnnotationDbi\n",
      "Loading required package: Biobase\n",
      "Welcome to Bioconductor\n",
      "\n",
      "    Vignettes contain introductory material; view with\n",
      "    'browseVignettes()'. To cite Bioconductor, see\n",
      "    'citation(\"Biobase\")', and for packages 'citation(\"pkgname\")'.\n",
      "\n",
      "Loading required package: AnnotationFilter\n",
      "\n",
      "Attaching package: 'ensembldb'\n",
      "\n",
      "The following object is masked from 'package:stats':\n",
      "\n",
      "    filter\n",
      "\n",
      "Loading required package: R.oo\n",
      "Loading required package: R.methodsS3\n",
      "R.methodsS3 v1.8.2 (2022-06-13 22:00:14 UTC) successfully loaded. See ?R.methodsS3 for help.\n",
      "R.oo v1.25.0 (2022-06-12 02:20:02 UTC) successfully loaded. See ?R.oo for help.\n",
      "\n",
      "Attaching package: 'R.oo'\n",
      "\n",
      "The following object is masked from 'package:R.methodsS3':\n",
      "\n",
      "    throw\n",
      "\n",
      "The following object is masked from 'package:GenomicRanges':\n",
      "\n",
      "    trim\n",
      "\n",
      "The following object is masked from 'package:IRanges':\n",
      "\n",
      "    trim\n",
      "\n",
      "The following objects are masked from 'package:methods':\n",
      "\n",
      "    getClasses, getMethods\n"
     ]
    },
    {
     "name": "stdout",
     "output_type": "stream",
     "text": [
      "\n",
      "The following objects are masked from 'package:base':\n",
      "\n",
      "    attach, detach, load, save\n",
      "\n",
      "R.utils v2.12.0 (2022-06-28 03:20:05 UTC) successfully loaded. See ?R.utils for help.\n",
      "\n",
      "Attaching package: 'R.utils'\n",
      "\n",
      "The following object is masked from 'package:utils':\n",
      "\n",
      "    timestamp\n",
      "\n",
      "The following objects are masked from 'package:base':\n",
      "\n",
      "    cat, commandArgs, getOption, isOpen, nullfile, parse, warnings\n",
      "\n",
      "see ?GenomicDistributionsData and browseVignettes('GenomicDistributionsData') for documentation\n",
      "loading from cache\n",
      "[1] \"Plotting: /home/bnt4me/Virginia/repos/bedbase/docs_jupyter/bedbase_tutorial/outputs/bedstat_output/fdd94ac0787599d564b07193e4ec41fd/GSE105977_ENCFF617QGK_optimal_idr_thresholded_peaks_GRCh38_tssdist\"\n",
      "Scale for 'x' is already present. Adding another scale for 'x', which will\n",
      "replace the existing scale.\n",
      "[1] \"Writing plot json: outputs/bedstat_output/fdd94ac0787599d564b07193e4ec41fd/GSE105977_ENCFF617QGK_optimal_idr_thresholded_peaks_GRCh38_tssdist\"\n",
      "Successfully calculated and plot TSS distance.\n",
      "[1] \"Plotting: /home/bnt4me/Virginia/repos/bedbase/docs_jupyter/bedbase_tutorial/outputs/bedstat_output/fdd94ac0787599d564b07193e4ec41fd/GSE105977_ENCFF617QGK_optimal_idr_thresholded_peaks_GRCh38_chrombins\"\n",
      "see ?GenomicDistributionsData and browseVignettes('GenomicDistributionsData') for documentation\n",
      "loading from cache\n",
      "[1] \"Writing plot json: outputs/bedstat_output/fdd94ac0787599d564b07193e4ec41fd/GSE105977_ENCFF617QGK_optimal_idr_thresholded_peaks_GRCh38_chrombins\"\n",
      "Successfully calculated and plot chromosomes region distribution.\n",
      "see ?GenomicDistributionsData and browseVignettes('GenomicDistributionsData') for documentation\n",
      "loading from cache\n",
      "Calculating overlaps...\n",
      "[1] \"Plotting: /home/bnt4me/Virginia/repos/bedbase/docs_jupyter/bedbase_tutorial/outputs/bedstat_output/fdd94ac0787599d564b07193e4ec41fd/GSE105977_ENCFF617QGK_optimal_idr_thresholded_peaks_GRCh38_paritions\"\n",
      "[1] \"Writing plot json: outputs/bedstat_output/fdd94ac0787599d564b07193e4ec41fd/GSE105977_ENCFF617QGK_optimal_idr_thresholded_peaks_GRCh38_paritions\"\n",
      "Successfully calculated and plot regions distribution over genomic partitions.\n",
      "[1] \"Plotting: /home/bnt4me/Virginia/repos/bedbase/docs_jupyter/bedbase_tutorial/outputs/bedstat_output/fdd94ac0787599d564b07193e4ec41fd/GSE105977_ENCFF617QGK_optimal_idr_thresholded_peaks_GRCh38_expected_partitions\"\n",
      "see ?GenomicDistributionsData and browseVignettes('GenomicDistributionsData') for documentation\n",
      "loading from cache\n",
      "see ?GenomicDistributionsData and browseVignettes('GenomicDistributionsData') for documentation\n",
      "loading from cache\n",
      "[1] \"Writing plot json: outputs/bedstat_output/fdd94ac0787599d564b07193e4ec41fd/GSE105977_ENCFF617QGK_optimal_idr_thresholded_peaks_GRCh38_expected_partitions\"\n",
      "Successfully calculated and plot expected distribution over genomic partitions.\n",
      "[1] \"Plotting: /home/bnt4me/Virginia/repos/bedbase/docs_jupyter/bedbase_tutorial/outputs/bedstat_output/fdd94ac0787599d564b07193e4ec41fd/GSE105977_ENCFF617QGK_optimal_idr_thresholded_peaks_GRCh38_cumulative_partitions\"\n",
      "see ?GenomicDistributionsData and browseVignettes('GenomicDistributionsData') for documentation\n",
      "loading from cache\n",
      "[1] \"Writing plot json: outputs/bedstat_output/fdd94ac0787599d564b07193e4ec41fd/GSE105977_ENCFF617QGK_optimal_idr_thresholded_peaks_GRCh38_cumulative_partitions\"\n",
      "Successfully calculated and plot cumulative distribution over genomic partitions.\n",
      "[1] \"Plotting: /home/bnt4me/Virginia/repos/bedbase/docs_jupyter/bedbase_tutorial/outputs/bedstat_output/fdd94ac0787599d564b07193e4ec41fd/GSE105977_ENCFF617QGK_optimal_idr_thresholded_peaks_GRCh38_widths_histogram\"\n",
      "[1] \"Writing plot json: outputs/bedstat_output/fdd94ac0787599d564b07193e4ec41fd/GSE105977_ENCFF617QGK_optimal_idr_thresholded_peaks_GRCh38_widths_histogram\"\n",
      "Successfully calculated and plot quantile-trimmed histogram of widths.\n",
      "[1] \"Plotting: /home/bnt4me/Virginia/repos/bedbase/docs_jupyter/bedbase_tutorial/outputs/bedstat_output/fdd94ac0787599d564b07193e4ec41fd/GSE105977_ENCFF617QGK_optimal_idr_thresholded_peaks_GRCh38_neighbor_distances\"\n",
      "[1] \"Writing plot json: outputs/bedstat_output/fdd94ac0787599d564b07193e4ec41fd/GSE105977_ENCFF617QGK_optimal_idr_thresholded_peaks_GRCh38_neighbor_distances\"\n",
      "Successfully calculated and plot distance between neighbor regions.\n",
      "[1] \"Plotting: /home/bnt4me/Virginia/repos/bedbase/docs_jupyter/bedbase_tutorial/outputs/bedstat_output/fdd94ac0787599d564b07193e4ec41fd/GSE105977_ENCFF617QGK_optimal_idr_thresholded_peaks_GRCh38_open_chromatin\"\n",
      "[1] \"Writing plot json: outputs/bedstat_output/fdd94ac0787599d564b07193e4ec41fd/GSE105977_ENCFF617QGK_optimal_idr_thresholded_peaks_GRCh38_open_chromatin\"\n",
      "Successfully calculated and plot cell specific enrichment for open chromatin.\n",
      "[1] \"bedmeta\"\n",
      "$name\n",
      "[1] \"GSE105977_ENCFF617QGK_optimal_idr_thresholded_peaks_GRCh38\"\n",
      "\n",
      "$regions_no\n",
      "[1] 5725\n",
      "\n",
      "$mean_region_width\n",
      "[1] 298.7\n",
      "\n",
      "$md5sum\n",
      "[1] \"fdd94ac0787599d564b07193e4ec41fd\"\n",
      "\n",
      "$median_TSS_dist\n",
      "[1] 47320\n",
      "\n",
      "</pre>\n",
      "Command completed. Elapsed time: 0:00:38. Running peak memory: 1.241GB.  \n",
      "  PID: 203436;\tCommand: Rscript;\tReturn code: 0;\tMemory used: 1.241GB\n",
      "\n",
      "\n",
      "### Pipeline completed. Epilogue\n",
      "*        Elapsed time (this run):  0:00:38\n",
      "*  Total elapsed time (all runs):  0:00:38\n",
      "*         Peak memory (this run):  1.2412 GB\n",
      "*        Pipeline completed time: 2022-10-17 17:58:02\n",
      "These results exist for 'fdd94ac0787599d564b07193e4ec41fd': name, regions_no, mean_region_width, md5sum, exon_frequency, exon_percentage, fiveutr_frequency, fiveutr_percentage, intergenic_frequency, intergenic_percentage, intron_frequency, intron_percentage, promotercore_frequency, promotercore_percentage, promoterprox_frequency, promoterprox_percentage, threeutr_frequency, threeutr_percentage, bedfile, genome, bigbedfile, tssdist, chrombins, paritions, expected_partitions, cumulative_partitions, widths_histogram, neighbor_distances, open_chromatin\n",
      "\u001b[36m## [3 of 11] sample: bedbase_demo_db3; pipeline: BEDMAKER\u001b[0m\n",
      "Writing script to /home/bnt4me/Virginia/repos/bedbase/docs_jupyter/bedbase_tutorial/outputs/bedboss_output/bedstat_pipeline_logs/submission/BEDMAKER_bedbase_demo_db3.sub\n",
      "Job script (n=1; 0.00Gb): /home/bnt4me/Virginia/repos/bedbase/docs_jupyter/bedbase_tutorial/outputs/bedboss_output/bedstat_pipeline_logs/submission/BEDMAKER_bedbase_demo_db3.sub\n",
      "Compute node: cphg-Precision-5560\n",
      "Start time: 2022-10-17 17:58:03\n",
      "processing genome name...\n",
      "Getting Open Signal Matrix file path...\n",
      "output_bed = /home/bnt4me/Virginia/repos/bedbase/docs_jupyter/bedbase_tutorial/outputs/bed_files/GSE105977_ENCFF793SZW_conservative_idr_thresholded_peaks_GRCh38.bed.gz\n",
      "output_bigbed = /home/bnt4me/Virginia/repos/bedbase/docs_jupyter/bedbase_tutorial/outputs/bigbed_files\n",
      "bedmaker logs directory doesn't exist. Creating one...\n",
      "### Pipeline run code and environment:\n",
      "\n",
      "*              Command:  `/home/bnt4me/Virginia/venv/jup_notebook/bin/bedboss --sample-name bedbase_demo_db3 --input-file /home/bnt4me/Virginia/repos/bedbase/docs_jupyter/bedbase_tutorial/files/GSE105977_ENCFF793SZW_conservative_idr_thresholded_peaks_GRCh38.bed.gz --input-type bed --genome hg38 --output_folder /home/bnt4me/Virginia/repos/bedbase/docs_jupyter/bedbase_tutorial/outputs --narrowpeak True --rfg-config genome_config.yaml --bedbase-config /home/bnt4me/Virginia/repos/bedbase/docs_jupyter/bedbase_tutorial/bedbase/tutorial_files/bedboss/config_db_local.yaml --sample-yaml /home/bnt4me/Virginia/repos/bedbase/docs_jupyter/bedbase_tutorial/outputs/meta_yaml/bedbase_demo_db3.yaml`\n",
      "*         Compute host:  cphg-Precision-5560\n",
      "*          Working dir:  /home/bnt4me/Virginia/repos/bedbase/docs_jupyter/bedbase_tutorial\n",
      "*            Outfolder:  /home/bnt4me/Virginia/repos/bedbase/docs_jupyter/bedbase_tutorial/outputs/bed_files/bedmaker_logs/bedbase_demo_db3/\n",
      "*  Pipeline started at:   (10-17 17:58:03) elapsed: 0.0 _TIME_\n",
      "\n",
      "### Version log:\n",
      "\n",
      "*       Python version:  3.8.10\n",
      "*          Pypiper dir:  `/home/bnt4me/Virginia/venv/jup_notebook/lib/python3.8/site-packages/pypiper`\n",
      "*      Pypiper version:  0.12.3\n",
      "*         Pipeline dir:  `/home/bnt4me/Virginia/venv/jup_notebook/bin`\n",
      "*     Pipeline version:  None\n",
      "\n",
      "### Arguments passed to pipeline:\n",
      "\n",
      "\n",
      "----------------------------------------\n",
      "\n",
      "Got input type: bed\n"
     ]
    },
    {
     "name": "stdout",
     "output_type": "stream",
     "text": [
      "Target to produce: `/home/bnt4me/Virginia/repos/bedbase/docs_jupyter/bedbase_tutorial/outputs/bed_files/GSE105977_ENCFF793SZW_conservative_idr_thresholded_peaks_GRCh38.bed.gz`  \n",
      "\n",
      "> `cp /home/bnt4me/Virginia/repos/bedbase/docs_jupyter/bedbase_tutorial/files/GSE105977_ENCFF793SZW_conservative_idr_thresholded_peaks_GRCh38.bed.gz /home/bnt4me/Virginia/repos/bedbase/docs_jupyter/bedbase_tutorial/outputs/bed_files/GSE105977_ENCFF793SZW_conservative_idr_thresholded_peaks_GRCh38.bed.gz` (203594)\n",
      "<pre>\n",
      "</pre>\n",
      "Command completed. Elapsed time: 0:00:00. Running peak memory: 0GB.  \n",
      "  PID: 203594;\tCommand: cp;\tReturn code: 0;\tMemory used: 0.0GB\n",
      "\n",
      "Removed existing flag: '/home/bnt4me/Virginia/repos/bedbase/docs_jupyter/bedbase_tutorial/outputs/bed_files/bedqc_logs/bedQC-pipeline_completed.flag'\n",
      "### Pipeline run code and environment:\n",
      "\n",
      "*              Command:  `/home/bnt4me/Virginia/venv/jup_notebook/bin/bedboss --sample-name bedbase_demo_db3 --input-file /home/bnt4me/Virginia/repos/bedbase/docs_jupyter/bedbase_tutorial/files/GSE105977_ENCFF793SZW_conservative_idr_thresholded_peaks_GRCh38.bed.gz --input-type bed --genome hg38 --output_folder /home/bnt4me/Virginia/repos/bedbase/docs_jupyter/bedbase_tutorial/outputs --narrowpeak True --rfg-config genome_config.yaml --bedbase-config /home/bnt4me/Virginia/repos/bedbase/docs_jupyter/bedbase_tutorial/bedbase/tutorial_files/bedboss/config_db_local.yaml --sample-yaml /home/bnt4me/Virginia/repos/bedbase/docs_jupyter/bedbase_tutorial/outputs/meta_yaml/bedbase_demo_db3.yaml`\n",
      "*         Compute host:  cphg-Precision-5560\n",
      "*          Working dir:  /home/bnt4me/Virginia/repos/bedbase/docs_jupyter/bedbase_tutorial\n",
      "*            Outfolder:  /home/bnt4me/Virginia/repos/bedbase/docs_jupyter/bedbase_tutorial/outputs/bed_files/bedqc_logs/\n",
      "*  Pipeline started at:   (10-17 17:58:03) elapsed: 0.0 _TIME_\n",
      "\n",
      "### Version log:\n",
      "\n",
      "*       Python version:  3.8.10\n",
      "*          Pypiper dir:  `/home/bnt4me/Virginia/venv/jup_notebook/lib/python3.8/site-packages/pypiper`\n",
      "*      Pypiper version:  0.12.3\n",
      "*         Pipeline dir:  `/home/bnt4me/Virginia/venv/jup_notebook/bin`\n",
      "*     Pipeline version:  None\n",
      "\n",
      "### Arguments passed to pipeline:\n",
      "\n",
      "\n",
      "----------------------------------------\n",
      "\n",
      "Target to produce: `/home/bnt4me/Virginia/repos/bedbase/docs_jupyter/bedbase_tutorial/outputs/bed_files/bedqc_logs/f2nauvgo`  \n",
      "\n",
      "> `zcat /home/bnt4me/Virginia/repos/bedbase/docs_jupyter/bedbase_tutorial/outputs/bed_files/GSE105977_ENCFF793SZW_conservative_idr_thresholded_peaks_GRCh38.bed.gz > /home/bnt4me/Virginia/repos/bedbase/docs_jupyter/bedbase_tutorial/outputs/bed_files/bedqc_logs/f2nauvgo` (203601)\n",
      "<pre>\n",
      "</pre>\n",
      "Command completed. Elapsed time: 0:00:00. Running peak memory: 0GB.  \n",
      "  PID: 203601;\tCommand: zcat;\tReturn code: 0;\tMemory used: 0.0GB\n",
      "\n",
      "Targetless command, running...  \n",
      "\n",
      "> `bash /home/bnt4me/Virginia/venv/jup_notebook/lib/python3.8/site-packages/bedmaker/est_line.sh /home/bnt4me/Virginia/repos/bedbase/docs_jupyter/bedbase_tutorial/outputs/bed_files/bedqc_logs/f2nauvgo ` (203603)\n",
      "<pre>\n",
      "3000</pre>\n",
      "Command completed. Elapsed time: 0:00:00. Running peak memory: 0GB.  \n",
      "  PID: 203603;\tCommand: bash;\tReturn code: 0;\tMemory used: 0.0GB\n",
      "\n",
      "Starting cleanup: 1 files; 0 conditional files for cleanup\n",
      "\n",
      "Cleaning up flagged intermediate files. . .\n",
      "\n",
      "### Pipeline completed. Epilogue\n",
      "*        Elapsed time (this run):  0:00:00\n",
      "*  Total elapsed time (all runs):  0:00:00\n",
      "*         Peak memory (this run):  0 GB\n",
      "*        Pipeline completed time: 2022-10-17 17:58:03\n",
      "Generating bigBed files for: /home/bnt4me/Virginia/repos/bedbase/docs_jupyter/bedbase_tutorial/files/GSE105977_ENCFF793SZW_conservative_idr_thresholded_peaks_GRCh38.bed.gz\n",
      "Determining path to chrom.sizes asset via Refgenie.\n",
      "Reading refgenie genome configuration file from file: /home/bnt4me/Virginia/repos/bedbase/docs_jupyter/bedbase_tutorial/genome_config.yaml\n",
      "/home/bnt4me/Virginia/repos/bedbase/docs_jupyter/bedbase_tutorial/alias/hg38/fasta/default/hg38.chrom.sizes\n",
      "Determined path to chrom.sizes asset: /home/bnt4me/Virginia/repos/bedbase/docs_jupyter/bedbase_tutorial/alias/hg38/fasta/default/hg38.chrom.sizes\n",
      "Target to produce: `/home/bnt4me/Virginia/repos/bedbase/docs_jupyter/bedbase_tutorial/outputs/bigbed_files/g8bjgths`  \n",
      "\n",
      "> `zcat /home/bnt4me/Virginia/repos/bedbase/docs_jupyter/bedbase_tutorial/outputs/bed_files/GSE105977_ENCFF793SZW_conservative_idr_thresholded_peaks_GRCh38.bed.gz  | sort -k1,1 -k2,2n > /home/bnt4me/Virginia/repos/bedbase/docs_jupyter/bedbase_tutorial/outputs/bigbed_files/g8bjgths` (203613,203614)\n",
      "<pre>\n",
      "</pre>\n",
      "Command completed. Elapsed time: 0:00:00. Running peak memory: 0GB.  \n",
      "  PID: 203613;\tCommand: zcat;\tReturn code: 0;\tMemory used: 0.0GB  \n",
      "  PID: 203614;\tCommand: sort;\tReturn code: 0;\tMemory used: 0.0GB\n",
      "\n",
      "Target to produce: `/home/bnt4me/Virginia/repos/bedbase/docs_jupyter/bedbase_tutorial/outputs/bigbed_files/GSE105977_ENCFF793SZW_conservative_idr_thresholded_peaks_GRCh38.bigBed`  \n",
      "\n",
      "> `bedToBigBed -type=bed6+4 /home/bnt4me/Virginia/repos/bedbase/docs_jupyter/bedbase_tutorial/outputs/bigbed_files/g8bjgths /home/bnt4me/Virginia/repos/bedbase/docs_jupyter/bedbase_tutorial/alias/hg38/fasta/default/hg38.chrom.sizes /home/bnt4me/Virginia/repos/bedbase/docs_jupyter/bedbase_tutorial/outputs/bigbed_files/GSE105977_ENCFF793SZW_conservative_idr_thresholded_peaks_GRCh38.bigBed` (203616)\n",
      "<pre>\n",
      "pass1 - making usageList (24 chroms): 1 millis\n",
      "pass2 - checking and writing primary data (2982 records, 10 fields): 5 millis\n",
      "</pre>\n",
      "Command completed. Elapsed time: 0:00:00. Running peak memory: 0.012GB.  \n",
      "  PID: 203616;\tCommand: bedToBigBed;\tReturn code: 0;\tMemory used: 0.012GB\n",
      "\n",
      "Starting cleanup: 1 files; 0 conditional files for cleanup\n",
      "\n",
      "Cleaning up flagged intermediate files. . .\n",
      "\n",
      "### Pipeline completed. Epilogue\n",
      "*        Elapsed time (this run):  0:00:00\n",
      "*  Total elapsed time (all runs):  0:00:00\n",
      "*         Peak memory (this run):  0.0119 GB\n",
      "*        Pipeline completed time: 2022-10-17 17:58:03\n",
      "### Pipeline run code and environment:\n",
      "\n",
      "*              Command:  `/home/bnt4me/Virginia/venv/jup_notebook/bin/bedboss --sample-name bedbase_demo_db3 --input-file /home/bnt4me/Virginia/repos/bedbase/docs_jupyter/bedbase_tutorial/files/GSE105977_ENCFF793SZW_conservative_idr_thresholded_peaks_GRCh38.bed.gz --input-type bed --genome hg38 --output_folder /home/bnt4me/Virginia/repos/bedbase/docs_jupyter/bedbase_tutorial/outputs --narrowpeak True --rfg-config genome_config.yaml --bedbase-config /home/bnt4me/Virginia/repos/bedbase/docs_jupyter/bedbase_tutorial/bedbase/tutorial_files/bedboss/config_db_local.yaml --sample-yaml /home/bnt4me/Virginia/repos/bedbase/docs_jupyter/bedbase_tutorial/outputs/meta_yaml/bedbase_demo_db3.yaml`\n",
      "*         Compute host:  cphg-Precision-5560\n",
      "*          Working dir:  /home/bnt4me/Virginia/repos/bedbase/docs_jupyter/bedbase_tutorial\n",
      "*            Outfolder:  /home/bnt4me/Virginia/repos/bedbase/docs_jupyter/bedbase_tutorial/outputs/bedstat_output/a6a08126cb6f4b1953ba0ec8675df85a/\n",
      "*  Pipeline started at:   (10-17 17:58:03) elapsed: 0.0 _TIME_\n",
      "\n",
      "### Version log:\n",
      "\n",
      "*       Python version:  3.8.10\n",
      "*          Pypiper dir:  `/home/bnt4me/Virginia/venv/jup_notebook/lib/python3.8/site-packages/pypiper`\n",
      "*      Pypiper version:  0.12.3\n",
      "*         Pipeline dir:  `/home/bnt4me/Virginia/venv/jup_notebook/bin`\n",
      "*     Pipeline version:  None\n",
      "\n",
      "### Arguments passed to pipeline:\n",
      "\n",
      "\n",
      "----------------------------------------\n",
      "\n",
      "Rscript /home/bnt4me/Virginia/venv/jup_notebook/lib/python3.8/site-packages/bedstat/tools/regionstat.R --bedfilePath=/home/bnt4me/Virginia/repos/bedbase/docs_jupyter/bedbase_tutorial/outputs/bed_files/GSE105977_ENCFF793SZW_conservative_idr_thresholded_peaks_GRCh38.bed.gz --fileId=GSE105977_ENCFF793SZW_conservative_idr_thresholded_peaks_GRCh38 --openSignalMatrix=./openSignalMatrix/openSignalMatrix_hg38_percentile99_01_quantNormalized_round4d.txt.gz --outputFolder=/home/bnt4me/Virginia/repos/bedbase/docs_jupyter/bedbase_tutorial/outputs/bedstat_output/a6a08126cb6f4b1953ba0ec8675df85a --genome=hg38 --ensdb=None --digest=a6a08126cb6f4b1953ba0ec8675df85a\n",
      "Target to produce: `/home/bnt4me/Virginia/repos/bedbase/docs_jupyter/bedbase_tutorial/outputs/bedstat_output/a6a08126cb6f4b1953ba0ec8675df85a/GSE105977_ENCFF793SZW_conservative_idr_thresholded_peaks_GRCh38.json`  \n"
     ]
    },
    {
     "name": "stdout",
     "output_type": "stream",
     "text": [
      "\n",
      "> `Rscript /home/bnt4me/Virginia/venv/jup_notebook/lib/python3.8/site-packages/bedstat/tools/regionstat.R --bedfilePath=/home/bnt4me/Virginia/repos/bedbase/docs_jupyter/bedbase_tutorial/outputs/bed_files/GSE105977_ENCFF793SZW_conservative_idr_thresholded_peaks_GRCh38.bed.gz --fileId=GSE105977_ENCFF793SZW_conservative_idr_thresholded_peaks_GRCh38 --openSignalMatrix=./openSignalMatrix/openSignalMatrix_hg38_percentile99_01_quantNormalized_round4d.txt.gz --outputFolder=/home/bnt4me/Virginia/repos/bedbase/docs_jupyter/bedbase_tutorial/outputs/bedstat_output/a6a08126cb6f4b1953ba0ec8675df85a --genome=hg38 --ensdb=None --digest=a6a08126cb6f4b1953ba0ec8675df85a` (203626)\n",
      "<pre>\n",
      "Loading required package: IRanges\n",
      "Loading required package: BiocGenerics\n",
      "\n",
      "Attaching package: ‘BiocGenerics’\n",
      "\n",
      "The following objects are masked from ‘package:stats’:\n",
      "\n",
      "    IQR, mad, sd, var, xtabs\n",
      "\n",
      "The following objects are masked from ‘package:base’:\n",
      "\n",
      "    anyDuplicated, append, as.data.frame, basename, cbind, colnames,\n",
      "    dirname, do.call, duplicated, eval, evalq, Filter, Find, get, grep,\n",
      "    grepl, intersect, is.unsorted, lapply, Map, mapply, match, mget,\n",
      "    order, paste, pmax, pmax.int, pmin, pmin.int, Position, rank,\n",
      "    rbind, Reduce, rownames, sapply, setdiff, sort, table, tapply,\n",
      "    union, unique, unsplit, which.max, which.min\n",
      "\n",
      "Loading required package: S4Vectors\n",
      "Loading required package: stats4\n",
      "\n",
      "Attaching package: ‘S4Vectors’\n",
      "\n",
      "The following objects are masked from ‘package:base’:\n",
      "\n",
      "    expand.grid, I, unname\n",
      "\n",
      "Loading required package: GenomicRanges\n",
      "Loading required package: GenomeInfoDb\n",
      "snapshotDate(): 2022-04-26\n",
      "Warning message:\n",
      "replacing previous import 'GenomicFeatures::proteinToGenome' by 'ensembldb::proteinToGenome' when loading 'GenomicDistributionsData' \n",
      "Loading required package: GenomicFeatures\n",
      "Loading required package: AnnotationDbi\n",
      "Loading required package: Biobase\n",
      "Welcome to Bioconductor\n",
      "\n",
      "    Vignettes contain introductory material; view with\n",
      "    'browseVignettes()'. To cite Bioconductor, see\n",
      "    'citation(\"Biobase\")', and for packages 'citation(\"pkgname\")'.\n",
      "\n",
      "Loading required package: AnnotationFilter\n",
      "\n",
      "Attaching package: 'ensembldb'\n",
      "\n",
      "The following object is masked from 'package:stats':\n",
      "\n",
      "    filter\n",
      "\n",
      "Loading required package: R.oo\n",
      "Loading required package: R.methodsS3\n",
      "R.methodsS3 v1.8.2 (2022-06-13 22:00:14 UTC) successfully loaded. See ?R.methodsS3 for help.\n",
      "R.oo v1.25.0 (2022-06-12 02:20:02 UTC) successfully loaded. See ?R.oo for help.\n",
      "\n",
      "Attaching package: 'R.oo'\n",
      "\n",
      "The following object is masked from 'package:R.methodsS3':\n",
      "\n",
      "    throw\n",
      "\n",
      "The following object is masked from 'package:GenomicRanges':\n",
      "\n",
      "    trim\n",
      "\n",
      "The following object is masked from 'package:IRanges':\n",
      "\n",
      "    trim\n",
      "\n",
      "The following objects are masked from 'package:methods':\n",
      "\n",
      "    getClasses, getMethods\n",
      "\n",
      "The following objects are masked from 'package:base':\n",
      "\n",
      "    attach, detach, load, save\n",
      "\n",
      "R.utils v2.12.0 (2022-06-28 03:20:05 UTC) successfully loaded. See ?R.utils for help.\n",
      "\n",
      "Attaching package: 'R.utils'\n",
      "\n",
      "The following object is masked from 'package:utils':\n",
      "\n",
      "    timestamp\n",
      "\n",
      "The following objects are masked from 'package:base':\n",
      "\n",
      "    cat, commandArgs, getOption, isOpen, nullfile, parse, warnings\n",
      "\n",
      "see ?GenomicDistributionsData and browseVignettes('GenomicDistributionsData') for documentation\n",
      "loading from cache\n",
      "[1] \"Plotting: /home/bnt4me/Virginia/repos/bedbase/docs_jupyter/bedbase_tutorial/outputs/bedstat_output/a6a08126cb6f4b1953ba0ec8675df85a/GSE105977_ENCFF793SZW_conservative_idr_thresholded_peaks_GRCh38_tssdist\"\n",
      "Scale for 'x' is already present. Adding another scale for 'x', which will\n",
      "replace the existing scale.\n",
      "[1] \"Writing plot json: outputs/bedstat_output/a6a08126cb6f4b1953ba0ec8675df85a/GSE105977_ENCFF793SZW_conservative_idr_thresholded_peaks_GRCh38_tssdist\"\n",
      "Successfully calculated and plot TSS distance.\n",
      "[1] \"Plotting: /home/bnt4me/Virginia/repos/bedbase/docs_jupyter/bedbase_tutorial/outputs/bedstat_output/a6a08126cb6f4b1953ba0ec8675df85a/GSE105977_ENCFF793SZW_conservative_idr_thresholded_peaks_GRCh38_chrombins\"\n",
      "see ?GenomicDistributionsData and browseVignettes('GenomicDistributionsData') for documentation\n",
      "loading from cache\n",
      "[1] \"Writing plot json: outputs/bedstat_output/a6a08126cb6f4b1953ba0ec8675df85a/GSE105977_ENCFF793SZW_conservative_idr_thresholded_peaks_GRCh38_chrombins\"\n",
      "Successfully calculated and plot chromosomes region distribution.\n",
      "see ?GenomicDistributionsData and browseVignettes('GenomicDistributionsData') for documentation\n",
      "loading from cache\n",
      "Calculating overlaps...\n",
      "[1] \"Plotting: /home/bnt4me/Virginia/repos/bedbase/docs_jupyter/bedbase_tutorial/outputs/bedstat_output/a6a08126cb6f4b1953ba0ec8675df85a/GSE105977_ENCFF793SZW_conservative_idr_thresholded_peaks_GRCh38_paritions\"\n",
      "[1] \"Writing plot json: outputs/bedstat_output/a6a08126cb6f4b1953ba0ec8675df85a/GSE105977_ENCFF793SZW_conservative_idr_thresholded_peaks_GRCh38_paritions\"\n",
      "Successfully calculated and plot regions distribution over genomic partitions.\n",
      "[1] \"Plotting: /home/bnt4me/Virginia/repos/bedbase/docs_jupyter/bedbase_tutorial/outputs/bedstat_output/a6a08126cb6f4b1953ba0ec8675df85a/GSE105977_ENCFF793SZW_conservative_idr_thresholded_peaks_GRCh38_expected_partitions\"\n",
      "see ?GenomicDistributionsData and browseVignettes('GenomicDistributionsData') for documentation\n",
      "loading from cache\n",
      "see ?GenomicDistributionsData and browseVignettes('GenomicDistributionsData') for documentation\n",
      "loading from cache\n",
      "[1] \"Writing plot json: outputs/bedstat_output/a6a08126cb6f4b1953ba0ec8675df85a/GSE105977_ENCFF793SZW_conservative_idr_thresholded_peaks_GRCh38_expected_partitions\"\n",
      "Successfully calculated and plot expected distribution over genomic partitions.\n",
      "[1] \"Plotting: /home/bnt4me/Virginia/repos/bedbase/docs_jupyter/bedbase_tutorial/outputs/bedstat_output/a6a08126cb6f4b1953ba0ec8675df85a/GSE105977_ENCFF793SZW_conservative_idr_thresholded_peaks_GRCh38_cumulative_partitions\"\n",
      "see ?GenomicDistributionsData and browseVignettes('GenomicDistributionsData') for documentation\n",
      "loading from cache\n",
      "[1] \"Writing plot json: outputs/bedstat_output/a6a08126cb6f4b1953ba0ec8675df85a/GSE105977_ENCFF793SZW_conservative_idr_thresholded_peaks_GRCh38_cumulative_partitions\"\n",
      "Successfully calculated and plot cumulative distribution over genomic partitions.\n",
      "[1] \"Plotting: /home/bnt4me/Virginia/repos/bedbase/docs_jupyter/bedbase_tutorial/outputs/bedstat_output/a6a08126cb6f4b1953ba0ec8675df85a/GSE105977_ENCFF793SZW_conservative_idr_thresholded_peaks_GRCh38_widths_histogram\"\n",
      "[1] \"Writing plot json: outputs/bedstat_output/a6a08126cb6f4b1953ba0ec8675df85a/GSE105977_ENCFF793SZW_conservative_idr_thresholded_peaks_GRCh38_widths_histogram\"\n",
      "Successfully calculated and plot quantile-trimmed histogram of widths.\n",
      "[1] \"Plotting: /home/bnt4me/Virginia/repos/bedbase/docs_jupyter/bedbase_tutorial/outputs/bedstat_output/a6a08126cb6f4b1953ba0ec8675df85a/GSE105977_ENCFF793SZW_conservative_idr_thresholded_peaks_GRCh38_neighbor_distances\"\n",
      "[1] \"Writing plot json: outputs/bedstat_output/a6a08126cb6f4b1953ba0ec8675df85a/GSE105977_ENCFF793SZW_conservative_idr_thresholded_peaks_GRCh38_neighbor_distances\"\n",
      "Successfully calculated and plot distance between neighbor regions.\n",
      "[1] \"Plotting: /home/bnt4me/Virginia/repos/bedbase/docs_jupyter/bedbase_tutorial/outputs/bedstat_output/a6a08126cb6f4b1953ba0ec8675df85a/GSE105977_ENCFF793SZW_conservative_idr_thresholded_peaks_GRCh38_open_chromatin\"\n",
      "[1] \"Writing plot json: outputs/bedstat_output/a6a08126cb6f4b1953ba0ec8675df85a/GSE105977_ENCFF793SZW_conservative_idr_thresholded_peaks_GRCh38_open_chromatin\"\n",
      "Successfully calculated and plot cell specific enrichment for open chromatin.\n",
      "[1] \"bedmeta\"\n",
      "$name\n",
      "[1] \"GSE105977_ENCFF793SZW_conservative_idr_thresholded_peaks_GRCh38\"\n",
      "\n",
      "$regions_no\n",
      "[1] 2982\n",
      "\n",
      "$mean_region_width\n",
      "[1] 294.8\n",
      "\n",
      "$md5sum\n",
      "[1] \"a6a08126cb6f4b1953ba0ec8675df85a\"\n",
      "\n",
      "$median_TSS_dist\n",
      "[1] 62070\n",
      "\n",
      "</pre>\n",
      "Command completed. Elapsed time: 0:00:38. Running peak memory: 1.274GB.  \n",
      "  PID: 203626;\tCommand: Rscript;\tReturn code: 0;\tMemory used: 1.274GB\n",
      "\n",
      "\n",
      "### Pipeline completed. Epilogue\n",
      "*        Elapsed time (this run):  0:00:38\n",
      "*  Total elapsed time (all runs):  0:00:38\n",
      "*         Peak memory (this run):  1.2738 GB\n",
      "*        Pipeline completed time: 2022-10-17 17:58:41\n",
      "These results exist for 'a6a08126cb6f4b1953ba0ec8675df85a': name, regions_no, mean_region_width, md5sum, exon_frequency, exon_percentage, fiveutr_frequency, fiveutr_percentage, intergenic_frequency, intergenic_percentage, intron_frequency, intron_percentage, promotercore_frequency, promotercore_percentage, promoterprox_frequency, promoterprox_percentage, threeutr_frequency, threeutr_percentage, bedfile, genome, bigbedfile, tssdist, chrombins, paritions, expected_partitions, cumulative_partitions, widths_histogram, neighbor_distances, open_chromatin\n"
     ]
    },
    {
     "name": "stdout",
     "output_type": "stream",
     "text": [
      "\u001b[36m## [4 of 11] sample: bedbase_demo_db4; pipeline: BEDMAKER\u001b[0m\n",
      "Writing script to /home/bnt4me/Virginia/repos/bedbase/docs_jupyter/bedbase_tutorial/outputs/bedboss_output/bedstat_pipeline_logs/submission/BEDMAKER_bedbase_demo_db4.sub\n",
      "Job script (n=1; 0.00Gb): /home/bnt4me/Virginia/repos/bedbase/docs_jupyter/bedbase_tutorial/outputs/bedboss_output/bedstat_pipeline_logs/submission/BEDMAKER_bedbase_demo_db4.sub\n",
      "Compute node: cphg-Precision-5560\n",
      "Start time: 2022-10-17 17:58:41\n",
      "processing genome name...\n",
      "Getting Open Signal Matrix file path...\n",
      "output_bed = /home/bnt4me/Virginia/repos/bedbase/docs_jupyter/bedbase_tutorial/outputs/bed_files/GSE105977_ENCFF937CGY_peaks_GRCh38.bed.gz\n",
      "output_bigbed = /home/bnt4me/Virginia/repos/bedbase/docs_jupyter/bedbase_tutorial/outputs/bigbed_files\n",
      "bedmaker logs directory doesn't exist. Creating one...\n",
      "### Pipeline run code and environment:\n",
      "\n",
      "*              Command:  `/home/bnt4me/Virginia/venv/jup_notebook/bin/bedboss --sample-name bedbase_demo_db4 --input-file /home/bnt4me/Virginia/repos/bedbase/docs_jupyter/bedbase_tutorial/files/GSE105977_ENCFF937CGY_peaks_GRCh38.bed.gz --input-type bed --genome hg38 --output_folder /home/bnt4me/Virginia/repos/bedbase/docs_jupyter/bedbase_tutorial/outputs --narrowpeak True --rfg-config genome_config.yaml --bedbase-config /home/bnt4me/Virginia/repos/bedbase/docs_jupyter/bedbase_tutorial/bedbase/tutorial_files/bedboss/config_db_local.yaml --sample-yaml /home/bnt4me/Virginia/repos/bedbase/docs_jupyter/bedbase_tutorial/outputs/meta_yaml/bedbase_demo_db4.yaml`\n",
      "*         Compute host:  cphg-Precision-5560\n",
      "*          Working dir:  /home/bnt4me/Virginia/repos/bedbase/docs_jupyter/bedbase_tutorial\n",
      "*            Outfolder:  /home/bnt4me/Virginia/repos/bedbase/docs_jupyter/bedbase_tutorial/outputs/bed_files/bedmaker_logs/bedbase_demo_db4/\n",
      "*  Pipeline started at:   (10-17 17:58:41) elapsed: 0.0 _TIME_\n",
      "\n",
      "### Version log:\n",
      "\n",
      "*       Python version:  3.8.10\n",
      "*          Pypiper dir:  `/home/bnt4me/Virginia/venv/jup_notebook/lib/python3.8/site-packages/pypiper`\n",
      "*      Pypiper version:  0.12.3\n",
      "*         Pipeline dir:  `/home/bnt4me/Virginia/venv/jup_notebook/bin`\n",
      "*     Pipeline version:  None\n",
      "\n",
      "### Arguments passed to pipeline:\n",
      "\n",
      "\n",
      "----------------------------------------\n",
      "\n",
      "Got input type: bed\n",
      "Target to produce: `/home/bnt4me/Virginia/repos/bedbase/docs_jupyter/bedbase_tutorial/outputs/bed_files/GSE105977_ENCFF937CGY_peaks_GRCh38.bed.gz`  \n",
      "\n",
      "> `cp /home/bnt4me/Virginia/repos/bedbase/docs_jupyter/bedbase_tutorial/files/GSE105977_ENCFF937CGY_peaks_GRCh38.bed.gz /home/bnt4me/Virginia/repos/bedbase/docs_jupyter/bedbase_tutorial/outputs/bed_files/GSE105977_ENCFF937CGY_peaks_GRCh38.bed.gz` (203753)\n",
      "<pre>\n",
      "</pre>\n",
      "Command completed. Elapsed time: 0:00:00. Running peak memory: 0GB.  \n",
      "  PID: 203753;\tCommand: cp;\tReturn code: 0;\tMemory used: 0.0GB\n",
      "\n",
      "Removed existing flag: '/home/bnt4me/Virginia/repos/bedbase/docs_jupyter/bedbase_tutorial/outputs/bed_files/bedqc_logs/bedQC-pipeline_completed.flag'\n",
      "### Pipeline run code and environment:\n",
      "\n",
      "*              Command:  `/home/bnt4me/Virginia/venv/jup_notebook/bin/bedboss --sample-name bedbase_demo_db4 --input-file /home/bnt4me/Virginia/repos/bedbase/docs_jupyter/bedbase_tutorial/files/GSE105977_ENCFF937CGY_peaks_GRCh38.bed.gz --input-type bed --genome hg38 --output_folder /home/bnt4me/Virginia/repos/bedbase/docs_jupyter/bedbase_tutorial/outputs --narrowpeak True --rfg-config genome_config.yaml --bedbase-config /home/bnt4me/Virginia/repos/bedbase/docs_jupyter/bedbase_tutorial/bedbase/tutorial_files/bedboss/config_db_local.yaml --sample-yaml /home/bnt4me/Virginia/repos/bedbase/docs_jupyter/bedbase_tutorial/outputs/meta_yaml/bedbase_demo_db4.yaml`\n",
      "*         Compute host:  cphg-Precision-5560\n",
      "*          Working dir:  /home/bnt4me/Virginia/repos/bedbase/docs_jupyter/bedbase_tutorial\n",
      "*            Outfolder:  /home/bnt4me/Virginia/repos/bedbase/docs_jupyter/bedbase_tutorial/outputs/bed_files/bedqc_logs/\n",
      "*  Pipeline started at:   (10-17 17:58:41) elapsed: 0.0 _TIME_\n",
      "\n",
      "### Version log:\n",
      "\n",
      "*       Python version:  3.8.10\n",
      "*          Pypiper dir:  `/home/bnt4me/Virginia/venv/jup_notebook/lib/python3.8/site-packages/pypiper`\n",
      "*      Pypiper version:  0.12.3\n",
      "*         Pipeline dir:  `/home/bnt4me/Virginia/venv/jup_notebook/bin`\n",
      "*     Pipeline version:  None\n",
      "\n",
      "### Arguments passed to pipeline:\n",
      "\n",
      "\n",
      "----------------------------------------\n",
      "\n",
      "Target to produce: `/home/bnt4me/Virginia/repos/bedbase/docs_jupyter/bedbase_tutorial/outputs/bed_files/bedqc_logs/l8jaedtj`  \n",
      "\n",
      "> `zcat /home/bnt4me/Virginia/repos/bedbase/docs_jupyter/bedbase_tutorial/outputs/bed_files/GSE105977_ENCFF937CGY_peaks_GRCh38.bed.gz > /home/bnt4me/Virginia/repos/bedbase/docs_jupyter/bedbase_tutorial/outputs/bed_files/bedqc_logs/l8jaedtj` (203760)\n",
      "<pre>\n",
      "</pre>\n",
      "Command completed. Elapsed time: 0:00:00. Running peak memory: 0.002GB.  \n",
      "  PID: 203760;\tCommand: zcat;\tReturn code: 0;\tMemory used: 0.002GB\n",
      "\n",
      "Targetless command, running...  \n",
      "\n",
      "> `bash /home/bnt4me/Virginia/venv/jup_notebook/lib/python3.8/site-packages/bedmaker/est_line.sh /home/bnt4me/Virginia/repos/bedbase/docs_jupyter/bedbase_tutorial/outputs/bed_files/bedqc_logs/l8jaedtj ` (203762)\n",
      "<pre>\n",
      "313000</pre>\n",
      "Command completed. Elapsed time: 0:00:00. Running peak memory: 0.002GB.  \n",
      "  PID: 203762;\tCommand: bash;\tReturn code: 0;\tMemory used: 0.0GB\n",
      "\n",
      "Starting cleanup: 1 files; 0 conditional files for cleanup\n",
      "\n",
      "Cleaning up flagged intermediate files. . .\n",
      "\n",
      "### Pipeline completed. Epilogue\n",
      "*        Elapsed time (this run):  0:00:00\n",
      "*  Total elapsed time (all runs):  0:00:00\n",
      "*         Peak memory (this run):  0.0021 GB\n",
      "*        Pipeline completed time: 2022-10-17 17:58:42\n",
      "Generating bigBed files for: /home/bnt4me/Virginia/repos/bedbase/docs_jupyter/bedbase_tutorial/files/GSE105977_ENCFF937CGY_peaks_GRCh38.bed.gz\n",
      "Determining path to chrom.sizes asset via Refgenie.\n",
      "Reading refgenie genome configuration file from file: /home/bnt4me/Virginia/repos/bedbase/docs_jupyter/bedbase_tutorial/genome_config.yaml\n",
      "/home/bnt4me/Virginia/repos/bedbase/docs_jupyter/bedbase_tutorial/alias/hg38/fasta/default/hg38.chrom.sizes\n",
      "Determined path to chrom.sizes asset: /home/bnt4me/Virginia/repos/bedbase/docs_jupyter/bedbase_tutorial/alias/hg38/fasta/default/hg38.chrom.sizes\n",
      "Target to produce: `/home/bnt4me/Virginia/repos/bedbase/docs_jupyter/bedbase_tutorial/outputs/bigbed_files/s6quukg4`  \n",
      "\n",
      "> `zcat /home/bnt4me/Virginia/repos/bedbase/docs_jupyter/bedbase_tutorial/outputs/bed_files/GSE105977_ENCFF937CGY_peaks_GRCh38.bed.gz  | sort -k1,1 -k2,2n > /home/bnt4me/Virginia/repos/bedbase/docs_jupyter/bedbase_tutorial/outputs/bigbed_files/s6quukg4` (203772,203773)\n",
      "<pre>\n",
      "</pre>\n",
      "Command completed. Elapsed time: 0:00:01. Running peak memory: 0.013GB.  \n",
      "  PID: 203772;\tCommand: zcat;\tReturn code: 0;\tMemory used: 0.002GB  \n",
      "  PID: 203773;\tCommand: sort;\tReturn code: 0;\tMemory used: 0.013GB\n",
      "\n",
      "Target to produce: `/home/bnt4me/Virginia/repos/bedbase/docs_jupyter/bedbase_tutorial/outputs/bigbed_files/GSE105977_ENCFF937CGY_peaks_GRCh38.bigBed`  \n",
      "\n",
      "> `bedToBigBed -type=bed6+4 /home/bnt4me/Virginia/repos/bedbase/docs_jupyter/bedbase_tutorial/outputs/bigbed_files/s6quukg4 /home/bnt4me/Virginia/repos/bedbase/docs_jupyter/bedbase_tutorial/alias/hg38/fasta/default/hg38.chrom.sizes /home/bnt4me/Virginia/repos/bedbase/docs_jupyter/bedbase_tutorial/outputs/bigbed_files/GSE105977_ENCFF937CGY_peaks_GRCh38.bigBed` (203775)\n",
      "<pre>\n",
      "pass1 - making usageList (62 chroms): 78 millis\n",
      "pass2 - checking and writing primary data (300000 records, 10 fields): 525 millis\n",
      "</pre>\n",
      "Command completed. Elapsed time: 0:00:01. Running peak memory: 0.019GB.  \n",
      "  PID: 203775;\tCommand: bedToBigBed;\tReturn code: 0;\tMemory used: 0.019GB\n",
      "\n",
      "Starting cleanup: 1 files; 0 conditional files for cleanup\n",
      "\n",
      "Cleaning up flagged intermediate files. . .\n",
      "\n",
      "### Pipeline completed. Epilogue\n",
      "*        Elapsed time (this run):  0:00:02\n",
      "*  Total elapsed time (all runs):  0:00:02\n",
      "*         Peak memory (this run):  0.0187 GB\n",
      "*        Pipeline completed time: 2022-10-17 17:58:43\n",
      "### Pipeline run code and environment:\n",
      "\n",
      "*              Command:  `/home/bnt4me/Virginia/venv/jup_notebook/bin/bedboss --sample-name bedbase_demo_db4 --input-file /home/bnt4me/Virginia/repos/bedbase/docs_jupyter/bedbase_tutorial/files/GSE105977_ENCFF937CGY_peaks_GRCh38.bed.gz --input-type bed --genome hg38 --output_folder /home/bnt4me/Virginia/repos/bedbase/docs_jupyter/bedbase_tutorial/outputs --narrowpeak True --rfg-config genome_config.yaml --bedbase-config /home/bnt4me/Virginia/repos/bedbase/docs_jupyter/bedbase_tutorial/bedbase/tutorial_files/bedboss/config_db_local.yaml --sample-yaml /home/bnt4me/Virginia/repos/bedbase/docs_jupyter/bedbase_tutorial/outputs/meta_yaml/bedbase_demo_db4.yaml`\n"
     ]
    },
    {
     "name": "stdout",
     "output_type": "stream",
     "text": [
      "*         Compute host:  cphg-Precision-5560\n",
      "*          Working dir:  /home/bnt4me/Virginia/repos/bedbase/docs_jupyter/bedbase_tutorial\n",
      "*            Outfolder:  /home/bnt4me/Virginia/repos/bedbase/docs_jupyter/bedbase_tutorial/outputs/bedstat_output/a78493a2b314afe9f6635c4883f0d44b/\n",
      "*  Pipeline started at:   (10-17 17:58:43) elapsed: 0.0 _TIME_\n",
      "\n",
      "### Version log:\n",
      "\n",
      "*       Python version:  3.8.10\n",
      "*          Pypiper dir:  `/home/bnt4me/Virginia/venv/jup_notebook/lib/python3.8/site-packages/pypiper`\n",
      "*      Pypiper version:  0.12.3\n",
      "*         Pipeline dir:  `/home/bnt4me/Virginia/venv/jup_notebook/bin`\n",
      "*     Pipeline version:  None\n",
      "\n",
      "### Arguments passed to pipeline:\n",
      "\n",
      "\n",
      "----------------------------------------\n",
      "\n",
      "Rscript /home/bnt4me/Virginia/venv/jup_notebook/lib/python3.8/site-packages/bedstat/tools/regionstat.R --bedfilePath=/home/bnt4me/Virginia/repos/bedbase/docs_jupyter/bedbase_tutorial/outputs/bed_files/GSE105977_ENCFF937CGY_peaks_GRCh38.bed.gz --fileId=GSE105977_ENCFF937CGY_peaks_GRCh38 --openSignalMatrix=./openSignalMatrix/openSignalMatrix_hg38_percentile99_01_quantNormalized_round4d.txt.gz --outputFolder=/home/bnt4me/Virginia/repos/bedbase/docs_jupyter/bedbase_tutorial/outputs/bedstat_output/a78493a2b314afe9f6635c4883f0d44b --genome=hg38 --ensdb=None --digest=a78493a2b314afe9f6635c4883f0d44b\n",
      "Target to produce: `/home/bnt4me/Virginia/repos/bedbase/docs_jupyter/bedbase_tutorial/outputs/bedstat_output/a78493a2b314afe9f6635c4883f0d44b/GSE105977_ENCFF937CGY_peaks_GRCh38.json`  \n",
      "\n",
      "> `Rscript /home/bnt4me/Virginia/venv/jup_notebook/lib/python3.8/site-packages/bedstat/tools/regionstat.R --bedfilePath=/home/bnt4me/Virginia/repos/bedbase/docs_jupyter/bedbase_tutorial/outputs/bed_files/GSE105977_ENCFF937CGY_peaks_GRCh38.bed.gz --fileId=GSE105977_ENCFF937CGY_peaks_GRCh38 --openSignalMatrix=./openSignalMatrix/openSignalMatrix_hg38_percentile99_01_quantNormalized_round4d.txt.gz --outputFolder=/home/bnt4me/Virginia/repos/bedbase/docs_jupyter/bedbase_tutorial/outputs/bedstat_output/a78493a2b314afe9f6635c4883f0d44b --genome=hg38 --ensdb=None --digest=a78493a2b314afe9f6635c4883f0d44b` (203785)\n",
      "<pre>\n",
      "Loading required package: IRanges\n",
      "Loading required package: BiocGenerics\n",
      "\n",
      "Attaching package: ‘BiocGenerics’\n",
      "\n",
      "The following objects are masked from ‘package:stats’:\n",
      "\n",
      "    IQR, mad, sd, var, xtabs\n",
      "\n",
      "The following objects are masked from ‘package:base’:\n",
      "\n",
      "    anyDuplicated, append, as.data.frame, basename, cbind, colnames,\n",
      "    dirname, do.call, duplicated, eval, evalq, Filter, Find, get, grep,\n",
      "    grepl, intersect, is.unsorted, lapply, Map, mapply, match, mget,\n",
      "    order, paste, pmax, pmax.int, pmin, pmin.int, Position, rank,\n",
      "    rbind, Reduce, rownames, sapply, setdiff, sort, table, tapply,\n",
      "    union, unique, unsplit, which.max, which.min\n",
      "\n",
      "Loading required package: S4Vectors\n",
      "Loading required package: stats4\n",
      "\n",
      "Attaching package: ‘S4Vectors’\n",
      "\n",
      "The following objects are masked from ‘package:base’:\n",
      "\n",
      "    expand.grid, I, unname\n",
      "\n",
      "Loading required package: GenomicRanges\n",
      "Loading required package: GenomeInfoDb\n",
      "snapshotDate(): 2022-04-26\n",
      "Warning message:\n",
      "replacing previous import 'GenomicFeatures::proteinToGenome' by 'ensembldb::proteinToGenome' when loading 'GenomicDistributionsData' \n",
      "Loading required package: GenomicFeatures\n",
      "Loading required package: AnnotationDbi\n",
      "Loading required package: Biobase\n",
      "Welcome to Bioconductor\n",
      "\n",
      "    Vignettes contain introductory material; view with\n",
      "    'browseVignettes()'. To cite Bioconductor, see\n",
      "    'citation(\"Biobase\")', and for packages 'citation(\"pkgname\")'.\n",
      "\n",
      "Loading required package: AnnotationFilter\n",
      "\n",
      "Attaching package: 'ensembldb'\n",
      "\n",
      "The following object is masked from 'package:stats':\n",
      "\n",
      "    filter\n",
      "\n",
      "Loading required package: R.oo\n",
      "Loading required package: R.methodsS3\n",
      "R.methodsS3 v1.8.2 (2022-06-13 22:00:14 UTC) successfully loaded. See ?R.methodsS3 for help.\n",
      "R.oo v1.25.0 (2022-06-12 02:20:02 UTC) successfully loaded. See ?R.oo for help.\n",
      "\n",
      "Attaching package: 'R.oo'\n",
      "\n",
      "The following object is masked from 'package:R.methodsS3':\n",
      "\n",
      "    throw\n",
      "\n",
      "The following object is masked from 'package:GenomicRanges':\n",
      "\n",
      "    trim\n",
      "\n",
      "The following object is masked from 'package:IRanges':\n",
      "\n",
      "    trim\n",
      "\n",
      "The following objects are masked from 'package:methods':\n",
      "\n",
      "    getClasses, getMethods\n",
      "\n",
      "The following objects are masked from 'package:base':\n",
      "\n",
      "    attach, detach, load, save\n",
      "\n",
      "R.utils v2.12.0 (2022-06-28 03:20:05 UTC) successfully loaded. See ?R.utils for help.\n",
      "\n",
      "Attaching package: 'R.utils'\n",
      "\n",
      "The following object is masked from 'package:utils':\n",
      "\n",
      "    timestamp\n",
      "\n",
      "The following objects are masked from 'package:base':\n",
      "\n",
      "    cat, commandArgs, getOption, isOpen, nullfile, parse, warnings\n",
      "\n",
      "see ?GenomicDistributionsData and browseVignettes('GenomicDistributionsData') for documentation\n",
      "loading from cache\n",
      "[1] \"Plotting: /home/bnt4me/Virginia/repos/bedbase/docs_jupyter/bedbase_tutorial/outputs/bedstat_output/a78493a2b314afe9f6635c4883f0d44b/GSE105977_ENCFF937CGY_peaks_GRCh38_tssdist\"\n",
      "Scale for 'x' is already present. Adding another scale for 'x', which will\n",
      "replace the existing scale.\n",
      "[1] \"Writing plot json: outputs/bedstat_output/a78493a2b314afe9f6635c4883f0d44b/GSE105977_ENCFF937CGY_peaks_GRCh38_tssdist\"\n",
      "Successfully calculated and plot TSS distance.\n",
      "[1] \"Plotting: /home/bnt4me/Virginia/repos/bedbase/docs_jupyter/bedbase_tutorial/outputs/bedstat_output/a78493a2b314afe9f6635c4883f0d44b/GSE105977_ENCFF937CGY_peaks_GRCh38_chrombins\"\n",
      "see ?GenomicDistributionsData and browseVignettes('GenomicDistributionsData') for documentation\n",
      "loading from cache\n",
      "[1] \"Writing plot json: outputs/bedstat_output/a78493a2b314afe9f6635c4883f0d44b/GSE105977_ENCFF937CGY_peaks_GRCh38_chrombins\"\n",
      "Successfully calculated and plot chromosomes region distribution.\n",
      "see ?GenomicDistributionsData and browseVignettes('GenomicDistributionsData') for documentation\n",
      "loading from cache\n",
      "Calculating overlaps...\n",
      "[1] \"Plotting: /home/bnt4me/Virginia/repos/bedbase/docs_jupyter/bedbase_tutorial/outputs/bedstat_output/a78493a2b314afe9f6635c4883f0d44b/GSE105977_ENCFF937CGY_peaks_GRCh38_paritions\"\n",
      "[1] \"Writing plot json: outputs/bedstat_output/a78493a2b314afe9f6635c4883f0d44b/GSE105977_ENCFF937CGY_peaks_GRCh38_paritions\"\n",
      "Successfully calculated and plot regions distribution over genomic partitions.\n",
      "[1] \"Plotting: /home/bnt4me/Virginia/repos/bedbase/docs_jupyter/bedbase_tutorial/outputs/bedstat_output/a78493a2b314afe9f6635c4883f0d44b/GSE105977_ENCFF937CGY_peaks_GRCh38_expected_partitions\"\n",
      "see ?GenomicDistributionsData and browseVignettes('GenomicDistributionsData') for documentation\n",
      "loading from cache\n",
      "see ?GenomicDistributionsData and browseVignettes('GenomicDistributionsData') for documentation\n",
      "loading from cache\n",
      "[1] \"Writing plot json: outputs/bedstat_output/a78493a2b314afe9f6635c4883f0d44b/GSE105977_ENCFF937CGY_peaks_GRCh38_expected_partitions\"\n",
      "Successfully calculated and plot expected distribution over genomic partitions.\n",
      "[1] \"Plotting: /home/bnt4me/Virginia/repos/bedbase/docs_jupyter/bedbase_tutorial/outputs/bedstat_output/a78493a2b314afe9f6635c4883f0d44b/GSE105977_ENCFF937CGY_peaks_GRCh38_cumulative_partitions\"\n",
      "see ?GenomicDistributionsData and browseVignettes('GenomicDistributionsData') for documentation\n",
      "loading from cache\n",
      "[1] \"Writing plot json: outputs/bedstat_output/a78493a2b314afe9f6635c4883f0d44b/GSE105977_ENCFF937CGY_peaks_GRCh38_cumulative_partitions\"\n",
      "Successfully calculated and plot cumulative distribution over genomic partitions.\n",
      "[1] \"Plotting: /home/bnt4me/Virginia/repos/bedbase/docs_jupyter/bedbase_tutorial/outputs/bedstat_output/a78493a2b314afe9f6635c4883f0d44b/GSE105977_ENCFF937CGY_peaks_GRCh38_widths_histogram\"\n",
      "[1] \"Writing plot json: outputs/bedstat_output/a78493a2b314afe9f6635c4883f0d44b/GSE105977_ENCFF937CGY_peaks_GRCh38_widths_histogram\"\n",
      "Successfully calculated and plot quantile-trimmed histogram of widths.\n",
      "[1] \"Plotting: /home/bnt4me/Virginia/repos/bedbase/docs_jupyter/bedbase_tutorial/outputs/bedstat_output/a78493a2b314afe9f6635c4883f0d44b/GSE105977_ENCFF937CGY_peaks_GRCh38_neighbor_distances\"\n",
      "[1] \"Writing plot json: outputs/bedstat_output/a78493a2b314afe9f6635c4883f0d44b/GSE105977_ENCFF937CGY_peaks_GRCh38_neighbor_distances\"\n",
      "Successfully calculated and plot distance between neighbor regions.\n",
      "[1] \"Plotting: /home/bnt4me/Virginia/repos/bedbase/docs_jupyter/bedbase_tutorial/outputs/bedstat_output/a78493a2b314afe9f6635c4883f0d44b/GSE105977_ENCFF937CGY_peaks_GRCh38_open_chromatin\"\n"
     ]
    },
    {
     "name": "stdout",
     "output_type": "stream",
     "text": [
      "Traceback (most recent call last):\r\n",
      "  File \"/home/bnt4me/Virginia/venv/jup_notebook/bin/looper\", line 8, in <module>\r\n",
      "    sys.exit(main())\r\n",
      "  File \"/home/bnt4me/Virginia/venv/jup_notebook/lib/python3.8/site-packages/looper/looper.py\", line 745, in main\r\n",
      "    run(args, rerun=(args.command == \"rerun\"), **compute_kwargs)\r\n",
      "  File \"/home/bnt4me/Virginia/venv/jup_notebook/lib/python3.8/site-packages/looper/looper.py\", line 353, in __call__\r\n",
      "    curr_pl_fails = cndtr.add_sample(sample, rerun=rerun)\r\n",
      "  File \"/home/bnt4me/Virginia/venv/jup_notebook/lib/python3.8/site-packages/looper/conductor.py\", line 365, in add_sample\r\n",
      "    self.submit()\r\n",
      "  File \"/home/bnt4me/Virginia/venv/jup_notebook/lib/python3.8/site-packages/looper/conductor.py\", line 414, in submit\r\n",
      "    subprocess.check_call(submission_command, shell=True)\r\n",
      "  File \"/usr/lib/python3.8/subprocess.py\", line 359, in check_call\r\n",
      "    retcode = call(*popenargs, **kwargs)\r\n",
      "  File \"/usr/lib/python3.8/subprocess.py\", line 342, in call\r\n",
      "    return p.wait(timeout=timeout)\r\n",
      "  File \"/usr/lib/python3.8/subprocess.py\", line 1083, in wait\r\n",
      "    return self._wait(timeout=timeout)\r\n",
      "  File \"/usr/lib/python3.8/subprocess.py\", line 1806, in _wait\r\n",
      "    (pid, sts) = self._try_wait(0)\r\n",
      "  File \"/usr/lib/python3.8/subprocess.py\", line 1764, in _try_wait\r\n",
      "    (pid, sts) = os.waitpid(self.pid, wait_flags)\r\n",
      "KeyboardInterrupt\r\n",
      "\u001b[0m\r\n"
     ]
    }
   ],
   "source": [
    "looper run bedbase/tutorial_files/bedboss/bedboss_looper.yaml --package local -R"
   ]
  },
  {
   "cell_type": "markdown",
   "metadata": {},
   "source": [
    "### If You have errors in bedstat requirements:"
   ]
  },
  {
   "cell_type": "code",
   "execution_count": 8,
   "metadata": {},
   "outputs": [
    {
     "ename": "",
     "evalue": "1",
     "output_type": "error",
     "traceback": []
    }
   ],
   "source": [
    "pip install -r bedstat/requirements.txt --user > requirements_log.txt"
   ]
  },
  {
   "cell_type": "markdown",
   "metadata": {},
   "source": [
    "Install R dependencies"
   ]
  },
  {
   "cell_type": "code",
   "execution_count": 32,
   "metadata": {},
   "outputs": [],
   "source": [
    "Rscript bedstat/scripts/installRdeps.R > R_deps.txt"
   ]
  },
  {
   "cell_type": "markdown",
   "metadata": {},
   "source": [
    "In case there is an issue installing `GenomicDistributionsData`, try:\n",
    "```\n",
    "wget http://big.databio.org/GenomicDistributionsData/GenomicDistributionsData_0.0.2.tar.gz\n",
    "Rscript -e 'install.packages(\"GenomicDistributionsData_0.0.2.tar.gz\", type=\"source\", repos=NULL)'\n",
    "```"
   ]
  },
  {
   "cell_type": "markdown",
   "metadata": {},
   "source": [
    "There's an additional dependency needed by `bedstat` if we wish to calculate and plot the GC content of our bedfiles. Depending on the genome assemblies of the files listed on a PEP, the appropriate BSgenome packages should be installed. The following is an example of how we can do so:"
   ]
  },
  {
   "cell_type": "code",
   "execution_count": 12,
   "metadata": {},
   "outputs": [
    {
     "name": "stdout",
     "output_type": "stream",
     "text": [
      "if (!requireNamespace(\"BiocManager\", quietly = TRUE))\n",
      "    install.packages(\"BiocManager\")\n",
      "\n",
      "BiocManager::install(\"BSgenome.Hsapiens.UCSC.hg38.masked\")"
     ]
    }
   ],
   "source": [
    "cat bedbase/tutorial_files/scripts/BSgenome_install.R"
   ]
  },
  {
   "cell_type": "code",
   "execution_count": 31,
   "metadata": {},
   "outputs": [],
   "source": [
    "Rscript bedbase/tutorial_files/scripts/BSgenome_install.R > BSgenome.txt"
   ]
  },
  {
   "cell_type": "markdown",
   "metadata": {},
   "source": [
    "We'll need to create a directory where we can store the stats and plots generated by `bedstat`. Additionally, we'll create a directory where we can store log and metadata files that we'll need later on."
   ]
  },
  {
   "cell_type": "markdown",
   "metadata": {},
   "source": [
    "## 4. BEDBUNCHER: Create bedsets and their respective statistics \n",
    "\n",
    "### Create a new PEP describing the bedset name and specific JSON query \n",
    "\n",
    "Now that we've processed several individual BED files, we'll turn to the next task: grouping them together into collections of BED files, which we call *bedsets*. For this, we use the `bedbuncher` pipeline, which produces outputs for each bedset, such as a bedset PEP, bedset-level statistics and plots, and an `IGD` database. To run `bedbuncher`, we will need another PEP describing each bedset. Though the annotation sheet below specifies attributes for one bedset, you can create as many as you wish using additional rows. For each bedset, you need to provide the query to retrieve certain collection BED files. \n",
    "\n",
    "The following example PEP shows the attributes we need to provide for each bedset and the config.yaml file that will grab the files needed to run `bedbuncher`:"
   ]
  },
  {
   "cell_type": "code",
   "execution_count": 31,
   "metadata": {},
   "outputs": [
    {
     "name": "stdout",
     "output_type": "stream",
     "text": [
      "sample_name,bedset_name,genome,query,operator,query_val,bbconfig_name,bedbase_config\n",
      "sample1,bedsetOver1kRegions,hg38,'regions_no',gt,\"\"\"1000\"\"\",bedbase_configuration_compose,source1\n",
      "sample2,bedsetOver50GCContent,hg38,'gc_content',gt,\"\"\"0.5\"\"\",bedbase_configuration_compose,source1\n",
      "sample3,bedsetUnder500MeanWidth,hg38,'mean_region_width',lt,\"\"\"500\"\"\",bedbase_configuration_compose,source1\n",
      "sample4,bedsetTestSelectCellType,hg38,\"\"\"other::text~~:str_1 or other::text~~:str_2\"\"\",\"\"\"str_1,str_2\"\"\",\"\"\"%GM12878%,%HEK293%\"\"\",bedbase_configuration_compose,source1\n",
      "sample5,bedsetTestSelectGenome,hg38,\"\"\"name=:name_1 or name=:name_2\"\"\",\"\"\"name_1,name_2\"\"\",\"\"\"GSE105587_ENCFF018NNF_conservative_idr_thresholded_peaks_GRCh38,GSE91663_ENCFF553KIK_optimal_idr_thresholded_peaks_GRCh38\"\"\",bedbase_configuration_compose,source1\n",
      "sample6,bedsetTestCellType,hg38,\"\"\"other\"\"\",contains,\"\"\"\"\"{\\\"\"cell_type\\\"\":\\ \\\"\"K562\\\"\"}\"\"\"\"\",bedbase_configuration_compose,source1\n",
      "sample7,bedsetTestSpace,hg38,\"\"\"other\"\"\",contains,\"\"\"\"\"{\\\"\"description\\\"\":\\ \\\"\"IKZF1\\ ChIP-seq\\ on\\ human\\ GM12878\\\"\"}\"\"\"\"\",bedbase_configuration_compose,source1\n",
      "sample8,bedsetTestsSpaceMult,hg38,\"\"\"other::text~~:str_1 or other::text~~:str_2\"\"\",\"\"\"str_1,str_2\"\"\",\"\"\"%IKZF1 ChIP-seq on human GM12878%,%ZEB2 ChIP-seq on human K562 (ENCODE)%\"\"\",bedbase_configuration_compose,source1\n",
      "sample9,bedsetTestSpace2,hg38,\"\"\"other\"\"\",contains,\"\"\"\"\"{\\\"\"description\\\"\":\\ \\\"\"HEK293\\ cell\\ line\\ stably\\ expressing\\ N-terminal\\ tagged\\ eGFP-GLI2\\ under\\ the\\ control\\ of\\ a\\ CMV\\ promoter\\\"\"}\"\"\"\"\",bedbase_configuration_compose,source1\n",
      "sample10,bedsetTestsSpaceMult2,hg38,\"\"\"other::text~~:str_1 or other::text~~:str_2\"\"\",\"\"\"str_1,str_2\"\"\",\"\"\"%ZEB2 ChIP-seq on human K562 (ENCODE)%,%HEK293 cell line stably expressing N-terminal tagged eGFP-GLI2 under the control of a CMV promoter %\"\"\",bedbase_configuration_compose,source1\n"
     ]
    }
   ],
   "source": [
    "cat bedbase/tutorial_files/PEPs/bedbuncher_query.csv"
   ]
  },
  {
   "cell_type": "code",
   "execution_count": 32,
   "metadata": {},
   "outputs": [
    {
     "name": "stdout",
     "output_type": "stream",
     "text": [
      "pep_version: 2.0.0\n",
      "sample_table: bedbuncher_query.csv\n",
      "\n",
      "looper:\n",
      "    output_dir: $BEDBASE_DATA_PATH_HOST/outputs/bedbuncher_output/bedbuncher_pipeline_logs\n",
      "\n",
      "sample_modifiers:\n",
      "  append:\n",
      "    pipeline_interfaces: $CODE/bedbuncher/pipeline_interface.yaml \n",
      "  derive:\n",
      "    attributes: [bedbase_config]\n",
      "    sources:\n",
      "      source1: $CODE/bedbase/tutorial_files/{bbconfig_name}.yaml\n"
     ]
    }
   ],
   "source": [
    "cat bedbase/tutorial_files/PEPs/bedbuncher_config.yaml"
   ]
  },
  {
   "cell_type": "markdown",
   "metadata": {},
   "source": [
    "Running `bedbuncher` with arguments defined in the example PEP above will result in a bedset with bedfiles that consist of at least 1000 regions."
   ]
  },
  {
   "cell_type": "markdown",
   "metadata": {},
   "source": [
    "###  Create outputs directory and install bedbuncher command line dependencies\n",
    "\n",
    "We need a folder where we can store bedset related outputs. Though not required, we'll also create a directory where we can store the `bedbuncher` pipeline logs. "
   ]
  },
  {
   "cell_type": "code",
   "execution_count": 33,
   "metadata": {},
   "outputs": [],
   "source": [
    "mkdir -p outputs/bedbuncher_output/bedbuncher_pipeline_logs"
   ]
  },
  {
   "cell_type": "markdown",
   "metadata": {},
   "source": [
    "One of the feats of `bedbuncher` includes [IGD](https://github.com/databio/IGD) database creation from the files in the bedset. `IGD` can be installed by cloning the repository from github, executing the make file to create the binary, and pointing the binary location with the `$PATH` environment variable. "
   ]
  },
  {
   "cell_type": "code",
   "execution_count": 34,
   "metadata": {},
   "outputs": [
    {
     "name": "stdout",
     "output_type": "stream",
     "text": [
      "Cloning into 'IGD'...\n",
      "remote: Enumerating objects: 1297, done.\u001b[K\n",
      "remote: Counting objects: 100% (67/67), done.\u001b[K\n",
      "remote: Compressing objects: 100% (50/50), done.\u001b[K\n",
      "remote: Total 1297 (delta 35), reused 40 (delta 17), pack-reused 1230\u001b[K\n",
      "Receiving objects: 100% (1297/1297), 949.45 KiB | 10.79 MiB/s, done.\n",
      "Resolving deltas: 100% (804/804), done.\n"
     ]
    }
   ],
   "source": [
    "git clone git@github.com:databio/IGD\n",
    "cd IGD\n",
    "make > igd_make_log.txt 2>&1\n",
    "cd ..\n",
    "\n",
    "export PATH=$BEDBASE_DATA_PATH_HOST/IGD/bin/:$PATH"
   ]
  },
  {
   "cell_type": "markdown",
   "metadata": {},
   "source": [
    "### Run bedbuncher using Looper \n",
    "\n",
    "Once we have cloned the `bedbuncher` repository, set our local Postgres cluster and created the `iGD` binary, we can run the pipeline by pointing `looper run` to the appropriate `PEP` config file. As mentioned earlier, if the path to the bedbase configuration file has been stored in the `$BEDBASE` environment variable, it's not neccesary to pass the `--bedbase-config` argument. "
   ]
  },
  {
   "cell_type": "code",
   "execution_count": 36,
   "metadata": {},
   "outputs": [
    {
     "name": "stdout",
     "output_type": "stream",
     "text": [
      "Looper version: 1.3.1\n",
      "Command: run\n",
      "/home/bnt4me/.local/lib/python3.8/site-packages/divvy/compute.py:150: UserWarning: The '_file_path' property is deprecated and will be removed in a future release. Use ComputingConfiguration[\"__internal\"][\"_file_path\"] instead.\n",
      "  os.path.dirname(self._file_path),\n",
      "/home/bnt4me/.local/lib/python3.8/site-packages/divvy/compute.py:58: UserWarning: The '_file_path' property is deprecated and will be removed in a future release. Use ComputingConfiguration[\"__internal\"][\"_file_path\"] instead.\n",
      "  self.config_file = self._file_path\n",
      "Activating compute package 'local'\n",
      "\u001b[36m## [1 of 10] sample: sample1; pipeline: BEDBUNCHER\u001b[0m\n",
      "Writing script to /home/bnt4me/Virginia/bed_maker/bedbase_tutorial/outputs/bedbuncher_output/bedbuncher_pipeline_logs/submission/BEDBUNCHER_sample1.sub\n",
      "Job script (n=1; 0.00Gb): /home/bnt4me/Virginia/bed_maker/bedbase_tutorial/outputs/bedbuncher_output/bedbuncher_pipeline_logs/submission/BEDBUNCHER_sample1.sub\n",
      "\u001b[36m## [2 of 10] sample: sample2; pipeline: BEDBUNCHER\u001b[0m\n",
      "Writing script to /home/bnt4me/Virginia/bed_maker/bedbase_tutorial/outputs/bedbuncher_output/bedbuncher_pipeline_logs/submission/BEDBUNCHER_sample2.sub\n",
      "Job script (n=1; 0.00Gb): /home/bnt4me/Virginia/bed_maker/bedbase_tutorial/outputs/bedbuncher_output/bedbuncher_pipeline_logs/submission/BEDBUNCHER_sample2.sub\n",
      "\u001b[36m## [3 of 10] sample: sample3; pipeline: BEDBUNCHER\u001b[0m\n",
      "Writing script to /home/bnt4me/Virginia/bed_maker/bedbase_tutorial/outputs/bedbuncher_output/bedbuncher_pipeline_logs/submission/BEDBUNCHER_sample3.sub\n",
      "Job script (n=1; 0.00Gb): /home/bnt4me/Virginia/bed_maker/bedbase_tutorial/outputs/bedbuncher_output/bedbuncher_pipeline_logs/submission/BEDBUNCHER_sample3.sub\n",
      "\u001b[36m## [4 of 10] sample: sample4; pipeline: BEDBUNCHER\u001b[0m\n",
      "Writing script to /home/bnt4me/Virginia/bed_maker/bedbase_tutorial/outputs/bedbuncher_output/bedbuncher_pipeline_logs/submission/BEDBUNCHER_sample4.sub\n",
      "Job script (n=1; 0.00Gb): /home/bnt4me/Virginia/bed_maker/bedbase_tutorial/outputs/bedbuncher_output/bedbuncher_pipeline_logs/submission/BEDBUNCHER_sample4.sub\n",
      "\u001b[36m## [5 of 10] sample: sample5; pipeline: BEDBUNCHER\u001b[0m\n",
      "Writing script to /home/bnt4me/Virginia/bed_maker/bedbase_tutorial/outputs/bedbuncher_output/bedbuncher_pipeline_logs/submission/BEDBUNCHER_sample5.sub\n",
      "Job script (n=1; 0.00Gb): /home/bnt4me/Virginia/bed_maker/bedbase_tutorial/outputs/bedbuncher_output/bedbuncher_pipeline_logs/submission/BEDBUNCHER_sample5.sub\n",
      "\u001b[36m## [6 of 10] sample: sample6; pipeline: BEDBUNCHER\u001b[0m\n",
      "Writing script to /home/bnt4me/Virginia/bed_maker/bedbase_tutorial/outputs/bedbuncher_output/bedbuncher_pipeline_logs/submission/BEDBUNCHER_sample6.sub\n",
      "Job script (n=1; 0.00Gb): /home/bnt4me/Virginia/bed_maker/bedbase_tutorial/outputs/bedbuncher_output/bedbuncher_pipeline_logs/submission/BEDBUNCHER_sample6.sub\n",
      "\u001b[36m## [7 of 10] sample: sample7; pipeline: BEDBUNCHER\u001b[0m\n",
      "Writing script to /home/bnt4me/Virginia/bed_maker/bedbase_tutorial/outputs/bedbuncher_output/bedbuncher_pipeline_logs/submission/BEDBUNCHER_sample7.sub\n",
      "Job script (n=1; 0.00Gb): /home/bnt4me/Virginia/bed_maker/bedbase_tutorial/outputs/bedbuncher_output/bedbuncher_pipeline_logs/submission/BEDBUNCHER_sample7.sub\n",
      "\u001b[36m## [8 of 10] sample: sample8; pipeline: BEDBUNCHER\u001b[0m\n",
      "Writing script to /home/bnt4me/Virginia/bed_maker/bedbase_tutorial/outputs/bedbuncher_output/bedbuncher_pipeline_logs/submission/BEDBUNCHER_sample8.sub\n",
      "Job script (n=1; 0.00Gb): /home/bnt4me/Virginia/bed_maker/bedbase_tutorial/outputs/bedbuncher_output/bedbuncher_pipeline_logs/submission/BEDBUNCHER_sample8.sub\n",
      "\u001b[36m## [9 of 10] sample: sample9; pipeline: BEDBUNCHER\u001b[0m\n",
      "Writing script to /home/bnt4me/Virginia/bed_maker/bedbase_tutorial/outputs/bedbuncher_output/bedbuncher_pipeline_logs/submission/BEDBUNCHER_sample9.sub\n",
      "Job script (n=1; 0.00Gb): /home/bnt4me/Virginia/bed_maker/bedbase_tutorial/outputs/bedbuncher_output/bedbuncher_pipeline_logs/submission/BEDBUNCHER_sample9.sub\n",
      "\u001b[36m## [10 of 10] sample: sample10; pipeline: BEDBUNCHER\u001b[0m\n",
      "Writing script to /home/bnt4me/Virginia/bed_maker/bedbase_tutorial/outputs/bedbuncher_output/bedbuncher_pipeline_logs/submission/BEDBUNCHER_sample10.sub\n",
      "Job script (n=1; 0.00Gb): /home/bnt4me/Virginia/bed_maker/bedbase_tutorial/outputs/bedbuncher_output/bedbuncher_pipeline_logs/submission/BEDBUNCHER_sample10.sub\n",
      "\n",
      "Looper finished\n",
      "Samples valid for job generation: 10 of 10\n",
      "Commands submitted: 10 of 10\n",
      "Jobs submitted: 10\n"
     ]
    }
   ],
   "source": [
    "looper run  bedbase/tutorial_files/PEPs/bedbuncher_config.yaml  --package local \\\n",
    "--command-extra=\"-R\" > outputs/bedbuncher_output/bedbuncher_pipeline_logs/looper_logs.txt"
   ]
  },
  {
   "cell_type": "markdown",
   "metadata": {},
   "source": [
    "## 5. BEDEMBED: \n",
    "\n",
    "### bedembed_train: Uses the StarSpace method to embed the bed files and the meta data."
   ]
  },
  {
   "cell_type": "markdown",
   "metadata": {},
   "source": [
    "We need to install [StarSpace](https://github.com/facebookresearch/StarSpace) first.  "
   ]
  },
  {
   "cell_type": "code",
   "execution_count": null,
   "metadata": {},
   "outputs": [],
   "source": [
    "mkdir -p bedembed/tools"
   ]
  },
  {
   "cell_type": "markdown",
   "metadata": {},
   "source": [
    "We need to install [Boost](http://www.boost.org/) library and specify the path of boost library in makefile in order to run StarSpace."
   ]
  },
  {
   "cell_type": "code",
   "execution_count": null,
   "metadata": {},
   "outputs": [],
   "source": [
    "wget https://boostorg.jfrog.io/artifactory/main/release/1.78.0/source/boost_1_78_0.zip\n",
    "unzip boost_1_78_0.zip\n",
    "sudo mv boost_1_78_0 /usr/local/bin\n",
    "cd /usr/local/bin/boost_1_78_0\n",
    "./bootstrap.sh\n",
    "./b2"
   ]
  },
  {
   "cell_type": "markdown",
   "metadata": {},
   "source": [
    "In order to build StarSpace on Mac OS or Linux, use the following:"
   ]
  },
  {
   "cell_type": "code",
   "execution_count": null,
   "metadata": {},
   "outputs": [],
   "source": [
    "cd $BEDBASE_DATA_PATH_HOST/bedembed/tools\n",
    "git clone https://github.com/facebookresearch/Starspace.git\n",
    "cd Starspace\n",
    "make\n",
    "make embed_doc"
   ]
  },
  {
   "cell_type": "markdown",
   "metadata": {},
   "source": [
    "We need a folder where we can store bedembed related outputs. Though not required, we'll also create a directory where we can store the bedembed pipeline logs."
   ]
  },
  {
   "cell_type": "code",
   "execution_count": null,
   "metadata": {},
   "outputs": [],
   "source": [
    "mkdir -p outputs/bedembed_output/bedembed_pipeline_logs"
   ]
  },
  {
   "cell_type": "code",
   "execution_count": null,
   "metadata": {},
   "outputs": [],
   "source": [
    "path_starspace=$BEDBASE_DATA_PATH_HOST'/bedembed/tools/Starspace/starspace'\n",
    "path_meta=$BEDBASE_DATA_PATH_HOST'/bedbase/tutorial_files/PEPs/bedstat_annotation_sheet.csv'\n",
    "# download Universe file from rivanna\n",
    "path_universe=$BEDBASE_DATA_PATH_HOST'/tiles1000.hg19.bed'\n",
    "path_output=$BEDBASE_DATA_PATH_HOST'/outputs/bedembed_output/'\n",
    "assembly='hg38'\n",
    "path_data=$BEDBASE_DATA_PATH_HOST'/bed_files/'\n",
    "labels=\"exp_protocol,cell_type,tissue,antibody,treatment\"\n",
    "no_files=10\n",
    "start_line=0\n",
    "dim=50\n",
    "epochs=20\n",
    "learning_rate=0.001\n",
    "\n",
    "python ./bedembed/pipeline/bedembed_train.py -star $path_starspace -i $path_data -g $assembly -meta $path_meta -univ $path_universe \\\n",
    "-l $labels -nof $no_files -o $path_output -startline $start_line -dim $dim -epochs $epochs -lr $learning_rate"
   ]
  },
  {
   "cell_type": "markdown",
   "metadata": {},
   "source": [
    "### bedembed_test: calculate the distances between file labels and trained search terms\n",
    "\n",
    "### Get a PEP describing the bedfiles to process \n",
    "\n",
    "We'll use the standard [PEP](http://pep.databio.org) format for the annotation, which consists of 1) a sample table (.csv) that annotates the files, and 2) a project config.yaml file that points to the sample annotation sheet. The config file also has other components, such as derived attributes, that in this case point to the bedfiles to be processed. Here is the PEP config file for this example project:"
   ]
  },
  {
   "cell_type": "code",
   "execution_count": 1,
   "metadata": {},
   "outputs": [
    {
     "name": "stdout",
     "output_type": "stream",
     "text": [
      "bedembed_version: 0.0.0\n",
      "sample_table: bedstat_annotation_sheet.csv\n",
      "\n",
      "looper:\n",
      "  output-dir: $BEDBASE_DATA_PATH_HOST/outputs/bedembed_output/bedembed_pipeline_logs \n",
      "sample_modifiers:\n",
      "  append:\n",
      "    bedbase_config: $BEDBASE_DATA_PATH_HOST/bedbase/tutorial_files/bedbase_configuration_compose.yaml\n",
      "    pipeline_interfaces: $BEDBASE_DATA_PATH_HOST/bedembed/pipeline_interface_test.yaml\n",
      "    universe: /project/shefflab/data/StarSpace/universe/universe_tilelen1000.bed\n",
      "    input_file_path: INPUT\n",
      "    output_file_path: $BEDBASE_DATA_PATH_HOST/outputs/bedembed_output\n",
      "    yaml_file: SAMPLE_YAML\n",
      "  derive:\n",
      "    attributes: [yaml_file, input_file_path]\n",
      "    sources:\n",
      "      INPUT: \"/project/shefflab/data/encode/{file_name}\"\n",
      "      SAMPLE_YAML: \"$BEDBASE_DATA_PATH_HOST/outputs/bedembed_output/bedembed_pipeline_logs/submission/{sample_name}_sample.yaml\"\n"
     ]
    }
   ],
   "source": [
    "cat bedbase/tutorial_files/PEPs/bedembed_test_config.yaml"
   ]
  },
  {
   "cell_type": "markdown",
   "metadata": {},
   "source": [
    "### Run bedembed using Looper \n",
    "\n",
    "Once we have cloned the `bedembed` repository, set our local postgres cluster, we can run the pipeline by pointing `looper run` to the appropriate `PEP` config file. As mentioned earlier, if the path to the bedbase configuration file is provided, the calculated distances will report to the postgres database, if not it will save as a csv file in the `output_file_path`"
   ]
  },
  {
   "cell_type": "code",
   "execution_count": null,
   "metadata": {},
   "outputs": [],
   "source": [
    "looper run bedbase/tutorial_files/PEPs/bedembed_test_config.yaml --package local"
   ]
  },
  {
   "cell_type": "markdown",
   "metadata": {},
   "source": [
    "## 5. BEDHOST:  Serve BED files and API to explore pipeline outputs\n",
    "\n",
    "The last part of the tutorial consists on running a local instance of `bedhost` (a REST API for `bedstat` and `bedbuncher` produced outputs) in order to explore plots, statistics and download pipeline outputs. \n",
    "To run `bedhost`, frist use `bedhost-ui` to built the bedhost user interface with React."
   ]
  },
  {
   "cell_type": "code",
   "execution_count": 38,
   "metadata": {},
   "outputs": [],
   "source": [
    "cd bedhost-ui\n",
    "# Install node modules defined in package.json\n",
    "npm install \n",
    "# Build the app for production to the ./build folder\n",
    "npm run build\n",
    "# copy the contents of the ./build directory to bedhost/bedhost/static/bedhost-ui\n",
    "cp -avr ./build ../bedhost/bedhost/static/bedhost-ui\n",
    "\n",
    "cd .."
   ]
  },
  {
   "cell_type": "markdown",
   "metadata": {},
   "source": [
    "To run `bedhost`, we'll pip install the package from the previously cloned repository:"
   ]
  },
  {
   "cell_type": "code",
   "execution_count": 39,
   "metadata": {},
   "outputs": [],
   "source": [
    "pip install bedhost/. --user > bedhost_log.txt"
   ]
  },
  {
   "cell_type": "markdown",
   "metadata": {},
   "source": [
    "To start `bedhost`, we simply need to run the following command passing the location of the bedbase configuration file to the `-c` flag.  "
   ]
  },
  {
   "cell_type": "code",
   "execution_count": null,
   "metadata": {},
   "outputs": [
    {
     "name": "stdout",
     "output_type": "stream",
     "text": [
      "Serving data for columns: ['md5sum']\n",
      "Serving data for columns: ['md5sum']\n",
      "Generating GraphQL schema\n",
      "running bedhost app\n",
      "\u001b[32mINFO\u001b[0m:     Started server process [\u001b[36m648505\u001b[0m]\n",
      "\u001b[32mINFO\u001b[0m:     Waiting for application startup.\n",
      "\u001b[32mINFO\u001b[0m:     Application startup complete.\n",
      "\u001b[32mINFO\u001b[0m:     Uvicorn running on \u001b[1mhttp://0.0.0.0:8000\u001b[0m (Press CTRL+C to quit)\n",
      "\u001b[32mINFO\u001b[0m:     127.0.0.1:47532 - \"\u001b[1mGET / HTTP/1.1\u001b[0m\" \u001b[32m200 OK\u001b[0m\n",
      "\u001b[32mINFO\u001b[0m:     127.0.0.1:47532 - \"\u001b[1mGET /ui/static/css/2.fa6c921b.chunk.css HTTP/1.1\u001b[0m\" \u001b[32m200 OK\u001b[0m\n",
      "\u001b[32mINFO\u001b[0m:     127.0.0.1:47534 - \"\u001b[1mGET /ui/static/css/main.4620a2c9.chunk.css HTTP/1.1\u001b[0m\" \u001b[32m200 OK\u001b[0m\n",
      "\u001b[32mINFO\u001b[0m:     127.0.0.1:47536 - \"\u001b[1mGET /ui/static/js/2.b0639060.chunk.js HTTP/1.1\u001b[0m\" \u001b[32m200 OK\u001b[0m\n",
      "\u001b[32mINFO\u001b[0m:     127.0.0.1:47534 - \"\u001b[1mGET /ui/static/js/main.56118e82.chunk.js HTTP/1.1\u001b[0m\" \u001b[32m200 OK\u001b[0m\n",
      "\u001b[32mINFO\u001b[0m:     127.0.0.1:47536 - \"\u001b[1mGET /api/bed/all/data/count HTTP/1.1\u001b[0m\" \u001b[32m200 OK\u001b[0m\n",
      "[(None,), ({'alias': 'hg38', 'digest': '2230c535660fb4774114bfa966a62f823fdb6d21acf138d4'},)]\n",
      "\u001b[32mINFO\u001b[0m:     127.0.0.1:47532 - \"\u001b[1mGET /api/bed/genomes HTTP/1.1\u001b[0m\" \u001b[32m200 OK\u001b[0m\n",
      "\u001b[32mINFO\u001b[0m:     127.0.0.1:47534 - \"\u001b[1mGET /api/versions HTTP/1.1\u001b[0m\" \u001b[32m200 OK\u001b[0m\n",
      "\u001b[32mINFO\u001b[0m:     127.0.0.1:47538 - \"\u001b[1mGET /ui/bedbase_logo.svg HTTP/1.1\u001b[0m\" \u001b[32m200 OK\u001b[0m\n",
      "\u001b[32mINFO\u001b[0m:     127.0.0.1:47538 - \"\u001b[1mGET /api/bedset/all/data/count HTTP/1.1\u001b[0m\" \u001b[32m200 OK\u001b[0m\n",
      "Serving data for columns: ['md5sum']\n",
      "\u001b[32mINFO\u001b[0m:     127.0.0.1:47538 - \"\u001b[1mGET /api/bed/all/data?ids=md5sum&limit=1 HTTP/1.1\u001b[0m\" \u001b[32m200 OK\u001b[0m\n",
      "Serving data for columns: ['md5sum']\n",
      "\u001b[32mINFO\u001b[0m:     127.0.0.1:47538 - \"\u001b[1mGET /api/bedset/all/data?ids=md5sum&limt=1 HTTP/1.1\u001b[0m\" \u001b[32m200 OK\u001b[0m\n",
      "\u001b[32mINFO\u001b[0m:     127.0.0.1:47538 - \"\u001b[1mGET /openapi.json HTTP/1.1\u001b[0m\" \u001b[32m200 OK\u001b[0m\n",
      "\u001b[32mINFO\u001b[0m:     127.0.0.1:47538 - \"\u001b[1mGET /ui/favicon.ico HTTP/1.1\u001b[0m\" \u001b[32m200 OK\u001b[0m\n"
     ]
    }
   ],
   "source": [
    "bedhost serve -c  $BEDBASE_DATA_PATH_HOST/bedbase/tutorial_files/bedbase_configuration_compose.yaml"
   ]
  },
  {
   "cell_type": "markdown",
   "metadata": {},
   "source": [
    "If we have stored the path to the bedbase config in the environment variable `$BEDBASE` (suggested), it's not neccesary to use said flag. "
   ]
  },
  {
   "cell_type": "code",
   "execution_count": null,
   "metadata": {},
   "outputs": [],
   "source": [
    "bedhost serve "
   ]
  },
  {
   "cell_type": "markdown",
   "metadata": {},
   "source": [
    "The `bedhost` API can be opened in the url [http://0.0.0.0:8000](http://0.0.0.0:8000). We can now explore the plots and statistics generated by the `bedstat` and `bedbuncher` pipelines."
   ]
  },
  {
   "cell_type": "markdown",
   "metadata": {},
   "source": [
    "## or optionally run BEDHOST using containers\n",
    "\n",
    "Alternatively, you can run the application inside a container.\n",
    "\n",
    "For that we'll use [docker compose](https://docs.docker.com/compose/), a tool that makes running multi-contaier Docker applications possible. The `docker-compose.yaml` file defines two services: \n",
    "- `fastapi-api`: runs the fastAPI server \n",
    "- `postgres-db`: runs the PostgeSQL database used by the server\n"
   ]
  },
  {
   "cell_type": "code",
   "execution_count": 24,
   "metadata": {},
   "outputs": [],
   "source": [
    "cd $BEDBASE_DATA_PATH_HOST"
   ]
  },
  {
   "cell_type": "markdown",
   "metadata": {},
   "source": [
    "Use the `BEDBASE_DATA_PATH_HOST` environment variable to point to the host directory with the pipeline results that will be mounted in the container as a volume. \n",
    "\n",
    "The environment variables are passed to the container via `.env` file, which the `docker-compose.yaml` points to for each service. Additionally, you can just export the environment variables before issuing the `docker-compose` command.\n",
    "When you set the same environment variable in multiple files, here’s the priority used by Compose to choose which value to use:\n",
    "\n",
    "1. Compose file\n",
    "2. Shell environment variables\n",
    "3. Environment file\n",
    "4. Dockerfile\n",
    "4. Variable is not defined"
   ]
  },
  {
   "cell_type": "code",
   "execution_count": 26,
   "metadata": {},
   "outputs": [
    {
     "name": "stdout",
     "output_type": "stream",
     "text": [
      "Pulling postgres-db (postgres:)...\n",
      "latest: Pulling from library/postgres\n",
      "Digest: sha256:8f7c3c9b61d82a4a021da5d9618faf056633e089302a726d619fa467c73609e4\n",
      "Status: Downloaded newer image for postgres:latest\n",
      "Recreating postgreSQL-bedbase ... \n",
      "\u001b[1BRecreating fastAPI-bedbase    ... mdone\u001b[0m\n",
      "\u001b[1BAttaching to postgreSQL-bedbase, fastAPI-bedbase\n",
      "\u001b[33mpostgreSQL-bedbase |\u001b[0m \n",
      "\u001b[33mpostgreSQL-bedbase |\u001b[0m PostgreSQL Database directory appears to contain a database; Skipping initialization\n",
      "\u001b[33mpostgreSQL-bedbase |\u001b[0m \n",
      "\u001b[33mpostgreSQL-bedbase |\u001b[0m 2020-11-02 23:10:28.883 UTC [1] LOG:  starting PostgreSQL 13.0 (Debian 13.0-1.pgdg100+1) on x86_64-pc-linux-gnu, compiled by gcc (Debian 8.3.0-6) 8.3.0, 64-bit\n",
      "\u001b[33mpostgreSQL-bedbase |\u001b[0m 2020-11-02 23:10:28.885 UTC [1] LOG:  listening on IPv4 address \"0.0.0.0\", port 5432\n",
      "\u001b[33mpostgreSQL-bedbase |\u001b[0m 2020-11-02 23:10:28.885 UTC [1] LOG:  listening on IPv6 address \"::\", port 5432\n",
      "\u001b[33mpostgreSQL-bedbase |\u001b[0m 2020-11-02 23:10:28.891 UTC [1] LOG:  listening on Unix socket \"/var/run/postgresql/.s.PGSQL.5432\"\n",
      "\u001b[33mpostgreSQL-bedbase |\u001b[0m 2020-11-02 23:10:28.901 UTC [25] LOG:  database system was shut down at 2020-11-02 23:03:14 UTC\n",
      "\u001b[33mpostgreSQL-bedbase |\u001b[0m 2020-11-02 23:10:28.909 UTC [1] LOG:  database system is ready to accept connections\n",
      "\u001b[36mfastAPI-bedbase |\u001b[0m wait-for-it.sh: waiting 60 seconds for postgres-db:5432\n",
      "\u001b[36mfastAPI-bedbase |\u001b[0m wait-for-it.sh: postgres-db:5432 is available after 0 seconds\n",
      "\u001b[36mfastAPI-bedbase |\u001b[0m DEBU 2020-11-02 23:10:30,246 | bedhost:est:265 > Configured logger 'bedhost' using logmuse v0.2.6 \n",
      "\u001b[36mfastAPI-bedbase |\u001b[0m DEBU 23:10:30 | bbconf:est:265 > Configured logger 'bbconf' using logmuse v0.2.6 \n",
      "\u001b[36mfastAPI-bedbase |\u001b[0m DEBU 23:10:30 | bbconf:bbconf:105 > Established connection with PostgreSQL: postgres-db \n",
      "\u001b[36mfastAPI-bedbase |\u001b[0m DEBU 2020-11-02 23:10:30,299 | bedhost:main:503 > Determined React UI path: /app/bedhost/static/bedhost-ui \n",
      "\u001b[36mfastAPI-bedbase |\u001b[0m INFO 2020-11-02 23:10:30,299 | bedhost:main:510 > running bedhost app \n",
      "\u001b[36mfastAPI-bedbase |\u001b[0m INFO:     Started server process [1]\n",
      "\u001b[36mfastAPI-bedbase |\u001b[0m INFO:     Waiting for application startup.\n",
      "\u001b[36mfastAPI-bedbase |\u001b[0m INFO:     Application startup complete.\n",
      "\u001b[36mfastAPI-bedbase |\u001b[0m INFO:     Uvicorn running on http://0.0.0.0:8000 (Press CTRL+C to quit)\n",
      "Gracefully stopping... (press Ctrl+C again to force)\n",
      "Stopping fastAPI-bedbase      ... \n",
      "Stopping postgreSQL-bedbase   ... \n",
      "\u001b[1Bping postgreSQL-bedbase   ... \u001b[32mdone\u001b[0m"
     ]
    }
   ],
   "source": [
    "cd bedhost; docker-compose up"
   ]
  },
  {
   "cell_type": "code",
   "execution_count": null,
   "metadata": {},
   "outputs": [],
   "source": []
  }
 ],
 "metadata": {
  "kernelspec": {
   "display_name": "Bash",
   "language": "bash",
   "name": "bash"
  },
  "language_info": {
   "codemirror_mode": "shell",
   "file_extension": ".sh",
   "mimetype": "text/x-sh",
   "name": "bash"
  },
  "toc": {
   "base_numbering": 1,
   "nav_menu": {},
   "number_sections": true,
   "sideBar": true,
   "skip_h1_title": true,
   "title_cell": "Table of Contents",
   "title_sidebar": "Contents",
   "toc_cell": true,
   "toc_position": {
    "height": "calc(100% - 180px)",
    "left": "10px",
    "top": "150px",
    "width": "329.797px"
   },
   "toc_section_display": true,
   "toc_window_display": false
  }
 },
 "nbformat": 4,
 "nbformat_minor": 4
}
