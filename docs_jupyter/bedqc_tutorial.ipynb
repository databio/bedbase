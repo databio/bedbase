{
 "cells": [
  {
   "cell_type": "markdown",
   "id": "c35a64ab",
   "metadata": {},
   "source": [
    "# bedqc tutorial"
   ]
  },
  {
   "cell_type": "markdown",
   "id": "2b642ffb",
   "metadata": {},
   "source": [
    "To check Quality of bed file use this command: `badboss qc`"
   ]
  },
  {
   "cell_type": "code",
   "execution_count": 3,
   "id": "b67214fe",
   "metadata": {},
   "outputs": [
    {
     "name": "stdout",
     "output_type": "stream",
     "text": [
      "usage: bedboss qc [-h] --bedfile BEDFILE --outfolder OUTFOLDER\n",
      "\n",
      "options:\n",
      "  -h, --help            show this help message and exit\n",
      "  --bedfile BEDFILE     a full path to bed file to process\n",
      "  --outfolder OUTFOLDER\n",
      "                        a full path to output log folder.\n"
     ]
    }
   ],
   "source": [
    "bedboss qc --help"
   ]
  },
  {
   "cell_type": "markdown",
   "id": "eab75d79",
   "metadata": {},
   "source": [
    "bedqc example:"
   ]
  },
  {
   "cell_type": "code",
   "execution_count": 5,
   "id": "1488b255",
   "metadata": {},
   "outputs": [
    {
     "name": "stdout",
     "output_type": "stream",
     "text": [
      "Running bedqc...\n",
      "### Pipeline run code and environment:\n",
      "\n",
      "*              Command:  `/home/bnt4me/virginia/venv/jupyter/bin/bedboss qc --bedfile ../test/data/bed/hg19/correct/hg19_example1.bed --outfolder .`\n",
      "*         Compute host:  bnt4me-Precision-5560\n",
      "*          Working dir:  /home/bnt4me/virginia/repos/bedbase_all/bedboss/docs_jupyter\n",
      "*            Outfolder:  ./\n",
      "*  Pipeline started at:   (02-08 15:44:57) elapsed: 0.0 _TIME_\n",
      "\n",
      "### Version log:\n",
      "\n",
      "*       Python version:  3.10.6\n",
      "*          Pypiper dir:  `/home/bnt4me/virginia/venv/jupyter/lib/python3.10/site-packages/pypiper`\n",
      "*      Pypiper version:  0.12.3\n",
      "*         Pipeline dir:  `/home/bnt4me/virginia/venv/jupyter/bin`\n",
      "*     Pipeline version:  None\n",
      "\n",
      "### Arguments passed to pipeline:\n",
      "\n",
      "\n",
      "----------------------------------------\n",
      "\n",
      "Target exists: `../test/data/bed/hg19/correct/hg19_example1.bed`  \n",
      "Targetless command, running...  \n",
      "\n",
      "> `bash /home/bnt4me/virginia/venv/jupyter/lib/python3.10/site-packages/bedboss/bedqc/est_line.sh ../test/data/bed/hg19/correct/hg19_example1.bed ` (2478311)\n",
      "<pre>\n",
      "1000</pre>\n",
      "Command completed. Elapsed time: 0:00:00. Running peak memory: 0GB.  \n",
      "  PID: 2478311;\tCommand: bash;\tReturn code: 0;\tMemory used: 0.0GB\n",
      "\n",
      "Starting cleanup: 1 files; 0 conditional files for cleanup\n",
      "\n",
      "Cleaning up flagged intermediate files. . .\n",
      "\n",
      "### Pipeline completed. Epilogue\n",
      "*        Elapsed time (this run):  0:00:00\n",
      "*  Total elapsed time (all runs):  0:00:00\n",
      "*         Peak memory (this run):  0 GB\n",
      "*        Pipeline completed time: 2023-02-08 15:44:57\n"
     ]
    }
   ],
   "source": [
    "bedboss qc --bedfile ../test/data/bed/hg19/correct/hg19_example1.bed --outfolder ."
   ]
  }
 ],
 "metadata": {
  "kernelspec": {
   "display_name": "Bash",
   "language": "bash",
   "name": "bash"
  },
  "language_info": {
   "codemirror_mode": "shell",
   "file_extension": ".sh",
   "mimetype": "text/x-sh",
   "name": "bash"
  }
 },
 "nbformat": 4,
 "nbformat_minor": 5
}
