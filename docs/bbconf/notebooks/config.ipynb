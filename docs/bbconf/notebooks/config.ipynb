{
 "cells": [
  {
   "cell_type": "markdown",
   "metadata": {},
   "source": [
    "# Bedbase configuration file documentation\n",
    "\n",
    "In order to start working with the `BedBaseConf` object, it has to be initialized first. The constuctor requires one argument, which is a path to the configuration file (in YAML format).\n",
    "\n",
    "## Minimal config file\n",
    "\n",
    "The minimal configuration must define the `path` section with 3 keys:\n",
    "\n",
    "- `pipeline_output_path`: path to the desired output directory for the pipelines\n",
    "- `bedstat_dir`: name of the [bedstat](https://github.com/databio/bedstat) pipeline output directory\n",
    "- `bedbuncher_dir`: name of the [bedbuncher](https://github.com/databio/bedbuncher) pipeline output directory\n",
    "\n",
    "Here's an example of a minimal bedbase configuration file:"
   ]
  },
  {
   "cell_type": "code",
   "execution_count": 1,
   "metadata": {},
   "outputs": [
    {
     "name": "stdout",
     "output_type": "stream",
     "text": [
      "# min config example. Refer to bbconf/const.py for key names and default values\r\n",
      "\r\n",
      "path:\r\n",
      "  pipeline_output_path:  $HOME/bedbase\r\n",
      "  bedstat_dir: bedstat_output\r\n",
      "  bedbuncher_dir: bedbuncher_output"
     ]
    }
   ],
   "source": [
    "!cat ../tests/data/config_min.yaml"
   ]
  },
  {
   "cell_type": "markdown",
   "metadata": {},
   "source": [
    "## Example config file\n",
    "\n",
    "Apart from the required `path` section, there are 2 other sections that can be used to configure the PostgreSQL database, used to store the metadata about the bedfiles and bedsets (`database` section) and to configure the bedhost server that displays the pipeline results and provides an API to query them (`server` section).\n",
    "\n",
    "Here's an example of a complete bedbase configuration file:"
   ]
  },
  {
   "cell_type": "code",
   "execution_count": 2,
   "metadata": {},
   "outputs": [
    {
     "name": "stdout",
     "output_type": "stream",
     "text": [
      "database:\r\n",
      "  name: pipestat-test\r\n",
      "  user: postgres\r\n",
      "  password: pipestat-password\r\n",
      "  host: localhost\r\n",
      "#  port: 5432; intentionally commented out to test the defaults setting system\r\n",
      "path:\r\n",
      "  pipeline_output_path: $BEDBASE_DATA_PATH/outputs\r\n",
      "  bedstat_dir: bedstat_output\r\n",
      "  bedbuncher_dir: bedbuncher_output\r\n",
      "  remote_url_base: null\r\n",
      "server:\r\n",
      "  host: 0.0.0.0\r\n",
      "  port: 8000"
     ]
    }
   ],
   "source": [
    "!cat ../tests/data/config.yaml"
   ]
  },
  {
   "cell_type": "markdown",
   "metadata": {},
   "source": [
    "## Default values\n",
    "\n",
    "In case any of the values shown below is not provided in the configuration file, it will be set to a default value"
   ]
  },
  {
   "cell_type": "code",
   "execution_count": 3,
   "metadata": {},
   "outputs": [
    {
     "data": {
      "text/plain": [
       "AttMap\n",
       "path:\n",
       "  remote_url_base: null\n",
       "database:\n",
       "  user: postgres\n",
       "  password: bedbasepassword\n",
       "  name: postgres\n",
       "  port: 5432\n",
       "  host: localhost\n",
       "server:\n",
       "  host: 0.0.0.0\n",
       "  port: 80"
      ]
     },
     "execution_count": 3,
     "metadata": {},
     "output_type": "execute_result"
    }
   ],
   "source": [
    "from bbconf.const import DEFAULT_SECTION_VALUES\n",
    "from attmap import AttMap\n",
    "AttMap(DEFAULT_SECTION_VALUES)"
   ]
  }
 ],
 "metadata": {
  "kernelspec": {
   "display_name": "Python 3",
   "language": "python",
   "name": "python3"
  },
  "language_info": {
   "codemirror_mode": {
    "name": "ipython",
    "version": 3
   },
   "file_extension": ".py",
   "mimetype": "text/x-python",
   "name": "python",
   "nbconvert_exporter": "python",
   "pygments_lexer": "ipython3",
   "version": "3.6.5"
  }
 },
 "nbformat": 4,
 "nbformat_minor": 2
}
