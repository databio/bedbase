{
 "cells": [
  {
   "cell_type": "markdown",
   "metadata": {},
   "source": [
    "# How to assess universe fit to collection of BED files\n",
    "\n",
    "## Introduction\n",
    "\n",
    "In this tutorial, you will see how to assess a fit of a given universe to a collection of files. (Tutorial on creating different universes from files can be found [here](../tutorials/create-consensus-peaks.md) and [here](create-consensus-peaks-python.md).) Choosing, which universe represents data the best can be challenging. To help with this decision we created three different metrics for assessing universe fit to the region collections: a base-level overlap score, a region boundary score, and a likelihood score. Fit of a universe can be assessed both using CLI and python functions depending on use case. With CLI you can create a file with values of universe assessment methods for each file within the collection, while with python functions you can get measures of universe fit to the whole collection. "
   ]
  },
  {
   "cell_type": "markdown",
   "metadata": {},
   "source": [
    "## CLI\n",
    "\n",
    "Using CLI you can calculate both base-level overlap score and region boundary score separately for each file in the collections and than summarized. To calculate them you need raw files as well as the analyzed universe. It is also necessary to choose at least one assessment metric to be calculated: \n",
    "\n",
    "* `--overlap` - to calculate base pair overlap between universe and regions in the file, number of base pair only in the universe, number of base pair only in the file, which can be used to calculate F10 score; \n",
    "* `--distance` - to calculate median of distance form regions in the raw file to the universe;\n",
    "* `--distance-universe-to-file` - to calculate median of distance form the universe to regions in the raw file;\n",
    "* `--distance-flexible` - to calculate median of distance form regions in the raw file to the universe taking into account universe flexibility;\n",
    "* `--distance-flexible-universe-to-file` - - to calculate median of distance form the universe to regions in the raw file taking into account universe flexibility.  \n",
    "\n",
    "Here we present an example, which calculates all possible metrics for HMM universe:\n",
    "\n",
    "```\n",
    " geniml assess-universe --raw-data-folder raw/ \\\n",
    " --file-list file_list.txt \\\n",
    " --universe universe_hmm.bed \\\n",
    " --folder-out . \\\n",
    " --pref test_assess \\\n",
    " --overlap \\\n",
    " --distance \\\n",
    " --distance-universe-to-file \\\n",
    " --distance-flexible \\\n",
    " --distance-flexible-universe-to-file\n",
    "```\n",
    "The resulting file is called test_assess_data.csv, and contains columns with the raw calculated metrics for each file: *file*, *univers/file*, *file/universe*, *universe&file*, *median_dist_file_to_universe*, *median_dist_file_to_universe_flex*, *median_dist_universe_to_file*, *median_dist_universe_to_file_flex*. "
   ]
  },
  {
   "cell_type": "markdown",
   "metadata": {},
   "source": [
    "## Python functions\n",
    "\n",
    "The file created with CLI can be further summarized into specific metrics assessing the fit of a universe to a whole collection such as: a base-level overlap score (F10), a region boundary distance score (RBD)."
   ]
  },
  {
   "cell_type": "code",
   "execution_count": 1,
   "metadata": {
    "vscode": {
     "languageId": "plaintext"
    }
   },
   "outputs": [
    {
     "data": {
      "text/html": [
       "<div>\n",
       "<style scoped>\n",
       "    .dataframe tbody tr th:only-of-type {\n",
       "        vertical-align: middle;\n",
       "    }\n",
       "\n",
       "    .dataframe tbody tr th {\n",
       "        vertical-align: top;\n",
       "    }\n",
       "\n",
       "    .dataframe thead th {\n",
       "        text-align: right;\n",
       "    }\n",
       "</style>\n",
       "<table border=\"1\" class=\"dataframe\">\n",
       "  <thead>\n",
       "    <tr style=\"text-align: right;\">\n",
       "      <th></th>\n",
       "      <th>file</th>\n",
       "      <th>univers/file</th>\n",
       "      <th>file/universe</th>\n",
       "      <th>universe&amp;file</th>\n",
       "      <th>median_dist_file_to_universe</th>\n",
       "      <th>median_dist_file_to_universe_flex</th>\n",
       "      <th>median_dist_universe_to_file</th>\n",
       "      <th>median_dist_universe_to_file_flex</th>\n",
       "    </tr>\n",
       "  </thead>\n",
       "  <tbody>\n",
       "    <tr>\n",
       "      <th>0</th>\n",
       "      <td>test_1.bed</td>\n",
       "      <td>2506</td>\n",
       "      <td>403</td>\n",
       "      <td>3630</td>\n",
       "      <td>27.0</td>\n",
       "      <td>0.0</td>\n",
       "      <td>76.5</td>\n",
       "      <td>0.0</td>\n",
       "    </tr>\n",
       "    <tr>\n",
       "      <th>1</th>\n",
       "      <td>test_2.bed</td>\n",
       "      <td>1803</td>\n",
       "      <td>146</td>\n",
       "      <td>4333</td>\n",
       "      <td>27.0</td>\n",
       "      <td>0.0</td>\n",
       "      <td>70.0</td>\n",
       "      <td>7.5</td>\n",
       "    </tr>\n",
       "    <tr>\n",
       "      <th>2</th>\n",
       "      <td>test_3.bed</td>\n",
       "      <td>2949</td>\n",
       "      <td>0</td>\n",
       "      <td>3187</td>\n",
       "      <td>28.0</td>\n",
       "      <td>0.0</td>\n",
       "      <td>225.0</td>\n",
       "      <td>224.5</td>\n",
       "    </tr>\n",
       "    <tr>\n",
       "      <th>3</th>\n",
       "      <td>test_4.bed</td>\n",
       "      <td>2071</td>\n",
       "      <td>546</td>\n",
       "      <td>4065</td>\n",
       "      <td>27.0</td>\n",
       "      <td>0.0</td>\n",
       "      <td>116.5</td>\n",
       "      <td>105.5</td>\n",
       "    </tr>\n",
       "  </tbody>\n",
       "</table>\n",
       "</div>"
      ],
      "text/plain": [
       "         file  univers/file  file/universe  universe&file  \\\n",
       "0  test_1.bed          2506            403           3630   \n",
       "1  test_2.bed          1803            146           4333   \n",
       "2  test_3.bed          2949              0           3187   \n",
       "3  test_4.bed          2071            546           4065   \n",
       "\n",
       "   median_dist_file_to_universe  median_dist_file_to_universe_flex  \\\n",
       "0                          27.0                                0.0   \n",
       "1                          27.0                                0.0   \n",
       "2                          28.0                                0.0   \n",
       "3                          27.0                                0.0   \n",
       "\n",
       "   median_dist_universe_to_file  median_dist_universe_to_file_flex  \n",
       "0                          76.5                                0.0  \n",
       "1                          70.0                                7.5  \n",
       "2                         225.0                              224.5  \n",
       "3                         116.5                              105.5  "
      ]
     },
     "execution_count": 1,
     "metadata": {},
     "output_type": "execute_result"
    }
   ],
   "source": [
    "from geniml.assess.assess import get_rbs_from_assessment_file, get_f_10_score_from_assessment_file\n",
    "import pandas as pd\n",
    "\n",
    "assessment_file_path = \"test_assess_data.csv\"\n",
    "df = pd.read_csv(assessment_file_path)\n",
    "df.head()"
   ]
  },
  {
   "cell_type": "code",
   "execution_count": 2,
   "metadata": {
    "vscode": {
     "languageId": "plaintext"
    }
   },
   "outputs": [
    {
     "name": "stdout",
     "output_type": "stream",
     "text": [
      "Universe \n",
      "F10: 0.93\n",
      "RBS: 0.77\n",
      "flexible RBS: 0.98\n"
     ]
    }
   ],
   "source": [
    "rbs = get_rbs_from_assessment_file(assessment_file_path)\n",
    "f_10 = get_f_10_score_from_assessment_file(assessment_file_path)\n",
    "rbs_flex = get_rbs_from_assessment_file(assessment_file_path, flexible=True)\n",
    "print(f\"Universe \\nF10: {f_10:.2f}\\nRBS: {rbs:.2f}\\nflexible RBS: {rbs_flex:.2f}\")"
   ]
  },
  {
   "cell_type": "markdown",
   "metadata": {},
   "source": [
    "Or all of this metrics can be directly calculated from the universe and raw files including a likelihood score (LH):"
   ]
  },
  {
   "cell_type": "code",
   "execution_count": null,
   "metadata": {
    "vscode": {
     "languageId": "plaintext"
    }
   },
   "outputs": [
    {
     "data": {
      "text/plain": [
       "'Universe F10: 0.93'"
      ]
     },
     "execution_count": 3,
     "metadata": {},
     "output_type": "execute_result"
    }
   ],
   "source": [
    "from geniml.assess.assess import get_f_10_score\n",
    "\n",
    "f10 = get_f_10_score(\n",
    "    \"raw/\",\n",
    "    'file_list.txt',\n",
    "    \"universe_hmm.bed\",\n",
    "    1)\n",
    "\n",
    "f\"Universe F10: {f10:.2f}\""
   ]
  },
  {
   "cell_type": "code",
   "execution_count": null,
   "metadata": {
    "vscode": {
     "languageId": "plaintext"
    }
   },
   "outputs": [
    {
     "data": {
      "text/plain": [
       "'Universe RBS: 0.77'"
      ]
     },
     "execution_count": 4,
     "metadata": {},
     "output_type": "execute_result"
    }
   ],
   "source": [
    "from geniml.assess.assess import get_mean_rbs\n",
    "rbs = get_mean_rbs(\"raw/\",\n",
    "    'file_list.txt',\n",
    "    \"universe_hmm.bed\", 1)\n",
    "f\"Universe RBS: {rbs:.2f}\""
   ]
  },
  {
   "cell_type": "code",
   "execution_count": null,
   "metadata": {
    "vscode": {
     "languageId": "plaintext"
    }
   },
   "outputs": [
    {
     "data": {
      "text/plain": [
       "'Universe LH: -127156.87'"
      ]
     },
     "execution_count": 5,
     "metadata": {},
     "output_type": "execute_result"
    }
   ],
   "source": [
    "from geniml.assess.assess import get_likelihood\n",
    "lh = get_likelihood(\n",
    "    \"model.tar\",\n",
    "    \"universe_hmm.bed\",\n",
    "    \"coverage/\"\n",
    ")\n",
    "f\"Universe LH: {lh:.2f}\" "
   ]
  },
  {
   "cell_type": "markdown",
   "metadata": {},
   "source": [
    "Both region boundary score and likelihood can be also calculated taking into account universe flexibility:"
   ]
  },
  {
   "cell_type": "code",
   "execution_count": null,
   "metadata": {
    "vscode": {
     "languageId": "plaintext"
    }
   },
   "outputs": [
    {
     "data": {
      "text/plain": [
       "'Universe flexible RBS: 0.98'"
      ]
     },
     "execution_count": 6,
     "metadata": {},
     "output_type": "execute_result"
    }
   ],
   "source": [
    "from geniml.assess.assess import get_mean_rbs\n",
    "rbs_flex = get_mean_rbs(\n",
    "    \"raw/\",\n",
    "    'file_list.txt',\n",
    "    \"universe_hmm.bed\",\n",
    "    1,\n",
    "    flexible=True)\n",
    "f\"Universe flexible RBS: {rbs_flex:.2f}\""
   ]
  },
  {
   "cell_type": "code",
   "execution_count": null,
   "metadata": {
    "vscode": {
     "languageId": "plaintext"
    }
   },
   "outputs": [
    {
     "data": {
      "text/plain": [
       "'Universe flexible LH: -127156.87'"
      ]
     },
     "execution_count": 7,
     "metadata": {},
     "output_type": "execute_result"
    }
   ],
   "source": [
    "lh_flex = get_likelihood(\n",
    "    \"model.tar\",\n",
    "    \"universe_hmm.bed\",\n",
    "    \"coverage/\"\n",
    ")\n",
    "f\"Universe flexible LH: {lh_flex:.2f}\" "
   ]
  }
 ],
 "metadata": {
  "kernelspec": {
   "display_name": "Python 3 (ipykernel)",
   "language": "python",
   "name": "python3"
  },
  "language_info": {
   "codemirror_mode": {
    "name": "ipython",
    "version": 3
   },
   "file_extension": ".py",
   "mimetype": "text/x-python",
   "name": "python",
   "nbconvert_exporter": "python",
   "pygments_lexer": "ipython3",
   "version": "3.10.9"
  }
 },
 "nbformat": 4,
 "nbformat_minor": 4
}
