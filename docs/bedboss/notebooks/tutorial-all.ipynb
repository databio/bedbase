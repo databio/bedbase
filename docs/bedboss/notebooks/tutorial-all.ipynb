{
 "cells": [
  {
   "cell_type": "markdown",
   "id": "5ed57409",
   "metadata": {},
   "source": [
    "# Bedboss-all tutorial"
   ]
  },
  {
   "cell_type": "markdown",
   "id": "e9e494b7",
   "metadata": {},
   "source": [
    "This tutorial is attended to show base exaple of using bedboss all function that inclueds all 3 pipelines: bedmake, bedqc and bedstat"
   ]
  },
  {
   "cell_type": "markdown",
   "id": "3169c5cf",
   "metadata": {},
   "source": [
    "### 1. First let's create new working repository"
   ]
  },
  {
   "cell_type": "code",
   "execution_count": 1,
   "id": "b089c6f1",
   "metadata": {},
   "outputs": [],
   "source": [
    "mkdir all_tutorial ; cd all_tutorial "
   ]
  },
  {
   "cell_type": "markdown",
   "id": "ecf10dee",
   "metadata": {},
   "source": [
    "### 2. To run our pipelines we need to check if we have installed all dependencies. To do so we can run dependencies check script that can be found in docs."
   ]
  },
  {
   "cell_type": "code",
   "execution_count": 2,
   "id": "221c24cb",
   "metadata": {},
   "outputs": [
    {
     "name": "stdout",
     "output_type": "stream",
     "text": [
      "--2023-08-11 06:58:27--  https://raw.githubusercontent.com/bedbase/bedboss/68910f5142a95d92c27ef53eafb9c35599af2fbd/test/bash_requirements_test.sh\n",
      "Resolving raw.githubusercontent.com (raw.githubusercontent.com)... 185.199.108.133, 185.199.109.133, 185.199.110.133, ...\n",
      "Connecting to raw.githubusercontent.com (raw.githubusercontent.com)|185.199.108.133|:443... connected.\n",
      "HTTP request sent, awaiting response... 200 OK\n",
      "Length: 3927 (3.8K) [text/plain]\n",
      "Saving to: ‘req_test.sh’\n",
      "\n",
      "req_test.sh         100%[===================>]   3.83K  --.-KB/s    in 0.006s  \n",
      "\n",
      "2023-08-11 06:58:28 (608 KB/s) - ‘req_test.sh’ saved [3927/3927]\n",
      "\n"
     ]
    }
   ],
   "source": [
    "wget -O req_test.sh https://raw.githubusercontent.com/bedbase/bedboss/68910f5142a95d92c27ef53eafb9c35599af2fbd/test/bash_requirements_test.sh"
   ]
  },
  {
   "cell_type": "code",
   "execution_count": 3,
   "id": "32c7757a",
   "metadata": {},
   "outputs": [],
   "source": [
    "chmod u+x ./req_test.sh"
   ]
  },
  {
   "cell_type": "code",
   "execution_count": 4,
   "id": "c4df6265",
   "metadata": {},
   "outputs": [
    {
     "name": "stdout",
     "output_type": "stream",
     "text": [
      "-----------------------------------------------------------\n",
      "                                                           \n",
      "             bedboss installation check                    \n",
      "                                                           \n",
      "-----------------------------------------------------------\n",
      "Checking native installation...                            \n",
      "Language compilers...                            \n",
      "-----------------------------------------------------------\n",
      "\u001b[0;32m✔ python is installed correctly\u001b[0m\n",
      "\u001b[0;32m✔ R is installed correctly\u001b[0m\n",
      "-----------------------------------------------------------\n",
      "Checking bedmaker dependencies...                            \n",
      "-----------------------------------------------------------\n",
      "\u001b[0;32m✔ package bedboss @ file:///home/bnt4me/virginia/repos/bedbase_all/bedboss\u001b[0m\n",
      "\u001b[0;32m✔ package refgenconf==0.12.2\u001b[0m\n",
      "\u001b[0;32m✔ bedToBigBed is installed correctly\u001b[0m\n",
      "\u001b[0;33m⚠ WARNING: 'bigBedToBed' is not installed. To install 'bigBedToBed' check bedboss documentation: https://bedboss.databio.org/\u001b[0m\n",
      "\u001b[0;33m⚠ WARNING: 'bigWigToBedGraph' is not installed. To install 'bigWigToBedGraph' check bedboss documentation: https://bedboss.databio.org/\u001b[0m\n",
      "\u001b[0;33m⚠ WARNING: 'wigToBigWig' is not installed. To install 'wigToBigWig' check bedboss documentation: https://bedboss.databio.org/\u001b[0m\n",
      "-----------------------------------------------------------\n",
      "Checking required R packages for bedstat...                            \n",
      "-----------------------------------------------------------\n",
      "\u001b[0;32m✔ SUCCESS: R package: optparse\u001b[0m\n",
      "\u001b[0;32m✔ SUCCESS: R package: ensembldb\u001b[0m\n",
      "\u001b[0;32m✔ SUCCESS: R package: ExperimentHub\u001b[0m\n",
      "\u001b[0;32m✔ SUCCESS: R package: AnnotationHub\u001b[0m\n",
      "\u001b[0;32m✔ SUCCESS: R package: AnnotationFilter\u001b[0m\n",
      "\u001b[0;32m✔ SUCCESS: R package: BSgenome\u001b[0m\n",
      "\u001b[0;32m✔ SUCCESS: R package: GenomicFeatures\u001b[0m\n",
      "\u001b[0;32m✔ SUCCESS: R package: GenomicDistributions\u001b[0m\n",
      "\u001b[0;32m✔ SUCCESS: R package: GenomicDistributionsData\u001b[0m\n",
      "\u001b[0;32m✔ SUCCESS: R package: GenomeInfoDb\u001b[0m\n",
      "\u001b[0;32m✔ SUCCESS: R package: ensembldb\u001b[0m\n",
      "\u001b[0;32m✔ SUCCESS: R package: tools\u001b[0m\n",
      "\u001b[0;32m✔ SUCCESS: R package: R.utils\u001b[0m\n",
      "\u001b[0;32m✔ SUCCESS: R package: LOLA\u001b[0m\n",
      "Number of WARNINGS: 3\n"
     ]
    }
   ],
   "source": [
    "./req_test.sh"
   ]
  },
  {
   "cell_type": "markdown",
   "id": "44aa2dcd",
   "metadata": {},
   "source": [
    "### 3. All requirements are installed, now lets run our pipeline"
   ]
  },
  {
   "cell_type": "markdown",
   "id": "50549ec4",
   "metadata": {},
   "source": [
    "To run pipeline, we need to provide few required arguments:\n",
    "1. sample_name\n",
    "2. input_file\n",
    "3. input_type\n",
    "4. outfolder\n",
    "5. genome\n",
    "6. bedbase_config\n",
    "\n",
    "If you don't have bedbase config file, or initialized bedbase db you can check documnetation how to do it: https://bedboss.databio.org/"
   ]
  },
  {
   "cell_type": "code",
   "execution_count": 24,
   "id": "b71f7610",
   "metadata": {},
   "outputs": [
    {
     "name": "stdout",
     "output_type": "stream",
     "text": [
      "Requirement already satisfied: bedboss==0.1.0a2 in /home/bnt4me/virginia/venv/bedboss/lib/python3.10/site-packages (0.1.0a2)\n",
      "Requirement already satisfied: piper>=0.13.2 in /home/bnt4me/virginia/venv/bedboss/lib/python3.10/site-packages (from bedboss==0.1.0a2) (0.13.2)\n",
      "Requirement already satisfied: pandas>=1.5.3 in /home/bnt4me/virginia/venv/bedboss/lib/python3.10/site-packages (from bedboss==0.1.0a2) (2.0.3)\n",
      "Requirement already satisfied: peppy>=0.35.7 in /home/bnt4me/virginia/venv/bedboss/lib/python3.10/site-packages (from bedboss==0.1.0a2) (0.35.7)\n",
      "Requirement already satisfied: requests>=2.28.2 in /home/bnt4me/virginia/venv/bedboss/lib/python3.10/site-packages (from bedboss==0.1.0a2) (2.28.2)\n",
      "Requirement already satisfied: logmuse>=0.2.7 in /home/bnt4me/virginia/venv/bedboss/lib/python3.10/site-packages (from bedboss==0.1.0a2) (0.2.7)\n",
      "Requirement already satisfied: yacman>=0.8.4 in /home/bnt4me/virginia/venv/bedboss/lib/python3.10/site-packages (from bedboss==0.1.0a2) (0.9.1)\n",
      "Requirement already satisfied: refgenconf>=0.12.2 in /home/bnt4me/virginia/venv/bedboss/lib/python3.10/site-packages (from bedboss==0.1.0a2) (0.12.2)\n",
      "Requirement already satisfied: bbconf==0.4.0a1 in /home/bnt4me/virginia/venv/bedboss/lib/python3.10/site-packages (from bedboss==0.1.0a2) (0.4.0a1)\n",
      "Requirement already satisfied: ubiquerg>=0.6.2 in /home/bnt4me/virginia/venv/bedboss/lib/python3.10/site-packages (from bedboss==0.1.0a2) (0.6.2)\n",
      "Requirement already satisfied: pipestat>=0.4.0 in /home/bnt4me/virginia/venv/bedboss/lib/python3.10/site-packages (from bbconf==0.4.0a1->bedboss==0.1.0a2) (0.4.1)\n",
      "Requirement already satisfied: sqlalchemy<2.0.0 in /home/bnt4me/virginia/venv/bedboss/lib/python3.10/site-packages (from bbconf==0.4.0a1->bedboss==0.1.0a2) (1.4.41)\n",
      "Requirement already satisfied: tzdata>=2022.1 in /home/bnt4me/virginia/venv/bedboss/lib/python3.10/site-packages (from pandas>=1.5.3->bedboss==0.1.0a2) (2023.3)\n",
      "Requirement already satisfied: pytz>=2020.1 in /home/bnt4me/virginia/venv/bedboss/lib/python3.10/site-packages (from pandas>=1.5.3->bedboss==0.1.0a2) (2022.7.1)\n",
      "Requirement already satisfied: python-dateutil>=2.8.2 in /home/bnt4me/virginia/venv/bedboss/lib/python3.10/site-packages (from pandas>=1.5.3->bedboss==0.1.0a2) (2.8.2)\n",
      "Requirement already satisfied: numpy>=1.21.0 in /home/bnt4me/virginia/venv/bedboss/lib/python3.10/site-packages (from pandas>=1.5.3->bedboss==0.1.0a2) (1.24.1)\n",
      "Requirement already satisfied: attmap>=0.13.2 in /home/bnt4me/virginia/venv/bedboss/lib/python3.10/site-packages (from peppy>=0.35.7->bedboss==0.1.0a2) (0.13.2)\n",
      "Requirement already satisfied: pyyaml in /home/bnt4me/virginia/venv/bedboss/lib/python3.10/site-packages (from peppy>=0.35.7->bedboss==0.1.0a2) (6.0)\n",
      "Requirement already satisfied: rich>=10.3.0 in /home/bnt4me/virginia/venv/bedboss/lib/python3.10/site-packages (from peppy>=0.35.7->bedboss==0.1.0a2) (13.3.0)\n",
      "Requirement already satisfied: psutil in /home/bnt4me/virginia/venv/bedboss/lib/python3.10/site-packages (from piper>=0.13.2->bedboss==0.1.0a2) (5.9.4)\n",
      "Requirement already satisfied: tqdm in /home/bnt4me/virginia/venv/bedboss/lib/python3.10/site-packages (from refgenconf>=0.12.2->bedboss==0.1.0a2) (4.64.1)\n",
      "Requirement already satisfied: pyfaidx in /home/bnt4me/virginia/venv/bedboss/lib/python3.10/site-packages (from refgenconf>=0.12.2->bedboss==0.1.0a2) (0.7.1)\n",
      "Requirement already satisfied: future in /home/bnt4me/virginia/venv/bedboss/lib/python3.10/site-packages (from refgenconf>=0.12.2->bedboss==0.1.0a2) (0.18.3)\n",
      "Requirement already satisfied: jsonschema>=3.0.1 in /home/bnt4me/virginia/venv/bedboss/lib/python3.10/site-packages (from refgenconf>=0.12.2->bedboss==0.1.0a2) (4.17.3)\n",
      "Requirement already satisfied: charset-normalizer<4,>=2 in /home/bnt4me/virginia/venv/bedboss/lib/python3.10/site-packages (from requests>=2.28.2->bedboss==0.1.0a2) (3.0.1)\n",
      "Requirement already satisfied: urllib3<1.27,>=1.21.1 in /home/bnt4me/virginia/venv/bedboss/lib/python3.10/site-packages (from requests>=2.28.2->bedboss==0.1.0a2) (1.26.14)\n",
      "Requirement already satisfied: idna<4,>=2.5 in /home/bnt4me/virginia/venv/bedboss/lib/python3.10/site-packages (from requests>=2.28.2->bedboss==0.1.0a2) (3.4)\n",
      "Requirement already satisfied: certifi>=2017.4.17 in /home/bnt4me/virginia/venv/bedboss/lib/python3.10/site-packages (from requests>=2.28.2->bedboss==0.1.0a2) (2022.12.7)\n",
      "Requirement already satisfied: oyaml in /home/bnt4me/virginia/venv/bedboss/lib/python3.10/site-packages (from yacman>=0.8.4->bedboss==0.1.0a2) (1.0)\n",
      "Requirement already satisfied: attrs>=17.4.0 in /home/bnt4me/virginia/venv/bedboss/lib/python3.10/site-packages (from jsonschema>=3.0.1->refgenconf>=0.12.2->bedboss==0.1.0a2) (22.2.0)\n",
      "Requirement already satisfied: pyrsistent!=0.17.0,!=0.17.1,!=0.17.2,>=0.14.0 in /home/bnt4me/virginia/venv/bedboss/lib/python3.10/site-packages (from jsonschema>=3.0.1->refgenconf>=0.12.2->bedboss==0.1.0a2) (0.19.3)\n",
      "Requirement already satisfied: psycopg2-binary in /home/bnt4me/virginia/venv/bedboss/lib/python3.10/site-packages (from pipestat>=0.4.0->bbconf==0.4.0a1->bedboss==0.1.0a2) (2.9.5)\n",
      "Requirement already satisfied: eido in /home/bnt4me/virginia/venv/bedboss/lib/python3.10/site-packages (from pipestat>=0.4.0->bbconf==0.4.0a1->bedboss==0.1.0a2) (0.2.1)\n",
      "Requirement already satisfied: sqlmodel>=0.0.8 in /home/bnt4me/virginia/venv/bedboss/lib/python3.10/site-packages (from pipestat>=0.4.0->bbconf==0.4.0a1->bedboss==0.1.0a2) (0.0.8)\n",
      "Requirement already satisfied: pydantic<2.0.0,>=1.10.7 in /home/bnt4me/virginia/venv/bedboss/lib/python3.10/site-packages (from pipestat>=0.4.0->bbconf==0.4.0a1->bedboss==0.1.0a2) (1.10.12)\n",
      "Requirement already satisfied: six>=1.5 in /home/bnt4me/virginia/venv/bedboss/lib/python3.10/site-packages (from python-dateutil>=2.8.2->pandas>=1.5.3->bedboss==0.1.0a2) (1.16.0)\n",
      "Requirement already satisfied: markdown-it-py<3.0.0,>=2.1.0 in /home/bnt4me/virginia/venv/bedboss/lib/python3.10/site-packages (from rich>=10.3.0->peppy>=0.35.7->bedboss==0.1.0a2) (2.1.0)\n",
      "Requirement already satisfied: pygments<3.0.0,>=2.14.0 in /home/bnt4me/virginia/venv/bedboss/lib/python3.10/site-packages (from rich>=10.3.0->peppy>=0.35.7->bedboss==0.1.0a2) (2.14.0)\n",
      "Requirement already satisfied: greenlet!=0.4.17 in /home/bnt4me/virginia/venv/bedboss/lib/python3.10/site-packages (from sqlalchemy<2.0.0->bbconf==0.4.0a1->bedboss==0.1.0a2) (2.0.1)\n",
      "Requirement already satisfied: setuptools>=0.7 in /home/bnt4me/virginia/venv/bedboss/lib/python3.10/site-packages (from pyfaidx->refgenconf>=0.12.2->bedboss==0.1.0a2) (65.5.1)\n",
      "Requirement already satisfied: mdurl~=0.1 in /home/bnt4me/virginia/venv/bedboss/lib/python3.10/site-packages (from markdown-it-py<3.0.0,>=2.1.0->rich>=10.3.0->peppy>=0.35.7->bedboss==0.1.0a2) (0.1.2)\n",
      "Requirement already satisfied: typing-extensions>=4.2.0 in /home/bnt4me/virginia/venv/bedboss/lib/python3.10/site-packages (from pydantic<2.0.0,>=1.10.7->pipestat>=0.4.0->bbconf==0.4.0a1->bedboss==0.1.0a2) (4.4.0)\n",
      "Requirement already satisfied: sqlalchemy2-stubs in /home/bnt4me/virginia/venv/bedboss/lib/python3.10/site-packages (from sqlmodel>=0.0.8->pipestat>=0.4.0->bbconf==0.4.0a1->bedboss==0.1.0a2) (0.0.2a35)\n",
      "\n",
      "\u001b[1m[\u001b[0m\u001b[34;49mnotice\u001b[0m\u001b[1;39;49m]\u001b[0m\u001b[39;49m A new release of pip available: \u001b[0m\u001b[31;49m22.3.1\u001b[0m\u001b[39;49m -> \u001b[0m\u001b[32;49m23.2.1\u001b[0m\n",
      "\u001b[1m[\u001b[0m\u001b[34;49mnotice\u001b[0m\u001b[1;39;49m]\u001b[0m\u001b[39;49m To update, run: \u001b[0m\u001b[32;49mpip install --upgrade pip\u001b[0m\n"
     ]
    }
   ],
   "source": [
    "pip install bedboss==0.1.0a2"
   ]
  },
  {
   "cell_type": "code",
   "execution_count": 25,
   "id": "627ee6a3",
   "metadata": {},
   "outputs": [
    {
     "name": "stdout",
     "output_type": "stream",
     "text": [
      "usage: bedboss all [-h] --outfolder OUTFOLDER -s SAMPLE_NAME -f INPUT_FILE -t\n",
      "                   INPUT_TYPE -g GENOME [-r RFG_CONFIG]\n",
      "                   [--chrom-sizes CHROM_SIZES] [-n] [--standard-chrom]\n",
      "                   [--check-qc] [--open-signal-matrix OPEN_SIGNAL_MATRIX]\n",
      "                   [--ensdb ENSDB] --bedbase-config BEDBASE_CONFIG\n",
      "                   [-y SAMPLE_YAML] [--no-db-commit] [--just-db-commit]\n",
      "bedboss all: error: the following arguments are required: --outfolder, -s/--sample-name, -f/--input-file, -t/--input-type, -g/--genome, --bedbase-config\n"
     ]
    },
    {
     "ename": "",
     "evalue": "2",
     "output_type": "error",
     "traceback": []
    }
   ],
   "source": [
    "bedboss all"
   ]
  },
  {
   "cell_type": "markdown",
   "id": "e9a7acf1",
   "metadata": {},
   "source": [
    "Let's download sample file. Information about this file you can find here: https://pephub.databio.org/bedbase/GSE177859?tag=default"
   ]
  },
  {
   "cell_type": "code",
   "execution_count": 26,
   "id": "107b36af",
   "metadata": {},
   "outputs": [
    {
     "name": "stdout",
     "output_type": "stream",
     "text": [
      "--2023-08-11 07:12:28--  ftp://ftp.ncbi.nlm.nih.gov/geo/samples/GSM5379nnn/GSM5379062/suppl/GSM5379062_ENCFF834LRN_peaks_GRCh38.bed.gz\n",
      "           => ‘sample1.bed.gz’\n",
      "Resolving ftp.ncbi.nlm.nih.gov (ftp.ncbi.nlm.nih.gov)... 130.14.250.12, 130.14.250.10, 2607:f220:41f:250::229, ...\n",
      "Connecting to ftp.ncbi.nlm.nih.gov (ftp.ncbi.nlm.nih.gov)|130.14.250.12|:21... connected.\n",
      "Logging in as anonymous ... Logged in!\n",
      "==> SYST ... done.    ==> PWD ... done.\n",
      "==> TYPE I ... done.  ==> CWD (1) /geo/samples/GSM5379nnn/GSM5379062/suppl ... done.\n",
      "==> SIZE GSM5379062_ENCFF834LRN_peaks_GRCh38.bed.gz ... 5470278\n",
      "==> PASV ... done.    ==> RETR GSM5379062_ENCFF834LRN_peaks_GRCh38.bed.gz ... done.\n",
      "Length: 5470278 (5.2M) (unauthoritative)\n",
      "\n",
      "GSM5379062_ENCFF834 100%[===================>]   9.76M  1008KB/s    in 24s     \n",
      "\n",
      "2023-08-11 07:12:55 (419 KB/s) - ‘sample1.bed.gz’ saved [10231006]\n",
      "\n"
     ]
    }
   ],
   "source": [
    "wget -O sample1.bed.gz ftp://ftp.ncbi.nlm.nih.gov/geo/samples/GSM5379nnn/GSM5379062/suppl/GSM5379062_ENCFF834LRN_peaks_GRCh38.bed.gz"
   ]
  },
  {
   "cell_type": "code",
   "execution_count": null,
   "id": "6d961bcd",
   "metadata": {},
   "outputs": [],
   "source": []
  },
  {
   "cell_type": "markdown",
   "id": "c873a853",
   "metadata": {},
   "source": [
    "let's create bedbase config file:"
   ]
  },
  {
   "cell_type": "code",
   "execution_count": 27,
   "id": "127df991",
   "metadata": {},
   "outputs": [
    {
     "name": "stdout",
     "output_type": "stream",
     "text": [
      "cat: bedbase_config_test.yaml: No such file or directory\n"
     ]
    },
    {
     "ename": "",
     "evalue": "1",
     "output_type": "error",
     "traceback": []
    }
   ],
   "source": [
    "cat bedbase_config_test.yaml"
   ]
  },
  {
   "cell_type": "markdown",
   "id": "45d79641",
   "metadata": {},
   "source": [
    "Now let's run bedboss:"
   ]
  },
  {
   "cell_type": "code",
   "execution_count": 16,
   "id": "0daa1402",
   "metadata": {},
   "outputs": [
    {
     "name": "stdout",
     "output_type": "stream",
     "text": [
      "Warning: You're running an interactive python session. This works, but pypiper cannot tee the output, so results are only logged to screen.\n",
      "### Pipeline run code and environment:\n",
      "\n",
      "*              Command:  `/home/bnt4me/virginia/venv/jupyter/bin/bedboss all --sample-name tutorial_f1 --input-file sample1.bed.gz --input-type bed --outfolder ./tutorial --genome GRCh38 --bedbase-config bedbase_config_test.yaml`\n",
      "*         Compute host:  bnt4me-Precision-5560\n",
      "*          Working dir:  /home/bnt4me/virginia/repos/bedbase_all/bedboss/docs_jupyter/all_tutorial\n",
      "*            Outfolder:  ./tutorial/\n",
      "*  Pipeline started at:   (02-27 12:47:26) elapsed: 0.0 _TIME_\n",
      "\n",
      "### Version log:\n",
      "\n",
      "*       Python version:  3.10.6\n",
      "*          Pypiper dir:  `/home/bnt4me/virginia/venv/jupyter/lib/python3.10/site-packages/pypiper`\n",
      "*      Pypiper version:  0.12.3\n",
      "*         Pipeline dir:  `/home/bnt4me/virginia/venv/jupyter/bin`\n",
      "*     Pipeline version:  None\n",
      "\n",
      "### Arguments passed to pipeline:\n",
      "\n",
      "\n",
      "----------------------------------------\n",
      "\n",
      "Unused arguments: {'command': 'all'}\n",
      "Getting Open Signal Matrix file path...\n",
      "output_bed = ./tutorial/bed_files/sample1.bed.gz\n",
      "output_bigbed = ./tutorial/bigbed_files\n",
      "Output directory does not exist. Creating: ./tutorial/bed_files\n",
      "BigBed directory does not exist. Creating: ./tutorial/bigbed_files\n",
      "bedmaker logs directory doesn't exist. Creating one...\n",
      "Got input type: bed\n",
      "Converting sample1.bed.gz to BED format.\n",
      "Target to produce: `./tutorial/bed_files/sample1.bed.gz`  \n",
      "\n",
      "> `cp sample1.bed.gz ./tutorial/bed_files/sample1.bed.gz` (434320)\n",
      "<pre>\n",
      "</pre>\n",
      "Command completed. Elapsed time: 0:00:00. Running peak memory: 0GB.  \n",
      "  PID: 434320;\tCommand: cp;\tReturn code: 0;\tMemory used: 0.0GB\n",
      "\n",
      "Running bedqc...\n",
      "Unused arguments: {}\n",
      "Target to produce: `./tutorial/bed_files/bedmaker_logs/tutorial_f1/rigumni8`  \n",
      "\n",
      "> `zcat ./tutorial/bed_files/sample1.bed.gz > ./tutorial/bed_files/bedmaker_logs/tutorial_f1/rigumni8` (434322)\n",
      "<pre>\n",
      "</pre>\n",
      "Command completed. Elapsed time: 0:00:00. Running peak memory: 0.003GB.  \n",
      "  PID: 434322;\tCommand: zcat;\tReturn code: 0;\tMemory used: 0.003GB\n",
      "\n",
      "Targetless command, running...  \n",
      "\n",
      "> `bash /home/bnt4me/virginia/venv/jupyter/lib/python3.10/site-packages/bedboss/bedqc/est_line.sh ./tutorial/bed_files/bedmaker_logs/tutorial_f1/rigumni8 ` (434324)\n",
      "<pre>\n",
      "236000</pre>\n",
      "Command completed. Elapsed time: 0:00:00. Running peak memory: 0.003GB.  \n",
      "  PID: 434324;\tCommand: bash;\tReturn code: 0;\tMemory used: 0.0GB\n",
      "\n",
      "File (./tutorial/bed_files/bedmaker_logs/tutorial_f1/rigumni8) has passed Quality Control!\n",
      "Generating bigBed files for: sample1.bed.gz\n",
      "Determining path to chrom.sizes asset via Refgenie.\n",
      "Creating refgenie genome config file...\n",
      "Reading refgenie genome configuration file from file: /home/bnt4me/virginia/repos/bedbase_all/bedboss/docs_jupyter/all_tutorial/genome_config.yaml\n",
      "/home/bnt4me/virginia/repos/bedbase_all/bedboss/docs_jupyter/all_tutorial/alias/hg38/fasta/default/hg38.chrom.sizes\n",
      "Determined path to chrom.sizes asset: /home/bnt4me/virginia/repos/bedbase_all/bedboss/docs_jupyter/all_tutorial/alias/hg38/fasta/default/hg38.chrom.sizes\n",
      "Target to produce: `./tutorial/bigbed_files/vzxyqexz`  \n",
      "\n",
      "> `zcat ./tutorial/bed_files/sample1.bed.gz  | sort -k1,1 -k2,2n > ./tutorial/bigbed_files/vzxyqexz` (434335,434336)\n",
      "<pre>\n",
      "</pre>\n",
      "Command completed. Elapsed time: 0:00:00. Running peak memory: 0.007GB.  \n",
      "  PID: 434335;\tCommand: zcat;\tReturn code: 0;\tMemory used: 0.002GB  \n",
      "  PID: 434336;\tCommand: sort;\tReturn code: 0;\tMemory used: 0.007GB\n",
      "\n",
      "Running: /home/bnt4me/virginia/repos/bedbase_all/bedboss/bedToBigBed -type=bed6+4 ./tutorial/bigbed_files/vzxyqexz /home/bnt4me/virginia/repos/bedbase_all/bedboss/docs_jupyter/all_tutorial/alias/hg38/fasta/default/hg38.chrom.sizes ./tutorial/bigbed_files/sample1.bigBed\n",
      "Target to produce: `./tutorial/bigbed_files/sample1.bigBed`  \n",
      "\n",
      "> `/home/bnt4me/virginia/repos/bedbase_all/bedboss/bedToBigBed -type=bed6+4 ./tutorial/bigbed_files/vzxyqexz /home/bnt4me/virginia/repos/bedbase_all/bedboss/docs_jupyter/all_tutorial/alias/hg38/fasta/default/hg38.chrom.sizes ./tutorial/bigbed_files/sample1.bigBed` (434338)\n",
      "<pre>\n",
      "pass1 - making usageList (25 chroms): 27 millis\n",
      "pass2 - checking and writing primary data (222016 records, 10 fields): 413 millis\n",
      "</pre>\n",
      "Command completed. Elapsed time: 0:00:01. Running peak memory: 0.007GB.  \n",
      "  PID: 434338;\tCommand: /home/bnt4me/virginia/repos/bedbase_all/bedboss/bedToBigBed;\tReturn code: 0;\tMemory used: 0.004GB\n",
      "\n",
      "Target to produce: `/home/bnt4me/virginia/repos/bedbase_all/bedboss/docs_jupyter/all_tutorial/tutorial/output/bedstat_output/eb617f28e129c401be94069e0fdedbb5/sample1.json`  \n",
      "\n",
      "> `Rscript /home/bnt4me/virginia/venv/jupyter/lib/python3.10/site-packages/bedboss/bedstat/tools/regionstat.R --bedfilePath=./tutorial/bed_files/sample1.bed.gz --fileId=sample1 --openSignalMatrix=./openSignalMatrix/openSignalMatrix_hg38_percentile99_01_quantNormalized_round4d.txt.gz --outputFolder=/home/bnt4me/virginia/repos/bedbase_all/bedboss/docs_jupyter/all_tutorial/tutorial/output/bedstat_output/eb617f28e129c401be94069e0fdedbb5 --genome=hg38 --ensdb=None --digest=eb617f28e129c401be94069e0fdedbb5` (434343)\n",
      "<pre>\n",
      "Loading required package: IRanges\n",
      "Loading required package: BiocGenerics\n",
      "\n",
      "Attaching package: ‘BiocGenerics’\n",
      "\n",
      "The following objects are masked from ‘package:stats’:\n",
      "\n",
      "    IQR, mad, sd, var, xtabs\n",
      "\n",
      "The following objects are masked from ‘package:base’:\n",
      "\n",
      "    anyDuplicated, append, as.data.frame, basename, cbind, colnames,\n",
      "    dirname, do.call, duplicated, eval, evalq, Filter, Find, get, grep,\n",
      "    grepl, intersect, is.unsorted, lapply, Map, mapply, match, mget,\n",
      "    order, paste, pmax, pmax.int, pmin, pmin.int, Position, rank,\n",
      "    rbind, Reduce, rownames, sapply, setdiff, sort, table, tapply,\n",
      "    union, unique, unsplit, which.max, which.min\n",
      "\n",
      "Loading required package: S4Vectors\n",
      "Loading required package: stats4\n",
      "\n",
      "Attaching package: ‘S4Vectors’\n",
      "\n",
      "The following objects are masked from ‘package:base’:\n",
      "\n",
      "    expand.grid, I, unname\n",
      "\n",
      "Loading required package: GenomicRanges\n",
      "Loading required package: GenomeInfoDb\n",
      "\u001b[?25hsnapshotDate(): 2021-10-19\n",
      "\u001b[?25h\u001b[?25hLoading required package: GenomicFeatures\n",
      "Loading required package: AnnotationDbi\n",
      "Loading required package: Biobase\n",
      "Welcome to Bioconductor\n",
      "\n",
      "    Vignettes contain introductory material; view with\n",
      "    'browseVignettes()'. To cite Bioconductor, see\n",
      "    'citation(\"Biobase\")', and for packages 'citation(\"pkgname\")'.\n",
      "\n",
      "Loading required package: AnnotationFilter\n",
      "\n",
      "Attaching package: 'ensembldb'\n",
      "\n",
      "The following object is masked from 'package:stats':\n",
      "\n",
      "    filter\n",
      "\n",
      "\u001b[?25h\u001b[?25h\u001b[?25hLoading required package: R.oo\n",
      "Loading required package: R.methodsS3\n",
      "R.methodsS3 v1.8.2 (2022-06-13 22:00:14 UTC) successfully loaded. See ?R.methodsS3 for help.\n",
      "R.oo v1.25.0 (2022-06-12 02:20:02 UTC) successfully loaded. See ?R.oo for help.\n",
      "\n",
      "Attaching package: 'R.oo'\n",
      "\n",
      "The following object is masked from 'package:R.methodsS3':\n",
      "\n",
      "    throw\n",
      "\n",
      "The following object is masked from 'package:GenomicRanges':\n",
      "\n",
      "    trim\n",
      "\n",
      "The following object is masked from 'package:IRanges':\n",
      "\n",
      "    trim\n",
      "\n",
      "The following objects are masked from 'package:methods':\n",
      "\n",
      "    getClasses, getMethods\n",
      "\n",
      "The following objects are masked from 'package:base':\n",
      "\n",
      "    attach, detach, load, save\n",
      "\n",
      "R.utils v2.12.2 (2022-11-11 22:00:03 UTC) successfully loaded. See ?R.utils for help.\n",
      "\n",
      "Attaching package: 'R.utils'\n",
      "\n",
      "The following object is masked from 'package:utils':\n",
      "\n",
      "    timestamp\n",
      "\n",
      "The following objects are masked from 'package:base':\n",
      "\n",
      "    cat, commandArgs, getOption, isOpen, nullfile, parse, warnings\n",
      "\n",
      "\u001b[?25h\u001b[?25h\u001b[?25h\u001b[?25h\u001b[?25h\u001b[?25h\u001b[?25h\u001b[?25h\u001b[?25h\u001b[?25h\u001b[?25h\u001b[?25h\u001b[?25h\u001b[?25h\u001b[?25h\u001b[?25h\u001b[?25h\u001b[?25h\u001b[?25h\u001b[?25h\u001b[?25h\u001b[?25h\u001b[?25hsee ?GenomicDistributionsData and browseVignettes('GenomicDistributionsData') for documentation\n",
      "loading from cache\n",
      "[1] \"Plotting: /home/bnt4me/virginia/repos/bedbase_all/bedboss/docs_jupyter/all_tutorial/tutorial/output/bedstat_output/eb617f28e129c401be94069e0fdedbb5/sample1_tssdist\"\n",
      "\u001b[1m\u001b[22mScale for \u001b[32mx\u001b[39m is already present.\n",
      "Adding another scale for \u001b[32mx\u001b[39m, which will replace the existing scale.\n",
      "[1] \"Writing plot json: output/bedstat_output/eb617f28e129c401be94069e0fdedbb5/sample1_tssdist\"\n",
      "Successfully calculated and plot TSS distance.\n"
     ]
    },
    {
     "name": "stdout",
     "output_type": "stream",
     "text": [
      "[1] \"Plotting: /home/bnt4me/virginia/repos/bedbase_all/bedboss/docs_jupyter/all_tutorial/tutorial/output/bedstat_output/eb617f28e129c401be94069e0fdedbb5/sample1_chrombins\"\n",
      "see ?GenomicDistributionsData and browseVignettes('GenomicDistributionsData') for documentation\n",
      "loading from cache\n",
      "[1] \"Writing plot json: output/bedstat_output/eb617f28e129c401be94069e0fdedbb5/sample1_chrombins\"\n",
      "Successfully calculated and plot chromosomes region distribution.\n",
      "see ?GenomicDistributionsData and browseVignettes('GenomicDistributionsData') for documentation\n",
      "loading from cache\n",
      "Calculating overlaps...\n",
      "[1] \"Plotting: /home/bnt4me/virginia/repos/bedbase_all/bedboss/docs_jupyter/all_tutorial/tutorial/output/bedstat_output/eb617f28e129c401be94069e0fdedbb5/sample1_paritions\"\n",
      "[1] \"Writing plot json: output/bedstat_output/eb617f28e129c401be94069e0fdedbb5/sample1_paritions\"\n",
      "Successfully calculated and plot regions distribution over genomic partitions.\n",
      "[1] \"Plotting: /home/bnt4me/virginia/repos/bedbase_all/bedboss/docs_jupyter/all_tutorial/tutorial/output/bedstat_output/eb617f28e129c401be94069e0fdedbb5/sample1_expected_partitions\"\n",
      "see ?GenomicDistributionsData and browseVignettes('GenomicDistributionsData') for documentation\n",
      "loading from cache\n",
      "see ?GenomicDistributionsData and browseVignettes('GenomicDistributionsData') for documentation\n",
      "loading from cache\n",
      "[1] \"Writing plot json: output/bedstat_output/eb617f28e129c401be94069e0fdedbb5/sample1_expected_partitions\"\n",
      "Successfully calculated and plot expected distribution over genomic partitions.\n",
      "[1] \"Plotting: /home/bnt4me/virginia/repos/bedbase_all/bedboss/docs_jupyter/all_tutorial/tutorial/output/bedstat_output/eb617f28e129c401be94069e0fdedbb5/sample1_cumulative_partitions\"\n",
      "see ?GenomicDistributionsData and browseVignettes('GenomicDistributionsData') for documentation\n",
      "loading from cache\n",
      "[1] \"Writing plot json: output/bedstat_output/eb617f28e129c401be94069e0fdedbb5/sample1_cumulative_partitions\"\n",
      "Successfully calculated and plot cumulative distribution over genomic partitions.\n",
      "[1] \"Plotting: /home/bnt4me/virginia/repos/bedbase_all/bedboss/docs_jupyter/all_tutorial/tutorial/output/bedstat_output/eb617f28e129c401be94069e0fdedbb5/sample1_widths_histogram\"\n",
      "[1] \"Writing plot json: output/bedstat_output/eb617f28e129c401be94069e0fdedbb5/sample1_widths_histogram\"\n",
      "Successfully calculated and plot quantile-trimmed histogram of widths.\n",
      "[1] \"Plotting: /home/bnt4me/virginia/repos/bedbase_all/bedboss/docs_jupyter/all_tutorial/tutorial/output/bedstat_output/eb617f28e129c401be94069e0fdedbb5/sample1_neighbor_distances\"\n",
      "[1] \"Writing plot json: output/bedstat_output/eb617f28e129c401be94069e0fdedbb5/sample1_neighbor_distances\"\n",
      "Successfully calculated and plot distance between neighbor regions.\n",
      "[1] \"Plotting: /home/bnt4me/virginia/repos/bedbase_all/bedboss/docs_jupyter/all_tutorial/tutorial/output/bedstat_output/eb617f28e129c401be94069e0fdedbb5/sample1_open_chromatin\"\n",
      "[1] \"Writing plot json: output/bedstat_output/eb617f28e129c401be94069e0fdedbb5/sample1_open_chromatin\"\n",
      "Successfully calculated and plot cell specific enrichment for open chromatin.\n",
      "\u001b[?25h\u001b[?25h</pre>\n",
      "Command completed. Elapsed time: 0:00:49. Running peak memory: 3.843GB.  \n",
      "  PID: 434343;\tCommand: Rscript;\tReturn code: 0;\tMemory used: 3.843GB\n",
      "\n",
      "These results exist for 'eb617f28e129c401be94069e0fdedbb5': name, regions_no, mean_region_width, md5sum, bedfile, genome, bigbedfile, widths_histogram, neighbor_distances\n",
      "Starting cleanup: 2 files; 0 conditional files for cleanup\n",
      "\n",
      "Cleaning up flagged intermediate files. . .\n",
      "\n",
      "### Pipeline completed. Epilogue\n",
      "*        Elapsed time (this run):  0:00:50\n",
      "*  Total elapsed time (all runs):  0:00:50\n",
      "*         Peak memory (this run):  3.8432 GB\n",
      "*        Pipeline completed time: 2023-02-27 12:48:16\n"
     ]
    }
   ],
   "source": [
    "bedboss all --sample-name tutorial_f1 \\\n",
    "--input-file sample1.bed.gz \\\n",
    "--input-type bed \\\n",
    "--outfolder ./tutorial \\\n",
    "--genome GRCh38 \\\n",
    "--bedbase-config bedbase_config_test.yaml"
   ]
  },
  {
   "cell_type": "markdown",
   "id": "63d83f3c",
   "metadata": {},
   "source": [
    "Now let's check if all files where saved"
   ]
  },
  {
   "cell_type": "code",
   "execution_count": 17,
   "id": "7a50535d",
   "metadata": {},
   "outputs": [
    {
     "name": "stdout",
     "output_type": "stream",
     "text": [
      "\u001b[0m\u001b[01;34mbedmaker_logs\u001b[0m  \u001b[01;31msample1.bed.gz\u001b[0m\n"
     ]
    }
   ],
   "source": [
    "ls tutorial/bed_files"
   ]
  },
  {
   "cell_type": "code",
   "execution_count": 18,
   "id": "9a826059",
   "metadata": {},
   "outputs": [
    {
     "name": "stdout",
     "output_type": "stream",
     "text": [
      "sample1.bigBed\n"
     ]
    }
   ],
   "source": [
    "ls tutorial/bigbed_files"
   ]
  },
  {
   "cell_type": "code",
   "execution_count": 19,
   "id": "aa8609fb",
   "metadata": {},
   "outputs": [
    {
     "name": "stdout",
     "output_type": "stream",
     "text": [
      "sample1_chrombins.pdf              sample1_open_chromatin.pdf\n",
      "\u001b[0m\u001b[01;35msample1_chrombins.png\u001b[0m              \u001b[01;35msample1_open_chromatin.png\u001b[0m\n",
      "sample1_cumulative_partitions.pdf  sample1_paritions.pdf\n",
      "\u001b[01;35msample1_cumulative_partitions.png\u001b[0m  \u001b[01;35msample1_paritions.png\u001b[0m\n",
      "sample1_expected_partitions.pdf    sample1_plots.json\n",
      "\u001b[01;35msample1_expected_partitions.png\u001b[0m    sample1_tssdist.pdf\n",
      "sample1.json                       \u001b[01;35msample1_tssdist.png\u001b[0m\n",
      "sample1_neighbor_distances.pdf     sample1_widths_histogram.pdf\n",
      "\u001b[01;35msample1_neighbor_distances.png\u001b[0m     \u001b[01;35msample1_widths_histogram.png\u001b[0m\n"
     ]
    }
   ],
   "source": [
    "ls tutorial/output/bedstat_output/eb617f28e129c401be94069e0fdedbb5/"
   ]
  },
  {
   "cell_type": "markdown",
   "id": "2208d244",
   "metadata": {},
   "source": [
    "Everything was ran correctly:)"
   ]
  }
 ],
 "metadata": {
  "kernelspec": {
   "display_name": "Bash",
   "language": "bash",
   "name": "bash"
  },
  "language_info": {
   "codemirror_mode": "shell",
   "file_extension": ".sh",
   "mimetype": "text/x-sh",
   "name": "bash"
  }
 },
 "nbformat": 4,
 "nbformat_minor": 5
}
